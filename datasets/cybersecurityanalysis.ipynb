{
 "cells": [
  {
   "cell_type": "code",
   "execution_count": 1,
   "id": "7c2b8a35",
   "metadata": {
    "_cell_guid": "b1076dfc-b9ad-4769-8c92-a6c4dae69d19",
    "_uuid": "8f2839f25d086af736a60e9eeb907d3b93b6e0e5",
    "execution": {
     "iopub.execute_input": "2025-02-12T01:49:08.713900Z",
     "iopub.status.busy": "2025-02-12T01:49:08.713487Z",
     "iopub.status.idle": "2025-02-12T01:49:09.696758Z",
     "shell.execute_reply": "2025-02-12T01:49:09.695926Z"
    },
    "papermill": {
     "duration": 0.990615,
     "end_time": "2025-02-12T01:49:09.698583",
     "exception": false,
     "start_time": "2025-02-12T01:49:08.707968",
     "status": "completed"
    },
    "tags": []
   },
   "outputs": [],
   "source": [
    "import numpy as np\n",
    "import pandas as pd"
   ]
  },
  {
   "cell_type": "code",
   "execution_count": 2,
   "id": "ace84d33",
   "metadata": {
    "execution": {
     "iopub.execute_input": "2025-02-12T01:49:09.707607Z",
     "iopub.status.busy": "2025-02-12T01:49:09.707134Z",
     "iopub.status.idle": "2025-02-12T01:49:09.762516Z",
     "shell.execute_reply": "2025-02-12T01:49:09.761140Z"
    },
    "papermill": {
     "duration": 0.061977,
     "end_time": "2025-02-12T01:49:09.764620",
     "exception": false,
     "start_time": "2025-02-12T01:49:09.702643",
     "status": "completed"
    },
    "tags": []
   },
   "outputs": [],
   "source": [
    "df = pd.read_csv('/kaggle/input/cybersecurity-intrusion-detection-dataset/cybersecurity_intrusion_data.csv')"
   ]
  },
  {
   "cell_type": "code",
   "execution_count": 3,
   "id": "2dda7820",
   "metadata": {
    "execution": {
     "iopub.execute_input": "2025-02-12T01:49:09.773579Z",
     "iopub.status.busy": "2025-02-12T01:49:09.773244Z",
     "iopub.status.idle": "2025-02-12T01:49:09.779822Z",
     "shell.execute_reply": "2025-02-12T01:49:09.778966Z"
    },
    "papermill": {
     "duration": 0.012825,
     "end_time": "2025-02-12T01:49:09.781383",
     "exception": false,
     "start_time": "2025-02-12T01:49:09.768558",
     "status": "completed"
    },
    "tags": []
   },
   "outputs": [
    {
     "data": {
      "text/plain": [
       "(9537, 11)"
      ]
     },
     "execution_count": 3,
     "metadata": {},
     "output_type": "execute_result"
    }
   ],
   "source": [
    "df.shape"
   ]
  },
  {
   "cell_type": "code",
   "execution_count": 4,
   "id": "768a5d40",
   "metadata": {
    "execution": {
     "iopub.execute_input": "2025-02-12T01:49:09.790308Z",
     "iopub.status.busy": "2025-02-12T01:49:09.789963Z",
     "iopub.status.idle": "2025-02-12T01:49:09.818687Z",
     "shell.execute_reply": "2025-02-12T01:49:09.817641Z"
    },
    "papermill": {
     "duration": 0.035261,
     "end_time": "2025-02-12T01:49:09.820483",
     "exception": false,
     "start_time": "2025-02-12T01:49:09.785222",
     "status": "completed"
    },
    "tags": []
   },
   "outputs": [
    {
     "data": {
      "text/html": [
       "<div>\n",
       "<style scoped>\n",
       "    .dataframe tbody tr th:only-of-type {\n",
       "        vertical-align: middle;\n",
       "    }\n",
       "\n",
       "    .dataframe tbody tr th {\n",
       "        vertical-align: top;\n",
       "    }\n",
       "\n",
       "    .dataframe thead th {\n",
       "        text-align: right;\n",
       "    }\n",
       "</style>\n",
       "<table border=\"1\" class=\"dataframe\">\n",
       "  <thead>\n",
       "    <tr style=\"text-align: right;\">\n",
       "      <th></th>\n",
       "      <th>session_id</th>\n",
       "      <th>network_packet_size</th>\n",
       "      <th>protocol_type</th>\n",
       "      <th>login_attempts</th>\n",
       "      <th>session_duration</th>\n",
       "      <th>encryption_used</th>\n",
       "      <th>ip_reputation_score</th>\n",
       "      <th>failed_logins</th>\n",
       "      <th>browser_type</th>\n",
       "      <th>unusual_time_access</th>\n",
       "      <th>attack_detected</th>\n",
       "    </tr>\n",
       "  </thead>\n",
       "  <tbody>\n",
       "    <tr>\n",
       "      <th>0</th>\n",
       "      <td>SID_00001</td>\n",
       "      <td>599</td>\n",
       "      <td>TCP</td>\n",
       "      <td>4</td>\n",
       "      <td>492.983263</td>\n",
       "      <td>DES</td>\n",
       "      <td>0.606818</td>\n",
       "      <td>1</td>\n",
       "      <td>Edge</td>\n",
       "      <td>0</td>\n",
       "      <td>1</td>\n",
       "    </tr>\n",
       "    <tr>\n",
       "      <th>1</th>\n",
       "      <td>SID_00002</td>\n",
       "      <td>472</td>\n",
       "      <td>TCP</td>\n",
       "      <td>3</td>\n",
       "      <td>1557.996461</td>\n",
       "      <td>DES</td>\n",
       "      <td>0.301569</td>\n",
       "      <td>0</td>\n",
       "      <td>Firefox</td>\n",
       "      <td>0</td>\n",
       "      <td>0</td>\n",
       "    </tr>\n",
       "    <tr>\n",
       "      <th>2</th>\n",
       "      <td>SID_00003</td>\n",
       "      <td>629</td>\n",
       "      <td>TCP</td>\n",
       "      <td>3</td>\n",
       "      <td>75.044262</td>\n",
       "      <td>DES</td>\n",
       "      <td>0.739164</td>\n",
       "      <td>2</td>\n",
       "      <td>Chrome</td>\n",
       "      <td>0</td>\n",
       "      <td>1</td>\n",
       "    </tr>\n",
       "    <tr>\n",
       "      <th>3</th>\n",
       "      <td>SID_00004</td>\n",
       "      <td>804</td>\n",
       "      <td>UDP</td>\n",
       "      <td>4</td>\n",
       "      <td>601.248835</td>\n",
       "      <td>DES</td>\n",
       "      <td>0.123267</td>\n",
       "      <td>0</td>\n",
       "      <td>Unknown</td>\n",
       "      <td>0</td>\n",
       "      <td>1</td>\n",
       "    </tr>\n",
       "    <tr>\n",
       "      <th>4</th>\n",
       "      <td>SID_00005</td>\n",
       "      <td>453</td>\n",
       "      <td>TCP</td>\n",
       "      <td>5</td>\n",
       "      <td>532.540888</td>\n",
       "      <td>AES</td>\n",
       "      <td>0.054874</td>\n",
       "      <td>1</td>\n",
       "      <td>Firefox</td>\n",
       "      <td>0</td>\n",
       "      <td>0</td>\n",
       "    </tr>\n",
       "  </tbody>\n",
       "</table>\n",
       "</div>"
      ],
      "text/plain": [
       "  session_id  network_packet_size protocol_type  login_attempts  \\\n",
       "0  SID_00001                  599           TCP               4   \n",
       "1  SID_00002                  472           TCP               3   \n",
       "2  SID_00003                  629           TCP               3   \n",
       "3  SID_00004                  804           UDP               4   \n",
       "4  SID_00005                  453           TCP               5   \n",
       "\n",
       "   session_duration encryption_used  ip_reputation_score  failed_logins  \\\n",
       "0        492.983263             DES             0.606818              1   \n",
       "1       1557.996461             DES             0.301569              0   \n",
       "2         75.044262             DES             0.739164              2   \n",
       "3        601.248835             DES             0.123267              0   \n",
       "4        532.540888             AES             0.054874              1   \n",
       "\n",
       "  browser_type  unusual_time_access  attack_detected  \n",
       "0         Edge                    0                1  \n",
       "1      Firefox                    0                0  \n",
       "2       Chrome                    0                1  \n",
       "3      Unknown                    0                1  \n",
       "4      Firefox                    0                0  "
      ]
     },
     "execution_count": 4,
     "metadata": {},
     "output_type": "execute_result"
    }
   ],
   "source": [
    "df.head()"
   ]
  },
  {
   "cell_type": "code",
   "execution_count": 5,
   "id": "3d16b8ec",
   "metadata": {
    "execution": {
     "iopub.execute_input": "2025-02-12T01:49:09.830162Z",
     "iopub.status.busy": "2025-02-12T01:49:09.829736Z",
     "iopub.status.idle": "2025-02-12T01:49:09.837501Z",
     "shell.execute_reply": "2025-02-12T01:49:09.836385Z"
    },
    "papermill": {
     "duration": 0.014549,
     "end_time": "2025-02-12T01:49:09.839241",
     "exception": false,
     "start_time": "2025-02-12T01:49:09.824692",
     "status": "completed"
    },
    "tags": []
   },
   "outputs": [
    {
     "data": {
      "text/plain": [
       "session_id              object\n",
       "network_packet_size      int64\n",
       "protocol_type           object\n",
       "login_attempts           int64\n",
       "session_duration       float64\n",
       "encryption_used         object\n",
       "ip_reputation_score    float64\n",
       "failed_logins            int64\n",
       "browser_type            object\n",
       "unusual_time_access      int64\n",
       "attack_detected          int64\n",
       "dtype: object"
      ]
     },
     "execution_count": 5,
     "metadata": {},
     "output_type": "execute_result"
    }
   ],
   "source": [
    "df.dtypes"
   ]
  },
  {
   "cell_type": "code",
   "execution_count": 6,
   "id": "3a37fb24",
   "metadata": {
    "execution": {
     "iopub.execute_input": "2025-02-12T01:49:09.848896Z",
     "iopub.status.busy": "2025-02-12T01:49:09.848520Z",
     "iopub.status.idle": "2025-02-12T01:49:09.856870Z",
     "shell.execute_reply": "2025-02-12T01:49:09.855983Z"
    },
    "papermill": {
     "duration": 0.015083,
     "end_time": "2025-02-12T01:49:09.858538",
     "exception": false,
     "start_time": "2025-02-12T01:49:09.843455",
     "status": "completed"
    },
    "tags": []
   },
   "outputs": [
    {
     "data": {
      "text/plain": [
       "(['session_id', 'protocol_type', 'encryption_used', 'browser_type'],\n",
       " ['network_packet_size',\n",
       "  'login_attempts',\n",
       "  'session_duration',\n",
       "  'ip_reputation_score',\n",
       "  'failed_logins',\n",
       "  'unusual_time_access',\n",
       "  'attack_detected'])"
      ]
     },
     "execution_count": 6,
     "metadata": {},
     "output_type": "execute_result"
    }
   ],
   "source": [
    "categorical_cols = df.select_dtypes(include=['object']).columns.tolist()\n",
    "numerical_cols = df.select_dtypes(exclude=['object']).columns.tolist()\n",
    "categorical_cols, numerical_cols "
   ]
  },
  {
   "cell_type": "code",
   "execution_count": 7,
   "id": "7ab0eb69",
   "metadata": {
    "execution": {
     "iopub.execute_input": "2025-02-12T01:49:09.868943Z",
     "iopub.status.busy": "2025-02-12T01:49:09.868579Z",
     "iopub.status.idle": "2025-02-12T01:49:09.880882Z",
     "shell.execute_reply": "2025-02-12T01:49:09.879748Z"
    },
    "papermill": {
     "duration": 0.019614,
     "end_time": "2025-02-12T01:49:09.882573",
     "exception": false,
     "start_time": "2025-02-12T01:49:09.862959",
     "status": "completed"
    },
    "tags": []
   },
   "outputs": [
    {
     "data": {
      "text/plain": [
       "session_id                0\n",
       "network_packet_size       0\n",
       "protocol_type             0\n",
       "login_attempts            0\n",
       "session_duration          0\n",
       "encryption_used        1966\n",
       "ip_reputation_score       0\n",
       "failed_logins             0\n",
       "browser_type              0\n",
       "unusual_time_access       0\n",
       "attack_detected           0\n",
       "dtype: int64"
      ]
     },
     "execution_count": 7,
     "metadata": {},
     "output_type": "execute_result"
    }
   ],
   "source": [
    "df.isnull().sum()"
   ]
  },
  {
   "cell_type": "code",
   "execution_count": 8,
   "id": "32a6696a",
   "metadata": {
    "execution": {
     "iopub.execute_input": "2025-02-12T01:49:09.892701Z",
     "iopub.status.busy": "2025-02-12T01:49:09.892351Z",
     "iopub.status.idle": "2025-02-12T01:49:11.690638Z",
     "shell.execute_reply": "2025-02-12T01:49:11.689419Z"
    },
    "papermill": {
     "duration": 1.805703,
     "end_time": "2025-02-12T01:49:11.692697",
     "exception": false,
     "start_time": "2025-02-12T01:49:09.886994",
     "status": "completed"
    },
    "tags": []
   },
   "outputs": [],
   "source": [
    "from sklearn.impute import SimpleImputer\n",
    "imputer = SimpleImputer(strategy=\"most_frequent\")\n",
    "df[['encryption_used']] = imputer.fit_transform(df[['encryption_used']])"
   ]
  },
  {
   "cell_type": "code",
   "execution_count": 9,
   "id": "f4d95c6f",
   "metadata": {
    "execution": {
     "iopub.execute_input": "2025-02-12T01:49:11.702950Z",
     "iopub.status.busy": "2025-02-12T01:49:11.702396Z",
     "iopub.status.idle": "2025-02-12T01:49:11.713595Z",
     "shell.execute_reply": "2025-02-12T01:49:11.712515Z"
    },
    "papermill": {
     "duration": 0.01806,
     "end_time": "2025-02-12T01:49:11.715340",
     "exception": false,
     "start_time": "2025-02-12T01:49:11.697280",
     "status": "completed"
    },
    "tags": []
   },
   "outputs": [
    {
     "data": {
      "text/plain": [
       "session_id             0\n",
       "network_packet_size    0\n",
       "protocol_type          0\n",
       "login_attempts         0\n",
       "session_duration       0\n",
       "encryption_used        0\n",
       "ip_reputation_score    0\n",
       "failed_logins          0\n",
       "browser_type           0\n",
       "unusual_time_access    0\n",
       "attack_detected        0\n",
       "dtype: int64"
      ]
     },
     "execution_count": 9,
     "metadata": {},
     "output_type": "execute_result"
    }
   ],
   "source": [
    "df.isnull().sum()"
   ]
  },
  {
   "cell_type": "code",
   "execution_count": 10,
   "id": "2b959ade",
   "metadata": {
    "execution": {
     "iopub.execute_input": "2025-02-12T01:49:11.725301Z",
     "iopub.status.busy": "2025-02-12T01:49:11.724927Z",
     "iopub.status.idle": "2025-02-12T01:49:11.732667Z",
     "shell.execute_reply": "2025-02-12T01:49:11.731665Z"
    },
    "papermill": {
     "duration": 0.014768,
     "end_time": "2025-02-12T01:49:11.734466",
     "exception": false,
     "start_time": "2025-02-12T01:49:11.719698",
     "status": "completed"
    },
    "tags": []
   },
   "outputs": [],
   "source": [
    "df = df.drop(columns=\"session_id\", axis=1)"
   ]
  },
  {
   "cell_type": "code",
   "execution_count": 11,
   "id": "6c7fcbbb",
   "metadata": {
    "execution": {
     "iopub.execute_input": "2025-02-12T01:49:11.745073Z",
     "iopub.status.busy": "2025-02-12T01:49:11.744649Z",
     "iopub.status.idle": "2025-02-12T01:49:12.567189Z",
     "shell.execute_reply": "2025-02-12T01:49:12.565939Z"
    },
    "papermill": {
     "duration": 0.829833,
     "end_time": "2025-02-12T01:49:12.569037",
     "exception": false,
     "start_time": "2025-02-12T01:49:11.739204",
     "status": "completed"
    },
    "tags": []
   },
   "outputs": [
    {
     "data": {
      "text/plain": [
       "Text(0.5, 1.0, 'Protocol Types')"
      ]
     },
     "execution_count": 11,
     "metadata": {},
     "output_type": "execute_result"
    },
    {
     "data": {
      "image/png": "[encoded data removed]",
      "text/plain": [
       "<Figure size 640x480 with 1 Axes>"
      ]
     },
     "metadata": {},
     "output_type": "display_data"
    }
   ],
   "source": [
    "import matplotlib.pyplot as plt\n",
    "import seaborn as sns\n",
    "\n",
    "sns.countplot(x = df['protocol_type'])\n",
    "plt.title(\"Protocol Types\")"
   ]
  },
  {
   "cell_type": "code",
   "execution_count": 12,
   "id": "8c5cc530",
   "metadata": {
    "execution": {
     "iopub.execute_input": "2025-02-12T01:49:12.581078Z",
     "iopub.status.busy": "2025-02-12T01:49:12.580290Z",
     "iopub.status.idle": "2025-02-12T01:49:12.799085Z",
     "shell.execute_reply": "2025-02-12T01:49:12.797811Z"
    },
    "papermill": {
     "duration": 0.226735,
     "end_time": "2025-02-12T01:49:12.800921",
     "exception": false,
     "start_time": "2025-02-12T01:49:12.574186",
     "status": "completed"
    },
    "tags": []
   },
   "outputs": [
    {
     "data": {
      "text/plain": [
       "Text(0.5, 1.0, 'encryptions used')"
      ]
     },
     "execution_count": 12,
     "metadata": {},
     "output_type": "execute_result"
    },
    {
     "data": {
      "image/png": "[encoded data removed]",
      "text/plain": [
       "<Figure size 640x480 with 1 Axes>"
      ]
     },
     "metadata": {},
     "output_type": "display_data"
    }
   ],
   "source": [
    "sns.countplot(x = df['encryption_used'])\n",
    "plt.title(\"encryptions used\")"
   ]
  },
  {
   "cell_type": "code",
   "execution_count": 13,
   "id": "24ed08df",
   "metadata": {
    "execution": {
     "iopub.execute_input": "2025-02-12T01:49:12.813684Z",
     "iopub.status.busy": "2025-02-12T01:49:12.813359Z",
     "iopub.status.idle": "2025-02-12T01:49:13.029145Z",
     "shell.execute_reply": "2025-02-12T01:49:13.027975Z"
    },
    "papermill": {
     "duration": 0.224174,
     "end_time": "2025-02-12T01:49:13.031099",
     "exception": false,
     "start_time": "2025-02-12T01:49:12.806925",
     "status": "completed"
    },
    "tags": []
   },
   "outputs": [
    {
     "data": {
      "text/plain": [
       "Text(0.5, 1.0, 'Browsers used')"
      ]
     },
     "execution_count": 13,
     "metadata": {},
     "output_type": "execute_result"
    },
    {
     "data": {
      "image/png": "[encoded data removed]",
      "text/plain": [
       "<Figure size 640x480 with 1 Axes>"
      ]
     },
     "metadata": {},
     "output_type": "display_data"
    }
   ],
   "source": [
    "sns.countplot(x = df['browser_type'])\n",
    "plt.title(\"Browsers used\")"
   ]
  },
  {
   "cell_type": "code",
   "execution_count": 14,
   "id": "377df4de",
   "metadata": {
    "execution": {
     "iopub.execute_input": "2025-02-12T01:49:13.044495Z",
     "iopub.status.busy": "2025-02-12T01:49:13.044173Z",
     "iopub.status.idle": "2025-02-12T01:49:13.279493Z",
     "shell.execute_reply": "2025-02-12T01:49:13.278273Z"
    },
    "papermill": {
     "duration": 0.244186,
     "end_time": "2025-02-12T01:49:13.281338",
     "exception": false,
     "start_time": "2025-02-12T01:49:13.037152",
     "status": "completed"
    },
    "tags": []
   },
   "outputs": [
    {
     "data": {
      "text/plain": [
       "<Axes: xlabel='attack_detected', ylabel='count'>"
      ]
     },
     "execution_count": 14,
     "metadata": {},
     "output_type": "execute_result"
    },
    {
     "data": {
      "image/png": "[encoded data removed]",
      "text/plain": [
       "<Figure size 640x480 with 1 Axes>"
      ]
     },
     "metadata": {},
     "output_type": "display_data"
    }
   ],
   "source": [
    "sns.countplot(x = df['attack_detected'])"
   ]
  },
  {
   "cell_type": "code",
   "execution_count": 15,
   "id": "d52ae675",
   "metadata": {
    "execution": {
     "iopub.execute_input": "2025-02-12T01:49:13.300177Z",
     "iopub.status.busy": "2025-02-12T01:49:13.299651Z",
     "iopub.status.idle": "2025-02-12T01:49:13.556057Z",
     "shell.execute_reply": "2025-02-12T01:49:13.554944Z"
    },
    "papermill": {
     "duration": 0.27249,
     "end_time": "2025-02-12T01:49:13.560433",
     "exception": false,
     "start_time": "2025-02-12T01:49:13.287943",
     "status": "completed"
    },
    "tags": []
   },
   "outputs": [
    {
     "data": {
      "text/plain": [
       "<Axes: xlabel='failed_logins', ylabel='count'>"
      ]
     },
     "execution_count": 15,
     "metadata": {},
     "output_type": "execute_result"
    },
    {
     "data": {
      "image/png": "[encoded data removed]",
      "text/plain": [
       "<Figure size 640x480 with 1 Axes>"
      ]
     },
     "metadata": {},
     "output_type": "display_data"
    }
   ],
   "source": [
    "sns.countplot(x = df['failed_logins'])"
   ]
  }
 ],
 "metadata": {
  "kaggle": {
   "accelerator": "none",
   "dataSources": [
    {
     "datasetId": 6637476,
     "sourceId": 10709688,
     "sourceType": "datasetVersion"
    }
   ],
   "dockerImageVersionId": 30886,
   "isGpuEnabled": false,
   "isInternetEnabled": true,
   "language": "python",
   "sourceType": "notebook"
  },
  "kernelspec": {
   "display_name": "Python 3",
   "language": "python",
   "name": "python3"
  },
  "language_info": {
   "codemirror_mode": {
    "name": "ipython",
    "version": 3
   },
   "file_extension": ".py",
   "mimetype": "text/x-python",
   "name": "python",
   "nbconvert_exporter": "python",
   "pygments_lexer": "ipython3",
   "version": "3.10.12"
  },
  "papermill": {
   "default_parameters": {},
   "duration": 8.557159,
   "end_time": "2025-02-12T01:49:14.400281",
   "environment_variables": {},
   "exception": null,
   "input_path": "__notebook__.ipynb",
   "output_path": "__notebook__.ipynb",
   "parameters": {},
   "start_time": "2025-02-12T01:49:05.843122",
   "version": "2.6.0"
  }
 },
 "nbformat": 4,
 "nbformat_minor": 5
}
