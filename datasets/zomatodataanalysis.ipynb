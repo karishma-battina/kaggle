{
 "cells": [
  {
   "cell_type": "code",
   "execution_count": 1,
   "id": "92d59907",
   "metadata": {
    "_cell_guid": "b1076dfc-b9ad-4769-8c92-a6c4dae69d19",
    "_uuid": "8f2839f25d086af736a60e9eeb907d3b93b6e0e5",
    "execution": {
     "iopub.execute_input": "2025-02-11T03:55:14.868336Z",
     "iopub.status.busy": "2025-02-11T03:55:14.868002Z",
     "iopub.status.idle": "2025-02-11T03:55:15.646334Z",
     "shell.execute_reply": "2025-02-11T03:55:15.645229Z"
    },
    "papermill": {
     "duration": 0.785365,
     "end_time": "2025-02-11T03:55:15.648440",
     "exception": false,
     "start_time": "2025-02-11T03:55:14.863075",
     "status": "completed"
    },
    "tags": []
   },
   "outputs": [
    {
     "name": "stdout",
     "output_type": "stream",
     "text": [
      "/kaggle/input/zomato-dataset/Zomato-data-.csv\n"
     ]
    }
   ],
   "source": [
    "\n",
    "import numpy as np\n",
    "import pandas as pd\n",
    "\n",
    "import os\n",
    "for dirname, _, filenames in os.walk('/kaggle/input'):\n",
    "    for filename in filenames:\n",
    "        print(os.path.join(dirname, filename))"
   ]
  },
  {
   "cell_type": "code",
   "execution_count": 2,
   "id": "9f7a81fa",
   "metadata": {
    "execution": {
     "iopub.execute_input": "2025-02-11T03:55:15.656694Z",
     "iopub.status.busy": "2025-02-11T03:55:15.656257Z",
     "iopub.status.idle": "2025-02-11T03:55:15.694826Z",
     "shell.execute_reply": "2025-02-11T03:55:15.693829Z"
    },
    "papermill": {
     "duration": 0.044,
     "end_time": "2025-02-11T03:55:15.696368",
     "exception": false,
     "start_time": "2025-02-11T03:55:15.652368",
     "status": "completed"
    },
    "tags": []
   },
   "outputs": [
    {
     "data": {
      "text/html": [
       "<div>\n",
       "<style scoped>\n",
       "    .dataframe tbody tr th:only-of-type {\n",
       "        vertical-align: middle;\n",
       "    }\n",
       "\n",
       "    .dataframe tbody tr th {\n",
       "        vertical-align: top;\n",
       "    }\n",
       "\n",
       "    .dataframe thead th {\n",
       "        text-align: right;\n",
       "    }\n",
       "</style>\n",
       "<table border=\"1\" class=\"dataframe\">\n",
       "  <thead>\n",
       "    <tr style=\"text-align: right;\">\n",
       "      <th></th>\n",
       "      <th>name</th>\n",
       "      <th>online_order</th>\n",
       "      <th>book_table</th>\n",
       "      <th>rate</th>\n",
       "      <th>votes</th>\n",
       "      <th>approx_cost(for two people)</th>\n",
       "      <th>listed_in(type)</th>\n",
       "    </tr>\n",
       "  </thead>\n",
       "  <tbody>\n",
       "    <tr>\n",
       "      <th>0</th>\n",
       "      <td>Jalsa</td>\n",
       "      <td>Yes</td>\n",
       "      <td>Yes</td>\n",
       "      <td>4.1/5</td>\n",
       "      <td>775</td>\n",
       "      <td>800</td>\n",
       "      <td>Buffet</td>\n",
       "    </tr>\n",
       "    <tr>\n",
       "      <th>1</th>\n",
       "      <td>Spice Elephant</td>\n",
       "      <td>Yes</td>\n",
       "      <td>No</td>\n",
       "      <td>4.1/5</td>\n",
       "      <td>787</td>\n",
       "      <td>800</td>\n",
       "      <td>Buffet</td>\n",
       "    </tr>\n",
       "    <tr>\n",
       "      <th>2</th>\n",
       "      <td>San Churro Cafe</td>\n",
       "      <td>Yes</td>\n",
       "      <td>No</td>\n",
       "      <td>3.8/5</td>\n",
       "      <td>918</td>\n",
       "      <td>800</td>\n",
       "      <td>Buffet</td>\n",
       "    </tr>\n",
       "    <tr>\n",
       "      <th>3</th>\n",
       "      <td>Addhuri Udupi Bhojana</td>\n",
       "      <td>No</td>\n",
       "      <td>No</td>\n",
       "      <td>3.7/5</td>\n",
       "      <td>88</td>\n",
       "      <td>300</td>\n",
       "      <td>Buffet</td>\n",
       "    </tr>\n",
       "    <tr>\n",
       "      <th>4</th>\n",
       "      <td>Grand Village</td>\n",
       "      <td>No</td>\n",
       "      <td>No</td>\n",
       "      <td>3.8/5</td>\n",
       "      <td>166</td>\n",
       "      <td>600</td>\n",
       "      <td>Buffet</td>\n",
       "    </tr>\n",
       "  </tbody>\n",
       "</table>\n",
       "</div>"
      ],
      "text/plain": [
       "                    name online_order book_table   rate  votes  \\\n",
       "0                  Jalsa          Yes        Yes  4.1/5    775   \n",
       "1         Spice Elephant          Yes         No  4.1/5    787   \n",
       "2        San Churro Cafe          Yes         No  3.8/5    918   \n",
       "3  Addhuri Udupi Bhojana           No         No  3.7/5     88   \n",
       "4          Grand Village           No         No  3.8/5    166   \n",
       "\n",
       "   approx_cost(for two people) listed_in(type)  \n",
       "0                          800          Buffet  \n",
       "1                          800          Buffet  \n",
       "2                          800          Buffet  \n",
       "3                          300          Buffet  \n",
       "4                          600          Buffet  "
      ]
     },
     "execution_count": 2,
     "metadata": {},
     "output_type": "execute_result"
    }
   ],
   "source": [
    "df = pd.read_csv('/kaggle/input/zomato-dataset/Zomato-data-.csv')\n",
    "df.head()"
   ]
  },
  {
   "cell_type": "code",
   "execution_count": 3,
   "id": "2e74ef15",
   "metadata": {
    "execution": {
     "iopub.execute_input": "2025-02-11T03:55:15.704316Z",
     "iopub.status.busy": "2025-02-11T03:55:15.704051Z",
     "iopub.status.idle": "2025-02-11T03:55:15.708865Z",
     "shell.execute_reply": "2025-02-11T03:55:15.708099Z"
    },
    "papermill": {
     "duration": 0.010178,
     "end_time": "2025-02-11T03:55:15.710222",
     "exception": false,
     "start_time": "2025-02-11T03:55:15.700044",
     "status": "completed"
    },
    "tags": []
   },
   "outputs": [
    {
     "data": {
      "text/plain": [
       "(148, 7)"
      ]
     },
     "execution_count": 3,
     "metadata": {},
     "output_type": "execute_result"
    }
   ],
   "source": [
    "df.shape"
   ]
  },
  {
   "cell_type": "code",
   "execution_count": 4,
   "id": "b5e1839a",
   "metadata": {
    "execution": {
     "iopub.execute_input": "2025-02-11T03:55:15.717736Z",
     "iopub.status.busy": "2025-02-11T03:55:15.717476Z",
     "iopub.status.idle": "2025-02-11T03:55:15.725632Z",
     "shell.execute_reply": "2025-02-11T03:55:15.724917Z"
    },
    "papermill": {
     "duration": 0.013245,
     "end_time": "2025-02-11T03:55:15.726908",
     "exception": false,
     "start_time": "2025-02-11T03:55:15.713663",
     "status": "completed"
    },
    "tags": []
   },
   "outputs": [
    {
     "data": {
      "text/plain": [
       "name                           0\n",
       "online_order                   0\n",
       "book_table                     0\n",
       "rate                           0\n",
       "votes                          0\n",
       "approx_cost(for two people)    0\n",
       "listed_in(type)                0\n",
       "dtype: int64"
      ]
     },
     "execution_count": 4,
     "metadata": {},
     "output_type": "execute_result"
    }
   ],
   "source": [
    "# Any null values?\n",
    "df.isnull().sum()"
   ]
  },
  {
   "cell_type": "code",
   "execution_count": 5,
   "id": "a60aec40",
   "metadata": {
    "execution": {
     "iopub.execute_input": "2025-02-11T03:55:15.734952Z",
     "iopub.status.busy": "2025-02-11T03:55:15.734668Z",
     "iopub.status.idle": "2025-02-11T03:55:15.739054Z",
     "shell.execute_reply": "2025-02-11T03:55:15.738313Z"
    },
    "papermill": {
     "duration": 0.01001,
     "end_time": "2025-02-11T03:55:15.740338",
     "exception": false,
     "start_time": "2025-02-11T03:55:15.730328",
     "status": "completed"
    },
    "tags": []
   },
   "outputs": [],
   "source": [
    "# Handling rate column\n",
    "def handlerate(value):\n",
    "    value = str(value).split('/')\n",
    "    value = value[0]\n",
    "    return float(value)\n",
    "\n",
    "df['rate'] = df['rate'].apply(handlerate)"
   ]
  },
  {
   "cell_type": "code",
   "execution_count": 6,
   "id": "7cdef7ff",
   "metadata": {
    "execution": {
     "iopub.execute_input": "2025-02-11T03:55:15.747796Z",
     "iopub.status.busy": "2025-02-11T03:55:15.747548Z",
     "iopub.status.idle": "2025-02-11T03:55:15.757570Z",
     "shell.execute_reply": "2025-02-11T03:55:15.756815Z"
    },
    "papermill": {
     "duration": 0.015179,
     "end_time": "2025-02-11T03:55:15.758926",
     "exception": false,
     "start_time": "2025-02-11T03:55:15.743747",
     "status": "completed"
    },
    "tags": []
   },
   "outputs": [
    {
     "data": {
      "text/html": [
       "<div>\n",
       "<style scoped>\n",
       "    .dataframe tbody tr th:only-of-type {\n",
       "        vertical-align: middle;\n",
       "    }\n",
       "\n",
       "    .dataframe tbody tr th {\n",
       "        vertical-align: top;\n",
       "    }\n",
       "\n",
       "    .dataframe thead th {\n",
       "        text-align: right;\n",
       "    }\n",
       "</style>\n",
       "<table border=\"1\" class=\"dataframe\">\n",
       "  <thead>\n",
       "    <tr style=\"text-align: right;\">\n",
       "      <th></th>\n",
       "      <th>name</th>\n",
       "      <th>online_order</th>\n",
       "      <th>book_table</th>\n",
       "      <th>rate</th>\n",
       "      <th>votes</th>\n",
       "      <th>approx_cost(for two people)</th>\n",
       "      <th>listed_in(type)</th>\n",
       "    </tr>\n",
       "  </thead>\n",
       "  <tbody>\n",
       "    <tr>\n",
       "      <th>0</th>\n",
       "      <td>Jalsa</td>\n",
       "      <td>Yes</td>\n",
       "      <td>Yes</td>\n",
       "      <td>4.1</td>\n",
       "      <td>775</td>\n",
       "      <td>800</td>\n",
       "      <td>Buffet</td>\n",
       "    </tr>\n",
       "    <tr>\n",
       "      <th>1</th>\n",
       "      <td>Spice Elephant</td>\n",
       "      <td>Yes</td>\n",
       "      <td>No</td>\n",
       "      <td>4.1</td>\n",
       "      <td>787</td>\n",
       "      <td>800</td>\n",
       "      <td>Buffet</td>\n",
       "    </tr>\n",
       "    <tr>\n",
       "      <th>2</th>\n",
       "      <td>San Churro Cafe</td>\n",
       "      <td>Yes</td>\n",
       "      <td>No</td>\n",
       "      <td>3.8</td>\n",
       "      <td>918</td>\n",
       "      <td>800</td>\n",
       "      <td>Buffet</td>\n",
       "    </tr>\n",
       "    <tr>\n",
       "      <th>3</th>\n",
       "      <td>Addhuri Udupi Bhojana</td>\n",
       "      <td>No</td>\n",
       "      <td>No</td>\n",
       "      <td>3.7</td>\n",
       "      <td>88</td>\n",
       "      <td>300</td>\n",
       "      <td>Buffet</td>\n",
       "    </tr>\n",
       "    <tr>\n",
       "      <th>4</th>\n",
       "      <td>Grand Village</td>\n",
       "      <td>No</td>\n",
       "      <td>No</td>\n",
       "      <td>3.8</td>\n",
       "      <td>166</td>\n",
       "      <td>600</td>\n",
       "      <td>Buffet</td>\n",
       "    </tr>\n",
       "  </tbody>\n",
       "</table>\n",
       "</div>"
      ],
      "text/plain": [
       "                    name online_order book_table  rate  votes  \\\n",
       "0                  Jalsa          Yes        Yes   4.1    775   \n",
       "1         Spice Elephant          Yes         No   4.1    787   \n",
       "2        San Churro Cafe          Yes         No   3.8    918   \n",
       "3  Addhuri Udupi Bhojana           No         No   3.7     88   \n",
       "4          Grand Village           No         No   3.8    166   \n",
       "\n",
       "   approx_cost(for two people) listed_in(type)  \n",
       "0                          800          Buffet  \n",
       "1                          800          Buffet  \n",
       "2                          800          Buffet  \n",
       "3                          300          Buffet  \n",
       "4                          600          Buffet  "
      ]
     },
     "execution_count": 6,
     "metadata": {},
     "output_type": "execute_result"
    }
   ],
   "source": [
    "df.head()"
   ]
  },
  {
   "cell_type": "code",
   "execution_count": 7,
   "id": "ee8239b2",
   "metadata": {
    "execution": {
     "iopub.execute_input": "2025-02-11T03:55:15.766810Z",
     "iopub.status.busy": "2025-02-11T03:55:15.766564Z",
     "iopub.status.idle": "2025-02-11T03:55:17.446436Z",
     "shell.execute_reply": "2025-02-11T03:55:17.445497Z"
    },
    "papermill": {
     "duration": 1.685577,
     "end_time": "2025-02-11T03:55:17.448084",
     "exception": false,
     "start_time": "2025-02-11T03:55:15.762507",
     "status": "completed"
    },
    "tags": []
   },
   "outputs": [
    {
     "data": {
      "text/plain": [
       "Text(0.5, 1.0, 'Type of restaurants')"
      ]
     },
     "execution_count": 7,
     "metadata": {},
     "output_type": "execute_result"
    },
    {
     "data": {
      "image/png": "[encoded data removed]",
      "text/plain": [
       "<Figure size 640x480 with 1 Axes>"
      ]
     },
     "metadata": {},
     "output_type": "display_data"
    }
   ],
   "source": [
    "import matplotlib.pyplot as plt\n",
    "import seaborn as sns\n",
    "\n",
    "sns.countplot(x = df['listed_in(type)'])\n",
    "plt.title(\"Type of restaurants\")"
   ]
  },
  {
   "cell_type": "code",
   "execution_count": 8,
   "id": "d9ca5787",
   "metadata": {
    "execution": {
     "iopub.execute_input": "2025-02-11T03:55:17.457599Z",
     "iopub.status.busy": "2025-02-11T03:55:17.457171Z",
     "iopub.status.idle": "2025-02-11T03:55:17.577818Z",
     "shell.execute_reply": "2025-02-11T03:55:17.576917Z"
    },
    "papermill": {
     "duration": 0.126839,
     "end_time": "2025-02-11T03:55:17.579318",
     "exception": false,
     "start_time": "2025-02-11T03:55:17.452479",
     "status": "completed"
    },
    "tags": []
   },
   "outputs": [
    {
     "data": {
      "text/plain": [
       "<Axes: xlabel='online_order', ylabel='count'>"
      ]
     },
     "execution_count": 8,
     "metadata": {},
     "output_type": "execute_result"
    },
    {
     "data": {
      "image/png": "[encoded data removed]",
      "text/plain": [
       "<Figure size 640x480 with 1 Axes>"
      ]
     },
     "metadata": {},
     "output_type": "display_data"
    }
   ],
   "source": [
    "sns.countplot(x = df['online_order'])"
   ]
  },
  {
   "cell_type": "code",
   "execution_count": 9,
   "id": "f398d99f",
   "metadata": {
    "execution": {
     "iopub.execute_input": "2025-02-11T03:55:17.589289Z",
     "iopub.status.busy": "2025-02-11T03:55:17.589014Z",
     "iopub.status.idle": "2025-02-11T03:55:17.767482Z",
     "shell.execute_reply": "2025-02-11T03:55:17.766523Z"
    },
    "papermill": {
     "duration": 0.185111,
     "end_time": "2025-02-11T03:55:17.769049",
     "exception": false,
     "start_time": "2025-02-11T03:55:17.583938",
     "status": "completed"
    },
    "tags": []
   },
   "outputs": [
    {
     "data": {
      "image/png": "[encoded data removed]",
      "text/plain": [
       "<Figure size 640x480 with 1 Axes>"
      ]
     },
     "metadata": {},
     "output_type": "display_data"
    }
   ],
   "source": [
    "plt.hist(df['rate'], bins = 5)\n",
    "plt.title('Ratings distribution')\n",
    "plt.show()"
   ]
  },
  {
   "cell_type": "code",
   "execution_count": 10,
   "id": "04002e71",
   "metadata": {
    "execution": {
     "iopub.execute_input": "2025-02-11T03:55:17.779573Z",
     "iopub.status.busy": "2025-02-11T03:55:17.779293Z",
     "iopub.status.idle": "2025-02-11T03:55:18.037586Z",
     "shell.execute_reply": "2025-02-11T03:55:18.036512Z"
    },
    "papermill": {
     "duration": 0.265013,
     "end_time": "2025-02-11T03:55:18.039058",
     "exception": false,
     "start_time": "2025-02-11T03:55:17.774045",
     "status": "completed"
    },
    "tags": []
   },
   "outputs": [
    {
     "data": {
      "text/plain": [
       "<Axes: xlabel='approx_cost(for two people)', ylabel='count'>"
      ]
     },
     "execution_count": 10,
     "metadata": {},
     "output_type": "execute_result"
    },
    {
     "data": {
      "image/png": "[encoded data removed]",
      "text/plain": [
       "<Figure size 640x480 with 1 Axes>"
      ]
     },
     "metadata": {},
     "output_type": "display_data"
    }
   ],
   "source": [
    "sns.countplot(x = df['approx_cost(for two people)'])"
   ]
  },
  {
   "cell_type": "code",
   "execution_count": 11,
   "id": "c086634b",
   "metadata": {
    "execution": {
     "iopub.execute_input": "2025-02-11T03:55:18.050657Z",
     "iopub.status.busy": "2025-02-11T03:55:18.050381Z",
     "iopub.status.idle": "2025-02-11T03:55:18.056718Z",
     "shell.execute_reply": "2025-02-11T03:55:18.055713Z"
    },
    "papermill": {
     "duration": 0.013694,
     "end_time": "2025-02-11T03:55:18.058251",
     "exception": false,
     "start_time": "2025-02-11T03:55:18.044557",
     "status": "completed"
    },
    "tags": []
   },
   "outputs": [
    {
     "name": "stdout",
     "output_type": "stream",
     "text": [
      "38    Empire Restaurant\n",
      "Name: name, dtype: object 4884\n"
     ]
    }
   ],
   "source": [
    "high_votes = df['votes'].max()\n",
    "restaurant_with_max_votes = df.loc[df['votes'] == high_votes, 'name']\n",
    "print(restaurant_with_max_votes, high_votes)"
   ]
  },
  {
   "cell_type": "code",
   "execution_count": 12,
   "id": "273db162",
   "metadata": {
    "execution": {
     "iopub.execute_input": "2025-02-11T03:55:18.069558Z",
     "iopub.status.busy": "2025-02-11T03:55:18.069298Z",
     "iopub.status.idle": "2025-02-11T03:55:18.074905Z",
     "shell.execute_reply": "2025-02-11T03:55:18.073906Z"
    },
    "papermill": {
     "duration": 0.012866,
     "end_time": "2025-02-11T03:55:18.076354",
     "exception": false,
     "start_time": "2025-02-11T03:55:18.063488",
     "status": "completed"
    },
    "tags": []
   },
   "outputs": [
    {
     "name": "stdout",
     "output_type": "stream",
     "text": [
      "7     Onesta\n",
      "44    Onesta\n",
      "Name: name, dtype: object 4.6\n"
     ]
    }
   ],
   "source": [
    "high_rate = df['rate'].max()\n",
    "restaurant_with_max_rate = df.loc[df['rate'] == high_rate, 'name']\n",
    "print(restaurant_with_max_rate, high_rate)"
   ]
  },
  {
   "cell_type": "code",
   "execution_count": 13,
   "id": "f043cbc7",
   "metadata": {
    "execution": {
     "iopub.execute_input": "2025-02-11T03:55:18.087735Z",
     "iopub.status.busy": "2025-02-11T03:55:18.087470Z",
     "iopub.status.idle": "2025-02-11T03:55:18.092826Z",
     "shell.execute_reply": "2025-02-11T03:55:18.091875Z"
    },
    "papermill": {
     "duration": 0.012561,
     "end_time": "2025-02-11T03:55:18.094292",
     "exception": false,
     "start_time": "2025-02-11T03:55:18.081731",
     "status": "completed"
    },
    "tags": []
   },
   "outputs": [
    {
     "name": "stdout",
     "output_type": "stream",
     "text": [
      "97    Ayda Persian Kitchen\n",
      "Name: name, dtype: object 950\n"
     ]
    }
   ],
   "source": [
    "high_cost = df['approx_cost(for two people)'].max()\n",
    "restaurant_with_max_cost = df.loc[df['approx_cost(for two people)'] == high_cost, 'name']\n",
    "print(restaurant_with_max_cost, high_cost)"
   ]
  }
 ],
 "metadata": {
  "kaggle": {
   "accelerator": "none",
   "dataSources": [
    {
     "datasetId": 6517876,
     "sourceId": 10534101,
     "sourceType": "datasetVersion"
    }
   ],
   "dockerImageVersionId": 30886,
   "isGpuEnabled": false,
   "isInternetEnabled": true,
   "language": "python",
   "sourceType": "notebook"
  },
  "kernelspec": {
   "display_name": "Python 3",
   "language": "python",
   "name": "python3"
  },
  "language_info": {
   "codemirror_mode": {
    "name": "ipython",
    "version": 3
   },
   "file_extension": ".py",
   "mimetype": "text/x-python",
   "name": "python",
   "nbconvert_exporter": "python",
   "pygments_lexer": "ipython3",
   "version": "3.10.12"
  },
  "papermill": {
   "default_parameters": {},
   "duration": 6.200541,
   "end_time": "2025-02-11T03:55:18.618603",
   "environment_variables": {},
   "exception": null,
   "input_path": "__notebook__.ipynb",
   "output_path": "__notebook__.ipynb",
   "parameters": {},
   "start_time": "2025-02-11T03:55:12.418062",
   "version": "2.6.0"
  }
 },
 "nbformat": 4,
 "nbformat_minor": 5
}
