{
 "cells": [
  {
   "cell_type": "code",
   "execution_count": 1,
   "id": "f3ef45ae",
   "metadata": {
    "_cell_guid": "b1076dfc-b9ad-4769-8c92-a6c4dae69d19",
    "_uuid": "8f2839f25d086af736a60e9eeb907d3b93b6e0e5",
    "execution": {
     "iopub.execute_input": "2025-02-22T02:22:12.103748Z",
     "iopub.status.busy": "2025-02-22T02:22:12.103477Z",
     "iopub.status.idle": "2025-02-22T02:22:12.873156Z",
     "shell.execute_reply": "2025-02-22T02:22:12.872081Z"
    },
    "papermill": {
     "duration": 0.775038,
     "end_time": "2025-02-22T02:22:12.874619",
     "exception": false,
     "start_time": "2025-02-22T02:22:12.099581",
     "status": "completed"
    },
    "tags": []
   },
   "outputs": [],
   "source": [
    "import numpy as np\n",
    "import pandas as pd"
   ]
  },
  {
   "cell_type": "markdown",
   "id": "bb871088",
   "metadata": {
    "papermill": {
     "duration": 0.001938,
     "end_time": "2025-02-22T02:22:12.879294",
     "exception": false,
     "start_time": "2025-02-22T02:22:12.877356",
     "status": "completed"
    },
    "tags": []
   },
   "source": [
    "**Load the data**"
   ]
  },
  {
   "cell_type": "code",
   "execution_count": 2,
   "id": "fc432ebd",
   "metadata": {
    "execution": {
     "iopub.execute_input": "2025-02-22T02:22:12.884637Z",
     "iopub.status.busy": "2025-02-22T02:22:12.884252Z",
     "iopub.status.idle": "2025-02-22T02:22:12.929638Z",
     "shell.execute_reply": "2025-02-22T02:22:12.928736Z"
    },
    "papermill": {
     "duration": 0.049712,
     "end_time": "2025-02-22T02:22:12.931085",
     "exception": false,
     "start_time": "2025-02-22T02:22:12.881373",
     "status": "completed"
    },
    "tags": []
   },
   "outputs": [],
   "source": [
    "data = pd.read_csv(\"/kaggle/input/daily-food-and-nutrition-dataset/daily_food_nutrition_dataset.csv\")"
   ]
  },
  {
   "cell_type": "markdown",
   "id": "d1896ad2",
   "metadata": {
    "papermill": {
     "duration": 0.001959,
     "end_time": "2025-02-22T02:22:12.935530",
     "exception": false,
     "start_time": "2025-02-22T02:22:12.933571",
     "status": "completed"
    },
    "tags": []
   },
   "source": [
    "**Check how many rows and columns are present in the data**"
   ]
  },
  {
   "cell_type": "code",
   "execution_count": 3,
   "id": "8fae1dff",
   "metadata": {
    "execution": {
     "iopub.execute_input": "2025-02-22T02:22:12.940844Z",
     "iopub.status.busy": "2025-02-22T02:22:12.940547Z",
     "iopub.status.idle": "2025-02-22T02:22:12.945388Z",
     "shell.execute_reply": "2025-02-22T02:22:12.944704Z"
    },
    "papermill": {
     "duration": 0.008773,
     "end_time": "2025-02-22T02:22:12.946472",
     "exception": false,
     "start_time": "2025-02-22T02:22:12.937699",
     "status": "completed"
    },
    "tags": []
   },
   "outputs": [
    {
     "data": {
      "text/plain": [
       "(10000, 14)"
      ]
     },
     "execution_count": 3,
     "metadata": {},
     "output_type": "execute_result"
    }
   ],
   "source": [
    "data.shape"
   ]
  },
  {
   "cell_type": "markdown",
   "id": "f5aaa729",
   "metadata": {
    "papermill": {
     "duration": 0.002024,
     "end_time": "2025-02-22T02:22:12.950889",
     "exception": false,
     "start_time": "2025-02-22T02:22:12.948865",
     "status": "completed"
    },
    "tags": []
   },
   "source": [
    "**View the data**"
   ]
  },
  {
   "cell_type": "code",
   "execution_count": 4,
   "id": "7f05ea8d",
   "metadata": {
    "execution": {
     "iopub.execute_input": "2025-02-22T02:22:12.956239Z",
     "iopub.status.busy": "2025-02-22T02:22:12.955900Z",
     "iopub.status.idle": "2025-02-22T02:22:12.979731Z",
     "shell.execute_reply": "2025-02-22T02:22:12.978804Z"
    },
    "papermill": {
     "duration": 0.028279,
     "end_time": "2025-02-22T02:22:12.981374",
     "exception": false,
     "start_time": "2025-02-22T02:22:12.953095",
     "status": "completed"
    },
    "tags": []
   },
   "outputs": [
    {
     "data": {
      "text/html": [
       "<div>\n",
       "<style scoped>\n",
       "    .dataframe tbody tr th:only-of-type {\n",
       "        vertical-align: middle;\n",
       "    }\n",
       "\n",
       "    .dataframe tbody tr th {\n",
       "        vertical-align: top;\n",
       "    }\n",
       "\n",
       "    .dataframe thead th {\n",
       "        text-align: right;\n",
       "    }\n",
       "</style>\n",
       "<table border=\"1\" class=\"dataframe\">\n",
       "  <thead>\n",
       "    <tr style=\"text-align: right;\">\n",
       "      <th></th>\n",
       "      <th>Date</th>\n",
       "      <th>User_ID</th>\n",
       "      <th>Food_Item</th>\n",
       "      <th>Category</th>\n",
       "      <th>Calories (kcal)</th>\n",
       "      <th>Protein (g)</th>\n",
       "      <th>Carbohydrates (g)</th>\n",
       "      <th>Fat (g)</th>\n",
       "      <th>Fiber (g)</th>\n",
       "      <th>Sugars (g)</th>\n",
       "      <th>Sodium (mg)</th>\n",
       "      <th>Cholesterol (mg)</th>\n",
       "      <th>Meal_Type</th>\n",
       "      <th>Water_Intake (ml)</th>\n",
       "    </tr>\n",
       "  </thead>\n",
       "  <tbody>\n",
       "    <tr>\n",
       "      <th>0</th>\n",
       "      <td>2024-09-11</td>\n",
       "      <td>496</td>\n",
       "      <td>Eggs</td>\n",
       "      <td>Meat</td>\n",
       "      <td>173</td>\n",
       "      <td>42.4</td>\n",
       "      <td>83.7</td>\n",
       "      <td>1.5</td>\n",
       "      <td>1.5</td>\n",
       "      <td>12.7</td>\n",
       "      <td>752</td>\n",
       "      <td>125</td>\n",
       "      <td>Lunch</td>\n",
       "      <td>478</td>\n",
       "    </tr>\n",
       "    <tr>\n",
       "      <th>1</th>\n",
       "      <td>2024-12-17</td>\n",
       "      <td>201</td>\n",
       "      <td>Apple</td>\n",
       "      <td>Fruits</td>\n",
       "      <td>66</td>\n",
       "      <td>39.2</td>\n",
       "      <td>13.8</td>\n",
       "      <td>3.2</td>\n",
       "      <td>2.6</td>\n",
       "      <td>12.2</td>\n",
       "      <td>680</td>\n",
       "      <td>97</td>\n",
       "      <td>Lunch</td>\n",
       "      <td>466</td>\n",
       "    </tr>\n",
       "    <tr>\n",
       "      <th>2</th>\n",
       "      <td>2024-06-09</td>\n",
       "      <td>776</td>\n",
       "      <td>Chicken Breast</td>\n",
       "      <td>Meat</td>\n",
       "      <td>226</td>\n",
       "      <td>27.1</td>\n",
       "      <td>79.1</td>\n",
       "      <td>25.8</td>\n",
       "      <td>3.2</td>\n",
       "      <td>44.7</td>\n",
       "      <td>295</td>\n",
       "      <td>157</td>\n",
       "      <td>Breakfast</td>\n",
       "      <td>635</td>\n",
       "    </tr>\n",
       "    <tr>\n",
       "      <th>3</th>\n",
       "      <td>2024-08-27</td>\n",
       "      <td>112</td>\n",
       "      <td>Banana</td>\n",
       "      <td>Fruits</td>\n",
       "      <td>116</td>\n",
       "      <td>43.4</td>\n",
       "      <td>47.1</td>\n",
       "      <td>16.1</td>\n",
       "      <td>6.5</td>\n",
       "      <td>44.1</td>\n",
       "      <td>307</td>\n",
       "      <td>13</td>\n",
       "      <td>Snack</td>\n",
       "      <td>379</td>\n",
       "    </tr>\n",
       "    <tr>\n",
       "      <th>4</th>\n",
       "      <td>2024-07-28</td>\n",
       "      <td>622</td>\n",
       "      <td>Banana</td>\n",
       "      <td>Fruits</td>\n",
       "      <td>500</td>\n",
       "      <td>33.9</td>\n",
       "      <td>75.8</td>\n",
       "      <td>47.0</td>\n",
       "      <td>7.8</td>\n",
       "      <td>19.4</td>\n",
       "      <td>358</td>\n",
       "      <td>148</td>\n",
       "      <td>Lunch</td>\n",
       "      <td>471</td>\n",
       "    </tr>\n",
       "  </tbody>\n",
       "</table>\n",
       "</div>"
      ],
      "text/plain": [
       "         Date  User_ID       Food_Item Category  Calories (kcal)  Protein (g)  \\\n",
       "0  2024-09-11      496            Eggs     Meat              173         42.4   \n",
       "1  2024-12-17      201           Apple   Fruits               66         39.2   \n",
       "2  2024-06-09      776  Chicken Breast     Meat              226         27.1   \n",
       "3  2024-08-27      112          Banana   Fruits              116         43.4   \n",
       "4  2024-07-28      622          Banana   Fruits              500         33.9   \n",
       "\n",
       "   Carbohydrates (g)  Fat (g)  Fiber (g)  Sugars (g)  Sodium (mg)  \\\n",
       "0               83.7      1.5        1.5        12.7          752   \n",
       "1               13.8      3.2        2.6        12.2          680   \n",
       "2               79.1     25.8        3.2        44.7          295   \n",
       "3               47.1     16.1        6.5        44.1          307   \n",
       "4               75.8     47.0        7.8        19.4          358   \n",
       "\n",
       "   Cholesterol (mg)  Meal_Type  Water_Intake (ml)  \n",
       "0               125      Lunch                478  \n",
       "1                97      Lunch                466  \n",
       "2               157  Breakfast                635  \n",
       "3                13      Snack                379  \n",
       "4               148      Lunch                471  "
      ]
     },
     "execution_count": 4,
     "metadata": {},
     "output_type": "execute_result"
    }
   ],
   "source": [
    "data.head()"
   ]
  },
  {
   "cell_type": "markdown",
   "id": "47f406c7",
   "metadata": {
    "papermill": {
     "duration": 0.002335,
     "end_time": "2025-02-22T02:22:12.986619",
     "exception": false,
     "start_time": "2025-02-22T02:22:12.984284",
     "status": "completed"
    },
    "tags": []
   },
   "source": [
    "**Check the data information - columns names, null values count, datatypes**"
   ]
  },
  {
   "cell_type": "code",
   "execution_count": 5,
   "id": "f51d44c6",
   "metadata": {
    "execution": {
     "iopub.execute_input": "2025-02-22T02:22:12.992226Z",
     "iopub.status.busy": "2025-02-22T02:22:12.991945Z",
     "iopub.status.idle": "2025-02-22T02:22:13.014702Z",
     "shell.execute_reply": "2025-02-22T02:22:13.013864Z"
    },
    "papermill": {
     "duration": 0.027223,
     "end_time": "2025-02-22T02:22:13.016240",
     "exception": false,
     "start_time": "2025-02-22T02:22:12.989017",
     "status": "completed"
    },
    "tags": []
   },
   "outputs": [
    {
     "name": "stdout",
     "output_type": "stream",
     "text": [
      "<class 'pandas.core.frame.DataFrame'>\n",
      "RangeIndex: 10000 entries, 0 to 9999\n",
      "Data columns (total 14 columns):\n",
      " #   Column             Non-Null Count  Dtype  \n",
      "---  ------             --------------  -----  \n",
      " 0   Date               10000 non-null  object \n",
      " 1   User_ID            10000 non-null  int64  \n",
      " 2   Food_Item          10000 non-null  object \n",
      " 3   Category           10000 non-null  object \n",
      " 4   Calories (kcal)    10000 non-null  int64  \n",
      " 5   Protein (g)        10000 non-null  float64\n",
      " 6   Carbohydrates (g)  10000 non-null  float64\n",
      " 7   Fat (g)            10000 non-null  float64\n",
      " 8   Fiber (g)          10000 non-null  float64\n",
      " 9   Sugars (g)         10000 non-null  float64\n",
      " 10  Sodium (mg)        10000 non-null  int64  \n",
      " 11  Cholesterol (mg)   10000 non-null  int64  \n",
      " 12  Meal_Type          10000 non-null  object \n",
      " 13  Water_Intake (ml)  10000 non-null  int64  \n",
      "dtypes: float64(5), int64(5), object(4)\n",
      "memory usage: 1.1+ MB\n"
     ]
    }
   ],
   "source": [
    "data.info()"
   ]
  },
  {
   "cell_type": "markdown",
   "id": "56908170",
   "metadata": {
    "papermill": {
     "duration": 0.002429,
     "end_time": "2025-02-22T02:22:13.021897",
     "exception": false,
     "start_time": "2025-02-22T02:22:13.019468",
     "status": "completed"
    },
    "tags": []
   },
   "source": [
    "**In the above info, we can see that there are no null values**"
   ]
  },
  {
   "cell_type": "code",
   "execution_count": 6,
   "id": "1f99bc66",
   "metadata": {
    "execution": {
     "iopub.execute_input": "2025-02-22T02:22:13.028279Z",
     "iopub.status.busy": "2025-02-22T02:22:13.027940Z",
     "iopub.status.idle": "2025-02-22T02:22:13.439035Z",
     "shell.execute_reply": "2025-02-22T02:22:13.437914Z"
    },
    "papermill": {
     "duration": 0.41581,
     "end_time": "2025-02-22T02:22:13.440450",
     "exception": false,
     "start_time": "2025-02-22T02:22:13.024640",
     "status": "completed"
    },
    "tags": []
   },
   "outputs": [
    {
     "data": {
      "text/plain": [
       "<Axes: title={'center': 'Food Items'}, xlabel='Food_Item'>"
      ]
     },
     "execution_count": 6,
     "metadata": {},
     "output_type": "execute_result"
    },
    {
     "data": {
      "image/png": "[encoded data removed]",
      "text/plain": [
       "<Figure size 640x480 with 1 Axes>"
      ]
     },
     "metadata": {},
     "output_type": "display_data"
    }
   ],
   "source": [
    "data['Food_Item'].value_counts().plot(kind='bar', title='Food Items')"
   ]
  },
  {
   "cell_type": "code",
   "execution_count": 7,
   "id": "0dddc294",
   "metadata": {
    "execution": {
     "iopub.execute_input": "2025-02-22T02:22:13.448789Z",
     "iopub.status.busy": "2025-02-22T02:22:13.448538Z",
     "iopub.status.idle": "2025-02-22T02:22:13.601808Z",
     "shell.execute_reply": "2025-02-22T02:22:13.600742Z"
    },
    "papermill": {
     "duration": 0.159103,
     "end_time": "2025-02-22T02:22:13.603621",
     "exception": false,
     "start_time": "2025-02-22T02:22:13.444518",
     "status": "completed"
    },
    "tags": []
   },
   "outputs": [
    {
     "data": {
      "text/plain": [
       "<Axes: title={'center': 'Category'}, xlabel='Category'>"
      ]
     },
     "execution_count": 7,
     "metadata": {},
     "output_type": "execute_result"
    },
    {
     "data": {
      "image/png": "[encoded data removed]",
      "text/plain": [
       "<Figure size 640x480 with 1 Axes>"
      ]
     },
     "metadata": {},
     "output_type": "display_data"
    }
   ],
   "source": [
    "data['Category'].value_counts().plot(kind='bar', title='Category')"
   ]
  },
  {
   "cell_type": "code",
   "execution_count": 8,
   "id": "0070b692",
   "metadata": {
    "execution": {
     "iopub.execute_input": "2025-02-22T02:22:13.613061Z",
     "iopub.status.busy": "2025-02-22T02:22:13.612749Z",
     "iopub.status.idle": "2025-02-22T02:22:13.742546Z",
     "shell.execute_reply": "2025-02-22T02:22:13.741721Z"
    },
    "papermill": {
     "duration": 0.135919,
     "end_time": "2025-02-22T02:22:13.743690",
     "exception": false,
     "start_time": "2025-02-22T02:22:13.607771",
     "status": "completed"
    },
    "tags": []
   },
   "outputs": [
    {
     "data": {
      "text/plain": [
       "<Axes: title={'center': 'Meal Type'}, xlabel='Meal_Type'>"
      ]
     },
     "execution_count": 8,
     "metadata": {},
     "output_type": "execute_result"
    },
    {
     "data": {
      "image/png": "[encoded data removed]",
      "text/plain": [
       "<Figure size 640x480 with 1 Axes>"
      ]
     },
     "metadata": {},
     "output_type": "display_data"
    }
   ],
   "source": [
    "data['Meal_Type'].value_counts().plot(kind='bar', title='Meal Type')"
   ]
  },
  {
   "cell_type": "code",
   "execution_count": 9,
   "id": "90ea2937",
   "metadata": {
    "execution": {
     "iopub.execute_input": "2025-02-22T02:22:13.752916Z",
     "iopub.status.busy": "2025-02-22T02:22:13.752621Z",
     "iopub.status.idle": "2025-02-22T02:22:15.151211Z",
     "shell.execute_reply": "2025-02-22T02:22:15.149792Z"
    },
    "papermill": {
     "duration": 1.404984,
     "end_time": "2025-02-22T02:22:15.152842",
     "exception": false,
     "start_time": "2025-02-22T02:22:13.747858",
     "status": "completed"
    },
    "tags": []
   },
   "outputs": [],
   "source": [
    "import matplotlib.pyplot as plt\n",
    "import seaborn as sns\n"
   ]
  }
 ],
 "metadata": {
  "kaggle": {
   "accelerator": "none",
   "dataSources": [
    {
     "datasetId": 6606266,
     "sourceId": 10666963,
     "sourceType": "datasetVersion"
    }
   ],
   "dockerImageVersionId": 30918,
   "isGpuEnabled": false,
   "isInternetEnabled": true,
   "language": "python",
   "sourceType": "notebook"
  },
  "kernelspec": {
   "display_name": "Python 3",
   "language": "python",
   "name": "python3"
  },
  "language_info": {
   "codemirror_mode": {
    "name": "ipython",
    "version": 3
   },
   "file_extension": ".py",
   "mimetype": "text/x-python",
   "name": "python",
   "nbconvert_exporter": "python",
   "pygments_lexer": "ipython3",
   "version": "3.10.12"
  },
  "papermill": {
   "default_parameters": {},
   "duration": 5.66834,
   "end_time": "2025-02-22T02:22:15.675528",
   "environment_variables": {},
   "exception": null,
   "input_path": "__notebook__.ipynb",
   "output_path": "__notebook__.ipynb",
   "parameters": {},
   "start_time": "2025-02-22T02:22:10.007188",
   "version": "2.6.0"
  }
 },
 "nbformat": 4,
 "nbformat_minor": 5
}
