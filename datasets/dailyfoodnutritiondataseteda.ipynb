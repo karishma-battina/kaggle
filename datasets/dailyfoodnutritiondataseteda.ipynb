{
 "cells": [
  {
   "cell_type": "code",
   "execution_count": 1,
   "id": "fedbdbc1",
   "metadata": {
    "_cell_guid": "b1076dfc-b9ad-4769-8c92-a6c4dae69d19",
    "_uuid": "8f2839f25d086af736a60e9eeb907d3b93b6e0e5",
    "execution": {
     "iopub.execute_input": "2025-02-22T20:09:50.363520Z",
     "iopub.status.busy": "2025-02-22T20:09:50.363009Z",
     "iopub.status.idle": "2025-02-22T20:09:51.323929Z",
     "shell.execute_reply": "2025-02-22T20:09:51.322759Z"
    },
    "papermill": {
     "duration": 0.968829,
     "end_time": "2025-02-22T20:09:51.325907",
     "exception": false,
     "start_time": "2025-02-22T20:09:50.357078",
     "status": "completed"
    },
    "tags": []
   },
   "outputs": [],
   "source": [
    "import numpy as np\n",
    "import pandas as pd"
   ]
  },
  {
   "cell_type": "markdown",
   "id": "27c7550d",
   "metadata": {
    "papermill": {
     "duration": 0.003593,
     "end_time": "2025-02-22T20:09:51.333881",
     "exception": false,
     "start_time": "2025-02-22T20:09:51.330288",
     "status": "completed"
    },
    "tags": []
   },
   "source": [
    "**Load the data**"
   ]
  },
  {
   "cell_type": "code",
   "execution_count": 2,
   "id": "8004fddb",
   "metadata": {
    "execution": {
     "iopub.execute_input": "2025-02-22T20:09:51.343071Z",
     "iopub.status.busy": "2025-02-22T20:09:51.342595Z",
     "iopub.status.idle": "2025-02-22T20:09:51.395154Z",
     "shell.execute_reply": "2025-02-22T20:09:51.394174Z"
    },
    "papermill": {
     "duration": 0.059218,
     "end_time": "2025-02-22T20:09:51.397076",
     "exception": false,
     "start_time": "2025-02-22T20:09:51.337858",
     "status": "completed"
    },
    "tags": []
   },
   "outputs": [],
   "source": [
    "data = pd.read_csv(\"/kaggle/input/daily-food-and-nutrition-dataset/daily_food_nutrition_dataset.csv\")"
   ]
  },
  {
   "cell_type": "markdown",
   "id": "da6dce5e",
   "metadata": {
    "papermill": {
     "duration": 0.003693,
     "end_time": "2025-02-22T20:09:51.404912",
     "exception": false,
     "start_time": "2025-02-22T20:09:51.401219",
     "status": "completed"
    },
    "tags": []
   },
   "source": [
    "**Check how many rows and columns are present in the data**"
   ]
  },
  {
   "cell_type": "code",
   "execution_count": 3,
   "id": "89310e98",
   "metadata": {
    "execution": {
     "iopub.execute_input": "2025-02-22T20:09:51.413943Z",
     "iopub.status.busy": "2025-02-22T20:09:51.413612Z",
     "iopub.status.idle": "2025-02-22T20:09:51.420071Z",
     "shell.execute_reply": "2025-02-22T20:09:51.419026Z"
    },
    "papermill": {
     "duration": 0.012811,
     "end_time": "2025-02-22T20:09:51.421700",
     "exception": false,
     "start_time": "2025-02-22T20:09:51.408889",
     "status": "completed"
    },
    "tags": []
   },
   "outputs": [
    {
     "data": {
      "text/plain": [
       "(10000, 14)"
      ]
     },
     "execution_count": 3,
     "metadata": {},
     "output_type": "execute_result"
    }
   ],
   "source": [
    "data.shape"
   ]
  },
  {
   "cell_type": "markdown",
   "id": "82042e90",
   "metadata": {
    "papermill": {
     "duration": 0.003922,
     "end_time": "2025-02-22T20:09:51.429798",
     "exception": false,
     "start_time": "2025-02-22T20:09:51.425876",
     "status": "completed"
    },
    "tags": []
   },
   "source": [
    "**View the data**"
   ]
  },
  {
   "cell_type": "code",
   "execution_count": 4,
   "id": "2ca30574",
   "metadata": {
    "execution": {
     "iopub.execute_input": "2025-02-22T20:09:51.439082Z",
     "iopub.status.busy": "2025-02-22T20:09:51.438723Z",
     "iopub.status.idle": "2025-02-22T20:09:51.470548Z",
     "shell.execute_reply": "2025-02-22T20:09:51.469491Z"
    },
    "papermill": {
     "duration": 0.038373,
     "end_time": "2025-02-22T20:09:51.472211",
     "exception": false,
     "start_time": "2025-02-22T20:09:51.433838",
     "status": "completed"
    },
    "tags": []
   },
   "outputs": [
    {
     "data": {
      "text/html": [
       "<div>\n",
       "<style scoped>\n",
       "    .dataframe tbody tr th:only-of-type {\n",
       "        vertical-align: middle;\n",
       "    }\n",
       "\n",
       "    .dataframe tbody tr th {\n",
       "        vertical-align: top;\n",
       "    }\n",
       "\n",
       "    .dataframe thead th {\n",
       "        text-align: right;\n",
       "    }\n",
       "</style>\n",
       "<table border=\"1\" class=\"dataframe\">\n",
       "  <thead>\n",
       "    <tr style=\"text-align: right;\">\n",
       "      <th></th>\n",
       "      <th>Date</th>\n",
       "      <th>User_ID</th>\n",
       "      <th>Food_Item</th>\n",
       "      <th>Category</th>\n",
       "      <th>Calories (kcal)</th>\n",
       "      <th>Protein (g)</th>\n",
       "      <th>Carbohydrates (g)</th>\n",
       "      <th>Fat (g)</th>\n",
       "      <th>Fiber (g)</th>\n",
       "      <th>Sugars (g)</th>\n",
       "      <th>Sodium (mg)</th>\n",
       "      <th>Cholesterol (mg)</th>\n",
       "      <th>Meal_Type</th>\n",
       "      <th>Water_Intake (ml)</th>\n",
       "    </tr>\n",
       "  </thead>\n",
       "  <tbody>\n",
       "    <tr>\n",
       "      <th>0</th>\n",
       "      <td>2024-09-11</td>\n",
       "      <td>496</td>\n",
       "      <td>Eggs</td>\n",
       "      <td>Meat</td>\n",
       "      <td>173</td>\n",
       "      <td>42.4</td>\n",
       "      <td>83.7</td>\n",
       "      <td>1.5</td>\n",
       "      <td>1.5</td>\n",
       "      <td>12.7</td>\n",
       "      <td>752</td>\n",
       "      <td>125</td>\n",
       "      <td>Lunch</td>\n",
       "      <td>478</td>\n",
       "    </tr>\n",
       "    <tr>\n",
       "      <th>1</th>\n",
       "      <td>2024-12-17</td>\n",
       "      <td>201</td>\n",
       "      <td>Apple</td>\n",
       "      <td>Fruits</td>\n",
       "      <td>66</td>\n",
       "      <td>39.2</td>\n",
       "      <td>13.8</td>\n",
       "      <td>3.2</td>\n",
       "      <td>2.6</td>\n",
       "      <td>12.2</td>\n",
       "      <td>680</td>\n",
       "      <td>97</td>\n",
       "      <td>Lunch</td>\n",
       "      <td>466</td>\n",
       "    </tr>\n",
       "    <tr>\n",
       "      <th>2</th>\n",
       "      <td>2024-06-09</td>\n",
       "      <td>776</td>\n",
       "      <td>Chicken Breast</td>\n",
       "      <td>Meat</td>\n",
       "      <td>226</td>\n",
       "      <td>27.1</td>\n",
       "      <td>79.1</td>\n",
       "      <td>25.8</td>\n",
       "      <td>3.2</td>\n",
       "      <td>44.7</td>\n",
       "      <td>295</td>\n",
       "      <td>157</td>\n",
       "      <td>Breakfast</td>\n",
       "      <td>635</td>\n",
       "    </tr>\n",
       "    <tr>\n",
       "      <th>3</th>\n",
       "      <td>2024-08-27</td>\n",
       "      <td>112</td>\n",
       "      <td>Banana</td>\n",
       "      <td>Fruits</td>\n",
       "      <td>116</td>\n",
       "      <td>43.4</td>\n",
       "      <td>47.1</td>\n",
       "      <td>16.1</td>\n",
       "      <td>6.5</td>\n",
       "      <td>44.1</td>\n",
       "      <td>307</td>\n",
       "      <td>13</td>\n",
       "      <td>Snack</td>\n",
       "      <td>379</td>\n",
       "    </tr>\n",
       "    <tr>\n",
       "      <th>4</th>\n",
       "      <td>2024-07-28</td>\n",
       "      <td>622</td>\n",
       "      <td>Banana</td>\n",
       "      <td>Fruits</td>\n",
       "      <td>500</td>\n",
       "      <td>33.9</td>\n",
       "      <td>75.8</td>\n",
       "      <td>47.0</td>\n",
       "      <td>7.8</td>\n",
       "      <td>19.4</td>\n",
       "      <td>358</td>\n",
       "      <td>148</td>\n",
       "      <td>Lunch</td>\n",
       "      <td>471</td>\n",
       "    </tr>\n",
       "  </tbody>\n",
       "</table>\n",
       "</div>"
      ],
      "text/plain": [
       "         Date  User_ID       Food_Item Category  Calories (kcal)  Protein (g)  \\\n",
       "0  2024-09-11      496            Eggs     Meat              173         42.4   \n",
       "1  2024-12-17      201           Apple   Fruits               66         39.2   \n",
       "2  2024-06-09      776  Chicken Breast     Meat              226         27.1   \n",
       "3  2024-08-27      112          Banana   Fruits              116         43.4   \n",
       "4  2024-07-28      622          Banana   Fruits              500         33.9   \n",
       "\n",
       "   Carbohydrates (g)  Fat (g)  Fiber (g)  Sugars (g)  Sodium (mg)  \\\n",
       "0               83.7      1.5        1.5        12.7          752   \n",
       "1               13.8      3.2        2.6        12.2          680   \n",
       "2               79.1     25.8        3.2        44.7          295   \n",
       "3               47.1     16.1        6.5        44.1          307   \n",
       "4               75.8     47.0        7.8        19.4          358   \n",
       "\n",
       "   Cholesterol (mg)  Meal_Type  Water_Intake (ml)  \n",
       "0               125      Lunch                478  \n",
       "1                97      Lunch                466  \n",
       "2               157  Breakfast                635  \n",
       "3                13      Snack                379  \n",
       "4               148      Lunch                471  "
      ]
     },
     "execution_count": 4,
     "metadata": {},
     "output_type": "execute_result"
    }
   ],
   "source": [
    "data.head()"
   ]
  },
  {
   "cell_type": "markdown",
   "id": "ba38a3a6",
   "metadata": {
    "papermill": {
     "duration": 0.004028,
     "end_time": "2025-02-22T20:09:51.480658",
     "exception": false,
     "start_time": "2025-02-22T20:09:51.476630",
     "status": "completed"
    },
    "tags": []
   },
   "source": [
    "**Check the data information - columns names, null values count, datatypes**"
   ]
  },
  {
   "cell_type": "code",
   "execution_count": 5,
   "id": "b1c504ff",
   "metadata": {
    "execution": {
     "iopub.execute_input": "2025-02-22T20:09:51.490688Z",
     "iopub.status.busy": "2025-02-22T20:09:51.490340Z",
     "iopub.status.idle": "2025-02-22T20:09:51.521092Z",
     "shell.execute_reply": "2025-02-22T20:09:51.519763Z"
    },
    "papermill": {
     "duration": 0.03782,
     "end_time": "2025-02-22T20:09:51.522921",
     "exception": false,
     "start_time": "2025-02-22T20:09:51.485101",
     "status": "completed"
    },
    "tags": []
   },
   "outputs": [
    {
     "name": "stdout",
     "output_type": "stream",
     "text": [
      "<class 'pandas.core.frame.DataFrame'>\n",
      "RangeIndex: 10000 entries, 0 to 9999\n",
      "Data columns (total 14 columns):\n",
      " #   Column             Non-Null Count  Dtype  \n",
      "---  ------             --------------  -----  \n",
      " 0   Date               10000 non-null  object \n",
      " 1   User_ID            10000 non-null  int64  \n",
      " 2   Food_Item          10000 non-null  object \n",
      " 3   Category           10000 non-null  object \n",
      " 4   Calories (kcal)    10000 non-null  int64  \n",
      " 5   Protein (g)        10000 non-null  float64\n",
      " 6   Carbohydrates (g)  10000 non-null  float64\n",
      " 7   Fat (g)            10000 non-null  float64\n",
      " 8   Fiber (g)          10000 non-null  float64\n",
      " 9   Sugars (g)         10000 non-null  float64\n",
      " 10  Sodium (mg)        10000 non-null  int64  \n",
      " 11  Cholesterol (mg)   10000 non-null  int64  \n",
      " 12  Meal_Type          10000 non-null  object \n",
      " 13  Water_Intake (ml)  10000 non-null  int64  \n",
      "dtypes: float64(5), int64(5), object(4)\n",
      "memory usage: 1.1+ MB\n"
     ]
    }
   ],
   "source": [
    "data.info()"
   ]
  },
  {
   "cell_type": "code",
   "execution_count": 6,
   "id": "1a2052df",
   "metadata": {
    "execution": {
     "iopub.execute_input": "2025-02-22T20:09:51.533161Z",
     "iopub.status.busy": "2025-02-22T20:09:51.532811Z",
     "iopub.status.idle": "2025-02-22T20:09:51.572582Z",
     "shell.execute_reply": "2025-02-22T20:09:51.571512Z"
    },
    "papermill": {
     "duration": 0.046864,
     "end_time": "2025-02-22T20:09:51.574421",
     "exception": false,
     "start_time": "2025-02-22T20:09:51.527557",
     "status": "completed"
    },
    "tags": []
   },
   "outputs": [
    {
     "data": {
      "text/html": [
       "<div>\n",
       "<style scoped>\n",
       "    .dataframe tbody tr th:only-of-type {\n",
       "        vertical-align: middle;\n",
       "    }\n",
       "\n",
       "    .dataframe tbody tr th {\n",
       "        vertical-align: top;\n",
       "    }\n",
       "\n",
       "    .dataframe thead th {\n",
       "        text-align: right;\n",
       "    }\n",
       "</style>\n",
       "<table border=\"1\" class=\"dataframe\">\n",
       "  <thead>\n",
       "    <tr style=\"text-align: right;\">\n",
       "      <th></th>\n",
       "      <th>User_ID</th>\n",
       "      <th>Calories (kcal)</th>\n",
       "      <th>Protein (g)</th>\n",
       "      <th>Carbohydrates (g)</th>\n",
       "      <th>Fat (g)</th>\n",
       "      <th>Fiber (g)</th>\n",
       "      <th>Sugars (g)</th>\n",
       "      <th>Sodium (mg)</th>\n",
       "      <th>Cholesterol (mg)</th>\n",
       "      <th>Water_Intake (ml)</th>\n",
       "    </tr>\n",
       "  </thead>\n",
       "  <tbody>\n",
       "    <tr>\n",
       "      <th>count</th>\n",
       "      <td>10000.000000</td>\n",
       "      <td>10000.000000</td>\n",
       "      <td>10000.000000</td>\n",
       "      <td>10000.000000</td>\n",
       "      <td>10000.00000</td>\n",
       "      <td>10000.000000</td>\n",
       "      <td>10000.000000</td>\n",
       "      <td>10000.000000</td>\n",
       "      <td>10000.000000</td>\n",
       "      <td>10000.000000</td>\n",
       "    </tr>\n",
       "    <tr>\n",
       "      <th>mean</th>\n",
       "      <td>498.706300</td>\n",
       "      <td>327.693900</td>\n",
       "      <td>25.523050</td>\n",
       "      <td>52.568550</td>\n",
       "      <td>25.43735</td>\n",
       "      <td>4.986940</td>\n",
       "      <td>25.052570</td>\n",
       "      <td>497.969000</td>\n",
       "      <td>151.886600</td>\n",
       "      <td>554.353600</td>\n",
       "    </tr>\n",
       "    <tr>\n",
       "      <th>std</th>\n",
       "      <td>289.123477</td>\n",
       "      <td>158.194716</td>\n",
       "      <td>14.131993</td>\n",
       "      <td>27.387152</td>\n",
       "      <td>14.14532</td>\n",
       "      <td>2.864984</td>\n",
       "      <td>14.480605</td>\n",
       "      <td>287.988001</td>\n",
       "      <td>87.360643</td>\n",
       "      <td>260.977642</td>\n",
       "    </tr>\n",
       "    <tr>\n",
       "      <th>min</th>\n",
       "      <td>1.000000</td>\n",
       "      <td>50.000000</td>\n",
       "      <td>1.000000</td>\n",
       "      <td>5.000000</td>\n",
       "      <td>1.00000</td>\n",
       "      <td>0.000000</td>\n",
       "      <td>0.000000</td>\n",
       "      <td>0.000000</td>\n",
       "      <td>0.000000</td>\n",
       "      <td>100.000000</td>\n",
       "    </tr>\n",
       "    <tr>\n",
       "      <th>25%</th>\n",
       "      <td>245.000000</td>\n",
       "      <td>190.000000</td>\n",
       "      <td>13.200000</td>\n",
       "      <td>28.800000</td>\n",
       "      <td>13.30000</td>\n",
       "      <td>2.500000</td>\n",
       "      <td>12.500000</td>\n",
       "      <td>249.750000</td>\n",
       "      <td>76.000000</td>\n",
       "      <td>327.000000</td>\n",
       "    </tr>\n",
       "    <tr>\n",
       "      <th>50%</th>\n",
       "      <td>492.000000</td>\n",
       "      <td>328.000000</td>\n",
       "      <td>25.500000</td>\n",
       "      <td>52.800000</td>\n",
       "      <td>25.30000</td>\n",
       "      <td>5.000000</td>\n",
       "      <td>25.000000</td>\n",
       "      <td>495.000000</td>\n",
       "      <td>153.000000</td>\n",
       "      <td>555.500000</td>\n",
       "    </tr>\n",
       "    <tr>\n",
       "      <th>75%</th>\n",
       "      <td>748.000000</td>\n",
       "      <td>464.000000</td>\n",
       "      <td>37.700000</td>\n",
       "      <td>76.400000</td>\n",
       "      <td>37.60000</td>\n",
       "      <td>7.500000</td>\n",
       "      <td>37.700000</td>\n",
       "      <td>749.000000</td>\n",
       "      <td>228.000000</td>\n",
       "      <td>783.000000</td>\n",
       "    </tr>\n",
       "    <tr>\n",
       "      <th>max</th>\n",
       "      <td>1000.000000</td>\n",
       "      <td>600.000000</td>\n",
       "      <td>50.000000</td>\n",
       "      <td>100.000000</td>\n",
       "      <td>50.00000</td>\n",
       "      <td>10.000000</td>\n",
       "      <td>50.000000</td>\n",
       "      <td>1000.000000</td>\n",
       "      <td>300.000000</td>\n",
       "      <td>1000.000000</td>\n",
       "    </tr>\n",
       "  </tbody>\n",
       "</table>\n",
       "</div>"
      ],
      "text/plain": [
       "            User_ID  Calories (kcal)   Protein (g)  Carbohydrates (g)  \\\n",
       "count  10000.000000     10000.000000  10000.000000       10000.000000   \n",
       "mean     498.706300       327.693900     25.523050          52.568550   \n",
       "std      289.123477       158.194716     14.131993          27.387152   \n",
       "min        1.000000        50.000000      1.000000           5.000000   \n",
       "25%      245.000000       190.000000     13.200000          28.800000   \n",
       "50%      492.000000       328.000000     25.500000          52.800000   \n",
       "75%      748.000000       464.000000     37.700000          76.400000   \n",
       "max     1000.000000       600.000000     50.000000         100.000000   \n",
       "\n",
       "           Fat (g)     Fiber (g)    Sugars (g)   Sodium (mg)  \\\n",
       "count  10000.00000  10000.000000  10000.000000  10000.000000   \n",
       "mean      25.43735      4.986940     25.052570    497.969000   \n",
       "std       14.14532      2.864984     14.480605    287.988001   \n",
       "min        1.00000      0.000000      0.000000      0.000000   \n",
       "25%       13.30000      2.500000     12.500000    249.750000   \n",
       "50%       25.30000      5.000000     25.000000    495.000000   \n",
       "75%       37.60000      7.500000     37.700000    749.000000   \n",
       "max       50.00000     10.000000     50.000000   1000.000000   \n",
       "\n",
       "       Cholesterol (mg)  Water_Intake (ml)  \n",
       "count      10000.000000       10000.000000  \n",
       "mean         151.886600         554.353600  \n",
       "std           87.360643         260.977642  \n",
       "min            0.000000         100.000000  \n",
       "25%           76.000000         327.000000  \n",
       "50%          153.000000         555.500000  \n",
       "75%          228.000000         783.000000  \n",
       "max          300.000000        1000.000000  "
      ]
     },
     "execution_count": 6,
     "metadata": {},
     "output_type": "execute_result"
    }
   ],
   "source": [
    "data.describe()"
   ]
  },
  {
   "cell_type": "markdown",
   "id": "bf49ac22",
   "metadata": {
    "papermill": {
     "duration": 0.004375,
     "end_time": "2025-02-22T20:09:51.583829",
     "exception": false,
     "start_time": "2025-02-22T20:09:51.579454",
     "status": "completed"
    },
    "tags": []
   },
   "source": [
    "**In the above info, we can see that there are no null values**"
   ]
  },
  {
   "cell_type": "code",
   "execution_count": 7,
   "id": "11c9e0c7",
   "metadata": {
    "execution": {
     "iopub.execute_input": "2025-02-22T20:09:51.594540Z",
     "iopub.status.busy": "2025-02-22T20:09:51.593985Z",
     "iopub.status.idle": "2025-02-22T20:09:52.198142Z",
     "shell.execute_reply": "2025-02-22T20:09:52.197046Z"
    },
    "papermill": {
     "duration": 0.611441,
     "end_time": "2025-02-22T20:09:52.199898",
     "exception": false,
     "start_time": "2025-02-22T20:09:51.588457",
     "status": "completed"
    },
    "tags": []
   },
   "outputs": [
    {
     "data": {
      "text/plain": [
       "<Axes: title={'center': 'Food Items'}, xlabel='Food_Item'>"
      ]
     },
     "execution_count": 7,
     "metadata": {},
     "output_type": "execute_result"
    },
    {
     "data": {
      "image/png": "[encoded data removed]",
      "text/plain": [
       "<Figure size 640x480 with 1 Axes>"
      ]
     },
     "metadata": {},
     "output_type": "display_data"
    }
   ],
   "source": [
    "data['Food_Item'].value_counts().plot(kind='bar', title='Food Items')"
   ]
  },
  {
   "cell_type": "code",
   "execution_count": 8,
   "id": "f55ea774",
   "metadata": {
    "execution": {
     "iopub.execute_input": "2025-02-22T20:09:52.212900Z",
     "iopub.status.busy": "2025-02-22T20:09:52.212559Z",
     "iopub.status.idle": "2025-02-22T20:09:52.452630Z",
     "shell.execute_reply": "2025-02-22T20:09:52.451227Z"
    },
    "papermill": {
     "duration": 0.248804,
     "end_time": "2025-02-22T20:09:52.454563",
     "exception": false,
     "start_time": "2025-02-22T20:09:52.205759",
     "status": "completed"
    },
    "tags": []
   },
   "outputs": [
    {
     "data": {
      "text/plain": [
       "<Axes: title={'center': 'Category'}, xlabel='Category'>"
      ]
     },
     "execution_count": 8,
     "metadata": {},
     "output_type": "execute_result"
    },
    {
     "data": {
      "image/png": "[encoded data removed]",
      "text/plain": [
       "<Figure size 640x480 with 1 Axes>"
      ]
     },
     "metadata": {},
     "output_type": "display_data"
    }
   ],
   "source": [
    "data['Category'].value_counts().plot(kind='bar', title='Category')"
   ]
  },
  {
   "cell_type": "code",
   "execution_count": 9,
   "id": "c691c00c",
   "metadata": {
    "execution": {
     "iopub.execute_input": "2025-02-22T20:09:52.468900Z",
     "iopub.status.busy": "2025-02-22T20:09:52.468552Z",
     "iopub.status.idle": "2025-02-22T20:09:52.678011Z",
     "shell.execute_reply": "2025-02-22T20:09:52.676906Z"
    },
    "papermill": {
     "duration": 0.218958,
     "end_time": "2025-02-22T20:09:52.679867",
     "exception": false,
     "start_time": "2025-02-22T20:09:52.460909",
     "status": "completed"
    },
    "tags": []
   },
   "outputs": [
    {
     "data": {
      "text/plain": [
       "<Axes: title={'center': 'Meal Type'}, xlabel='Meal_Type'>"
      ]
     },
     "execution_count": 9,
     "metadata": {},
     "output_type": "execute_result"
    },
    {
     "data": {
      "image/png": "[encoded data removed]",
      "text/plain": [
       "<Figure size 640x480 with 1 Axes>"
      ]
     },
     "metadata": {},
     "output_type": "display_data"
    }
   ],
   "source": [
    "data['Meal_Type'].value_counts().plot(kind='bar', title='Meal Type')"
   ]
  },
  {
   "cell_type": "code",
   "execution_count": 10,
   "id": "0cfc8341",
   "metadata": {
    "execution": {
     "iopub.execute_input": "2025-02-22T20:09:52.694669Z",
     "iopub.status.busy": "2025-02-22T20:09:52.694320Z",
     "iopub.status.idle": "2025-02-22T20:09:54.604413Z",
     "shell.execute_reply": "2025-02-22T20:09:54.603343Z"
    },
    "papermill": {
     "duration": 1.919639,
     "end_time": "2025-02-22T20:09:54.606355",
     "exception": false,
     "start_time": "2025-02-22T20:09:52.686716",
     "status": "completed"
    },
    "tags": []
   },
   "outputs": [
    {
     "data": {
      "image/png": "[encoded data removed]",
      "text/plain": [
       "<Figure size 800x800 with 1 Axes>"
      ]
     },
     "metadata": {},
     "output_type": "display_data"
    }
   ],
   "source": [
    "import matplotlib.pyplot as plt\n",
    "import seaborn as sns\n",
    "\n",
    "# Create the Pie Chart for Distribution of Food Categories\n",
    "plt.figure(figsize=(8, 8))\n",
    "category_counts = data['Category'].value_counts()\n",
    "plt.pie(category_counts, labels=category_counts.index, autopct='%1.1f%%', \n",
    "        colors=sns.color_palette(\"pastel\"))\n",
    "\n",
    "# Display the Pie Chart\n",
    "plt.title(\"Distribution of Food Categories\")\n",
    "plt.show()"
   ]
  },
  {
   "cell_type": "code",
   "execution_count": 11,
   "id": "ba01d06f",
   "metadata": {
    "execution": {
     "iopub.execute_input": "2025-02-22T20:09:54.625472Z",
     "iopub.status.busy": "2025-02-22T20:09:54.624919Z",
     "iopub.status.idle": "2025-02-22T20:09:54.633141Z",
     "shell.execute_reply": "2025-02-22T20:09:54.631864Z"
    },
    "papermill": {
     "duration": 0.019446,
     "end_time": "2025-02-22T20:09:54.634735",
     "exception": false,
     "start_time": "2025-02-22T20:09:54.615289",
     "status": "completed"
    },
    "tags": []
   },
   "outputs": [
    {
     "name": "stdout",
     "output_type": "stream",
     "text": [
      "High calories in the data: 600\n",
      "\n",
      "Food items associated with high calorie count : \n",
      "573        Popcorn\n",
      "594         Grapes\n",
      "1251        Salmon\n",
      "1324     Green Tea\n",
      "2355       Popcorn\n",
      "3152     Milkshake\n",
      "3810          Rice\n",
      "5121       Cookies\n",
      "5763        Cheese\n",
      "5793        Coffee\n",
      "6437        Butter\n",
      "8170         Chips\n",
      "8332    Strawberry\n",
      "8608         Water\n",
      "Name: Food_Item, dtype: object\n"
     ]
    }
   ],
   "source": [
    "high_calories = data['Calories (kcal)'].max()\n",
    "item_with_high_calories = data.loc[data['Calories (kcal)'] == high_calories, 'Food_Item']\n",
    "print(\"High calories in the data: \" + str(high_calories))\n",
    "print(\"\\nFood items associated with high calorie count : \\n\" + str(item_with_high_calories))"
   ]
  },
  {
   "cell_type": "code",
   "execution_count": 12,
   "id": "3bba7582",
   "metadata": {
    "execution": {
     "iopub.execute_input": "2025-02-22T20:09:54.652458Z",
     "iopub.status.busy": "2025-02-22T20:09:54.652001Z",
     "iopub.status.idle": "2025-02-22T20:09:54.660408Z",
     "shell.execute_reply": "2025-02-22T20:09:54.658996Z"
    },
    "papermill": {
     "duration": 0.019692,
     "end_time": "2025-02-22T20:09:54.662435",
     "exception": false,
     "start_time": "2025-02-22T20:09:54.642743",
     "status": "completed"
    },
    "tags": []
   },
   "outputs": [
    {
     "name": "stdout",
     "output_type": "stream",
     "text": [
      "High fat in the data: 50.0\n",
      "\n",
      "Food items associated with high fat count : \n",
      "735         Eggs\n",
      "2764        Oats\n",
      "7065      Cheese\n",
      "7739      Coffee\n",
      "8289        Rice\n",
      "8868    Broccoli\n",
      "Name: Food_Item, dtype: object\n"
     ]
    }
   ],
   "source": [
    "high_fat = data['Fat (g)'].max()\n",
    "item_with_high_fat = data.loc[data['Fat (g)'] == high_fat, 'Food_Item']\n",
    "print(\"High fat in the data: \" + str(high_fat))\n",
    "print(\"\\nFood items associated with high fat count : \\n\" + str(item_with_high_fat))"
   ]
  },
  {
   "cell_type": "code",
   "execution_count": 13,
   "id": "0a83bd1a",
   "metadata": {
    "execution": {
     "iopub.execute_input": "2025-02-22T20:09:54.681659Z",
     "iopub.status.busy": "2025-02-22T20:09:54.681195Z",
     "iopub.status.idle": "2025-02-22T20:09:54.689833Z",
     "shell.execute_reply": "2025-02-22T20:09:54.688589Z"
    },
    "papermill": {
     "duration": 0.020639,
     "end_time": "2025-02-22T20:09:54.691635",
     "exception": false,
     "start_time": "2025-02-22T20:09:54.670996",
     "status": "completed"
    },
    "tags": []
   },
   "outputs": [
    {
     "name": "stdout",
     "output_type": "stream",
     "text": [
      "High carbs in the data: 50.0\n",
      "\n",
      "Food items associated with high sugars count : \n",
      "1071        Beef Steak\n",
      "3786             Bread\n",
      "3954        Beef Steak\n",
      "4286             Water\n",
      "5668         Pork Chop\n",
      "6040    Chicken Breast\n",
      "6055      Orange Juice\n",
      "8834           Cookies\n",
      "Name: Food_Item, dtype: object\n"
     ]
    }
   ],
   "source": [
    "high_sugars = data['Sugars (g)'].max()\n",
    "item_with_high_sugars = data.loc[data['Sugars (g)'] == high_sugars, 'Food_Item']\n",
    "print(\"High carbs in the data: \" + str(high_sugars))\n",
    "print(\"\\nFood items associated with high sugars count : \\n\" + str(item_with_high_sugars))"
   ]
  }
 ],
 "metadata": {
  "kaggle": {
   "accelerator": "none",
   "dataSources": [
    {
     "datasetId": 6606266,
     "sourceId": 10666963,
     "sourceType": "datasetVersion"
    }
   ],
   "dockerImageVersionId": 30918,
   "isGpuEnabled": false,
   "isInternetEnabled": true,
   "language": "python",
   "sourceType": "notebook"
  },
  "kernelspec": {
   "display_name": "Python 3",
   "language": "python",
   "name": "python3"
  },
  "language_info": {
   "codemirror_mode": {
    "name": "ipython",
    "version": 3
   },
   "file_extension": ".py",
   "mimetype": "text/x-python",
   "name": "python",
   "nbconvert_exporter": "python",
   "pygments_lexer": "ipython3",
   "version": "3.10.12"
  },
  "papermill": {
   "default_parameters": {},
   "duration": 7.875442,
   "end_time": "2025-02-22T20:09:55.421209",
   "environment_variables": {},
   "exception": null,
   "input_path": "__notebook__.ipynb",
   "output_path": "__notebook__.ipynb",
   "parameters": {},
   "start_time": "2025-02-22T20:09:47.545767",
   "version": "2.6.0"
  }
 },
 "nbformat": 4,
 "nbformat_minor": 5
}
