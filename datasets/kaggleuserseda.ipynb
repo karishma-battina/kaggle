{
 "cells": [
  {
   "cell_type": "code",
   "execution_count": 1,
   "id": "faa92e18",
   "metadata": {
    "_cell_guid": "b1076dfc-b9ad-4769-8c92-a6c4dae69d19",
    "_uuid": "8f2839f25d086af736a60e9eeb907d3b93b6e0e5",
    "execution": {
     "iopub.execute_input": "2025-02-25T03:20:07.563322Z",
     "iopub.status.busy": "2025-02-25T03:20:07.562860Z",
     "iopub.status.idle": "2025-02-25T03:20:10.614490Z",
     "shell.execute_reply": "2025-02-25T03:20:10.613301Z"
    },
    "papermill": {
     "duration": 3.058626,
     "end_time": "2025-02-25T03:20:10.616518",
     "exception": false,
     "start_time": "2025-02-25T03:20:07.557892",
     "status": "completed"
    },
    "tags": []
   },
   "outputs": [],
   "source": [
    "#import libraries\n",
    "import numpy as np\n",
    "import pandas as pd\n",
    "import matplotlib.pyplot as plt\n",
    "import seaborn as sns"
   ]
  },
  {
   "cell_type": "code",
   "execution_count": 2,
   "id": "a5ec3733",
   "metadata": {
    "execution": {
     "iopub.execute_input": "2025-02-25T03:20:10.624933Z",
     "iopub.status.busy": "2025-02-25T03:20:10.624348Z",
     "iopub.status.idle": "2025-02-25T03:22:26.650231Z",
     "shell.execute_reply": "2025-02-25T03:22:26.649164Z"
    },
    "papermill": {
     "duration": 136.03205,
     "end_time": "2025-02-25T03:22:26.652309",
     "exception": false,
     "start_time": "2025-02-25T03:20:10.620259",
     "status": "completed"
    },
    "tags": []
   },
   "outputs": [],
   "source": [
    "#load the data\n",
    "data = pd.read_csv(\"/kaggle/input/meta-kaggle-users-stats/MetaKaggleUserStats.csv\")"
   ]
  },
  {
   "cell_type": "code",
   "execution_count": 3,
   "id": "720ecf08",
   "metadata": {
    "execution": {
     "iopub.execute_input": "2025-02-25T03:22:26.660243Z",
     "iopub.status.busy": "2025-02-25T03:22:26.659883Z",
     "iopub.status.idle": "2025-02-25T03:22:26.666447Z",
     "shell.execute_reply": "2025-02-25T03:22:26.665490Z"
    },
    "papermill": {
     "duration": 0.012413,
     "end_time": "2025-02-25T03:22:26.668336",
     "exception": false,
     "start_time": "2025-02-25T03:22:26.655923",
     "status": "completed"
    },
    "tags": []
   },
   "outputs": [
    {
     "data": {
      "text/plain": [
       "(22554982, 38)"
      ]
     },
     "execution_count": 3,
     "metadata": {},
     "output_type": "execute_result"
    }
   ],
   "source": [
    "#check number of rows and columns\n",
    "data.shape"
   ]
  },
  {
   "cell_type": "code",
   "execution_count": 4,
   "id": "834040d2",
   "metadata": {
    "execution": {
     "iopub.execute_input": "2025-02-25T03:22:26.676164Z",
     "iopub.status.busy": "2025-02-25T03:22:26.675823Z",
     "iopub.status.idle": "2025-02-25T03:22:26.722978Z",
     "shell.execute_reply": "2025-02-25T03:22:26.721854Z"
    },
    "papermill": {
     "duration": 0.053248,
     "end_time": "2025-02-25T03:22:26.725005",
     "exception": false,
     "start_time": "2025-02-25T03:22:26.671757",
     "status": "completed"
    },
    "tags": []
   },
   "outputs": [
    {
     "data": {
      "text/html": [
       "<div>\n",
       "<style scoped>\n",
       "    .dataframe tbody tr th:only-of-type {\n",
       "        vertical-align: middle;\n",
       "    }\n",
       "\n",
       "    .dataframe tbody tr th {\n",
       "        vertical-align: top;\n",
       "    }\n",
       "\n",
       "    .dataframe thead th {\n",
       "        text-align: right;\n",
       "    }\n",
       "</style>\n",
       "<table border=\"1\" class=\"dataframe\">\n",
       "  <thead>\n",
       "    <tr style=\"text-align: right;\">\n",
       "      <th></th>\n",
       "      <th>UserId</th>\n",
       "      <th>UserName</th>\n",
       "      <th>RegisterDate</th>\n",
       "      <th>ElapsedDaysSinceRegistration</th>\n",
       "      <th>Country</th>\n",
       "      <th>PerformanceTier</th>\n",
       "      <th>CompetitionsPerformanceTier</th>\n",
       "      <th>DatasetsPerformanceTier</th>\n",
       "      <th>DiscussionsPerformanceTier</th>\n",
       "      <th>NotebooksPerformanceTier</th>\n",
       "      <th>...</th>\n",
       "      <th>RepliesCreated</th>\n",
       "      <th>CompetitionTeamCount</th>\n",
       "      <th>CompetitionCount</th>\n",
       "      <th>CompetitionSubmissionCount</th>\n",
       "      <th>BronzeCompetitionMedals</th>\n",
       "      <th>SilverCompetitionMedals</th>\n",
       "      <th>GoldCompetitionMedals</th>\n",
       "      <th>LastContentShared</th>\n",
       "      <th>LastContentDate</th>\n",
       "      <th>LastContentDaysElapsed</th>\n",
       "    </tr>\n",
       "  </thead>\n",
       "  <tbody>\n",
       "    <tr>\n",
       "      <th>0</th>\n",
       "      <td>1</td>\n",
       "      <td>kaggleteam</td>\n",
       "      <td>2011-03-24</td>\n",
       "      <td>5086</td>\n",
       "      <td>&lt;Unknown&gt;</td>\n",
       "      <td>Kaggle Staff</td>\n",
       "      <td>Contributor</td>\n",
       "      <td>Grand Master</td>\n",
       "      <td>Contributor</td>\n",
       "      <td>Contributor</td>\n",
       "      <td>...</td>\n",
       "      <td>0</td>\n",
       "      <td>0</td>\n",
       "      <td>0</td>\n",
       "      <td>0</td>\n",
       "      <td>0</td>\n",
       "      <td>0</td>\n",
       "      <td>0</td>\n",
       "      <td>Dataset</td>\n",
       "      <td>2019-08-21 23:54:39</td>\n",
       "      <td>2013</td>\n",
       "    </tr>\n",
       "    <tr>\n",
       "      <th>1</th>\n",
       "      <td>368</td>\n",
       "      <td>antgoldbloom</td>\n",
       "      <td>2010-01-20</td>\n",
       "      <td>5514</td>\n",
       "      <td>United States</td>\n",
       "      <td>Expert</td>\n",
       "      <td>Contributor</td>\n",
       "      <td>Expert</td>\n",
       "      <td>Expert</td>\n",
       "      <td>Expert</td>\n",
       "      <td>...</td>\n",
       "      <td>499</td>\n",
       "      <td>21</td>\n",
       "      <td>21</td>\n",
       "      <td>59</td>\n",
       "      <td>0</td>\n",
       "      <td>0</td>\n",
       "      <td>0</td>\n",
       "      <td>Dataset</td>\n",
       "      <td>2024-11-01 13:35:36</td>\n",
       "      <td>115</td>\n",
       "    </tr>\n",
       "    <tr>\n",
       "      <th>2</th>\n",
       "      <td>381</td>\n",
       "      <td>iguyon</td>\n",
       "      <td>2010-01-29</td>\n",
       "      <td>5505</td>\n",
       "      <td>United States</td>\n",
       "      <td>Expert</td>\n",
       "      <td>Contributor</td>\n",
       "      <td>Contributor</td>\n",
       "      <td>Expert</td>\n",
       "      <td>Contributor</td>\n",
       "      <td>...</td>\n",
       "      <td>205</td>\n",
       "      <td>16</td>\n",
       "      <td>5</td>\n",
       "      <td>16</td>\n",
       "      <td>0</td>\n",
       "      <td>0</td>\n",
       "      <td>0</td>\n",
       "      <td>Topic</td>\n",
       "      <td>2014-09-28 07:19:59</td>\n",
       "      <td>3802</td>\n",
       "    </tr>\n",
       "    <tr>\n",
       "      <th>3</th>\n",
       "      <td>383</td>\n",
       "      <td>davidstephan</td>\n",
       "      <td>2010-02-01</td>\n",
       "      <td>5502</td>\n",
       "      <td>Australia</td>\n",
       "      <td>Novice</td>\n",
       "      <td>Novice</td>\n",
       "      <td>Novice</td>\n",
       "      <td>Novice</td>\n",
       "      <td>Novice</td>\n",
       "      <td>...</td>\n",
       "      <td>0</td>\n",
       "      <td>0</td>\n",
       "      <td>0</td>\n",
       "      <td>0</td>\n",
       "      <td>0</td>\n",
       "      <td>0</td>\n",
       "      <td>0</td>\n",
       "      <td>&lt;None&gt;</td>\n",
       "      <td>1970-01-01 00:00:00</td>\n",
       "      <td>-1</td>\n",
       "    </tr>\n",
       "    <tr>\n",
       "      <th>4</th>\n",
       "      <td>384</td>\n",
       "      <td>gabewarren</td>\n",
       "      <td>2010-02-02</td>\n",
       "      <td>5501</td>\n",
       "      <td>Australia</td>\n",
       "      <td>Novice</td>\n",
       "      <td>Novice</td>\n",
       "      <td>Novice</td>\n",
       "      <td>Novice</td>\n",
       "      <td>Novice</td>\n",
       "      <td>...</td>\n",
       "      <td>0</td>\n",
       "      <td>0</td>\n",
       "      <td>0</td>\n",
       "      <td>0</td>\n",
       "      <td>0</td>\n",
       "      <td>0</td>\n",
       "      <td>0</td>\n",
       "      <td>&lt;None&gt;</td>\n",
       "      <td>1970-01-01 00:00:00</td>\n",
       "      <td>-1</td>\n",
       "    </tr>\n",
       "  </tbody>\n",
       "</table>\n",
       "<p>5 rows × 38 columns</p>\n",
       "</div>"
      ],
      "text/plain": [
       "   UserId      UserName RegisterDate  ElapsedDaysSinceRegistration  \\\n",
       "0       1    kaggleteam   2011-03-24                          5086   \n",
       "1     368  antgoldbloom   2010-01-20                          5514   \n",
       "2     381        iguyon   2010-01-29                          5505   \n",
       "3     383  davidstephan   2010-02-01                          5502   \n",
       "4     384    gabewarren   2010-02-02                          5501   \n",
       "\n",
       "         Country PerformanceTier CompetitionsPerformanceTier  \\\n",
       "0      <Unknown>    Kaggle Staff                 Contributor   \n",
       "1  United States          Expert                 Contributor   \n",
       "2  United States          Expert                 Contributor   \n",
       "3      Australia          Novice                      Novice   \n",
       "4      Australia          Novice                      Novice   \n",
       "\n",
       "  DatasetsPerformanceTier DiscussionsPerformanceTier NotebooksPerformanceTier  \\\n",
       "0            Grand Master                Contributor              Contributor   \n",
       "1                  Expert                     Expert                   Expert   \n",
       "2             Contributor                     Expert              Contributor   \n",
       "3                  Novice                     Novice                   Novice   \n",
       "4                  Novice                     Novice                   Novice   \n",
       "\n",
       "   ...  RepliesCreated  CompetitionTeamCount  CompetitionCount  \\\n",
       "0  ...               0                     0                 0   \n",
       "1  ...             499                    21                21   \n",
       "2  ...             205                    16                 5   \n",
       "3  ...               0                     0                 0   \n",
       "4  ...               0                     0                 0   \n",
       "\n",
       "   CompetitionSubmissionCount  BronzeCompetitionMedals  \\\n",
       "0                           0                        0   \n",
       "1                          59                        0   \n",
       "2                          16                        0   \n",
       "3                           0                        0   \n",
       "4                           0                        0   \n",
       "\n",
       "   SilverCompetitionMedals  GoldCompetitionMedals  LastContentShared  \\\n",
       "0                        0                      0            Dataset   \n",
       "1                        0                      0            Dataset   \n",
       "2                        0                      0              Topic   \n",
       "3                        0                      0             <None>   \n",
       "4                        0                      0             <None>   \n",
       "\n",
       "       LastContentDate  LastContentDaysElapsed  \n",
       "0  2019-08-21 23:54:39                    2013  \n",
       "1  2024-11-01 13:35:36                     115  \n",
       "2  2014-09-28 07:19:59                    3802  \n",
       "3  1970-01-01 00:00:00                      -1  \n",
       "4  1970-01-01 00:00:00                      -1  \n",
       "\n",
       "[5 rows x 38 columns]"
      ]
     },
     "execution_count": 4,
     "metadata": {},
     "output_type": "execute_result"
    }
   ],
   "source": [
    "#print the data\n",
    "data.head()"
   ]
  },
  {
   "cell_type": "code",
   "execution_count": 5,
   "id": "0366280e",
   "metadata": {
    "execution": {
     "iopub.execute_input": "2025-02-25T03:22:26.733606Z",
     "iopub.status.busy": "2025-02-25T03:22:26.733239Z",
     "iopub.status.idle": "2025-02-25T03:22:38.059081Z",
     "shell.execute_reply": "2025-02-25T03:22:38.057709Z"
    },
    "papermill": {
     "duration": 11.332247,
     "end_time": "2025-02-25T03:22:38.060997",
     "exception": false,
     "start_time": "2025-02-25T03:22:26.728750",
     "status": "completed"
    },
    "tags": []
   },
   "outputs": [
    {
     "data": {
      "text/plain": [
       "UserId                          0\n",
       "UserName                        1\n",
       "RegisterDate                    0\n",
       "ElapsedDaysSinceRegistration    0\n",
       "Country                         0\n",
       "PerformanceTier                 0\n",
       "CompetitionsPerformanceTier     0\n",
       "DatasetsPerformanceTier         0\n",
       "DiscussionsPerformanceTier      0\n",
       "NotebooksPerformanceTier        0\n",
       "Following                       0\n",
       "Followers                       0\n",
       "DatasetUpvotesGiven             0\n",
       "DatasetUpvotesReceived          0\n",
       "NotebookUpvotesGiven            0\n",
       "NotebookUpvotesReceived         0\n",
       "ReplyUpvotesGiven               0\n",
       "ReplyUpvotesReceived            0\n",
       "TopicUpvotesGiven               0\n",
       "TopicUpvotesReceived            0\n",
       "TopicDownvotesReceived          0\n",
       "ReplyDownvotesReceived          0\n",
       "ModelUpvotesGiven               0\n",
       "ModelUpvotesReceived            0\n",
       "NotebooksCreated                0\n",
       "DatasetsCreated                 0\n",
       "ModelsCreated                   0\n",
       "TopicsCreated                   0\n",
       "RepliesCreated                  0\n",
       "CompetitionTeamCount            0\n",
       "CompetitionCount                0\n",
       "CompetitionSubmissionCount      0\n",
       "BronzeCompetitionMedals         0\n",
       "SilverCompetitionMedals         0\n",
       "GoldCompetitionMedals           0\n",
       "LastContentShared               0\n",
       "LastContentDate                 0\n",
       "LastContentDaysElapsed          0\n",
       "dtype: int64"
      ]
     },
     "execution_count": 5,
     "metadata": {},
     "output_type": "execute_result"
    }
   ],
   "source": [
    "#check for any null values\n",
    "data.isnull().sum()"
   ]
  },
  {
   "cell_type": "code",
   "execution_count": 6,
   "id": "304a0688",
   "metadata": {
    "execution": {
     "iopub.execute_input": "2025-02-25T03:22:38.069858Z",
     "iopub.status.busy": "2025-02-25T03:22:38.069449Z",
     "iopub.status.idle": "2025-02-25T03:22:41.840553Z",
     "shell.execute_reply": "2025-02-25T03:22:41.839374Z"
    },
    "papermill": {
     "duration": 3.777675,
     "end_time": "2025-02-25T03:22:41.842457",
     "exception": false,
     "start_time": "2025-02-25T03:22:38.064782",
     "status": "completed"
    },
    "tags": []
   },
   "outputs": [],
   "source": [
    "#in the data, userId, userName columns are unnecessary. Removing them\n",
    "data = data.drop(columns=['UserId', 'UserName'])"
   ]
  },
  {
   "cell_type": "code",
   "execution_count": 7,
   "id": "61a0f33b",
   "metadata": {
    "execution": {
     "iopub.execute_input": "2025-02-25T03:22:41.851195Z",
     "iopub.status.busy": "2025-02-25T03:22:41.850795Z",
     "iopub.status.idle": "2025-02-25T03:22:41.878116Z",
     "shell.execute_reply": "2025-02-25T03:22:41.876596Z"
    },
    "papermill": {
     "duration": 0.033831,
     "end_time": "2025-02-25T03:22:41.880075",
     "exception": false,
     "start_time": "2025-02-25T03:22:41.846244",
     "status": "completed"
    },
    "tags": []
   },
   "outputs": [
    {
     "name": "stdout",
     "output_type": "stream",
     "text": [
      "<class 'pandas.core.frame.DataFrame'>\n",
      "RangeIndex: 22554982 entries, 0 to 22554981\n",
      "Data columns (total 36 columns):\n",
      " #   Column                        Dtype \n",
      "---  ------                        ----- \n",
      " 0   RegisterDate                  object\n",
      " 1   ElapsedDaysSinceRegistration  int64 \n",
      " 2   Country                       object\n",
      " 3   PerformanceTier               object\n",
      " 4   CompetitionsPerformanceTier   object\n",
      " 5   DatasetsPerformanceTier       object\n",
      " 6   DiscussionsPerformanceTier    object\n",
      " 7   NotebooksPerformanceTier      object\n",
      " 8   Following                     int64 \n",
      " 9   Followers                     int64 \n",
      " 10  DatasetUpvotesGiven           int64 \n",
      " 11  DatasetUpvotesReceived        int64 \n",
      " 12  NotebookUpvotesGiven          int64 \n",
      " 13  NotebookUpvotesReceived       int64 \n",
      " 14  ReplyUpvotesGiven             int64 \n",
      " 15  ReplyUpvotesReceived          int64 \n",
      " 16  TopicUpvotesGiven             int64 \n",
      " 17  TopicUpvotesReceived          int64 \n",
      " 18  TopicDownvotesReceived        int64 \n",
      " 19  ReplyDownvotesReceived        int64 \n",
      " 20  ModelUpvotesGiven             int64 \n",
      " 21  ModelUpvotesReceived          int64 \n",
      " 22  NotebooksCreated              int64 \n",
      " 23  DatasetsCreated               int64 \n",
      " 24  ModelsCreated                 int64 \n",
      " 25  TopicsCreated                 int64 \n",
      " 26  RepliesCreated                int64 \n",
      " 27  CompetitionTeamCount          int64 \n",
      " 28  CompetitionCount              int64 \n",
      " 29  CompetitionSubmissionCount    int64 \n",
      " 30  BronzeCompetitionMedals       int64 \n",
      " 31  SilverCompetitionMedals       int64 \n",
      " 32  GoldCompetitionMedals         int64 \n",
      " 33  LastContentShared             object\n",
      " 34  LastContentDate               object\n",
      " 35  LastContentDaysElapsed        int64 \n",
      "dtypes: int64(27), object(9)\n",
      "memory usage: 6.0+ GB\n"
     ]
    }
   ],
   "source": [
    "#print data information\n",
    "data.info()"
   ]
  },
  {
   "cell_type": "code",
   "execution_count": 8,
   "id": "d95787e1",
   "metadata": {
    "execution": {
     "iopub.execute_input": "2025-02-25T03:22:41.889243Z",
     "iopub.status.busy": "2025-02-25T03:22:41.888905Z",
     "iopub.status.idle": "2025-02-25T03:22:43.549063Z",
     "shell.execute_reply": "2025-02-25T03:22:43.548095Z"
    },
    "papermill": {
     "duration": 1.666751,
     "end_time": "2025-02-25T03:22:43.550856",
     "exception": false,
     "start_time": "2025-02-25T03:22:41.884105",
     "status": "completed"
    },
    "tags": []
   },
   "outputs": [
    {
     "data": {
      "text/plain": [
       "Country\n",
       "<Unknown>         21237528\n",
       "United States       388437\n",
       "India               259197\n",
       "China                50498\n",
       "United Kingdom       39161\n",
       "Brazil               34397\n",
       "Canada               33357\n",
       "Russia               31651\n",
       "Japan                24879\n",
       "Germany              24740\n",
       "Name: count, dtype: int64"
      ]
     },
     "execution_count": 8,
     "metadata": {},
     "output_type": "execute_result"
    }
   ],
   "source": [
    "#top countries with high users\n",
    "country_counts = data['Country'].value_counts()\n",
    "top_countries = country_counts.head(10)\n",
    "top_countries"
   ]
  },
  {
   "cell_type": "code",
   "execution_count": 9,
   "id": "5d03f6be",
   "metadata": {
    "execution": {
     "iopub.execute_input": "2025-02-25T03:22:43.560309Z",
     "iopub.status.busy": "2025-02-25T03:22:43.559937Z",
     "iopub.status.idle": "2025-02-25T03:22:46.477683Z",
     "shell.execute_reply": "2025-02-25T03:22:46.476581Z"
    },
    "papermill": {
     "duration": 2.924665,
     "end_time": "2025-02-25T03:22:46.479812",
     "exception": false,
     "start_time": "2025-02-25T03:22:43.555147",
     "status": "completed"
    },
    "tags": []
   },
   "outputs": [],
   "source": [
    "#we use many rows have \"Unknown\" value for country. Removing this value\n",
    "data = data[data['Country'] != '<Unknown>']"
   ]
  },
  {
   "cell_type": "code",
   "execution_count": 10,
   "id": "cf995578",
   "metadata": {
    "execution": {
     "iopub.execute_input": "2025-02-25T03:22:46.489057Z",
     "iopub.status.busy": "2025-02-25T03:22:46.488654Z",
     "iopub.status.idle": "2025-02-25T03:22:46.594941Z",
     "shell.execute_reply": "2025-02-25T03:22:46.593829Z"
    },
    "papermill": {
     "duration": 0.112882,
     "end_time": "2025-02-25T03:22:46.596836",
     "exception": false,
     "start_time": "2025-02-25T03:22:46.483954",
     "status": "completed"
    },
    "tags": []
   },
   "outputs": [
    {
     "data": {
      "text/plain": [
       "Country\n",
       "United States     388437\n",
       "India             259197\n",
       "China              50498\n",
       "United Kingdom     39161\n",
       "Brazil             34397\n",
       "Canada             33357\n",
       "Russia             31651\n",
       "Japan              24879\n",
       "Germany            24740\n",
       "France             23501\n",
       "Name: count, dtype: int64"
      ]
     },
     "execution_count": 10,
     "metadata": {},
     "output_type": "execute_result"
    }
   ],
   "source": [
    "#top countries with high users\n",
    "country_counts = data['Country'].value_counts()\n",
    "top_countries = country_counts.head(10)\n",
    "top_countries"
   ]
  },
  {
   "cell_type": "code",
   "execution_count": 11,
   "id": "b575a79f",
   "metadata": {
    "execution": {
     "iopub.execute_input": "2025-02-25T03:22:46.606447Z",
     "iopub.status.busy": "2025-02-25T03:22:46.606091Z",
     "iopub.status.idle": "2025-02-25T03:22:47.210220Z",
     "shell.execute_reply": "2025-02-25T03:22:47.209082Z"
    },
    "papermill": {
     "duration": 0.611082,
     "end_time": "2025-02-25T03:22:47.212122",
     "exception": false,
     "start_time": "2025-02-25T03:22:46.601040",
     "status": "completed"
    },
    "tags": []
   },
   "outputs": [
    {
     "name": "stdout",
     "output_type": "stream",
     "text": [
      "PerformanceTier\n",
      "Novice          1142914\n",
      "Contributor      156798\n",
      "Expert            14639\n",
      "Master             2507\n",
      "Grand Master        544\n",
      "Kaggle Staff         52\n",
      "Name: count, dtype: int64\n"
     ]
    },
    {
     "data": {
      "text/plain": [
       "<Axes: title={'center': 'Tiers'}, xlabel='PerformanceTier'>"
      ]
     },
     "execution_count": 11,
     "metadata": {},
     "output_type": "execute_result"
    },
    {
     "data": {
      "image/png": "[encoded data removed]",
      "text/plain": [
       "<Figure size 640x480 with 1 Axes>"
      ]
     },
     "metadata": {},
     "output_type": "display_data"
    }
   ],
   "source": [
    "#user count based on performance tiers\n",
    "tier_counts = data['PerformanceTier'].value_counts()\n",
    "print(tier_counts)\n",
    "data['PerformanceTier'].value_counts().plot(kind='bar', title='Tiers')"
   ]
  }
 ],
 "metadata": {
  "kaggle": {
   "accelerator": "none",
   "dataSources": [
    {
     "datasetId": 6557016,
     "sourceId": 10844873,
     "sourceType": "datasetVersion"
    }
   ],
   "dockerImageVersionId": 30918,
   "isGpuEnabled": false,
   "isInternetEnabled": true,
   "language": "python",
   "sourceType": "notebook"
  },
  "kernelspec": {
   "display_name": "Python 3",
   "language": "python",
   "name": "python3"
  },
  "language_info": {
   "codemirror_mode": {
    "name": "ipython",
    "version": 3
   },
   "file_extension": ".py",
   "mimetype": "text/x-python",
   "name": "python",
   "nbconvert_exporter": "python",
   "pygments_lexer": "ipython3",
   "version": "3.10.12"
  },
  "papermill": {
   "default_parameters": {},
   "duration": 166.778008,
   "end_time": "2025-02-25T03:22:51.192619",
   "environment_variables": {},
   "exception": null,
   "input_path": "__notebook__.ipynb",
   "output_path": "__notebook__.ipynb",
   "parameters": {},
   "start_time": "2025-02-25T03:20:04.414611",
   "version": "2.6.0"
  }
 },
 "nbformat": 4,
 "nbformat_minor": 5
}
