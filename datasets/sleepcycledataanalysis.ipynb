{
 "cells": [
  {
   "cell_type": "code",
   "execution_count": 1,
   "id": "7bf90e1a",
   "metadata": {
    "_cell_guid": "b1076dfc-b9ad-4769-8c92-a6c4dae69d19",
    "_uuid": "8f2839f25d086af736a60e9eeb907d3b93b6e0e5",
    "execution": {
     "iopub.execute_input": "2025-02-20T02:34:23.437346Z",
     "iopub.status.busy": "2025-02-20T02:34:23.436892Z",
     "iopub.status.idle": "2025-02-20T02:34:25.961425Z",
     "shell.execute_reply": "2025-02-20T02:34:25.960547Z"
    },
    "papermill": {
     "duration": 2.532674,
     "end_time": "2025-02-20T02:34:25.963378",
     "exception": false,
     "start_time": "2025-02-20T02:34:23.430704",
     "status": "completed"
    },
    "tags": []
   },
   "outputs": [],
   "source": [
    "import pandas as pd \n",
    "import numpy as np\n",
    "import matplotlib.pyplot as plt\n",
    "import seaborn as sns"
   ]
  },
  {
   "cell_type": "code",
   "execution_count": 2,
   "id": "31efbbd9",
   "metadata": {
    "execution": {
     "iopub.execute_input": "2025-02-20T02:34:25.973068Z",
     "iopub.status.busy": "2025-02-20T02:34:25.972499Z",
     "iopub.status.idle": "2025-02-20T02:34:26.005103Z",
     "shell.execute_reply": "2025-02-20T02:34:26.004109Z"
    },
    "papermill": {
     "duration": 0.039406,
     "end_time": "2025-02-20T02:34:26.006981",
     "exception": false,
     "start_time": "2025-02-20T02:34:25.967575",
     "status": "completed"
    },
    "tags": []
   },
   "outputs": [],
   "source": [
    "data = pd.read_csv('/kaggle/input/sleep-cycle-and-productivity/sleep_cycle_productivity.csv')"
   ]
  },
  {
   "cell_type": "code",
   "execution_count": 3,
   "id": "0c70be9f",
   "metadata": {
    "execution": {
     "iopub.execute_input": "2025-02-20T02:34:26.016534Z",
     "iopub.status.busy": "2025-02-20T02:34:26.016103Z",
     "iopub.status.idle": "2025-02-20T02:34:26.023025Z",
     "shell.execute_reply": "2025-02-20T02:34:26.021958Z"
    },
    "papermill": {
     "duration": 0.013587,
     "end_time": "2025-02-20T02:34:26.024937",
     "exception": false,
     "start_time": "2025-02-20T02:34:26.011350",
     "status": "completed"
    },
    "tags": []
   },
   "outputs": [
    {
     "data": {
      "text/plain": [
       "(5000, 15)"
      ]
     },
     "execution_count": 3,
     "metadata": {},
     "output_type": "execute_result"
    }
   ],
   "source": [
    "data.shape"
   ]
  },
  {
   "cell_type": "code",
   "execution_count": 4,
   "id": "60168f98",
   "metadata": {
    "execution": {
     "iopub.execute_input": "2025-02-20T02:34:26.034442Z",
     "iopub.status.busy": "2025-02-20T02:34:26.034014Z",
     "iopub.status.idle": "2025-02-20T02:34:26.064179Z",
     "shell.execute_reply": "2025-02-20T02:34:26.063011Z"
    },
    "papermill": {
     "duration": 0.036929,
     "end_time": "2025-02-20T02:34:26.065985",
     "exception": false,
     "start_time": "2025-02-20T02:34:26.029056",
     "status": "completed"
    },
    "tags": []
   },
   "outputs": [
    {
     "data": {
      "text/html": [
       "<div>\n",
       "<style scoped>\n",
       "    .dataframe tbody tr th:only-of-type {\n",
       "        vertical-align: middle;\n",
       "    }\n",
       "\n",
       "    .dataframe tbody tr th {\n",
       "        vertical-align: top;\n",
       "    }\n",
       "\n",
       "    .dataframe thead th {\n",
       "        text-align: right;\n",
       "    }\n",
       "</style>\n",
       "<table border=\"1\" class=\"dataframe\">\n",
       "  <thead>\n",
       "    <tr style=\"text-align: right;\">\n",
       "      <th></th>\n",
       "      <th>Date</th>\n",
       "      <th>Person_ID</th>\n",
       "      <th>Age</th>\n",
       "      <th>Gender</th>\n",
       "      <th>Sleep Start Time</th>\n",
       "      <th>Sleep End Time</th>\n",
       "      <th>Total Sleep Hours</th>\n",
       "      <th>Sleep Quality</th>\n",
       "      <th>Exercise (mins/day)</th>\n",
       "      <th>Caffeine Intake (mg)</th>\n",
       "      <th>Screen Time Before Bed (mins)</th>\n",
       "      <th>Work Hours (hrs/day)</th>\n",
       "      <th>Productivity Score</th>\n",
       "      <th>Mood Score</th>\n",
       "      <th>Stress Level</th>\n",
       "    </tr>\n",
       "  </thead>\n",
       "  <tbody>\n",
       "    <tr>\n",
       "      <th>0</th>\n",
       "      <td>2024-04-12</td>\n",
       "      <td>1860</td>\n",
       "      <td>32</td>\n",
       "      <td>Other</td>\n",
       "      <td>23.33</td>\n",
       "      <td>4.61</td>\n",
       "      <td>5.28</td>\n",
       "      <td>3</td>\n",
       "      <td>86</td>\n",
       "      <td>87</td>\n",
       "      <td>116</td>\n",
       "      <td>8.808920</td>\n",
       "      <td>8</td>\n",
       "      <td>3</td>\n",
       "      <td>6</td>\n",
       "    </tr>\n",
       "    <tr>\n",
       "      <th>1</th>\n",
       "      <td>2024-11-04</td>\n",
       "      <td>1769</td>\n",
       "      <td>41</td>\n",
       "      <td>Female</td>\n",
       "      <td>21.02</td>\n",
       "      <td>2.43</td>\n",
       "      <td>5.41</td>\n",
       "      <td>5</td>\n",
       "      <td>32</td>\n",
       "      <td>21</td>\n",
       "      <td>88</td>\n",
       "      <td>6.329833</td>\n",
       "      <td>10</td>\n",
       "      <td>3</td>\n",
       "      <td>7</td>\n",
       "    </tr>\n",
       "    <tr>\n",
       "      <th>2</th>\n",
       "      <td>2024-08-31</td>\n",
       "      <td>2528</td>\n",
       "      <td>20</td>\n",
       "      <td>Male</td>\n",
       "      <td>22.10</td>\n",
       "      <td>3.45</td>\n",
       "      <td>5.35</td>\n",
       "      <td>7</td>\n",
       "      <td>17</td>\n",
       "      <td>88</td>\n",
       "      <td>59</td>\n",
       "      <td>8.506306</td>\n",
       "      <td>10</td>\n",
       "      <td>9</td>\n",
       "      <td>10</td>\n",
       "    </tr>\n",
       "    <tr>\n",
       "      <th>3</th>\n",
       "      <td>2024-02-22</td>\n",
       "      <td>8041</td>\n",
       "      <td>37</td>\n",
       "      <td>Other</td>\n",
       "      <td>23.10</td>\n",
       "      <td>6.65</td>\n",
       "      <td>7.55</td>\n",
       "      <td>8</td>\n",
       "      <td>46</td>\n",
       "      <td>34</td>\n",
       "      <td>80</td>\n",
       "      <td>6.070240</td>\n",
       "      <td>8</td>\n",
       "      <td>4</td>\n",
       "      <td>2</td>\n",
       "    </tr>\n",
       "    <tr>\n",
       "      <th>4</th>\n",
       "      <td>2024-02-23</td>\n",
       "      <td>4843</td>\n",
       "      <td>46</td>\n",
       "      <td>Other</td>\n",
       "      <td>21.42</td>\n",
       "      <td>4.17</td>\n",
       "      <td>6.75</td>\n",
       "      <td>10</td>\n",
       "      <td>61</td>\n",
       "      <td>269</td>\n",
       "      <td>94</td>\n",
       "      <td>11.374994</td>\n",
       "      <td>8</td>\n",
       "      <td>7</td>\n",
       "      <td>9</td>\n",
       "    </tr>\n",
       "  </tbody>\n",
       "</table>\n",
       "</div>"
      ],
      "text/plain": [
       "         Date  Person_ID  Age  Gender  Sleep Start Time  Sleep End Time  \\\n",
       "0  2024-04-12       1860   32   Other             23.33            4.61   \n",
       "1  2024-11-04       1769   41  Female             21.02            2.43   \n",
       "2  2024-08-31       2528   20    Male             22.10            3.45   \n",
       "3  2024-02-22       8041   37   Other             23.10            6.65   \n",
       "4  2024-02-23       4843   46   Other             21.42            4.17   \n",
       "\n",
       "   Total Sleep Hours  Sleep Quality  Exercise (mins/day)  \\\n",
       "0               5.28              3                   86   \n",
       "1               5.41              5                   32   \n",
       "2               5.35              7                   17   \n",
       "3               7.55              8                   46   \n",
       "4               6.75             10                   61   \n",
       "\n",
       "   Caffeine Intake (mg)  Screen Time Before Bed (mins)  Work Hours (hrs/day)  \\\n",
       "0                    87                            116              8.808920   \n",
       "1                    21                             88              6.329833   \n",
       "2                    88                             59              8.506306   \n",
       "3                    34                             80              6.070240   \n",
       "4                   269                             94             11.374994   \n",
       "\n",
       "   Productivity Score  Mood Score  Stress Level  \n",
       "0                   8           3             6  \n",
       "1                  10           3             7  \n",
       "2                  10           9            10  \n",
       "3                   8           4             2  \n",
       "4                   8           7             9  "
      ]
     },
     "execution_count": 4,
     "metadata": {},
     "output_type": "execute_result"
    }
   ],
   "source": [
    "data.head(5)"
   ]
  },
  {
   "cell_type": "code",
   "execution_count": 5,
   "id": "e3bc89d9",
   "metadata": {
    "execution": {
     "iopub.execute_input": "2025-02-20T02:34:26.076349Z",
     "iopub.status.busy": "2025-02-20T02:34:26.075945Z",
     "iopub.status.idle": "2025-02-20T02:34:26.086578Z",
     "shell.execute_reply": "2025-02-20T02:34:26.085420Z"
    },
    "papermill": {
     "duration": 0.017681,
     "end_time": "2025-02-20T02:34:26.088177",
     "exception": false,
     "start_time": "2025-02-20T02:34:26.070496",
     "status": "completed"
    },
    "tags": []
   },
   "outputs": [
    {
     "data": {
      "text/plain": [
       "Date                             0\n",
       "Person_ID                        0\n",
       "Age                              0\n",
       "Gender                           0\n",
       "Sleep Start Time                 0\n",
       "Sleep End Time                   0\n",
       "Total Sleep Hours                0\n",
       "Sleep Quality                    0\n",
       "Exercise (mins/day)              0\n",
       "Caffeine Intake (mg)             0\n",
       "Screen Time Before Bed (mins)    0\n",
       "Work Hours (hrs/day)             0\n",
       "Productivity Score               0\n",
       "Mood Score                       0\n",
       "Stress Level                     0\n",
       "dtype: int64"
      ]
     },
     "execution_count": 5,
     "metadata": {},
     "output_type": "execute_result"
    }
   ],
   "source": [
    "data.isnull().sum()"
   ]
  },
  {
   "cell_type": "code",
   "execution_count": 6,
   "id": "fe691c57",
   "metadata": {
    "execution": {
     "iopub.execute_input": "2025-02-20T02:34:26.098399Z",
     "iopub.status.busy": "2025-02-20T02:34:26.097989Z",
     "iopub.status.idle": "2025-02-20T02:34:26.105216Z",
     "shell.execute_reply": "2025-02-20T02:34:26.104235Z"
    },
    "papermill": {
     "duration": 0.01425,
     "end_time": "2025-02-20T02:34:26.106924",
     "exception": false,
     "start_time": "2025-02-20T02:34:26.092674",
     "status": "completed"
    },
    "tags": []
   },
   "outputs": [
    {
     "data": {
      "text/plain": [
       "Date                              object\n",
       "Person_ID                          int64\n",
       "Age                                int64\n",
       "Gender                            object\n",
       "Sleep Start Time                 float64\n",
       "Sleep End Time                   float64\n",
       "Total Sleep Hours                float64\n",
       "Sleep Quality                      int64\n",
       "Exercise (mins/day)                int64\n",
       "Caffeine Intake (mg)               int64\n",
       "Screen Time Before Bed (mins)      int64\n",
       "Work Hours (hrs/day)             float64\n",
       "Productivity Score                 int64\n",
       "Mood Score                         int64\n",
       "Stress Level                       int64\n",
       "dtype: object"
      ]
     },
     "execution_count": 6,
     "metadata": {},
     "output_type": "execute_result"
    }
   ],
   "source": [
    "data.dtypes"
   ]
  },
  {
   "cell_type": "code",
   "execution_count": 7,
   "id": "d535efd6",
   "metadata": {
    "execution": {
     "iopub.execute_input": "2025-02-20T02:34:26.116957Z",
     "iopub.status.busy": "2025-02-20T02:34:26.116617Z",
     "iopub.status.idle": "2025-02-20T02:34:26.495440Z",
     "shell.execute_reply": "2025-02-20T02:34:26.494339Z"
    },
    "papermill": {
     "duration": 0.385837,
     "end_time": "2025-02-20T02:34:26.497316",
     "exception": false,
     "start_time": "2025-02-20T02:34:26.111479",
     "status": "completed"
    },
    "tags": []
   },
   "outputs": [
    {
     "data": {
      "text/plain": [
       "<Axes: title={'center': 'Productivity Score'}, xlabel='Productivity Score'>"
      ]
     },
     "execution_count": 7,
     "metadata": {},
     "output_type": "execute_result"
    },
    {
     "data": {
      "image/png": "[encoded data removed]",
      "text/plain": [
       "<Figure size 640x480 with 1 Axes>"
      ]
     },
     "metadata": {},
     "output_type": "display_data"
    }
   ],
   "source": [
    "data['Productivity Score'].value_counts().plot(kind='bar', title='Productivity Score')"
   ]
  },
  {
   "cell_type": "code",
   "execution_count": 8,
   "id": "030b7cc7",
   "metadata": {
    "execution": {
     "iopub.execute_input": "2025-02-20T02:34:26.508216Z",
     "iopub.status.busy": "2025-02-20T02:34:26.507844Z",
     "iopub.status.idle": "2025-02-20T02:34:26.733581Z",
     "shell.execute_reply": "2025-02-20T02:34:26.732404Z"
    },
    "papermill": {
     "duration": 0.233008,
     "end_time": "2025-02-20T02:34:26.735232",
     "exception": false,
     "start_time": "2025-02-20T02:34:26.502224",
     "status": "completed"
    },
    "tags": []
   },
   "outputs": [
    {
     "data": {
      "text/plain": [
       "<Axes: title={'center': 'Mood Score'}, xlabel='Mood Score'>"
      ]
     },
     "execution_count": 8,
     "metadata": {},
     "output_type": "execute_result"
    },
    {
     "data": {
      "image/png": "[encoded data removed]",
      "text/plain": [
       "<Figure size 640x480 with 1 Axes>"
      ]
     },
     "metadata": {},
     "output_type": "display_data"
    }
   ],
   "source": [
    "data['Mood Score'].value_counts().plot(kind='bar', title='Mood Score')"
   ]
  },
  {
   "cell_type": "code",
   "execution_count": 9,
   "id": "0a7c79e6",
   "metadata": {
    "execution": {
     "iopub.execute_input": "2025-02-20T02:34:26.747270Z",
     "iopub.status.busy": "2025-02-20T02:34:26.746894Z",
     "iopub.status.idle": "2025-02-20T02:34:28.821691Z",
     "shell.execute_reply": "2025-02-20T02:34:28.820572Z"
    },
    "papermill": {
     "duration": 2.082715,
     "end_time": "2025-02-20T02:34:28.823505",
     "exception": false,
     "start_time": "2025-02-20T02:34:26.740790",
     "status": "completed"
    },
    "tags": []
   },
   "outputs": [
    {
     "name": "stderr",
     "output_type": "stream",
     "text": [
      "/usr/local/lib/python3.10/dist-packages/seaborn/_oldcore.py:1119: FutureWarning: use_inf_as_na option is deprecated and will be removed in a future version. Convert inf values to NaN before operating instead.\n",
      "  with pd.option_context('mode.use_inf_as_na', True):\n",
      "/usr/local/lib/python3.10/dist-packages/seaborn/_oldcore.py:1119: FutureWarning: use_inf_as_na option is deprecated and will be removed in a future version. Convert inf values to NaN before operating instead.\n",
      "  with pd.option_context('mode.use_inf_as_na', True):\n"
     ]
    },
    {
     "data": {
      "text/plain": [
       "<Axes: xlabel='Exercise (mins/day)', ylabel='Stress Level'>"
      ]
     },
     "execution_count": 9,
     "metadata": {},
     "output_type": "execute_result"
    },
    {
     "data": {
      "image/png": "[encoded data removed]",
      "text/plain": [
       "<Figure size 640x480 with 1 Axes>"
      ]
     },
     "metadata": {},
     "output_type": "display_data"
    }
   ],
   "source": [
    "sns.lineplot(data=data, x='Exercise (mins/day)', y='Stress Level')"
   ]
  },
  {
   "cell_type": "code",
   "execution_count": 10,
   "id": "db4486b4",
   "metadata": {
    "execution": {
     "iopub.execute_input": "2025-02-20T02:34:28.839366Z",
     "iopub.status.busy": "2025-02-20T02:34:28.838955Z",
     "iopub.status.idle": "2025-02-20T02:34:28.853898Z",
     "shell.execute_reply": "2025-02-20T02:34:28.852832Z"
    },
    "papermill": {
     "duration": 0.024757,
     "end_time": "2025-02-20T02:34:28.855751",
     "exception": false,
     "start_time": "2025-02-20T02:34:28.830994",
     "status": "completed"
    },
    "tags": []
   },
   "outputs": [],
   "source": [
    "data['Date'] = pd.to_datetime(data['Date'])\n",
    "\n",
    "# Create additional features\n",
    "data['Sleep_Duration'] = data['Sleep End Time'] - data['Sleep Start Time']\n",
    "data['Sleep_Duration'] = data['Sleep_Duration'].apply(lambda x: x + 24 if x < 0 else x)"
   ]
  },
  {
   "cell_type": "code",
   "execution_count": 11,
   "id": "22618b62",
   "metadata": {
    "execution": {
     "iopub.execute_input": "2025-02-20T02:34:28.871392Z",
     "iopub.status.busy": "2025-02-20T02:34:28.870988Z",
     "iopub.status.idle": "2025-02-20T02:34:28.886813Z",
     "shell.execute_reply": "2025-02-20T02:34:28.885778Z"
    },
    "papermill": {
     "duration": 0.025581,
     "end_time": "2025-02-20T02:34:28.888600",
     "exception": false,
     "start_time": "2025-02-20T02:34:28.863019",
     "status": "completed"
    },
    "tags": []
   },
   "outputs": [
    {
     "data": {
      "text/html": [
       "<div>\n",
       "<style scoped>\n",
       "    .dataframe tbody tr th:only-of-type {\n",
       "        vertical-align: middle;\n",
       "    }\n",
       "\n",
       "    .dataframe tbody tr th {\n",
       "        vertical-align: top;\n",
       "    }\n",
       "\n",
       "    .dataframe thead th {\n",
       "        text-align: right;\n",
       "    }\n",
       "</style>\n",
       "<table border=\"1\" class=\"dataframe\">\n",
       "  <thead>\n",
       "    <tr style=\"text-align: right;\">\n",
       "      <th></th>\n",
       "      <th>Date</th>\n",
       "      <th>Person_ID</th>\n",
       "      <th>Age</th>\n",
       "      <th>Gender</th>\n",
       "      <th>Sleep Start Time</th>\n",
       "      <th>Sleep End Time</th>\n",
       "      <th>Total Sleep Hours</th>\n",
       "      <th>Sleep Quality</th>\n",
       "      <th>Exercise (mins/day)</th>\n",
       "      <th>Caffeine Intake (mg)</th>\n",
       "      <th>Screen Time Before Bed (mins)</th>\n",
       "      <th>Work Hours (hrs/day)</th>\n",
       "      <th>Productivity Score</th>\n",
       "      <th>Mood Score</th>\n",
       "      <th>Stress Level</th>\n",
       "      <th>Sleep_Duration</th>\n",
       "    </tr>\n",
       "  </thead>\n",
       "  <tbody>\n",
       "    <tr>\n",
       "      <th>0</th>\n",
       "      <td>2024-04-12</td>\n",
       "      <td>1860</td>\n",
       "      <td>32</td>\n",
       "      <td>Other</td>\n",
       "      <td>23.33</td>\n",
       "      <td>4.61</td>\n",
       "      <td>5.28</td>\n",
       "      <td>3</td>\n",
       "      <td>86</td>\n",
       "      <td>87</td>\n",
       "      <td>116</td>\n",
       "      <td>8.808920</td>\n",
       "      <td>8</td>\n",
       "      <td>3</td>\n",
       "      <td>6</td>\n",
       "      <td>5.28</td>\n",
       "    </tr>\n",
       "    <tr>\n",
       "      <th>1</th>\n",
       "      <td>2024-11-04</td>\n",
       "      <td>1769</td>\n",
       "      <td>41</td>\n",
       "      <td>Female</td>\n",
       "      <td>21.02</td>\n",
       "      <td>2.43</td>\n",
       "      <td>5.41</td>\n",
       "      <td>5</td>\n",
       "      <td>32</td>\n",
       "      <td>21</td>\n",
       "      <td>88</td>\n",
       "      <td>6.329833</td>\n",
       "      <td>10</td>\n",
       "      <td>3</td>\n",
       "      <td>7</td>\n",
       "      <td>5.41</td>\n",
       "    </tr>\n",
       "    <tr>\n",
       "      <th>2</th>\n",
       "      <td>2024-08-31</td>\n",
       "      <td>2528</td>\n",
       "      <td>20</td>\n",
       "      <td>Male</td>\n",
       "      <td>22.10</td>\n",
       "      <td>3.45</td>\n",
       "      <td>5.35</td>\n",
       "      <td>7</td>\n",
       "      <td>17</td>\n",
       "      <td>88</td>\n",
       "      <td>59</td>\n",
       "      <td>8.506306</td>\n",
       "      <td>10</td>\n",
       "      <td>9</td>\n",
       "      <td>10</td>\n",
       "      <td>5.35</td>\n",
       "    </tr>\n",
       "    <tr>\n",
       "      <th>3</th>\n",
       "      <td>2024-02-22</td>\n",
       "      <td>8041</td>\n",
       "      <td>37</td>\n",
       "      <td>Other</td>\n",
       "      <td>23.10</td>\n",
       "      <td>6.65</td>\n",
       "      <td>7.55</td>\n",
       "      <td>8</td>\n",
       "      <td>46</td>\n",
       "      <td>34</td>\n",
       "      <td>80</td>\n",
       "      <td>6.070240</td>\n",
       "      <td>8</td>\n",
       "      <td>4</td>\n",
       "      <td>2</td>\n",
       "      <td>7.55</td>\n",
       "    </tr>\n",
       "    <tr>\n",
       "      <th>4</th>\n",
       "      <td>2024-02-23</td>\n",
       "      <td>4843</td>\n",
       "      <td>46</td>\n",
       "      <td>Other</td>\n",
       "      <td>21.42</td>\n",
       "      <td>4.17</td>\n",
       "      <td>6.75</td>\n",
       "      <td>10</td>\n",
       "      <td>61</td>\n",
       "      <td>269</td>\n",
       "      <td>94</td>\n",
       "      <td>11.374994</td>\n",
       "      <td>8</td>\n",
       "      <td>7</td>\n",
       "      <td>9</td>\n",
       "      <td>6.75</td>\n",
       "    </tr>\n",
       "  </tbody>\n",
       "</table>\n",
       "</div>"
      ],
      "text/plain": [
       "        Date  Person_ID  Age  Gender  Sleep Start Time  Sleep End Time  \\\n",
       "0 2024-04-12       1860   32   Other             23.33            4.61   \n",
       "1 2024-11-04       1769   41  Female             21.02            2.43   \n",
       "2 2024-08-31       2528   20    Male             22.10            3.45   \n",
       "3 2024-02-22       8041   37   Other             23.10            6.65   \n",
       "4 2024-02-23       4843   46   Other             21.42            4.17   \n",
       "\n",
       "   Total Sleep Hours  Sleep Quality  Exercise (mins/day)  \\\n",
       "0               5.28              3                   86   \n",
       "1               5.41              5                   32   \n",
       "2               5.35              7                   17   \n",
       "3               7.55              8                   46   \n",
       "4               6.75             10                   61   \n",
       "\n",
       "   Caffeine Intake (mg)  Screen Time Before Bed (mins)  Work Hours (hrs/day)  \\\n",
       "0                    87                            116              8.808920   \n",
       "1                    21                             88              6.329833   \n",
       "2                    88                             59              8.506306   \n",
       "3                    34                             80              6.070240   \n",
       "4                   269                             94             11.374994   \n",
       "\n",
       "   Productivity Score  Mood Score  Stress Level  Sleep_Duration  \n",
       "0                   8           3             6            5.28  \n",
       "1                  10           3             7            5.41  \n",
       "2                  10           9            10            5.35  \n",
       "3                   8           4             2            7.55  \n",
       "4                   8           7             9            6.75  "
      ]
     },
     "execution_count": 11,
     "metadata": {},
     "output_type": "execute_result"
    }
   ],
   "source": [
    "data.head()"
   ]
  },
  {
   "cell_type": "code",
   "execution_count": 12,
   "id": "5903d8e2",
   "metadata": {
    "execution": {
     "iopub.execute_input": "2025-02-20T02:34:28.904683Z",
     "iopub.status.busy": "2025-02-20T02:34:28.904311Z",
     "iopub.status.idle": "2025-02-20T02:34:28.909749Z",
     "shell.execute_reply": "2025-02-20T02:34:28.908761Z"
    },
    "papermill": {
     "duration": 0.015422,
     "end_time": "2025-02-20T02:34:28.911473",
     "exception": false,
     "start_time": "2025-02-20T02:34:28.896051",
     "status": "completed"
    },
    "tags": []
   },
   "outputs": [],
   "source": [
    "numerical_cols = data.select_dtypes(include=['int64', 'float64']).columns"
   ]
  },
  {
   "cell_type": "code",
   "execution_count": 13,
   "id": "367d2f98",
   "metadata": {
    "execution": {
     "iopub.execute_input": "2025-02-20T02:34:28.927411Z",
     "iopub.status.busy": "2025-02-20T02:34:28.927016Z",
     "iopub.status.idle": "2025-02-20T02:34:28.933160Z",
     "shell.execute_reply": "2025-02-20T02:34:28.932216Z"
    },
    "papermill": {
     "duration": 0.016133,
     "end_time": "2025-02-20T02:34:28.934840",
     "exception": false,
     "start_time": "2025-02-20T02:34:28.918707",
     "status": "completed"
    },
    "tags": []
   },
   "outputs": [],
   "source": [
    "features = ['Total Sleep Hours', 'Sleep Quality', 'Exercise (mins/day)', \n",
    "           'Caffeine Intake (mg)', 'Screen Time Before Bed (mins)', \n",
    "           'Work Hours (hrs/day)', 'Stress Level']\n",
    "\n",
    "target = 'Productivity Score'\n",
    "\n",
    "# Prepare X and y\n",
    "X = data[features]\n",
    "y = data[target]"
   ]
  },
  {
   "cell_type": "code",
   "execution_count": 14,
   "id": "e16d1dea",
   "metadata": {
    "execution": {
     "iopub.execute_input": "2025-02-20T02:34:28.951193Z",
     "iopub.status.busy": "2025-02-20T02:34:28.950795Z",
     "iopub.status.idle": "2025-02-20T02:34:29.514175Z",
     "shell.execute_reply": "2025-02-20T02:34:29.513049Z"
    },
    "papermill": {
     "duration": 0.573643,
     "end_time": "2025-02-20T02:34:29.516134",
     "exception": false,
     "start_time": "2025-02-20T02:34:28.942491",
     "status": "completed"
    },
    "tags": []
   },
   "outputs": [],
   "source": [
    "from sklearn.model_selection import train_test_split\n",
    "from sklearn.preprocessing import StandardScaler, MinMaxScaler, OneHotEncoder\n",
    "from sklearn.impute import SimpleImputer\n",
    "\n",
    "#scaler = StandardScaler()\n",
    "#data[numerical_columns] = scaler.fit_transform(data[numerical_columns])"
   ]
  },
  {
   "cell_type": "code",
   "execution_count": 15,
   "id": "44018bc5",
   "metadata": {
    "execution": {
     "iopub.execute_input": "2025-02-20T02:34:29.532234Z",
     "iopub.status.busy": "2025-02-20T02:34:29.531848Z",
     "iopub.status.idle": "2025-02-20T02:34:29.553886Z",
     "shell.execute_reply": "2025-02-20T02:34:29.552744Z"
    },
    "papermill": {
     "duration": 0.031918,
     "end_time": "2025-02-20T02:34:29.555652",
     "exception": false,
     "start_time": "2025-02-20T02:34:29.523734",
     "status": "completed"
    },
    "tags": []
   },
   "outputs": [
    {
     "name": "stdout",
     "output_type": "stream",
     "text": [
      "Training set shape: (4000, 7)\n",
      "Testing set shape: (1000, 7)\n"
     ]
    }
   ],
   "source": [
    "# Split the data\n",
    "X_train, X_test, y_train, y_test = train_test_split(X, y, test_size=0.2, random_state=42)\n",
    "\n",
    "# Scale the features\n",
    "scaler = StandardScaler()\n",
    "X_train_scaled = scaler.fit_transform(X_train)\n",
    "X_test_scaled = scaler.transform(X_test)\n",
    "\n",
    "print(\"Training set shape:\", X_train.shape)\n",
    "print(\"Testing set shape:\", X_test.shape)"
   ]
  },
  {
   "cell_type": "code",
   "execution_count": 16,
   "id": "c8eac405",
   "metadata": {
    "execution": {
     "iopub.execute_input": "2025-02-20T02:34:29.571542Z",
     "iopub.status.busy": "2025-02-20T02:34:29.571129Z",
     "iopub.status.idle": "2025-02-20T02:34:29.575200Z",
     "shell.execute_reply": "2025-02-20T02:34:29.574209Z"
    },
    "papermill": {
     "duration": 0.013882,
     "end_time": "2025-02-20T02:34:29.576779",
     "exception": false,
     "start_time": "2025-02-20T02:34:29.562897",
     "status": "completed"
    },
    "tags": []
   },
   "outputs": [],
   "source": [
    "#models = LinearRegression()"
   ]
  }
 ],
 "metadata": {
  "kaggle": {
   "accelerator": "none",
   "dataSources": [
    {
     "datasetId": 6619448,
     "sourceId": 10684549,
     "sourceType": "datasetVersion"
    }
   ],
   "dockerImageVersionId": 30886,
   "isGpuEnabled": false,
   "isInternetEnabled": true,
   "language": "python",
   "sourceType": "notebook"
  },
  "kernelspec": {
   "display_name": "Python 3",
   "language": "python",
   "name": "python3"
  },
  "language_info": {
   "codemirror_mode": {
    "name": "ipython",
    "version": 3
   },
   "file_extension": ".py",
   "mimetype": "text/x-python",
   "name": "python",
   "nbconvert_exporter": "python",
   "pygments_lexer": "ipython3",
   "version": "3.10.12"
  },
  "papermill": {
   "default_parameters": {},
   "duration": 10.199507,
   "end_time": "2025-02-20T02:34:30.303971",
   "environment_variables": {},
   "exception": null,
   "input_path": "__notebook__.ipynb",
   "output_path": "__notebook__.ipynb",
   "parameters": {},
   "start_time": "2025-02-20T02:34:20.104464",
   "version": "2.6.0"
  }
 },
 "nbformat": 4,
 "nbformat_minor": 5
}
