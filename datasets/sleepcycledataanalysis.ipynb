{
 "cells": [
  {
   "cell_type": "code",
   "execution_count": 1,
   "id": "5a1cb888",
   "metadata": {
    "_cell_guid": "b1076dfc-b9ad-4769-8c92-a6c4dae69d19",
    "_uuid": "8f2839f25d086af736a60e9eeb907d3b93b6e0e5",
    "execution": {
     "iopub.execute_input": "2025-02-19T02:04:23.330979Z",
     "iopub.status.busy": "2025-02-19T02:04:23.330483Z",
     "iopub.status.idle": "2025-02-19T02:04:26.277483Z",
     "shell.execute_reply": "2025-02-19T02:04:26.276378Z"
    },
    "papermill": {
     "duration": 2.953898,
     "end_time": "2025-02-19T02:04:26.279484",
     "exception": false,
     "start_time": "2025-02-19T02:04:23.325586",
     "status": "completed"
    },
    "tags": []
   },
   "outputs": [],
   "source": [
    "import pandas as pd \n",
    "import numpy as np\n",
    "import matplotlib.pyplot as plt\n",
    "import seaborn as sns"
   ]
  },
  {
   "cell_type": "code",
   "execution_count": 2,
   "id": "ecffb57c",
   "metadata": {
    "execution": {
     "iopub.execute_input": "2025-02-19T02:04:26.287989Z",
     "iopub.status.busy": "2025-02-19T02:04:26.287415Z",
     "iopub.status.idle": "2025-02-19T02:04:26.323328Z",
     "shell.execute_reply": "2025-02-19T02:04:26.322164Z"
    },
    "papermill": {
     "duration": 0.042119,
     "end_time": "2025-02-19T02:04:26.325450",
     "exception": false,
     "start_time": "2025-02-19T02:04:26.283331",
     "status": "completed"
    },
    "tags": []
   },
   "outputs": [],
   "source": [
    "data = pd.read_csv('/kaggle/input/sleep-cycle-and-productivity/sleep_cycle_productivity.csv')"
   ]
  },
  {
   "cell_type": "code",
   "execution_count": 3,
   "id": "7e9fd74d",
   "metadata": {
    "execution": {
     "iopub.execute_input": "2025-02-19T02:04:26.334138Z",
     "iopub.status.busy": "2025-02-19T02:04:26.333780Z",
     "iopub.status.idle": "2025-02-19T02:04:26.340735Z",
     "shell.execute_reply": "2025-02-19T02:04:26.339548Z"
    },
    "papermill": {
     "duration": 0.013988,
     "end_time": "2025-02-19T02:04:26.342833",
     "exception": false,
     "start_time": "2025-02-19T02:04:26.328845",
     "status": "completed"
    },
    "tags": []
   },
   "outputs": [
    {
     "data": {
      "text/plain": [
       "(5000, 15)"
      ]
     },
     "execution_count": 3,
     "metadata": {},
     "output_type": "execute_result"
    }
   ],
   "source": [
    "data.shape"
   ]
  },
  {
   "cell_type": "code",
   "execution_count": 4,
   "id": "fd63a713",
   "metadata": {
    "execution": {
     "iopub.execute_input": "2025-02-19T02:04:26.351080Z",
     "iopub.status.busy": "2025-02-19T02:04:26.350725Z",
     "iopub.status.idle": "2025-02-19T02:04:26.380398Z",
     "shell.execute_reply": "2025-02-19T02:04:26.379305Z"
    },
    "papermill": {
     "duration": 0.035967,
     "end_time": "2025-02-19T02:04:26.382377",
     "exception": false,
     "start_time": "2025-02-19T02:04:26.346410",
     "status": "completed"
    },
    "tags": []
   },
   "outputs": [
    {
     "data": {
      "text/html": [
       "<div>\n",
       "<style scoped>\n",
       "    .dataframe tbody tr th:only-of-type {\n",
       "        vertical-align: middle;\n",
       "    }\n",
       "\n",
       "    .dataframe tbody tr th {\n",
       "        vertical-align: top;\n",
       "    }\n",
       "\n",
       "    .dataframe thead th {\n",
       "        text-align: right;\n",
       "    }\n",
       "</style>\n",
       "<table border=\"1\" class=\"dataframe\">\n",
       "  <thead>\n",
       "    <tr style=\"text-align: right;\">\n",
       "      <th></th>\n",
       "      <th>Date</th>\n",
       "      <th>Person_ID</th>\n",
       "      <th>Age</th>\n",
       "      <th>Gender</th>\n",
       "      <th>Sleep Start Time</th>\n",
       "      <th>Sleep End Time</th>\n",
       "      <th>Total Sleep Hours</th>\n",
       "      <th>Sleep Quality</th>\n",
       "      <th>Exercise (mins/day)</th>\n",
       "      <th>Caffeine Intake (mg)</th>\n",
       "      <th>Screen Time Before Bed (mins)</th>\n",
       "      <th>Work Hours (hrs/day)</th>\n",
       "      <th>Productivity Score</th>\n",
       "      <th>Mood Score</th>\n",
       "      <th>Stress Level</th>\n",
       "    </tr>\n",
       "  </thead>\n",
       "  <tbody>\n",
       "    <tr>\n",
       "      <th>0</th>\n",
       "      <td>2024-04-12</td>\n",
       "      <td>1860</td>\n",
       "      <td>32</td>\n",
       "      <td>Other</td>\n",
       "      <td>23.33</td>\n",
       "      <td>4.61</td>\n",
       "      <td>5.28</td>\n",
       "      <td>3</td>\n",
       "      <td>86</td>\n",
       "      <td>87</td>\n",
       "      <td>116</td>\n",
       "      <td>8.808920</td>\n",
       "      <td>8</td>\n",
       "      <td>3</td>\n",
       "      <td>6</td>\n",
       "    </tr>\n",
       "    <tr>\n",
       "      <th>1</th>\n",
       "      <td>2024-11-04</td>\n",
       "      <td>1769</td>\n",
       "      <td>41</td>\n",
       "      <td>Female</td>\n",
       "      <td>21.02</td>\n",
       "      <td>2.43</td>\n",
       "      <td>5.41</td>\n",
       "      <td>5</td>\n",
       "      <td>32</td>\n",
       "      <td>21</td>\n",
       "      <td>88</td>\n",
       "      <td>6.329833</td>\n",
       "      <td>10</td>\n",
       "      <td>3</td>\n",
       "      <td>7</td>\n",
       "    </tr>\n",
       "    <tr>\n",
       "      <th>2</th>\n",
       "      <td>2024-08-31</td>\n",
       "      <td>2528</td>\n",
       "      <td>20</td>\n",
       "      <td>Male</td>\n",
       "      <td>22.10</td>\n",
       "      <td>3.45</td>\n",
       "      <td>5.35</td>\n",
       "      <td>7</td>\n",
       "      <td>17</td>\n",
       "      <td>88</td>\n",
       "      <td>59</td>\n",
       "      <td>8.506306</td>\n",
       "      <td>10</td>\n",
       "      <td>9</td>\n",
       "      <td>10</td>\n",
       "    </tr>\n",
       "    <tr>\n",
       "      <th>3</th>\n",
       "      <td>2024-02-22</td>\n",
       "      <td>8041</td>\n",
       "      <td>37</td>\n",
       "      <td>Other</td>\n",
       "      <td>23.10</td>\n",
       "      <td>6.65</td>\n",
       "      <td>7.55</td>\n",
       "      <td>8</td>\n",
       "      <td>46</td>\n",
       "      <td>34</td>\n",
       "      <td>80</td>\n",
       "      <td>6.070240</td>\n",
       "      <td>8</td>\n",
       "      <td>4</td>\n",
       "      <td>2</td>\n",
       "    </tr>\n",
       "    <tr>\n",
       "      <th>4</th>\n",
       "      <td>2024-02-23</td>\n",
       "      <td>4843</td>\n",
       "      <td>46</td>\n",
       "      <td>Other</td>\n",
       "      <td>21.42</td>\n",
       "      <td>4.17</td>\n",
       "      <td>6.75</td>\n",
       "      <td>10</td>\n",
       "      <td>61</td>\n",
       "      <td>269</td>\n",
       "      <td>94</td>\n",
       "      <td>11.374994</td>\n",
       "      <td>8</td>\n",
       "      <td>7</td>\n",
       "      <td>9</td>\n",
       "    </tr>\n",
       "  </tbody>\n",
       "</table>\n",
       "</div>"
      ],
      "text/plain": [
       "         Date  Person_ID  Age  Gender  Sleep Start Time  Sleep End Time  \\\n",
       "0  2024-04-12       1860   32   Other             23.33            4.61   \n",
       "1  2024-11-04       1769   41  Female             21.02            2.43   \n",
       "2  2024-08-31       2528   20    Male             22.10            3.45   \n",
       "3  2024-02-22       8041   37   Other             23.10            6.65   \n",
       "4  2024-02-23       4843   46   Other             21.42            4.17   \n",
       "\n",
       "   Total Sleep Hours  Sleep Quality  Exercise (mins/day)  \\\n",
       "0               5.28              3                   86   \n",
       "1               5.41              5                   32   \n",
       "2               5.35              7                   17   \n",
       "3               7.55              8                   46   \n",
       "4               6.75             10                   61   \n",
       "\n",
       "   Caffeine Intake (mg)  Screen Time Before Bed (mins)  Work Hours (hrs/day)  \\\n",
       "0                    87                            116              8.808920   \n",
       "1                    21                             88              6.329833   \n",
       "2                    88                             59              8.506306   \n",
       "3                    34                             80              6.070240   \n",
       "4                   269                             94             11.374994   \n",
       "\n",
       "   Productivity Score  Mood Score  Stress Level  \n",
       "0                   8           3             6  \n",
       "1                  10           3             7  \n",
       "2                  10           9            10  \n",
       "3                   8           4             2  \n",
       "4                   8           7             9  "
      ]
     },
     "execution_count": 4,
     "metadata": {},
     "output_type": "execute_result"
    }
   ],
   "source": [
    "data.head(5)"
   ]
  },
  {
   "cell_type": "code",
   "execution_count": 5,
   "id": "2fb27ad4",
   "metadata": {
    "execution": {
     "iopub.execute_input": "2025-02-19T02:04:26.391121Z",
     "iopub.status.busy": "2025-02-19T02:04:26.390776Z",
     "iopub.status.idle": "2025-02-19T02:04:26.401958Z",
     "shell.execute_reply": "2025-02-19T02:04:26.400937Z"
    },
    "papermill": {
     "duration": 0.017581,
     "end_time": "2025-02-19T02:04:26.403722",
     "exception": false,
     "start_time": "2025-02-19T02:04:26.386141",
     "status": "completed"
    },
    "tags": []
   },
   "outputs": [
    {
     "data": {
      "text/plain": [
       "Date                             0\n",
       "Person_ID                        0\n",
       "Age                              0\n",
       "Gender                           0\n",
       "Sleep Start Time                 0\n",
       "Sleep End Time                   0\n",
       "Total Sleep Hours                0\n",
       "Sleep Quality                    0\n",
       "Exercise (mins/day)              0\n",
       "Caffeine Intake (mg)             0\n",
       "Screen Time Before Bed (mins)    0\n",
       "Work Hours (hrs/day)             0\n",
       "Productivity Score               0\n",
       "Mood Score                       0\n",
       "Stress Level                     0\n",
       "dtype: int64"
      ]
     },
     "execution_count": 5,
     "metadata": {},
     "output_type": "execute_result"
    }
   ],
   "source": [
    "data.isnull().sum()"
   ]
  },
  {
   "cell_type": "code",
   "execution_count": 6,
   "id": "561386c6",
   "metadata": {
    "execution": {
     "iopub.execute_input": "2025-02-19T02:04:26.412450Z",
     "iopub.status.busy": "2025-02-19T02:04:26.412123Z",
     "iopub.status.idle": "2025-02-19T02:04:26.419096Z",
     "shell.execute_reply": "2025-02-19T02:04:26.418051Z"
    },
    "papermill": {
     "duration": 0.013278,
     "end_time": "2025-02-19T02:04:26.420780",
     "exception": false,
     "start_time": "2025-02-19T02:04:26.407502",
     "status": "completed"
    },
    "tags": []
   },
   "outputs": [
    {
     "data": {
      "text/plain": [
       "Date                              object\n",
       "Person_ID                          int64\n",
       "Age                                int64\n",
       "Gender                            object\n",
       "Sleep Start Time                 float64\n",
       "Sleep End Time                   float64\n",
       "Total Sleep Hours                float64\n",
       "Sleep Quality                      int64\n",
       "Exercise (mins/day)                int64\n",
       "Caffeine Intake (mg)               int64\n",
       "Screen Time Before Bed (mins)      int64\n",
       "Work Hours (hrs/day)             float64\n",
       "Productivity Score                 int64\n",
       "Mood Score                         int64\n",
       "Stress Level                       int64\n",
       "dtype: object"
      ]
     },
     "execution_count": 6,
     "metadata": {},
     "output_type": "execute_result"
    }
   ],
   "source": [
    "data.dtypes"
   ]
  },
  {
   "cell_type": "code",
   "execution_count": 7,
   "id": "e9066d95",
   "metadata": {
    "execution": {
     "iopub.execute_input": "2025-02-19T02:04:26.430052Z",
     "iopub.status.busy": "2025-02-19T02:04:26.429708Z",
     "iopub.status.idle": "2025-02-19T02:04:26.833490Z",
     "shell.execute_reply": "2025-02-19T02:04:26.832257Z"
    },
    "papermill": {
     "duration": 0.410507,
     "end_time": "2025-02-19T02:04:26.835539",
     "exception": false,
     "start_time": "2025-02-19T02:04:26.425032",
     "status": "completed"
    },
    "tags": []
   },
   "outputs": [
    {
     "data": {
      "text/plain": [
       "<Axes: title={'center': 'Productivity Score'}, xlabel='Productivity Score'>"
      ]
     },
     "execution_count": 7,
     "metadata": {},
     "output_type": "execute_result"
    },
    {
     "data": {
      "image/png": "[encoded data removed]",
      "text/plain": [
       "<Figure size 640x480 with 1 Axes>"
      ]
     },
     "metadata": {},
     "output_type": "display_data"
    }
   ],
   "source": [
    "data['Productivity Score'].value_counts().plot(kind='bar', title='Productivity Score')"
   ]
  },
  {
   "cell_type": "code",
   "execution_count": 8,
   "id": "d5bbc319",
   "metadata": {
    "execution": {
     "iopub.execute_input": "2025-02-19T02:04:26.846156Z",
     "iopub.status.busy": "2025-02-19T02:04:26.845801Z",
     "iopub.status.idle": "2025-02-19T02:04:27.079956Z",
     "shell.execute_reply": "2025-02-19T02:04:27.078646Z"
    },
    "papermill": {
     "duration": 0.241888,
     "end_time": "2025-02-19T02:04:27.082077",
     "exception": false,
     "start_time": "2025-02-19T02:04:26.840189",
     "status": "completed"
    },
    "tags": []
   },
   "outputs": [
    {
     "data": {
      "text/plain": [
       "<Axes: title={'center': 'Mood Score'}, xlabel='Mood Score'>"
      ]
     },
     "execution_count": 8,
     "metadata": {},
     "output_type": "execute_result"
    },
    {
     "data": {
      "image/png": "[encoded data removed]",
      "text/plain": [
       "<Figure size 640x480 with 1 Axes>"
      ]
     },
     "metadata": {},
     "output_type": "display_data"
    }
   ],
   "source": [
    "data['Mood Score'].value_counts().plot(kind='bar', title='Mood Score')"
   ]
  },
  {
   "cell_type": "code",
   "execution_count": 9,
   "id": "5cae35ef",
   "metadata": {
    "execution": {
     "iopub.execute_input": "2025-02-19T02:04:27.094962Z",
     "iopub.status.busy": "2025-02-19T02:04:27.094567Z",
     "iopub.status.idle": "2025-02-19T02:04:27.297962Z",
     "shell.execute_reply": "2025-02-19T02:04:27.296810Z"
    },
    "papermill": {
     "duration": 0.211216,
     "end_time": "2025-02-19T02:04:27.299818",
     "exception": false,
     "start_time": "2025-02-19T02:04:27.088602",
     "status": "completed"
    },
    "tags": []
   },
   "outputs": [
    {
     "data": {
      "text/plain": [
       "<Axes: >"
      ]
     },
     "execution_count": 9,
     "metadata": {},
     "output_type": "execute_result"
    },
    {
     "data": {
      "image/png": "[encoded data removed]",
      "text/plain": [
       "<Figure size 640x480 with 1 Axes>"
      ]
     },
     "metadata": {},
     "output_type": "display_data"
    }
   ],
   "source": [
    "data['Productivity Score'].hist(bins=15)"
   ]
  },
  {
   "cell_type": "code",
   "execution_count": 10,
   "id": "e428b00a",
   "metadata": {
    "execution": {
     "iopub.execute_input": "2025-02-19T02:04:27.312119Z",
     "iopub.status.busy": "2025-02-19T02:04:27.311775Z",
     "iopub.status.idle": "2025-02-19T02:04:27.316239Z",
     "shell.execute_reply": "2025-02-19T02:04:27.315166Z"
    },
    "papermill": {
     "duration": 0.012743,
     "end_time": "2025-02-19T02:04:27.318009",
     "exception": false,
     "start_time": "2025-02-19T02:04:27.305266",
     "status": "completed"
    },
    "tags": []
   },
   "outputs": [],
   "source": [
    "numerical_columns = ['Age', 'Sleep Start Time', 'Sleep End Time', 'Total Sleep Hours', \n",
    "                     'Exercise (mins/day)', 'Caffeine Intake (mg)', 'Screen Time Before Bed (mins)', \n",
    "                     'Work Hours (hrs/day)', 'Productivity Score', 'Mood Score', 'Stress Level']"
   ]
  },
  {
   "cell_type": "code",
   "execution_count": 11,
   "id": "94f61150",
   "metadata": {
    "execution": {
     "iopub.execute_input": "2025-02-19T02:04:27.329600Z",
     "iopub.status.busy": "2025-02-19T02:04:27.329216Z",
     "iopub.status.idle": "2025-02-19T02:04:28.054925Z",
     "shell.execute_reply": "2025-02-19T02:04:28.053655Z"
    },
    "papermill": {
     "duration": 0.733923,
     "end_time": "2025-02-19T02:04:28.057164",
     "exception": false,
     "start_time": "2025-02-19T02:04:27.323241",
     "status": "completed"
    },
    "tags": []
   },
   "outputs": [],
   "source": [
    "from sklearn.model_selection import train_test_split\n",
    "from sklearn.preprocessing import StandardScaler, MinMaxScaler, OneHotEncoder\n",
    "from sklearn.impute import SimpleImputer\n",
    "\n",
    "scaler = StandardScaler()\n",
    "data[numerical_columns] = scaler.fit_transform(data[numerical_columns])\n"
   ]
  },
  {
   "cell_type": "code",
   "execution_count": 12,
   "id": "f7301f33",
   "metadata": {
    "execution": {
     "iopub.execute_input": "2025-02-19T02:04:28.068954Z",
     "iopub.status.busy": "2025-02-19T02:04:28.068569Z",
     "iopub.status.idle": "2025-02-19T02:04:28.080344Z",
     "shell.execute_reply": "2025-02-19T02:04:28.079213Z"
    },
    "papermill": {
     "duration": 0.019755,
     "end_time": "2025-02-19T02:04:28.082197",
     "exception": false,
     "start_time": "2025-02-19T02:04:28.062442",
     "status": "completed"
    },
    "tags": []
   },
   "outputs": [],
   "source": [
    "X = data.drop('Productivity Score', axis=1)\n",
    "y = data['Productivity Score']\n",
    "X_train, X_test, y_train, y_test = train_test_split(X, y, test_size=0.2, random_state=42)"
   ]
  }
 ],
 "metadata": {
  "kaggle": {
   "accelerator": "none",
   "dataSources": [
    {
     "datasetId": 6619448,
     "sourceId": 10684549,
     "sourceType": "datasetVersion"
    }
   ],
   "dockerImageVersionId": 30886,
   "isGpuEnabled": false,
   "isInternetEnabled": true,
   "language": "python",
   "sourceType": "notebook"
  },
  "kernelspec": {
   "display_name": "Python 3",
   "language": "python",
   "name": "python3"
  },
  "language_info": {
   "codemirror_mode": {
    "name": "ipython",
    "version": 3
   },
   "file_extension": ".py",
   "mimetype": "text/x-python",
   "name": "python",
   "nbconvert_exporter": "python",
   "pygments_lexer": "ipython3",
   "version": "3.10.12"
  },
  "papermill": {
   "default_parameters": {},
   "duration": 8.504045,
   "end_time": "2025-02-19T02:04:28.909007",
   "environment_variables": {},
   "exception": null,
   "input_path": "__notebook__.ipynb",
   "output_path": "__notebook__.ipynb",
   "parameters": {},
   "start_time": "2025-02-19T02:04:20.404962",
   "version": "2.6.0"
  }
 },
 "nbformat": 4,
 "nbformat_minor": 5
}
