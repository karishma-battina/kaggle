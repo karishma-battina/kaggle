{
 "cells": [
  {
   "cell_type": "code",
   "execution_count": 1,
   "id": "4a49d98e",
   "metadata": {
    "_cell_guid": "b1076dfc-b9ad-4769-8c92-a6c4dae69d19",
    "_uuid": "8f2839f25d086af736a60e9eeb907d3b93b6e0e5",
    "execution": {
     "iopub.execute_input": "2025-05-14T16:29:58.455671Z",
     "iopub.status.busy": "2025-05-14T16:29:58.455375Z",
     "iopub.status.idle": "2025-05-14T16:30:01.825025Z",
     "shell.execute_reply": "2025-05-14T16:30:01.824255Z"
    },
    "papermill": {
     "duration": 3.376187,
     "end_time": "2025-05-14T16:30:01.826684",
     "exception": false,
     "start_time": "2025-05-14T16:29:58.450497",
     "status": "completed"
    },
    "tags": []
   },
   "outputs": [],
   "source": [
    "import numpy as np\n",
    "import pandas as pd\n",
    "import seaborn as sns\n",
    "import matplotlib.pyplot as plt"
   ]
  },
  {
   "cell_type": "code",
   "execution_count": 2,
   "id": "dee8e548",
   "metadata": {
    "execution": {
     "iopub.execute_input": "2025-05-14T16:30:01.834325Z",
     "iopub.status.busy": "2025-05-14T16:30:01.833873Z",
     "iopub.status.idle": "2025-05-14T16:30:03.254095Z",
     "shell.execute_reply": "2025-05-14T16:30:03.253321Z"
    },
    "papermill": {
     "duration": 1.425578,
     "end_time": "2025-05-14T16:30:03.255762",
     "exception": false,
     "start_time": "2025-05-14T16:30:01.830184",
     "status": "completed"
    },
    "tags": []
   },
   "outputs": [],
   "source": [
    "train_data = pd.read_csv(\"/kaggle/input/playground-series-s5e5/train.csv\")\n",
    "test_data = pd.read_csv(\"/kaggle/input/playground-series-s5e5/test.csv\")"
   ]
  },
  {
   "cell_type": "code",
   "execution_count": 3,
   "id": "1395a11b",
   "metadata": {
    "execution": {
     "iopub.execute_input": "2025-05-14T16:30:03.262993Z",
     "iopub.status.busy": "2025-05-14T16:30:03.262738Z",
     "iopub.status.idle": "2025-05-14T16:30:03.266451Z",
     "shell.execute_reply": "2025-05-14T16:30:03.265800Z"
    },
    "papermill": {
     "duration": 0.008708,
     "end_time": "2025-05-14T16:30:03.267790",
     "exception": false,
     "start_time": "2025-05-14T16:30:03.259082",
     "status": "completed"
    },
    "tags": []
   },
   "outputs": [],
   "source": [
    "train_copy, test_copy = train_data, test_data"
   ]
  },
  {
   "cell_type": "code",
   "execution_count": 4,
   "id": "cae7491b",
   "metadata": {
    "execution": {
     "iopub.execute_input": "2025-05-14T16:30:03.274794Z",
     "iopub.status.busy": "2025-05-14T16:30:03.274559Z",
     "iopub.status.idle": "2025-05-14T16:30:03.302185Z",
     "shell.execute_reply": "2025-05-14T16:30:03.301246Z"
    },
    "papermill": {
     "duration": 0.032548,
     "end_time": "2025-05-14T16:30:03.303520",
     "exception": false,
     "start_time": "2025-05-14T16:30:03.270972",
     "status": "completed"
    },
    "tags": []
   },
   "outputs": [
    {
     "data": {
      "text/html": [
       "<div>\n",
       "<style scoped>\n",
       "    .dataframe tbody tr th:only-of-type {\n",
       "        vertical-align: middle;\n",
       "    }\n",
       "\n",
       "    .dataframe tbody tr th {\n",
       "        vertical-align: top;\n",
       "    }\n",
       "\n",
       "    .dataframe thead th {\n",
       "        text-align: right;\n",
       "    }\n",
       "</style>\n",
       "<table border=\"1\" class=\"dataframe\">\n",
       "  <thead>\n",
       "    <tr style=\"text-align: right;\">\n",
       "      <th></th>\n",
       "      <th>id</th>\n",
       "      <th>Sex</th>\n",
       "      <th>Age</th>\n",
       "      <th>Height</th>\n",
       "      <th>Weight</th>\n",
       "      <th>Duration</th>\n",
       "      <th>Heart_Rate</th>\n",
       "      <th>Body_Temp</th>\n",
       "      <th>Calories</th>\n",
       "    </tr>\n",
       "  </thead>\n",
       "  <tbody>\n",
       "    <tr>\n",
       "      <th>0</th>\n",
       "      <td>0</td>\n",
       "      <td>male</td>\n",
       "      <td>36</td>\n",
       "      <td>189.0</td>\n",
       "      <td>82.0</td>\n",
       "      <td>26.0</td>\n",
       "      <td>101.0</td>\n",
       "      <td>41.0</td>\n",
       "      <td>150.0</td>\n",
       "    </tr>\n",
       "    <tr>\n",
       "      <th>1</th>\n",
       "      <td>1</td>\n",
       "      <td>female</td>\n",
       "      <td>64</td>\n",
       "      <td>163.0</td>\n",
       "      <td>60.0</td>\n",
       "      <td>8.0</td>\n",
       "      <td>85.0</td>\n",
       "      <td>39.7</td>\n",
       "      <td>34.0</td>\n",
       "    </tr>\n",
       "    <tr>\n",
       "      <th>2</th>\n",
       "      <td>2</td>\n",
       "      <td>female</td>\n",
       "      <td>51</td>\n",
       "      <td>161.0</td>\n",
       "      <td>64.0</td>\n",
       "      <td>7.0</td>\n",
       "      <td>84.0</td>\n",
       "      <td>39.8</td>\n",
       "      <td>29.0</td>\n",
       "    </tr>\n",
       "    <tr>\n",
       "      <th>3</th>\n",
       "      <td>3</td>\n",
       "      <td>male</td>\n",
       "      <td>20</td>\n",
       "      <td>192.0</td>\n",
       "      <td>90.0</td>\n",
       "      <td>25.0</td>\n",
       "      <td>105.0</td>\n",
       "      <td>40.7</td>\n",
       "      <td>140.0</td>\n",
       "    </tr>\n",
       "    <tr>\n",
       "      <th>4</th>\n",
       "      <td>4</td>\n",
       "      <td>female</td>\n",
       "      <td>38</td>\n",
       "      <td>166.0</td>\n",
       "      <td>61.0</td>\n",
       "      <td>25.0</td>\n",
       "      <td>102.0</td>\n",
       "      <td>40.6</td>\n",
       "      <td>146.0</td>\n",
       "    </tr>\n",
       "  </tbody>\n",
       "</table>\n",
       "</div>"
      ],
      "text/plain": [
       "   id     Sex  Age  Height  Weight  Duration  Heart_Rate  Body_Temp  Calories\n",
       "0   0    male   36   189.0    82.0      26.0       101.0       41.0     150.0\n",
       "1   1  female   64   163.0    60.0       8.0        85.0       39.7      34.0\n",
       "2   2  female   51   161.0    64.0       7.0        84.0       39.8      29.0\n",
       "3   3    male   20   192.0    90.0      25.0       105.0       40.7     140.0\n",
       "4   4  female   38   166.0    61.0      25.0       102.0       40.6     146.0"
      ]
     },
     "execution_count": 4,
     "metadata": {},
     "output_type": "execute_result"
    }
   ],
   "source": [
    "train_data.head()"
   ]
  },
  {
   "cell_type": "code",
   "execution_count": 5,
   "id": "bb842143",
   "metadata": {
    "execution": {
     "iopub.execute_input": "2025-05-14T16:30:03.311346Z",
     "iopub.status.busy": "2025-05-14T16:30:03.310989Z",
     "iopub.status.idle": "2025-05-14T16:30:03.323676Z",
     "shell.execute_reply": "2025-05-14T16:30:03.322916Z"
    },
    "papermill": {
     "duration": 0.018088,
     "end_time": "2025-05-14T16:30:03.324973",
     "exception": false,
     "start_time": "2025-05-14T16:30:03.306885",
     "status": "completed"
    },
    "tags": []
   },
   "outputs": [
    {
     "data": {
      "text/html": [
       "<div>\n",
       "<style scoped>\n",
       "    .dataframe tbody tr th:only-of-type {\n",
       "        vertical-align: middle;\n",
       "    }\n",
       "\n",
       "    .dataframe tbody tr th {\n",
       "        vertical-align: top;\n",
       "    }\n",
       "\n",
       "    .dataframe thead th {\n",
       "        text-align: right;\n",
       "    }\n",
       "</style>\n",
       "<table border=\"1\" class=\"dataframe\">\n",
       "  <thead>\n",
       "    <tr style=\"text-align: right;\">\n",
       "      <th></th>\n",
       "      <th>id</th>\n",
       "      <th>Sex</th>\n",
       "      <th>Age</th>\n",
       "      <th>Height</th>\n",
       "      <th>Weight</th>\n",
       "      <th>Duration</th>\n",
       "      <th>Heart_Rate</th>\n",
       "      <th>Body_Temp</th>\n",
       "    </tr>\n",
       "  </thead>\n",
       "  <tbody>\n",
       "    <tr>\n",
       "      <th>0</th>\n",
       "      <td>750000</td>\n",
       "      <td>male</td>\n",
       "      <td>45</td>\n",
       "      <td>177.0</td>\n",
       "      <td>81.0</td>\n",
       "      <td>7.0</td>\n",
       "      <td>87.0</td>\n",
       "      <td>39.8</td>\n",
       "    </tr>\n",
       "    <tr>\n",
       "      <th>1</th>\n",
       "      <td>750001</td>\n",
       "      <td>male</td>\n",
       "      <td>26</td>\n",
       "      <td>200.0</td>\n",
       "      <td>97.0</td>\n",
       "      <td>20.0</td>\n",
       "      <td>101.0</td>\n",
       "      <td>40.5</td>\n",
       "    </tr>\n",
       "    <tr>\n",
       "      <th>2</th>\n",
       "      <td>750002</td>\n",
       "      <td>female</td>\n",
       "      <td>29</td>\n",
       "      <td>188.0</td>\n",
       "      <td>85.0</td>\n",
       "      <td>16.0</td>\n",
       "      <td>102.0</td>\n",
       "      <td>40.4</td>\n",
       "    </tr>\n",
       "    <tr>\n",
       "      <th>3</th>\n",
       "      <td>750003</td>\n",
       "      <td>female</td>\n",
       "      <td>39</td>\n",
       "      <td>172.0</td>\n",
       "      <td>73.0</td>\n",
       "      <td>20.0</td>\n",
       "      <td>107.0</td>\n",
       "      <td>40.6</td>\n",
       "    </tr>\n",
       "    <tr>\n",
       "      <th>4</th>\n",
       "      <td>750004</td>\n",
       "      <td>female</td>\n",
       "      <td>30</td>\n",
       "      <td>173.0</td>\n",
       "      <td>67.0</td>\n",
       "      <td>16.0</td>\n",
       "      <td>94.0</td>\n",
       "      <td>40.5</td>\n",
       "    </tr>\n",
       "  </tbody>\n",
       "</table>\n",
       "</div>"
      ],
      "text/plain": [
       "       id     Sex  Age  Height  Weight  Duration  Heart_Rate  Body_Temp\n",
       "0  750000    male   45   177.0    81.0       7.0        87.0       39.8\n",
       "1  750001    male   26   200.0    97.0      20.0       101.0       40.5\n",
       "2  750002  female   29   188.0    85.0      16.0       102.0       40.4\n",
       "3  750003  female   39   172.0    73.0      20.0       107.0       40.6\n",
       "4  750004  female   30   173.0    67.0      16.0        94.0       40.5"
      ]
     },
     "execution_count": 5,
     "metadata": {},
     "output_type": "execute_result"
    }
   ],
   "source": [
    "test_data.head()"
   ]
  },
  {
   "cell_type": "code",
   "execution_count": 6,
   "id": "9850c5e1",
   "metadata": {
    "execution": {
     "iopub.execute_input": "2025-05-14T16:30:03.333157Z",
     "iopub.status.busy": "2025-05-14T16:30:03.332873Z",
     "iopub.status.idle": "2025-05-14T16:30:03.338043Z",
     "shell.execute_reply": "2025-05-14T16:30:03.337369Z"
    },
    "papermill": {
     "duration": 0.010768,
     "end_time": "2025-05-14T16:30:03.339447",
     "exception": false,
     "start_time": "2025-05-14T16:30:03.328679",
     "status": "completed"
    },
    "tags": []
   },
   "outputs": [
    {
     "data": {
      "text/plain": [
       "(750000, 9)"
      ]
     },
     "execution_count": 6,
     "metadata": {},
     "output_type": "execute_result"
    }
   ],
   "source": [
    "train_data.shape"
   ]
  },
  {
   "cell_type": "code",
   "execution_count": 7,
   "id": "37f82e76",
   "metadata": {
    "execution": {
     "iopub.execute_input": "2025-05-14T16:30:03.347309Z",
     "iopub.status.busy": "2025-05-14T16:30:03.347010Z",
     "iopub.status.idle": "2025-05-14T16:30:03.352228Z",
     "shell.execute_reply": "2025-05-14T16:30:03.351492Z"
    },
    "papermill": {
     "duration": 0.010954,
     "end_time": "2025-05-14T16:30:03.353873",
     "exception": false,
     "start_time": "2025-05-14T16:30:03.342919",
     "status": "completed"
    },
    "tags": []
   },
   "outputs": [
    {
     "data": {
      "text/plain": [
       "(250000, 8)"
      ]
     },
     "execution_count": 7,
     "metadata": {},
     "output_type": "execute_result"
    }
   ],
   "source": [
    "test_data.shape"
   ]
  },
  {
   "cell_type": "code",
   "execution_count": 8,
   "id": "841d4a89",
   "metadata": {
    "execution": {
     "iopub.execute_input": "2025-05-14T16:30:03.362638Z",
     "iopub.status.busy": "2025-05-14T16:30:03.362376Z",
     "iopub.status.idle": "2025-05-14T16:30:03.421535Z",
     "shell.execute_reply": "2025-05-14T16:30:03.420750Z"
    },
    "papermill": {
     "duration": 0.064538,
     "end_time": "2025-05-14T16:30:03.422904",
     "exception": false,
     "start_time": "2025-05-14T16:30:03.358366",
     "status": "completed"
    },
    "tags": []
   },
   "outputs": [
    {
     "data": {
      "text/plain": [
       "id            0\n",
       "Sex           0\n",
       "Age           0\n",
       "Height        0\n",
       "Weight        0\n",
       "Duration      0\n",
       "Heart_Rate    0\n",
       "Body_Temp     0\n",
       "Calories      0\n",
       "dtype: int64"
      ]
     },
     "execution_count": 8,
     "metadata": {},
     "output_type": "execute_result"
    }
   ],
   "source": [
    "train_data.isnull().sum()"
   ]
  },
  {
   "cell_type": "code",
   "execution_count": 9,
   "id": "b5528dbc",
   "metadata": {
    "execution": {
     "iopub.execute_input": "2025-05-14T16:30:03.431100Z",
     "iopub.status.busy": "2025-05-14T16:30:03.430833Z",
     "iopub.status.idle": "2025-05-14T16:30:03.455440Z",
     "shell.execute_reply": "2025-05-14T16:30:03.454616Z"
    },
    "papermill": {
     "duration": 0.030175,
     "end_time": "2025-05-14T16:30:03.456734",
     "exception": false,
     "start_time": "2025-05-14T16:30:03.426559",
     "status": "completed"
    },
    "tags": []
   },
   "outputs": [
    {
     "data": {
      "text/plain": [
       "id            0\n",
       "Sex           0\n",
       "Age           0\n",
       "Height        0\n",
       "Weight        0\n",
       "Duration      0\n",
       "Heart_Rate    0\n",
       "Body_Temp     0\n",
       "dtype: int64"
      ]
     },
     "execution_count": 9,
     "metadata": {},
     "output_type": "execute_result"
    }
   ],
   "source": [
    "test_data.isnull().sum()"
   ]
  },
  {
   "cell_type": "code",
   "execution_count": 10,
   "id": "d2b303e3",
   "metadata": {
    "execution": {
     "iopub.execute_input": "2025-05-14T16:30:03.465082Z",
     "iopub.status.busy": "2025-05-14T16:30:03.464818Z",
     "iopub.status.idle": "2025-05-14T16:30:03.768234Z",
     "shell.execute_reply": "2025-05-14T16:30:03.767050Z"
    },
    "papermill": {
     "duration": 0.309147,
     "end_time": "2025-05-14T16:30:03.769680",
     "exception": false,
     "start_time": "2025-05-14T16:30:03.460533",
     "status": "completed"
    },
    "tags": []
   },
   "outputs": [
    {
     "name": "stdout",
     "output_type": "stream",
     "text": [
      "   Sex  Age  Height  Weight  Duration  Heart_Rate  Body_Temp  Calories\n",
      "0    0   36   189.0    82.0      26.0       101.0       41.0     150.0\n",
      "1    1   64   163.0    60.0       8.0        85.0       39.7      34.0\n",
      "2    1   51   161.0    64.0       7.0        84.0       39.8      29.0\n",
      "3    0   20   192.0    90.0      25.0       105.0       40.7     140.0\n",
      "4    1   38   166.0    61.0      25.0       102.0       40.6     146.0\n"
     ]
    },
    {
     "name": "stderr",
     "output_type": "stream",
     "text": [
      "/tmp/ipykernel_13/1709812675.py:2: FutureWarning: Downcasting behavior in `replace` is deprecated and will be removed in a future version. To retain the old behavior, explicitly call `result.infer_objects(copy=False)`. To opt-in to the future behavior, set `pd.set_option('future.no_silent_downcasting', True)`\n",
      "  train_data['Sex'] = train_data['Sex'].replace(gender_map)\n"
     ]
    }
   ],
   "source": [
    "gender_map = {\"male\" : 0,\"female\" : 1}\n",
    "train_data['Sex'] = train_data['Sex'].replace(gender_map)\n",
    "\n",
    "train_data=train_data.drop(\"id\",axis=1)\n",
    "\n",
    "print (train_data.head())"
   ]
  },
  {
   "cell_type": "code",
   "execution_count": 11,
   "id": "e59a8dcd",
   "metadata": {
    "execution": {
     "iopub.execute_input": "2025-05-14T16:30:03.778290Z",
     "iopub.status.busy": "2025-05-14T16:30:03.777964Z",
     "iopub.status.idle": "2025-05-14T16:30:03.805930Z",
     "shell.execute_reply": "2025-05-14T16:30:03.805247Z"
    },
    "papermill": {
     "duration": 0.03395,
     "end_time": "2025-05-14T16:30:03.807517",
     "exception": false,
     "start_time": "2025-05-14T16:30:03.773567",
     "status": "completed"
    },
    "tags": []
   },
   "outputs": [],
   "source": [
    "X = train_data.drop(['Calories'], axis=1)\n",
    "y = train_data['Calories']"
   ]
  },
  {
   "cell_type": "code",
   "execution_count": 12,
   "id": "a5386f10",
   "metadata": {
    "execution": {
     "iopub.execute_input": "2025-05-14T16:30:03.816040Z",
     "iopub.status.busy": "2025-05-14T16:30:03.815772Z",
     "iopub.status.idle": "2025-05-14T16:30:04.152942Z",
     "shell.execute_reply": "2025-05-14T16:30:04.152147Z"
    },
    "papermill": {
     "duration": 0.343101,
     "end_time": "2025-05-14T16:30:04.154558",
     "exception": false,
     "start_time": "2025-05-14T16:30:03.811457",
     "status": "completed"
    },
    "tags": []
   },
   "outputs": [],
   "source": [
    "from sklearn.model_selection import train_test_split\n",
    "from sklearn.linear_model import LinearRegression\n",
    "from sklearn.metrics import r2_score, mean_squared_error"
   ]
  },
  {
   "cell_type": "code",
   "execution_count": 13,
   "id": "020ae05f",
   "metadata": {
    "execution": {
     "iopub.execute_input": "2025-05-14T16:30:04.162925Z",
     "iopub.status.busy": "2025-05-14T16:30:04.162689Z",
     "iopub.status.idle": "2025-05-14T16:30:04.266832Z",
     "shell.execute_reply": "2025-05-14T16:30:04.266051Z"
    },
    "papermill": {
     "duration": 0.110022,
     "end_time": "2025-05-14T16:30:04.268431",
     "exception": false,
     "start_time": "2025-05-14T16:30:04.158409",
     "status": "completed"
    },
    "tags": []
   },
   "outputs": [],
   "source": [
    "X_train, X_test, y_train, y_test = train_test_split(X, y, test_size=0.2, random_state=42)"
   ]
  },
  {
   "cell_type": "code",
   "execution_count": 14,
   "id": "fee64b5c",
   "metadata": {
    "execution": {
     "iopub.execute_input": "2025-05-14T16:30:04.276881Z",
     "iopub.status.busy": "2025-05-14T16:30:04.276635Z",
     "iopub.status.idle": "2025-05-14T16:30:04.637268Z",
     "shell.execute_reply": "2025-05-14T16:30:04.636406Z"
    },
    "papermill": {
     "duration": 0.366595,
     "end_time": "2025-05-14T16:30:04.638943",
     "exception": false,
     "start_time": "2025-05-14T16:30:04.272348",
     "status": "completed"
    },
    "tags": []
   },
   "outputs": [
    {
     "name": "stdout",
     "output_type": "stream",
     "text": [
      "LinearRegression → R²: 0.9684, RMSE: 11.06\n"
     ]
    }
   ],
   "source": [
    "lr_model = LinearRegression()\n",
    "lr_model.fit(X_train, y_train)\n",
    "lr_model.score(X_test, y_test)\n",
    "y_pred = lr_model.predict(X_test)\n",
    "print(f\"LinearRegression → R²: {r2_score(y_test, y_pred):.4f}, RMSE: {mean_squared_error(y_test, y_pred, squared=False):.2f}\")"
   ]
  },
  {
   "cell_type": "code",
   "execution_count": 15,
   "id": "2efc69fd",
   "metadata": {
    "execution": {
     "iopub.execute_input": "2025-05-14T16:30:04.647925Z",
     "iopub.status.busy": "2025-05-14T16:30:04.647650Z",
     "iopub.status.idle": "2025-05-14T16:30:05.320455Z",
     "shell.execute_reply": "2025-05-14T16:30:05.319586Z"
    },
    "papermill": {
     "duration": 0.679105,
     "end_time": "2025-05-14T16:30:05.322047",
     "exception": false,
     "start_time": "2025-05-14T16:30:04.642942",
     "status": "completed"
    },
    "tags": []
   },
   "outputs": [
    {
     "name": "stderr",
     "output_type": "stream",
     "text": [
      "/tmp/ipykernel_13/470261192.py:1: FutureWarning: Downcasting behavior in `replace` is deprecated and will be removed in a future version. To retain the old behavior, explicitly call `result.infer_objects(copy=False)`. To opt-in to the future behavior, set `pd.set_option('future.no_silent_downcasting', True)`\n",
      "  test_data['Sex'] = test_data['Sex'].replace(gender_map)\n"
     ]
    }
   ],
   "source": [
    "test_data['Sex'] = test_data['Sex'].replace(gender_map)\n",
    "test_ids = test_data['id']\n",
    "X_test_final = test_data.drop('id', axis=1)\n",
    "\n",
    "\n",
    "test_predictions = lr_model.predict(X_test_final)\n",
    "\n",
    "\n",
    "submission = pd.DataFrame({\n",
    "    'id': test_ids,\n",
    "    'Calories': test_predictions\n",
    "})\n",
    "submission.to_csv('submission.csv', index=False)"
   ]
  }
 ],
 "metadata": {
  "kaggle": {
   "accelerator": "none",
   "dataSources": [
    {
     "databundleVersionId": 11893428,
     "sourceId": 91716,
     "sourceType": "competition"
    }
   ],
   "dockerImageVersionId": 31040,
   "isGpuEnabled": false,
   "isInternetEnabled": true,
   "language": "python",
   "sourceType": "notebook"
  },
  "kernelspec": {
   "display_name": "Python 3",
   "language": "python",
   "name": "python3"
  },
  "language_info": {
   "codemirror_mode": {
    "name": "ipython",
    "version": 3
   },
   "file_extension": ".py",
   "mimetype": "text/x-python",
   "name": "python",
   "nbconvert_exporter": "python",
   "pygments_lexer": "ipython3",
   "version": "3.11.11"
  },
  "papermill": {
   "default_parameters": {},
   "duration": 11.976605,
   "end_time": "2025-05-14T16:30:05.944994",
   "environment_variables": {},
   "exception": null,
   "input_path": "__notebook__.ipynb",
   "output_path": "__notebook__.ipynb",
   "parameters": {},
   "start_time": "2025-05-14T16:29:53.968389",
   "version": "2.6.0"
  }
 },
 "nbformat": 4,
 "nbformat_minor": 5
}
