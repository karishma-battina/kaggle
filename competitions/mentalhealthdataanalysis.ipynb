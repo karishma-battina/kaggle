{
 "cells": [
  {
   "cell_type": "code",
   "execution_count": 1,
   "id": "9ce471f4",
   "metadata": {
    "_cell_guid": "b1076dfc-b9ad-4769-8c92-a6c4dae69d19",
    "_uuid": "8f2839f25d086af736a60e9eeb907d3b93b6e0e5",
    "execution": {
     "iopub.execute_input": "2025-02-09T17:30:51.486212Z",
     "iopub.status.busy": "2025-02-09T17:30:51.485674Z",
     "iopub.status.idle": "2025-02-09T17:30:52.612420Z",
     "shell.execute_reply": "2025-02-09T17:30:52.611009Z"
    },
    "papermill": {
     "duration": 1.137138,
     "end_time": "2025-02-09T17:30:52.614626",
     "exception": false,
     "start_time": "2025-02-09T17:30:51.477488",
     "status": "completed"
    },
    "tags": []
   },
   "outputs": [
    {
     "name": "stdout",
     "output_type": "stream",
     "text": [
      "/kaggle/input/playground-series-s4e11/sample_submission.csv\n",
      "/kaggle/input/playground-series-s4e11/train.csv\n",
      "/kaggle/input/playground-series-s4e11/test.csv\n"
     ]
    }
   ],
   "source": [
    "\n",
    "import numpy as np # linear algebra\n",
    "import pandas as pd # data processing, CSV file I/O (e.g. pd.read_csv)\n",
    "\n",
    "import os\n",
    "for dirname, _, filenames in os.walk('/kaggle/input'):\n",
    "    for filename in filenames:\n",
    "        print(os.path.join(dirname, filename))"
   ]
  },
  {
   "cell_type": "code",
   "execution_count": 2,
   "id": "10c88f18",
   "metadata": {
    "execution": {
     "iopub.execute_input": "2025-02-09T17:30:52.629076Z",
     "iopub.status.busy": "2025-02-09T17:30:52.628477Z",
     "iopub.status.idle": "2025-02-09T17:30:53.783117Z",
     "shell.execute_reply": "2025-02-09T17:30:53.781866Z"
    },
    "papermill": {
     "duration": 1.164507,
     "end_time": "2025-02-09T17:30:53.785891",
     "exception": false,
     "start_time": "2025-02-09T17:30:52.621384",
     "status": "completed"
    },
    "tags": []
   },
   "outputs": [],
   "source": [
    "train_data = pd.read_csv(\"/kaggle/input/playground-series-s4e11/train.csv\")\n",
    "test_data = pd.read_csv(\"/kaggle/input/playground-series-s4e11/test.csv\")"
   ]
  },
  {
   "cell_type": "code",
   "execution_count": 3,
   "id": "42181e55",
   "metadata": {
    "execution": {
     "iopub.execute_input": "2025-02-09T17:30:53.800696Z",
     "iopub.status.busy": "2025-02-09T17:30:53.800350Z",
     "iopub.status.idle": "2025-02-09T17:30:53.807728Z",
     "shell.execute_reply": "2025-02-09T17:30:53.806483Z"
    },
    "papermill": {
     "duration": 0.016662,
     "end_time": "2025-02-09T17:30:53.809701",
     "exception": false,
     "start_time": "2025-02-09T17:30:53.793039",
     "status": "completed"
    },
    "tags": []
   },
   "outputs": [
    {
     "data": {
      "text/plain": [
       "(140700, 20)"
      ]
     },
     "execution_count": 3,
     "metadata": {},
     "output_type": "execute_result"
    }
   ],
   "source": [
    "train_data.shape"
   ]
  },
  {
   "cell_type": "code",
   "execution_count": 4,
   "id": "7c1c22b2",
   "metadata": {
    "execution": {
     "iopub.execute_input": "2025-02-09T17:30:53.824311Z",
     "iopub.status.busy": "2025-02-09T17:30:53.823950Z",
     "iopub.status.idle": "2025-02-09T17:30:53.829952Z",
     "shell.execute_reply": "2025-02-09T17:30:53.828921Z"
    },
    "papermill": {
     "duration": 0.015856,
     "end_time": "2025-02-09T17:30:53.832289",
     "exception": false,
     "start_time": "2025-02-09T17:30:53.816433",
     "status": "completed"
    },
    "tags": []
   },
   "outputs": [
    {
     "data": {
      "text/plain": [
       "(93800, 19)"
      ]
     },
     "execution_count": 4,
     "metadata": {},
     "output_type": "execute_result"
    }
   ],
   "source": [
    "test_data.shape"
   ]
  },
  {
   "cell_type": "code",
   "execution_count": 5,
   "id": "837bad89",
   "metadata": {
    "execution": {
     "iopub.execute_input": "2025-02-09T17:30:53.848053Z",
     "iopub.status.busy": "2025-02-09T17:30:53.847616Z",
     "iopub.status.idle": "2025-02-09T17:30:53.892045Z",
     "shell.execute_reply": "2025-02-09T17:30:53.889848Z"
    },
    "papermill": {
     "duration": 0.055164,
     "end_time": "2025-02-09T17:30:53.894624",
     "exception": false,
     "start_time": "2025-02-09T17:30:53.839460",
     "status": "completed"
    },
    "tags": []
   },
   "outputs": [
    {
     "name": "stderr",
     "output_type": "stream",
     "text": [
      "/usr/local/lib/python3.10/dist-packages/pandas/io/formats/format.py:1458: RuntimeWarning: invalid value encountered in greater\n",
      "  has_large_values = (abs_vals > 1e6).any()\n",
      "/usr/local/lib/python3.10/dist-packages/pandas/io/formats/format.py:1459: RuntimeWarning: invalid value encountered in less\n",
      "  has_small_values = ((abs_vals < 10 ** (-self.digits)) & (abs_vals > 0)).any()\n",
      "/usr/local/lib/python3.10/dist-packages/pandas/io/formats/format.py:1459: RuntimeWarning: invalid value encountered in greater\n",
      "  has_small_values = ((abs_vals < 10 ** (-self.digits)) & (abs_vals > 0)).any()\n"
     ]
    },
    {
     "data": {
      "text/html": [
       "<div>\n",
       "<style scoped>\n",
       "    .dataframe tbody tr th:only-of-type {\n",
       "        vertical-align: middle;\n",
       "    }\n",
       "\n",
       "    .dataframe tbody tr th {\n",
       "        vertical-align: top;\n",
       "    }\n",
       "\n",
       "    .dataframe thead th {\n",
       "        text-align: right;\n",
       "    }\n",
       "</style>\n",
       "<table border=\"1\" class=\"dataframe\">\n",
       "  <thead>\n",
       "    <tr style=\"text-align: right;\">\n",
       "      <th></th>\n",
       "      <th>id</th>\n",
       "      <th>Name</th>\n",
       "      <th>Gender</th>\n",
       "      <th>Age</th>\n",
       "      <th>City</th>\n",
       "      <th>Working Professional or Student</th>\n",
       "      <th>Profession</th>\n",
       "      <th>Academic Pressure</th>\n",
       "      <th>Work Pressure</th>\n",
       "      <th>CGPA</th>\n",
       "      <th>Study Satisfaction</th>\n",
       "      <th>Job Satisfaction</th>\n",
       "      <th>Sleep Duration</th>\n",
       "      <th>Dietary Habits</th>\n",
       "      <th>Degree</th>\n",
       "      <th>Have you ever had suicidal thoughts ?</th>\n",
       "      <th>Work/Study Hours</th>\n",
       "      <th>Financial Stress</th>\n",
       "      <th>Family History of Mental Illness</th>\n",
       "      <th>Depression</th>\n",
       "    </tr>\n",
       "  </thead>\n",
       "  <tbody>\n",
       "    <tr>\n",
       "      <th>0</th>\n",
       "      <td>0</td>\n",
       "      <td>Aaradhya</td>\n",
       "      <td>Female</td>\n",
       "      <td>49.0</td>\n",
       "      <td>Ludhiana</td>\n",
       "      <td>Working Professional</td>\n",
       "      <td>Chef</td>\n",
       "      <td>NaN</td>\n",
       "      <td>5.0</td>\n",
       "      <td>NaN</td>\n",
       "      <td>NaN</td>\n",
       "      <td>2.0</td>\n",
       "      <td>More than 8 hours</td>\n",
       "      <td>Healthy</td>\n",
       "      <td>BHM</td>\n",
       "      <td>No</td>\n",
       "      <td>1.0</td>\n",
       "      <td>2.0</td>\n",
       "      <td>No</td>\n",
       "      <td>0</td>\n",
       "    </tr>\n",
       "    <tr>\n",
       "      <th>1</th>\n",
       "      <td>1</td>\n",
       "      <td>Vivan</td>\n",
       "      <td>Male</td>\n",
       "      <td>26.0</td>\n",
       "      <td>Varanasi</td>\n",
       "      <td>Working Professional</td>\n",
       "      <td>Teacher</td>\n",
       "      <td>NaN</td>\n",
       "      <td>4.0</td>\n",
       "      <td>NaN</td>\n",
       "      <td>NaN</td>\n",
       "      <td>3.0</td>\n",
       "      <td>Less than 5 hours</td>\n",
       "      <td>Unhealthy</td>\n",
       "      <td>LLB</td>\n",
       "      <td>Yes</td>\n",
       "      <td>7.0</td>\n",
       "      <td>3.0</td>\n",
       "      <td>No</td>\n",
       "      <td>1</td>\n",
       "    </tr>\n",
       "    <tr>\n",
       "      <th>2</th>\n",
       "      <td>2</td>\n",
       "      <td>Yuvraj</td>\n",
       "      <td>Male</td>\n",
       "      <td>33.0</td>\n",
       "      <td>Visakhapatnam</td>\n",
       "      <td>Student</td>\n",
       "      <td>NaN</td>\n",
       "      <td>5.0</td>\n",
       "      <td>NaN</td>\n",
       "      <td>8.97</td>\n",
       "      <td>2.0</td>\n",
       "      <td>NaN</td>\n",
       "      <td>5-6 hours</td>\n",
       "      <td>Healthy</td>\n",
       "      <td>B.Pharm</td>\n",
       "      <td>Yes</td>\n",
       "      <td>3.0</td>\n",
       "      <td>1.0</td>\n",
       "      <td>No</td>\n",
       "      <td>1</td>\n",
       "    </tr>\n",
       "    <tr>\n",
       "      <th>3</th>\n",
       "      <td>3</td>\n",
       "      <td>Yuvraj</td>\n",
       "      <td>Male</td>\n",
       "      <td>22.0</td>\n",
       "      <td>Mumbai</td>\n",
       "      <td>Working Professional</td>\n",
       "      <td>Teacher</td>\n",
       "      <td>NaN</td>\n",
       "      <td>5.0</td>\n",
       "      <td>NaN</td>\n",
       "      <td>NaN</td>\n",
       "      <td>1.0</td>\n",
       "      <td>Less than 5 hours</td>\n",
       "      <td>Moderate</td>\n",
       "      <td>BBA</td>\n",
       "      <td>Yes</td>\n",
       "      <td>10.0</td>\n",
       "      <td>1.0</td>\n",
       "      <td>Yes</td>\n",
       "      <td>1</td>\n",
       "    </tr>\n",
       "    <tr>\n",
       "      <th>4</th>\n",
       "      <td>4</td>\n",
       "      <td>Rhea</td>\n",
       "      <td>Female</td>\n",
       "      <td>30.0</td>\n",
       "      <td>Kanpur</td>\n",
       "      <td>Working Professional</td>\n",
       "      <td>Business Analyst</td>\n",
       "      <td>NaN</td>\n",
       "      <td>1.0</td>\n",
       "      <td>NaN</td>\n",
       "      <td>NaN</td>\n",
       "      <td>1.0</td>\n",
       "      <td>5-6 hours</td>\n",
       "      <td>Unhealthy</td>\n",
       "      <td>BBA</td>\n",
       "      <td>Yes</td>\n",
       "      <td>9.0</td>\n",
       "      <td>4.0</td>\n",
       "      <td>Yes</td>\n",
       "      <td>0</td>\n",
       "    </tr>\n",
       "  </tbody>\n",
       "</table>\n",
       "</div>"
      ],
      "text/plain": [
       "   id      Name  Gender   Age           City Working Professional or Student  \\\n",
       "0   0  Aaradhya  Female  49.0       Ludhiana            Working Professional   \n",
       "1   1     Vivan    Male  26.0       Varanasi            Working Professional   \n",
       "2   2    Yuvraj    Male  33.0  Visakhapatnam                         Student   \n",
       "3   3    Yuvraj    Male  22.0         Mumbai            Working Professional   \n",
       "4   4      Rhea  Female  30.0         Kanpur            Working Professional   \n",
       "\n",
       "         Profession  Academic Pressure  Work Pressure  CGPA  \\\n",
       "0              Chef                NaN            5.0   NaN   \n",
       "1           Teacher                NaN            4.0   NaN   \n",
       "2               NaN                5.0            NaN  8.97   \n",
       "3           Teacher                NaN            5.0   NaN   \n",
       "4  Business Analyst                NaN            1.0   NaN   \n",
       "\n",
       "   Study Satisfaction  Job Satisfaction     Sleep Duration Dietary Habits  \\\n",
       "0                 NaN               2.0  More than 8 hours        Healthy   \n",
       "1                 NaN               3.0  Less than 5 hours      Unhealthy   \n",
       "2                 2.0               NaN          5-6 hours        Healthy   \n",
       "3                 NaN               1.0  Less than 5 hours       Moderate   \n",
       "4                 NaN               1.0          5-6 hours      Unhealthy   \n",
       "\n",
       "    Degree Have you ever had suicidal thoughts ?  Work/Study Hours  \\\n",
       "0      BHM                                    No               1.0   \n",
       "1      LLB                                   Yes               7.0   \n",
       "2  B.Pharm                                   Yes               3.0   \n",
       "3      BBA                                   Yes              10.0   \n",
       "4      BBA                                   Yes               9.0   \n",
       "\n",
       "   Financial Stress Family History of Mental Illness  Depression  \n",
       "0               2.0                               No           0  \n",
       "1               3.0                               No           1  \n",
       "2               1.0                               No           1  \n",
       "3               1.0                              Yes           1  \n",
       "4               4.0                              Yes           0  "
      ]
     },
     "execution_count": 5,
     "metadata": {},
     "output_type": "execute_result"
    }
   ],
   "source": [
    "train_data.head()"
   ]
  },
  {
   "cell_type": "code",
   "execution_count": 6,
   "id": "0ea9257b",
   "metadata": {
    "execution": {
     "iopub.execute_input": "2025-02-09T17:30:53.912707Z",
     "iopub.status.busy": "2025-02-09T17:30:53.912294Z",
     "iopub.status.idle": "2025-02-09T17:30:54.024367Z",
     "shell.execute_reply": "2025-02-09T17:30:54.023101Z"
    },
    "papermill": {
     "duration": 0.123268,
     "end_time": "2025-02-09T17:30:54.026408",
     "exception": false,
     "start_time": "2025-02-09T17:30:53.903140",
     "status": "completed"
    },
    "tags": []
   },
   "outputs": [
    {
     "name": "stdout",
     "output_type": "stream",
     "text": [
      "<class 'pandas.core.frame.DataFrame'>\n",
      "RangeIndex: 140700 entries, 0 to 140699\n",
      "Data columns (total 20 columns):\n",
      " #   Column                                 Non-Null Count   Dtype  \n",
      "---  ------                                 --------------   -----  \n",
      " 0   id                                     140700 non-null  int64  \n",
      " 1   Name                                   140700 non-null  object \n",
      " 2   Gender                                 140700 non-null  object \n",
      " 3   Age                                    140700 non-null  float64\n",
      " 4   City                                   140700 non-null  object \n",
      " 5   Working Professional or Student        140700 non-null  object \n",
      " 6   Profession                             104070 non-null  object \n",
      " 7   Academic Pressure                      27897 non-null   float64\n",
      " 8   Work Pressure                          112782 non-null  float64\n",
      " 9   CGPA                                   27898 non-null   float64\n",
      " 10  Study Satisfaction                     27897 non-null   float64\n",
      " 11  Job Satisfaction                       112790 non-null  float64\n",
      " 12  Sleep Duration                         140700 non-null  object \n",
      " 13  Dietary Habits                         140696 non-null  object \n",
      " 14  Degree                                 140698 non-null  object \n",
      " 15  Have you ever had suicidal thoughts ?  140700 non-null  object \n",
      " 16  Work/Study Hours                       140700 non-null  float64\n",
      " 17  Financial Stress                       140696 non-null  float64\n",
      " 18  Family History of Mental Illness       140700 non-null  object \n",
      " 19  Depression                             140700 non-null  int64  \n",
      "dtypes: float64(8), int64(2), object(10)\n",
      "memory usage: 21.5+ MB\n"
     ]
    }
   ],
   "source": [
    "train_data.info()"
   ]
  },
  {
   "cell_type": "code",
   "execution_count": 7,
   "id": "9a7541fb",
   "metadata": {
    "execution": {
     "iopub.execute_input": "2025-02-09T17:30:54.042714Z",
     "iopub.status.busy": "2025-02-09T17:30:54.042364Z",
     "iopub.status.idle": "2025-02-09T17:30:54.106044Z",
     "shell.execute_reply": "2025-02-09T17:30:54.104087Z"
    },
    "papermill": {
     "duration": 0.074748,
     "end_time": "2025-02-09T17:30:54.108765",
     "exception": false,
     "start_time": "2025-02-09T17:30:54.034017",
     "status": "completed"
    },
    "tags": []
   },
   "outputs": [
    {
     "name": "stdout",
     "output_type": "stream",
     "text": [
      "<class 'pandas.core.frame.DataFrame'>\n",
      "RangeIndex: 93800 entries, 0 to 93799\n",
      "Data columns (total 19 columns):\n",
      " #   Column                                 Non-Null Count  Dtype  \n",
      "---  ------                                 --------------  -----  \n",
      " 0   id                                     93800 non-null  int64  \n",
      " 1   Name                                   93800 non-null  object \n",
      " 2   Gender                                 93800 non-null  object \n",
      " 3   Age                                    93800 non-null  float64\n",
      " 4   City                                   93800 non-null  object \n",
      " 5   Working Professional or Student        93800 non-null  object \n",
      " 6   Profession                             69168 non-null  object \n",
      " 7   Academic Pressure                      18767 non-null  float64\n",
      " 8   Work Pressure                          75022 non-null  float64\n",
      " 9   CGPA                                   18766 non-null  float64\n",
      " 10  Study Satisfaction                     18767 non-null  float64\n",
      " 11  Job Satisfaction                       75026 non-null  float64\n",
      " 12  Sleep Duration                         93800 non-null  object \n",
      " 13  Dietary Habits                         93795 non-null  object \n",
      " 14  Degree                                 93798 non-null  object \n",
      " 15  Have you ever had suicidal thoughts ?  93800 non-null  object \n",
      " 16  Work/Study Hours                       93800 non-null  float64\n",
      " 17  Financial Stress                       93800 non-null  float64\n",
      " 18  Family History of Mental Illness       93800 non-null  object \n",
      "dtypes: float64(8), int64(1), object(10)\n",
      "memory usage: 13.6+ MB\n"
     ]
    }
   ],
   "source": [
    "test_data.info()"
   ]
  },
  {
   "cell_type": "code",
   "execution_count": 8,
   "id": "fb134e9e",
   "metadata": {
    "execution": {
     "iopub.execute_input": "2025-02-09T17:30:54.125185Z",
     "iopub.status.busy": "2025-02-09T17:30:54.124746Z",
     "iopub.status.idle": "2025-02-09T17:30:54.207724Z",
     "shell.execute_reply": "2025-02-09T17:30:54.206522Z"
    },
    "papermill": {
     "duration": 0.09306,
     "end_time": "2025-02-09T17:30:54.209632",
     "exception": false,
     "start_time": "2025-02-09T17:30:54.116572",
     "status": "completed"
    },
    "tags": []
   },
   "outputs": [
    {
     "data": {
      "text/plain": [
       "id                                            0\n",
       "Name                                          0\n",
       "Gender                                        0\n",
       "Age                                           0\n",
       "City                                          0\n",
       "Working Professional or Student               0\n",
       "Profession                                36630\n",
       "Academic Pressure                        112803\n",
       "Work Pressure                             27918\n",
       "CGPA                                     112802\n",
       "Study Satisfaction                       112803\n",
       "Job Satisfaction                          27910\n",
       "Sleep Duration                                0\n",
       "Dietary Habits                                4\n",
       "Degree                                        2\n",
       "Have you ever had suicidal thoughts ?         0\n",
       "Work/Study Hours                              0\n",
       "Financial Stress                              4\n",
       "Family History of Mental Illness              0\n",
       "Depression                                    0\n",
       "dtype: int64"
      ]
     },
     "execution_count": 8,
     "metadata": {},
     "output_type": "execute_result"
    }
   ],
   "source": [
    "#check null values\n",
    "train_data.isnull().sum()"
   ]
  },
  {
   "cell_type": "code",
   "execution_count": 9,
   "id": "e2be7d1d",
   "metadata": {
    "execution": {
     "iopub.execute_input": "2025-02-09T17:30:54.226150Z",
     "iopub.status.busy": "2025-02-09T17:30:54.225743Z",
     "iopub.status.idle": "2025-02-09T17:30:54.283699Z",
     "shell.execute_reply": "2025-02-09T17:30:54.282351Z"
    },
    "papermill": {
     "duration": 0.068577,
     "end_time": "2025-02-09T17:30:54.285647",
     "exception": false,
     "start_time": "2025-02-09T17:30:54.217070",
     "status": "completed"
    },
    "tags": []
   },
   "outputs": [
    {
     "data": {
      "text/plain": [
       "id                                           0\n",
       "Name                                         0\n",
       "Gender                                       0\n",
       "Age                                          0\n",
       "City                                         0\n",
       "Working Professional or Student              0\n",
       "Profession                               24632\n",
       "Academic Pressure                        75033\n",
       "Work Pressure                            18778\n",
       "CGPA                                     75034\n",
       "Study Satisfaction                       75033\n",
       "Job Satisfaction                         18774\n",
       "Sleep Duration                               0\n",
       "Dietary Habits                               5\n",
       "Degree                                       2\n",
       "Have you ever had suicidal thoughts ?        0\n",
       "Work/Study Hours                             0\n",
       "Financial Stress                             0\n",
       "Family History of Mental Illness             0\n",
       "dtype: int64"
      ]
     },
     "execution_count": 9,
     "metadata": {},
     "output_type": "execute_result"
    }
   ],
   "source": [
    "test_data.isnull().sum()"
   ]
  },
  {
   "cell_type": "code",
   "execution_count": 10,
   "id": "190403ed",
   "metadata": {
    "execution": {
     "iopub.execute_input": "2025-02-09T17:30:54.301462Z",
     "iopub.status.busy": "2025-02-09T17:30:54.301081Z",
     "iopub.status.idle": "2025-02-09T17:30:54.445026Z",
     "shell.execute_reply": "2025-02-09T17:30:54.443485Z"
    },
    "papermill": {
     "duration": 0.155596,
     "end_time": "2025-02-09T17:30:54.448491",
     "exception": false,
     "start_time": "2025-02-09T17:30:54.292895",
     "status": "completed"
    },
    "tags": []
   },
   "outputs": [
    {
     "data": {
      "text/plain": [
       "0"
      ]
     },
     "execution_count": 10,
     "metadata": {},
     "output_type": "execute_result"
    }
   ],
   "source": [
    "train_data.duplicated().sum()"
   ]
  },
  {
   "cell_type": "code",
   "execution_count": 11,
   "id": "501b1bd4",
   "metadata": {
    "execution": {
     "iopub.execute_input": "2025-02-09T17:30:54.466298Z",
     "iopub.status.busy": "2025-02-09T17:30:54.465873Z",
     "iopub.status.idle": "2025-02-09T17:31:01.033276Z",
     "shell.execute_reply": "2025-02-09T17:31:01.031935Z"
    },
    "papermill": {
     "duration": 6.579547,
     "end_time": "2025-02-09T17:31:01.035940",
     "exception": false,
     "start_time": "2025-02-09T17:30:54.456393",
     "status": "completed"
    },
    "tags": []
   },
   "outputs": [
    {
     "data": {
      "image/png": "[encoded data removed]",
      "text/plain": [
       "<Figure size 1800x1200 with 1 Axes>"
      ]
     },
     "metadata": {},
     "output_type": "display_data"
    }
   ],
   "source": [
    "import matplotlib.pyplot as plt\n",
    "import seaborn as sns\n",
    "plt.figure(figsize=(18,12))\n",
    "plt.title(\"Visualizing Missing Values\")\n",
    "sns.heatmap(train_data.isnull(), cbar=False, yticklabels=False);"
   ]
  },
  {
   "cell_type": "code",
   "execution_count": 12,
   "id": "10f87444",
   "metadata": {
    "execution": {
     "iopub.execute_input": "2025-02-09T17:31:01.059745Z",
     "iopub.status.busy": "2025-02-09T17:31:01.059226Z",
     "iopub.status.idle": "2025-02-09T17:31:01.089125Z",
     "shell.execute_reply": "2025-02-09T17:31:01.087494Z"
    },
    "papermill": {
     "duration": 0.045076,
     "end_time": "2025-02-09T17:31:01.091337",
     "exception": false,
     "start_time": "2025-02-09T17:31:01.046261",
     "status": "completed"
    },
    "tags": []
   },
   "outputs": [],
   "source": [
    "# Drop 'id' column in both datasets\n",
    "train_data = train_data.drop(['id'], axis=1)\n",
    "test_data = test_data.drop(['id'], axis=1)"
   ]
  },
  {
   "cell_type": "code",
   "execution_count": 13,
   "id": "0e9155d6",
   "metadata": {
    "execution": {
     "iopub.execute_input": "2025-02-09T17:31:01.113765Z",
     "iopub.status.busy": "2025-02-09T17:31:01.113364Z",
     "iopub.status.idle": "2025-02-09T17:31:01.131479Z",
     "shell.execute_reply": "2025-02-09T17:31:01.130205Z"
    },
    "papermill": {
     "duration": 0.03259,
     "end_time": "2025-02-09T17:31:01.133815",
     "exception": false,
     "start_time": "2025-02-09T17:31:01.101225",
     "status": "completed"
    },
    "tags": []
   },
   "outputs": [],
   "source": [
    "categorical_columns = train_data.select_dtypes(include=['object']).columns\n",
    "numerical_columns = train_data.select_dtypes(exclude=['object']).columns.drop('Depression')"
   ]
  },
  {
   "cell_type": "code",
   "execution_count": 14,
   "id": "003eb53d",
   "metadata": {
    "execution": {
     "iopub.execute_input": "2025-02-09T17:31:01.154032Z",
     "iopub.status.busy": "2025-02-09T17:31:01.153620Z",
     "iopub.status.idle": "2025-02-09T17:31:01.161371Z",
     "shell.execute_reply": "2025-02-09T17:31:01.159912Z"
    },
    "papermill": {
     "duration": 0.019986,
     "end_time": "2025-02-09T17:31:01.163364",
     "exception": false,
     "start_time": "2025-02-09T17:31:01.143378",
     "status": "completed"
    },
    "tags": []
   },
   "outputs": [
    {
     "data": {
      "text/plain": [
       "(Index(['Name', 'Gender', 'City', 'Working Professional or Student',\n",
       "        'Profession', 'Sleep Duration', 'Dietary Habits', 'Degree',\n",
       "        'Have you ever had suicidal thoughts ?',\n",
       "        'Family History of Mental Illness'],\n",
       "       dtype='object'),\n",
       " Index(['Age', 'Academic Pressure', 'Work Pressure', 'CGPA',\n",
       "        'Study Satisfaction', 'Job Satisfaction', 'Work/Study Hours',\n",
       "        'Financial Stress'],\n",
       "       dtype='object'))"
      ]
     },
     "execution_count": 14,
     "metadata": {},
     "output_type": "execute_result"
    }
   ],
   "source": [
    "categorical_columns, numerical_columns"
   ]
  },
  {
   "cell_type": "code",
   "execution_count": 15,
   "id": "e4a2ca3c",
   "metadata": {
    "execution": {
     "iopub.execute_input": "2025-02-09T17:31:01.182662Z",
     "iopub.status.busy": "2025-02-09T17:31:01.182308Z",
     "iopub.status.idle": "2025-02-09T17:31:02.023081Z",
     "shell.execute_reply": "2025-02-09T17:31:02.021721Z"
    },
    "papermill": {
     "duration": 0.852969,
     "end_time": "2025-02-09T17:31:02.025324",
     "exception": false,
     "start_time": "2025-02-09T17:31:01.172355",
     "status": "completed"
    },
    "tags": []
   },
   "outputs": [],
   "source": [
    "# Handle null values in numerical columns\n",
    "from sklearn.impute import SimpleImputer\n",
    "imputer = SimpleImputer(strategy='median')\n",
    "\n",
    "# Apply imputation to relevant columns, which are numerical and have null values\n",
    "columns_to_impute = ['Academic Pressure', 'Work Pressure', 'CGPA', 'Study Satisfaction', 'Job Satisfaction', 'Financial Stress']\n",
    "train_data[columns_to_impute] = imputer.fit_transform(train_data[columns_to_impute])"
   ]
  },
  {
   "cell_type": "code",
   "execution_count": 16,
   "id": "b50f4bf5",
   "metadata": {
    "execution": {
     "iopub.execute_input": "2025-02-09T17:31:02.045945Z",
     "iopub.status.busy": "2025-02-09T17:31:02.045527Z",
     "iopub.status.idle": "2025-02-09T17:31:02.137637Z",
     "shell.execute_reply": "2025-02-09T17:31:02.136065Z"
    },
    "papermill": {
     "duration": 0.105888,
     "end_time": "2025-02-09T17:31:02.140258",
     "exception": false,
     "start_time": "2025-02-09T17:31:02.034370",
     "status": "completed"
    },
    "tags": []
   },
   "outputs": [],
   "source": [
    "test_copy = test_data.copy() \n",
    "test_copy[columns_to_impute] = imputer.fit_transform(test_copy[columns_to_impute])"
   ]
  },
  {
   "cell_type": "code",
   "execution_count": 17,
   "id": "6be8d7a8",
   "metadata": {
    "execution": {
     "iopub.execute_input": "2025-02-09T17:31:02.161743Z",
     "iopub.status.busy": "2025-02-09T17:31:02.161343Z",
     "iopub.status.idle": "2025-02-09T17:31:02.252002Z",
     "shell.execute_reply": "2025-02-09T17:31:02.250295Z"
    },
    "papermill": {
     "duration": 0.104665,
     "end_time": "2025-02-09T17:31:02.254130",
     "exception": false,
     "start_time": "2025-02-09T17:31:02.149465",
     "status": "completed"
    },
    "tags": []
   },
   "outputs": [
    {
     "data": {
      "text/plain": [
       "Name                                         0\n",
       "Gender                                       0\n",
       "Age                                          0\n",
       "City                                         0\n",
       "Working Professional or Student              0\n",
       "Profession                               36630\n",
       "Academic Pressure                            0\n",
       "Work Pressure                                0\n",
       "CGPA                                         0\n",
       "Study Satisfaction                           0\n",
       "Job Satisfaction                             0\n",
       "Sleep Duration                               0\n",
       "Dietary Habits                               4\n",
       "Degree                                       2\n",
       "Have you ever had suicidal thoughts ?        0\n",
       "Work/Study Hours                             0\n",
       "Financial Stress                             0\n",
       "Family History of Mental Illness             0\n",
       "Depression                                   0\n",
       "dtype: int64"
      ]
     },
     "execution_count": 17,
     "metadata": {},
     "output_type": "execute_result"
    }
   ],
   "source": [
    "train_data.isnull().sum()"
   ]
  },
  {
   "cell_type": "code",
   "execution_count": 18,
   "id": "2c6d520d",
   "metadata": {
    "execution": {
     "iopub.execute_input": "2025-02-09T17:31:02.279301Z",
     "iopub.status.busy": "2025-02-09T17:31:02.278919Z",
     "iopub.status.idle": "2025-02-09T17:31:02.592672Z",
     "shell.execute_reply": "2025-02-09T17:31:02.591245Z"
    },
    "papermill": {
     "duration": 0.327909,
     "end_time": "2025-02-09T17:31:02.594889",
     "exception": false,
     "start_time": "2025-02-09T17:31:02.266980",
     "status": "completed"
    },
    "tags": []
   },
   "outputs": [],
   "source": [
    "# Encode categorical columns\n",
    "from sklearn.preprocessing import LabelEncoder\n",
    "label_encoders = {}\n",
    "for col in categorical_columns:\n",
    "    le = LabelEncoder()\n",
    "    train_data[col] = le.fit_transform(train_data[col])\n",
    "    label_encoders[col] = le"
   ]
  },
  {
   "cell_type": "code",
   "execution_count": 19,
   "id": "5ca70331",
   "metadata": {
    "execution": {
     "iopub.execute_input": "2025-02-09T17:31:02.615251Z",
     "iopub.status.busy": "2025-02-09T17:31:02.614891Z",
     "iopub.status.idle": "2025-02-09T17:31:02.825444Z",
     "shell.execute_reply": "2025-02-09T17:31:02.823967Z"
    },
    "papermill": {
     "duration": 0.223952,
     "end_time": "2025-02-09T17:31:02.827821",
     "exception": false,
     "start_time": "2025-02-09T17:31:02.603869",
     "status": "completed"
    },
    "tags": []
   },
   "outputs": [],
   "source": [
    "label_encoders = {}\n",
    "for col in categorical_columns:\n",
    "    le = LabelEncoder()\n",
    "    test_copy[col] = le.fit_transform(test_copy[col])\n",
    "    label_encoders[col] = le"
   ]
  },
  {
   "cell_type": "code",
   "execution_count": 20,
   "id": "da39ca95",
   "metadata": {
    "execution": {
     "iopub.execute_input": "2025-02-09T17:31:02.848379Z",
     "iopub.status.busy": "2025-02-09T17:31:02.847997Z",
     "iopub.status.idle": "2025-02-09T17:31:02.864026Z",
     "shell.execute_reply": "2025-02-09T17:31:02.862757Z"
    },
    "papermill": {
     "duration": 0.028947,
     "end_time": "2025-02-09T17:31:02.866418",
     "exception": false,
     "start_time": "2025-02-09T17:31:02.837471",
     "status": "completed"
    },
    "tags": []
   },
   "outputs": [
    {
     "data": {
      "text/plain": [
       "Name                                     0\n",
       "Gender                                   0\n",
       "Age                                      0\n",
       "City                                     0\n",
       "Working Professional or Student          0\n",
       "Profession                               0\n",
       "Academic Pressure                        0\n",
       "Work Pressure                            0\n",
       "CGPA                                     0\n",
       "Study Satisfaction                       0\n",
       "Job Satisfaction                         0\n",
       "Sleep Duration                           0\n",
       "Dietary Habits                           0\n",
       "Degree                                   0\n",
       "Have you ever had suicidal thoughts ?    0\n",
       "Work/Study Hours                         0\n",
       "Financial Stress                         0\n",
       "Family History of Mental Illness         0\n",
       "Depression                               0\n",
       "dtype: int64"
      ]
     },
     "execution_count": 20,
     "metadata": {},
     "output_type": "execute_result"
    }
   ],
   "source": [
    "train_data.isnull().sum()"
   ]
  },
  {
   "cell_type": "code",
   "execution_count": 21,
   "id": "1217d162",
   "metadata": {
    "execution": {
     "iopub.execute_input": "2025-02-09T17:31:02.886329Z",
     "iopub.status.busy": "2025-02-09T17:31:02.885957Z",
     "iopub.status.idle": "2025-02-09T17:31:02.903066Z",
     "shell.execute_reply": "2025-02-09T17:31:02.901761Z"
    },
    "papermill": {
     "duration": 0.02981,
     "end_time": "2025-02-09T17:31:02.905585",
     "exception": false,
     "start_time": "2025-02-09T17:31:02.875775",
     "status": "completed"
    },
    "tags": []
   },
   "outputs": [],
   "source": [
    "# Prepare features and target variable\n",
    "X = train_data.drop(columns=['Depression'])\n",
    "y = train_data['Depression']"
   ]
  },
  {
   "cell_type": "code",
   "execution_count": 22,
   "id": "42ff1974",
   "metadata": {
    "execution": {
     "iopub.execute_input": "2025-02-09T17:31:02.926239Z",
     "iopub.status.busy": "2025-02-09T17:31:02.925876Z",
     "iopub.status.idle": "2025-02-09T17:31:02.995283Z",
     "shell.execute_reply": "2025-02-09T17:31:02.993954Z"
    },
    "papermill": {
     "duration": 0.082698,
     "end_time": "2025-02-09T17:31:02.997450",
     "exception": false,
     "start_time": "2025-02-09T17:31:02.914752",
     "status": "completed"
    },
    "tags": []
   },
   "outputs": [],
   "source": [
    "# Train-test split\n",
    "from sklearn.model_selection import train_test_split\n",
    "X_train, X_test, y_train, y_test = train_test_split(X, y, test_size=0.2, random_state=42)"
   ]
  },
  {
   "cell_type": "code",
   "execution_count": 23,
   "id": "293498c8",
   "metadata": {
    "execution": {
     "iopub.execute_input": "2025-02-09T17:31:03.017230Z",
     "iopub.status.busy": "2025-02-09T17:31:03.016765Z",
     "iopub.status.idle": "2025-02-09T17:31:06.929366Z",
     "shell.execute_reply": "2025-02-09T17:31:06.928154Z"
    },
    "papermill": {
     "duration": 3.924485,
     "end_time": "2025-02-09T17:31:06.931150",
     "exception": false,
     "start_time": "2025-02-09T17:31:03.006665",
     "status": "completed"
    },
    "tags": []
   },
   "outputs": [
    {
     "data": {
      "text/html": [
       "<style>#sk-container-id-1 {color: black;background-color: white;}#sk-container-id-1 pre{padding: 0;}#sk-container-id-1 div.sk-toggleable {background-color: white;}#sk-container-id-1 label.sk-toggleable__label {cursor: pointer;display: block;width: 100%;margin-bottom: 0;padding: 0.3em;box-sizing: border-box;text-align: center;}#sk-container-id-1 label.sk-toggleable__label-arrow:before {content: \"▸\";float: left;margin-right: 0.25em;color: #696969;}#sk-container-id-1 label.sk-toggleable__label-arrow:hover:before {color: black;}#sk-container-id-1 div.sk-estimator:hover label.sk-toggleable__label-arrow:before {color: black;}#sk-container-id-1 div.sk-toggleable__content {max-height: 0;max-width: 0;overflow: hidden;text-align: left;background-color: #f0f8ff;}#sk-container-id-1 div.sk-toggleable__content pre {margin: 0.2em;color: black;border-radius: 0.25em;background-color: #f0f8ff;}#sk-container-id-1 input.sk-toggleable__control:checked~div.sk-toggleable__content {max-height: 200px;max-width: 100%;overflow: auto;}#sk-container-id-1 input.sk-toggleable__control:checked~label.sk-toggleable__label-arrow:before {content: \"▾\";}#sk-container-id-1 div.sk-estimator input.sk-toggleable__control:checked~label.sk-toggleable__label {background-color: #d4ebff;}#sk-container-id-1 div.sk-label input.sk-toggleable__control:checked~label.sk-toggleable__label {background-color: #d4ebff;}#sk-container-id-1 input.sk-hidden--visually {border: 0;clip: rect(1px 1px 1px 1px);clip: rect(1px, 1px, 1px, 1px);height: 1px;margin: -1px;overflow: hidden;padding: 0;position: absolute;width: 1px;}#sk-container-id-1 div.sk-estimator {font-family: monospace;background-color: #f0f8ff;border: 1px dotted black;border-radius: 0.25em;box-sizing: border-box;margin-bottom: 0.5em;}#sk-container-id-1 div.sk-estimator:hover {background-color: #d4ebff;}#sk-container-id-1 div.sk-parallel-item::after {content: \"\";width: 100%;border-bottom: 1px solid gray;flex-grow: 1;}#sk-container-id-1 div.sk-label:hover label.sk-toggleable__label {background-color: #d4ebff;}#sk-container-id-1 div.sk-serial::before {content: \"\";position: absolute;border-left: 1px solid gray;box-sizing: border-box;top: 0;bottom: 0;left: 50%;z-index: 0;}#sk-container-id-1 div.sk-serial {display: flex;flex-direction: column;align-items: center;background-color: white;padding-right: 0.2em;padding-left: 0.2em;position: relative;}#sk-container-id-1 div.sk-item {position: relative;z-index: 1;}#sk-container-id-1 div.sk-parallel {display: flex;align-items: stretch;justify-content: center;background-color: white;position: relative;}#sk-container-id-1 div.sk-item::before, #sk-container-id-1 div.sk-parallel-item::before {content: \"\";position: absolute;border-left: 1px solid gray;box-sizing: border-box;top: 0;bottom: 0;left: 50%;z-index: -1;}#sk-container-id-1 div.sk-parallel-item {display: flex;flex-direction: column;z-index: 1;position: relative;background-color: white;}#sk-container-id-1 div.sk-parallel-item:first-child::after {align-self: flex-end;width: 50%;}#sk-container-id-1 div.sk-parallel-item:last-child::after {align-self: flex-start;width: 50%;}#sk-container-id-1 div.sk-parallel-item:only-child::after {width: 0;}#sk-container-id-1 div.sk-dashed-wrapped {border: 1px dashed gray;margin: 0 0.4em 0.5em 0.4em;box-sizing: border-box;padding-bottom: 0.4em;background-color: white;}#sk-container-id-1 div.sk-label label {font-family: monospace;font-weight: bold;display: inline-block;line-height: 1.2em;}#sk-container-id-1 div.sk-label-container {text-align: center;}#sk-container-id-1 div.sk-container {/* jupyter's `normalize.less` sets `[hidden] { display: none; }` but bootstrap.min.css set `[hidden] { display: none !important; }` so we also need the `!important` here to be able to override the default hidden behavior on the sphinx rendered scikit-learn.org. See: https://github.com/scikit-learn/scikit-learn/issues/21755 */display: inline-block !important;position: relative;}#sk-container-id-1 div.sk-text-repr-fallback {display: none;}</style><div id=\"sk-container-id-1\" class=\"sk-top-container\"><div class=\"sk-text-repr-fallback\"><pre>RandomForestRegressor(max_depth=10, min_samples_split=5, n_estimators=10,\n",
       "                      random_state=42)</pre><b>In a Jupyter environment, please rerun this cell to show the HTML representation or trust the notebook. <br />On GitHub, the HTML representation is unable to render, please try loading this page with nbviewer.org.</b></div><div class=\"sk-container\" hidden><div class=\"sk-item\"><div class=\"sk-estimator sk-toggleable\"><input class=\"sk-toggleable__control sk-hidden--visually\" id=\"sk-estimator-id-1\" type=\"checkbox\" checked><label for=\"sk-estimator-id-1\" class=\"sk-toggleable__label sk-toggleable__label-arrow\">RandomForestRegressor</label><div class=\"sk-toggleable__content\"><pre>RandomForestRegressor(max_depth=10, min_samples_split=5, n_estimators=10,\n",
       "                      random_state=42)</pre></div></div></div></div></div>"
      ],
      "text/plain": [
       "RandomForestRegressor(max_depth=10, min_samples_split=5, n_estimators=10,\n",
       "                      random_state=42)"
      ]
     },
     "execution_count": 23,
     "metadata": {},
     "output_type": "execute_result"
    }
   ],
   "source": [
    "# Train the Random Forest model\n",
    "from sklearn.ensemble import RandomForestRegressor\n",
    "model = RandomForestRegressor(\n",
    "    n_estimators=10,\n",
    "    max_depth=10,\n",
    "    min_samples_split=5,\n",
    "    random_state=42\n",
    ")\n",
    "model.fit(X_train, y_train)"
   ]
  },
  {
   "cell_type": "code",
   "execution_count": 24,
   "id": "a260d91e",
   "metadata": {
    "execution": {
     "iopub.execute_input": "2025-02-09T17:31:06.953467Z",
     "iopub.status.busy": "2025-02-09T17:31:06.953085Z",
     "iopub.status.idle": "2025-02-09T17:31:06.958036Z",
     "shell.execute_reply": "2025-02-09T17:31:06.956895Z"
    },
    "papermill": {
     "duration": 0.018015,
     "end_time": "2025-02-09T17:31:06.959984",
     "exception": false,
     "start_time": "2025-02-09T17:31:06.941969",
     "status": "completed"
    },
    "tags": []
   },
   "outputs": [],
   "source": [
    "selected_features = ['Age', 'Financial Stress', 'Academic Pressure', 'Working Professional or Student', 'Work Pressure', 'Have you ever had suicidal thoughts ?', 'Job Satisfaction', 'Work/Study Hours', 'Dietary Habits', 'Sleep Duration']"
   ]
  },
  {
   "cell_type": "code",
   "execution_count": 25,
   "id": "f0c9f81a",
   "metadata": {
    "execution": {
     "iopub.execute_input": "2025-02-09T17:31:06.980544Z",
     "iopub.status.busy": "2025-02-09T17:31:06.980195Z",
     "iopub.status.idle": "2025-02-09T17:31:06.991078Z",
     "shell.execute_reply": "2025-02-09T17:31:06.989866Z"
    },
    "papermill": {
     "duration": 0.023792,
     "end_time": "2025-02-09T17:31:06.993208",
     "exception": false,
     "start_time": "2025-02-09T17:31:06.969416",
     "status": "completed"
    },
    "tags": []
   },
   "outputs": [],
   "source": [
    "X_selected = X[selected_features]"
   ]
  },
  {
   "cell_type": "code",
   "execution_count": 26,
   "id": "f389c886",
   "metadata": {
    "execution": {
     "iopub.execute_input": "2025-02-09T17:31:07.016076Z",
     "iopub.status.busy": "2025-02-09T17:31:07.015499Z",
     "iopub.status.idle": "2025-02-09T17:31:07.105073Z",
     "shell.execute_reply": "2025-02-09T17:31:07.103774Z"
    },
    "papermill": {
     "duration": 0.102703,
     "end_time": "2025-02-09T17:31:07.107457",
     "exception": false,
     "start_time": "2025-02-09T17:31:07.004754",
     "status": "completed"
    },
    "tags": []
   },
   "outputs": [],
   "source": [
    "# Assuming 'y' is your target variable (Depression)\n",
    "X_train, X_test, y_train, y_test = train_test_split(X_selected, y, test_size=0.2, random_state=42, stratify=y)"
   ]
  },
  {
   "cell_type": "code",
   "execution_count": 27,
   "id": "f3aa2e8e",
   "metadata": {
    "execution": {
     "iopub.execute_input": "2025-02-09T17:31:07.128487Z",
     "iopub.status.busy": "2025-02-09T17:31:07.128112Z",
     "iopub.status.idle": "2025-02-09T17:31:08.844409Z",
     "shell.execute_reply": "2025-02-09T17:31:08.843180Z"
    },
    "papermill": {
     "duration": 1.72925,
     "end_time": "2025-02-09T17:31:08.846589",
     "exception": false,
     "start_time": "2025-02-09T17:31:07.117339",
     "status": "completed"
    },
    "tags": []
   },
   "outputs": [
    {
     "data": {
      "text/html": [
       "<style>#sk-container-id-2 {color: black;background-color: white;}#sk-container-id-2 pre{padding: 0;}#sk-container-id-2 div.sk-toggleable {background-color: white;}#sk-container-id-2 label.sk-toggleable__label {cursor: pointer;display: block;width: 100%;margin-bottom: 0;padding: 0.3em;box-sizing: border-box;text-align: center;}#sk-container-id-2 label.sk-toggleable__label-arrow:before {content: \"▸\";float: left;margin-right: 0.25em;color: #696969;}#sk-container-id-2 label.sk-toggleable__label-arrow:hover:before {color: black;}#sk-container-id-2 div.sk-estimator:hover label.sk-toggleable__label-arrow:before {color: black;}#sk-container-id-2 div.sk-toggleable__content {max-height: 0;max-width: 0;overflow: hidden;text-align: left;background-color: #f0f8ff;}#sk-container-id-2 div.sk-toggleable__content pre {margin: 0.2em;color: black;border-radius: 0.25em;background-color: #f0f8ff;}#sk-container-id-2 input.sk-toggleable__control:checked~div.sk-toggleable__content {max-height: 200px;max-width: 100%;overflow: auto;}#sk-container-id-2 input.sk-toggleable__control:checked~label.sk-toggleable__label-arrow:before {content: \"▾\";}#sk-container-id-2 div.sk-estimator input.sk-toggleable__control:checked~label.sk-toggleable__label {background-color: #d4ebff;}#sk-container-id-2 div.sk-label input.sk-toggleable__control:checked~label.sk-toggleable__label {background-color: #d4ebff;}#sk-container-id-2 input.sk-hidden--visually {border: 0;clip: rect(1px 1px 1px 1px);clip: rect(1px, 1px, 1px, 1px);height: 1px;margin: -1px;overflow: hidden;padding: 0;position: absolute;width: 1px;}#sk-container-id-2 div.sk-estimator {font-family: monospace;background-color: #f0f8ff;border: 1px dotted black;border-radius: 0.25em;box-sizing: border-box;margin-bottom: 0.5em;}#sk-container-id-2 div.sk-estimator:hover {background-color: #d4ebff;}#sk-container-id-2 div.sk-parallel-item::after {content: \"\";width: 100%;border-bottom: 1px solid gray;flex-grow: 1;}#sk-container-id-2 div.sk-label:hover label.sk-toggleable__label {background-color: #d4ebff;}#sk-container-id-2 div.sk-serial::before {content: \"\";position: absolute;border-left: 1px solid gray;box-sizing: border-box;top: 0;bottom: 0;left: 50%;z-index: 0;}#sk-container-id-2 div.sk-serial {display: flex;flex-direction: column;align-items: center;background-color: white;padding-right: 0.2em;padding-left: 0.2em;position: relative;}#sk-container-id-2 div.sk-item {position: relative;z-index: 1;}#sk-container-id-2 div.sk-parallel {display: flex;align-items: stretch;justify-content: center;background-color: white;position: relative;}#sk-container-id-2 div.sk-item::before, #sk-container-id-2 div.sk-parallel-item::before {content: \"\";position: absolute;border-left: 1px solid gray;box-sizing: border-box;top: 0;bottom: 0;left: 50%;z-index: -1;}#sk-container-id-2 div.sk-parallel-item {display: flex;flex-direction: column;z-index: 1;position: relative;background-color: white;}#sk-container-id-2 div.sk-parallel-item:first-child::after {align-self: flex-end;width: 50%;}#sk-container-id-2 div.sk-parallel-item:last-child::after {align-self: flex-start;width: 50%;}#sk-container-id-2 div.sk-parallel-item:only-child::after {width: 0;}#sk-container-id-2 div.sk-dashed-wrapped {border: 1px dashed gray;margin: 0 0.4em 0.5em 0.4em;box-sizing: border-box;padding-bottom: 0.4em;background-color: white;}#sk-container-id-2 div.sk-label label {font-family: monospace;font-weight: bold;display: inline-block;line-height: 1.2em;}#sk-container-id-2 div.sk-label-container {text-align: center;}#sk-container-id-2 div.sk-container {/* jupyter's `normalize.less` sets `[hidden] { display: none; }` but bootstrap.min.css set `[hidden] { display: none !important; }` so we also need the `!important` here to be able to override the default hidden behavior on the sphinx rendered scikit-learn.org. See: https://github.com/scikit-learn/scikit-learn/issues/21755 */display: inline-block !important;position: relative;}#sk-container-id-2 div.sk-text-repr-fallback {display: none;}</style><div id=\"sk-container-id-2\" class=\"sk-top-container\"><div class=\"sk-text-repr-fallback\"><pre>RandomForestRegressor(max_depth=10, min_samples_split=5, n_estimators=10,\n",
       "                      random_state=42)</pre><b>In a Jupyter environment, please rerun this cell to show the HTML representation or trust the notebook. <br />On GitHub, the HTML representation is unable to render, please try loading this page with nbviewer.org.</b></div><div class=\"sk-container\" hidden><div class=\"sk-item\"><div class=\"sk-estimator sk-toggleable\"><input class=\"sk-toggleable__control sk-hidden--visually\" id=\"sk-estimator-id-2\" type=\"checkbox\" checked><label for=\"sk-estimator-id-2\" class=\"sk-toggleable__label sk-toggleable__label-arrow\">RandomForestRegressor</label><div class=\"sk-toggleable__content\"><pre>RandomForestRegressor(max_depth=10, min_samples_split=5, n_estimators=10,\n",
       "                      random_state=42)</pre></div></div></div></div></div>"
      ],
      "text/plain": [
       "RandomForestRegressor(max_depth=10, min_samples_split=5, n_estimators=10,\n",
       "                      random_state=42)"
      ]
     },
     "execution_count": 27,
     "metadata": {},
     "output_type": "execute_result"
    }
   ],
   "source": [
    "# Train the Random Forest model\n",
    "from sklearn.ensemble import RandomForestRegressor\n",
    "my_model = RandomForestRegressor(\n",
    "    n_estimators=10,\n",
    "    max_depth=10,\n",
    "    min_samples_split=5,\n",
    "    random_state=42\n",
    ")\n",
    "my_model.fit(X_train, y_train)"
   ]
  },
  {
   "cell_type": "code",
   "execution_count": 28,
   "id": "21c9aeb4",
   "metadata": {
    "execution": {
     "iopub.execute_input": "2025-02-09T17:31:08.867964Z",
     "iopub.status.busy": "2025-02-09T17:31:08.867498Z",
     "iopub.status.idle": "2025-02-09T17:31:08.911031Z",
     "shell.execute_reply": "2025-02-09T17:31:08.909367Z"
    },
    "papermill": {
     "duration": 0.056389,
     "end_time": "2025-02-09T17:31:08.913029",
     "exception": false,
     "start_time": "2025-02-09T17:31:08.856640",
     "status": "completed"
    },
    "tags": []
   },
   "outputs": [
    {
     "name": "stdout",
     "output_type": "stream",
     "text": [
      "Mean Absolute Error: 0.09813308021974619\n"
     ]
    }
   ],
   "source": [
    "from sklearn.metrics import mean_absolute_error\n",
    "\n",
    "#calculate mean absolute error\n",
    "predictions = my_model.predict(X_test)\n",
    "print(\"Mean Absolute Error: \" + str(mean_absolute_error(predictions, y_test)))"
   ]
  },
  {
   "cell_type": "code",
   "execution_count": 29,
   "id": "91885476",
   "metadata": {
    "execution": {
     "iopub.execute_input": "2025-02-09T17:31:08.934937Z",
     "iopub.status.busy": "2025-02-09T17:31:08.934484Z",
     "iopub.status.idle": "2025-02-09T17:31:08.944936Z",
     "shell.execute_reply": "2025-02-09T17:31:08.943654Z"
    },
    "papermill": {
     "duration": 0.023346,
     "end_time": "2025-02-09T17:31:08.946938",
     "exception": false,
     "start_time": "2025-02-09T17:31:08.923592",
     "status": "completed"
    },
    "tags": []
   },
   "outputs": [],
   "source": [
    "test_copy = test_copy[selected_features]"
   ]
  },
  {
   "cell_type": "code",
   "execution_count": 30,
   "id": "1fb09ca0",
   "metadata": {
    "execution": {
     "iopub.execute_input": "2025-02-09T17:31:08.968633Z",
     "iopub.status.busy": "2025-02-09T17:31:08.968233Z",
     "iopub.status.idle": "2025-02-09T17:31:09.179595Z",
     "shell.execute_reply": "2025-02-09T17:31:09.178349Z"
    },
    "papermill": {
     "duration": 0.22439,
     "end_time": "2025-02-09T17:31:09.181662",
     "exception": false,
     "start_time": "2025-02-09T17:31:08.957272",
     "status": "completed"
    },
    "tags": []
   },
   "outputs": [
    {
     "data": {
      "text/html": [
       "<div>\n",
       "<style scoped>\n",
       "    .dataframe tbody tr th:only-of-type {\n",
       "        vertical-align: middle;\n",
       "    }\n",
       "\n",
       "    .dataframe tbody tr th {\n",
       "        vertical-align: top;\n",
       "    }\n",
       "\n",
       "    .dataframe thead th {\n",
       "        text-align: right;\n",
       "    }\n",
       "</style>\n",
       "<table border=\"1\" class=\"dataframe\">\n",
       "  <thead>\n",
       "    <tr style=\"text-align: right;\">\n",
       "      <th></th>\n",
       "      <th>id</th>\n",
       "      <th>Depression</th>\n",
       "    </tr>\n",
       "  </thead>\n",
       "  <tbody>\n",
       "    <tr>\n",
       "      <th>0</th>\n",
       "      <td>140700</td>\n",
       "      <td>0</td>\n",
       "    </tr>\n",
       "    <tr>\n",
       "      <th>1</th>\n",
       "      <td>140701</td>\n",
       "      <td>0</td>\n",
       "    </tr>\n",
       "    <tr>\n",
       "      <th>2</th>\n",
       "      <td>140702</td>\n",
       "      <td>0</td>\n",
       "    </tr>\n",
       "    <tr>\n",
       "      <th>3</th>\n",
       "      <td>140703</td>\n",
       "      <td>1</td>\n",
       "    </tr>\n",
       "    <tr>\n",
       "      <th>4</th>\n",
       "      <td>140704</td>\n",
       "      <td>0</td>\n",
       "    </tr>\n",
       "    <tr>\n",
       "      <th>...</th>\n",
       "      <td>...</td>\n",
       "      <td>...</td>\n",
       "    </tr>\n",
       "    <tr>\n",
       "      <th>93795</th>\n",
       "      <td>234495</td>\n",
       "      <td>0</td>\n",
       "    </tr>\n",
       "    <tr>\n",
       "      <th>93796</th>\n",
       "      <td>234496</td>\n",
       "      <td>1</td>\n",
       "    </tr>\n",
       "    <tr>\n",
       "      <th>93797</th>\n",
       "      <td>234497</td>\n",
       "      <td>0</td>\n",
       "    </tr>\n",
       "    <tr>\n",
       "      <th>93798</th>\n",
       "      <td>234498</td>\n",
       "      <td>1</td>\n",
       "    </tr>\n",
       "    <tr>\n",
       "      <th>93799</th>\n",
       "      <td>234499</td>\n",
       "      <td>0</td>\n",
       "    </tr>\n",
       "  </tbody>\n",
       "</table>\n",
       "<p>93800 rows × 2 columns</p>\n",
       "</div>"
      ],
      "text/plain": [
       "           id  Depression\n",
       "0      140700           0\n",
       "1      140701           0\n",
       "2      140702           0\n",
       "3      140703           1\n",
       "4      140704           0\n",
       "...       ...         ...\n",
       "93795  234495           0\n",
       "93796  234496           1\n",
       "93797  234497           0\n",
       "93798  234498           1\n",
       "93799  234499           0\n",
       "\n",
       "[93800 rows x 2 columns]"
      ]
     },
     "execution_count": 30,
     "metadata": {},
     "output_type": "execute_result"
    }
   ],
   "source": [
    "sample_submission = pd.read_csv(\"/kaggle/input/playground-series-s4e11/sample_submission.csv\")\n",
    "sample_submission[\"Depression\"] =  my_model.predict(test_copy)\n",
    "sample_submission[\"Depression\"] = (sample_submission[\"Depression\"] >= 0.5).astype(int)\n",
    "sample_submission.to_csv(\"submission.csv\",index=False)\n",
    "sample_submission"
   ]
  }
 ],
 "metadata": {
  "kaggle": {
   "accelerator": "none",
   "dataSources": [
    {
     "databundleVersionId": 10008389,
     "sourceId": 84895,
     "sourceType": "competition"
    }
   ],
   "dockerImageVersionId": 30886,
   "isGpuEnabled": false,
   "isInternetEnabled": true,
   "language": "python",
   "sourceType": "notebook"
  },
  "kernelspec": {
   "display_name": "Python 3",
   "language": "python",
   "name": "python3"
  },
  "language_info": {
   "codemirror_mode": {
    "name": "ipython",
    "version": 3
   },
   "file_extension": ".py",
   "mimetype": "text/x-python",
   "name": "python",
   "nbconvert_exporter": "python",
   "pygments_lexer": "ipython3",
   "version": "3.10.12"
  },
  "papermill": {
   "default_parameters": {},
   "duration": 21.80226,
   "end_time": "2025-02-09T17:31:10.115663",
   "environment_variables": {},
   "exception": null,
   "input_path": "__notebook__.ipynb",
   "output_path": "__notebook__.ipynb",
   "parameters": {},
   "start_time": "2025-02-09T17:30:48.313403",
   "version": "2.6.0"
  }
 },
 "nbformat": 4,
 "nbformat_minor": 5
}
