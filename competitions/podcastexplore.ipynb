{
 "cells": [
  {
   "cell_type": "code",
   "execution_count": 1,
   "id": "94762bd9",
   "metadata": {
    "_cell_guid": "b1076dfc-b9ad-4769-8c92-a6c4dae69d19",
    "_uuid": "8f2839f25d086af736a60e9eeb907d3b93b6e0e5",
    "execution": {
     "iopub.execute_input": "2025-04-15T20:35:29.159632Z",
     "iopub.status.busy": "2025-04-15T20:35:29.159228Z",
     "iopub.status.idle": "2025-04-15T20:35:33.277269Z",
     "shell.execute_reply": "2025-04-15T20:35:33.276195Z"
    },
    "papermill": {
     "duration": 4.126251,
     "end_time": "2025-04-15T20:35:33.278935",
     "exception": false,
     "start_time": "2025-04-15T20:35:29.152684",
     "status": "completed"
    },
    "tags": []
   },
   "outputs": [],
   "source": [
    "import numpy as np # linear algebra\n",
    "import pandas as pd # data processing, CSV file I/O (e.g. pd.read_csv)\n",
    "import matplotlib.pyplot as plt\n",
    "import seaborn as sns\n",
    "import warnings\n",
    "warnings.filterwarnings(\"ignore\")"
   ]
  },
  {
   "cell_type": "code",
   "execution_count": 2,
   "id": "0cde40d0",
   "metadata": {
    "execution": {
     "iopub.execute_input": "2025-04-15T20:35:33.287125Z",
     "iopub.status.busy": "2025-04-15T20:35:33.286699Z",
     "iopub.status.idle": "2025-04-15T20:35:33.384315Z",
     "shell.execute_reply": "2025-04-15T20:35:33.383294Z"
    },
    "papermill": {
     "duration": 0.103299,
     "end_time": "2025-04-15T20:35:33.385926",
     "exception": false,
     "start_time": "2025-04-15T20:35:33.282627",
     "status": "completed"
    },
    "tags": []
   },
   "outputs": [
    {
     "name": "stdout",
     "output_type": "stream",
     "text": [
      "/kaggle/input/playground-series-s5e4/sample_submission.csv\n",
      "/kaggle/input/playground-series-s5e4/train.csv\n",
      "/kaggle/input/playground-series-s5e4/test.csv\n"
     ]
    }
   ],
   "source": [
    "import os\n",
    "for dirname, _, filenames in os.walk('/kaggle/input'):\n",
    "    for filename in filenames:\n",
    "        print(os.path.join(dirname, filename))"
   ]
  },
  {
   "cell_type": "code",
   "execution_count": 3,
   "id": "5808ca65",
   "metadata": {
    "execution": {
     "iopub.execute_input": "2025-04-15T20:35:33.393515Z",
     "iopub.status.busy": "2025-04-15T20:35:33.393181Z",
     "iopub.status.idle": "2025-04-15T20:35:35.890407Z",
     "shell.execute_reply": "2025-04-15T20:35:35.889545Z"
    },
    "papermill": {
     "duration": 2.502884,
     "end_time": "2025-04-15T20:35:35.892066",
     "exception": false,
     "start_time": "2025-04-15T20:35:33.389182",
     "status": "completed"
    },
    "tags": []
   },
   "outputs": [],
   "source": [
    "train_data = pd.read_csv(\"/kaggle/input/playground-series-s5e4/train.csv\")\n",
    "test_data = pd.read_csv(\"/kaggle/input/playground-series-s5e4/test.csv\")"
   ]
  },
  {
   "cell_type": "code",
   "execution_count": 4,
   "id": "edefe357",
   "metadata": {
    "execution": {
     "iopub.execute_input": "2025-04-15T20:35:35.900584Z",
     "iopub.status.busy": "2025-04-15T20:35:35.899655Z",
     "iopub.status.idle": "2025-04-15T20:35:35.930266Z",
     "shell.execute_reply": "2025-04-15T20:35:35.929434Z"
    },
    "papermill": {
     "duration": 0.036248,
     "end_time": "2025-04-15T20:35:35.931849",
     "exception": false,
     "start_time": "2025-04-15T20:35:35.895601",
     "status": "completed"
    },
    "tags": []
   },
   "outputs": [
    {
     "data": {
      "text/html": [
       "<div>\n",
       "<style scoped>\n",
       "    .dataframe tbody tr th:only-of-type {\n",
       "        vertical-align: middle;\n",
       "    }\n",
       "\n",
       "    .dataframe tbody tr th {\n",
       "        vertical-align: top;\n",
       "    }\n",
       "\n",
       "    .dataframe thead th {\n",
       "        text-align: right;\n",
       "    }\n",
       "</style>\n",
       "<table border=\"1\" class=\"dataframe\">\n",
       "  <thead>\n",
       "    <tr style=\"text-align: right;\">\n",
       "      <th></th>\n",
       "      <th>id</th>\n",
       "      <th>Podcast_Name</th>\n",
       "      <th>Episode_Title</th>\n",
       "      <th>Episode_Length_minutes</th>\n",
       "      <th>Genre</th>\n",
       "      <th>Host_Popularity_percentage</th>\n",
       "      <th>Publication_Day</th>\n",
       "      <th>Publication_Time</th>\n",
       "      <th>Guest_Popularity_percentage</th>\n",
       "      <th>Number_of_Ads</th>\n",
       "      <th>Episode_Sentiment</th>\n",
       "      <th>Listening_Time_minutes</th>\n",
       "    </tr>\n",
       "  </thead>\n",
       "  <tbody>\n",
       "    <tr>\n",
       "      <th>0</th>\n",
       "      <td>0</td>\n",
       "      <td>Mystery Matters</td>\n",
       "      <td>Episode 98</td>\n",
       "      <td>NaN</td>\n",
       "      <td>True Crime</td>\n",
       "      <td>74.81</td>\n",
       "      <td>Thursday</td>\n",
       "      <td>Night</td>\n",
       "      <td>NaN</td>\n",
       "      <td>0.0</td>\n",
       "      <td>Positive</td>\n",
       "      <td>31.41998</td>\n",
       "    </tr>\n",
       "    <tr>\n",
       "      <th>1</th>\n",
       "      <td>1</td>\n",
       "      <td>Joke Junction</td>\n",
       "      <td>Episode 26</td>\n",
       "      <td>119.80</td>\n",
       "      <td>Comedy</td>\n",
       "      <td>66.95</td>\n",
       "      <td>Saturday</td>\n",
       "      <td>Afternoon</td>\n",
       "      <td>75.95</td>\n",
       "      <td>2.0</td>\n",
       "      <td>Negative</td>\n",
       "      <td>88.01241</td>\n",
       "    </tr>\n",
       "    <tr>\n",
       "      <th>2</th>\n",
       "      <td>2</td>\n",
       "      <td>Study Sessions</td>\n",
       "      <td>Episode 16</td>\n",
       "      <td>73.90</td>\n",
       "      <td>Education</td>\n",
       "      <td>69.97</td>\n",
       "      <td>Tuesday</td>\n",
       "      <td>Evening</td>\n",
       "      <td>8.97</td>\n",
       "      <td>0.0</td>\n",
       "      <td>Negative</td>\n",
       "      <td>44.92531</td>\n",
       "    </tr>\n",
       "    <tr>\n",
       "      <th>3</th>\n",
       "      <td>3</td>\n",
       "      <td>Digital Digest</td>\n",
       "      <td>Episode 45</td>\n",
       "      <td>67.17</td>\n",
       "      <td>Technology</td>\n",
       "      <td>57.22</td>\n",
       "      <td>Monday</td>\n",
       "      <td>Morning</td>\n",
       "      <td>78.70</td>\n",
       "      <td>2.0</td>\n",
       "      <td>Positive</td>\n",
       "      <td>46.27824</td>\n",
       "    </tr>\n",
       "    <tr>\n",
       "      <th>4</th>\n",
       "      <td>4</td>\n",
       "      <td>Mind &amp; Body</td>\n",
       "      <td>Episode 86</td>\n",
       "      <td>110.51</td>\n",
       "      <td>Health</td>\n",
       "      <td>80.07</td>\n",
       "      <td>Monday</td>\n",
       "      <td>Afternoon</td>\n",
       "      <td>58.68</td>\n",
       "      <td>3.0</td>\n",
       "      <td>Neutral</td>\n",
       "      <td>75.61031</td>\n",
       "    </tr>\n",
       "  </tbody>\n",
       "</table>\n",
       "</div>"
      ],
      "text/plain": [
       "   id     Podcast_Name Episode_Title  Episode_Length_minutes       Genre  \\\n",
       "0   0  Mystery Matters    Episode 98                     NaN  True Crime   \n",
       "1   1    Joke Junction    Episode 26                  119.80      Comedy   \n",
       "2   2   Study Sessions    Episode 16                   73.90   Education   \n",
       "3   3   Digital Digest    Episode 45                   67.17  Technology   \n",
       "4   4      Mind & Body    Episode 86                  110.51      Health   \n",
       "\n",
       "   Host_Popularity_percentage Publication_Day Publication_Time  \\\n",
       "0                       74.81        Thursday            Night   \n",
       "1                       66.95        Saturday        Afternoon   \n",
       "2                       69.97         Tuesday          Evening   \n",
       "3                       57.22          Monday          Morning   \n",
       "4                       80.07          Monday        Afternoon   \n",
       "\n",
       "   Guest_Popularity_percentage  Number_of_Ads Episode_Sentiment  \\\n",
       "0                          NaN            0.0          Positive   \n",
       "1                        75.95            2.0          Negative   \n",
       "2                         8.97            0.0          Negative   \n",
       "3                        78.70            2.0          Positive   \n",
       "4                        58.68            3.0           Neutral   \n",
       "\n",
       "   Listening_Time_minutes  \n",
       "0                31.41998  \n",
       "1                88.01241  \n",
       "2                44.92531  \n",
       "3                46.27824  \n",
       "4                75.61031  "
      ]
     },
     "execution_count": 4,
     "metadata": {},
     "output_type": "execute_result"
    }
   ],
   "source": [
    "train_data.head()"
   ]
  },
  {
   "cell_type": "code",
   "execution_count": 5,
   "id": "5ff626f2",
   "metadata": {
    "execution": {
     "iopub.execute_input": "2025-04-15T20:35:35.940418Z",
     "iopub.status.busy": "2025-04-15T20:35:35.939685Z",
     "iopub.status.idle": "2025-04-15T20:35:35.953767Z",
     "shell.execute_reply": "2025-04-15T20:35:35.952849Z"
    },
    "papermill": {
     "duration": 0.01994,
     "end_time": "2025-04-15T20:35:35.955253",
     "exception": false,
     "start_time": "2025-04-15T20:35:35.935313",
     "status": "completed"
    },
    "tags": []
   },
   "outputs": [
    {
     "data": {
      "text/html": [
       "<div>\n",
       "<style scoped>\n",
       "    .dataframe tbody tr th:only-of-type {\n",
       "        vertical-align: middle;\n",
       "    }\n",
       "\n",
       "    .dataframe tbody tr th {\n",
       "        vertical-align: top;\n",
       "    }\n",
       "\n",
       "    .dataframe thead th {\n",
       "        text-align: right;\n",
       "    }\n",
       "</style>\n",
       "<table border=\"1\" class=\"dataframe\">\n",
       "  <thead>\n",
       "    <tr style=\"text-align: right;\">\n",
       "      <th></th>\n",
       "      <th>id</th>\n",
       "      <th>Podcast_Name</th>\n",
       "      <th>Episode_Title</th>\n",
       "      <th>Episode_Length_minutes</th>\n",
       "      <th>Genre</th>\n",
       "      <th>Host_Popularity_percentage</th>\n",
       "      <th>Publication_Day</th>\n",
       "      <th>Publication_Time</th>\n",
       "      <th>Guest_Popularity_percentage</th>\n",
       "      <th>Number_of_Ads</th>\n",
       "      <th>Episode_Sentiment</th>\n",
       "    </tr>\n",
       "  </thead>\n",
       "  <tbody>\n",
       "    <tr>\n",
       "      <th>0</th>\n",
       "      <td>750000</td>\n",
       "      <td>Educational Nuggets</td>\n",
       "      <td>Episode 73</td>\n",
       "      <td>78.96</td>\n",
       "      <td>Education</td>\n",
       "      <td>38.11</td>\n",
       "      <td>Saturday</td>\n",
       "      <td>Evening</td>\n",
       "      <td>53.33</td>\n",
       "      <td>1.0</td>\n",
       "      <td>Neutral</td>\n",
       "    </tr>\n",
       "    <tr>\n",
       "      <th>1</th>\n",
       "      <td>750001</td>\n",
       "      <td>Sound Waves</td>\n",
       "      <td>Episode 23</td>\n",
       "      <td>27.87</td>\n",
       "      <td>Music</td>\n",
       "      <td>71.29</td>\n",
       "      <td>Sunday</td>\n",
       "      <td>Morning</td>\n",
       "      <td>NaN</td>\n",
       "      <td>0.0</td>\n",
       "      <td>Neutral</td>\n",
       "    </tr>\n",
       "    <tr>\n",
       "      <th>2</th>\n",
       "      <td>750002</td>\n",
       "      <td>Joke Junction</td>\n",
       "      <td>Episode 11</td>\n",
       "      <td>69.10</td>\n",
       "      <td>Comedy</td>\n",
       "      <td>67.89</td>\n",
       "      <td>Friday</td>\n",
       "      <td>Evening</td>\n",
       "      <td>97.51</td>\n",
       "      <td>0.0</td>\n",
       "      <td>Positive</td>\n",
       "    </tr>\n",
       "    <tr>\n",
       "      <th>3</th>\n",
       "      <td>750003</td>\n",
       "      <td>Comedy Corner</td>\n",
       "      <td>Episode 73</td>\n",
       "      <td>115.39</td>\n",
       "      <td>Comedy</td>\n",
       "      <td>23.40</td>\n",
       "      <td>Sunday</td>\n",
       "      <td>Morning</td>\n",
       "      <td>51.75</td>\n",
       "      <td>2.0</td>\n",
       "      <td>Positive</td>\n",
       "    </tr>\n",
       "    <tr>\n",
       "      <th>4</th>\n",
       "      <td>750004</td>\n",
       "      <td>Life Lessons</td>\n",
       "      <td>Episode 50</td>\n",
       "      <td>72.32</td>\n",
       "      <td>Lifestyle</td>\n",
       "      <td>58.10</td>\n",
       "      <td>Wednesday</td>\n",
       "      <td>Morning</td>\n",
       "      <td>11.30</td>\n",
       "      <td>2.0</td>\n",
       "      <td>Neutral</td>\n",
       "    </tr>\n",
       "  </tbody>\n",
       "</table>\n",
       "</div>"
      ],
      "text/plain": [
       "       id         Podcast_Name Episode_Title  Episode_Length_minutes  \\\n",
       "0  750000  Educational Nuggets    Episode 73                   78.96   \n",
       "1  750001          Sound Waves    Episode 23                   27.87   \n",
       "2  750002        Joke Junction    Episode 11                   69.10   \n",
       "3  750003        Comedy Corner    Episode 73                  115.39   \n",
       "4  750004         Life Lessons    Episode 50                   72.32   \n",
       "\n",
       "       Genre  Host_Popularity_percentage Publication_Day Publication_Time  \\\n",
       "0  Education                       38.11        Saturday          Evening   \n",
       "1      Music                       71.29          Sunday          Morning   \n",
       "2     Comedy                       67.89          Friday          Evening   \n",
       "3     Comedy                       23.40          Sunday          Morning   \n",
       "4  Lifestyle                       58.10       Wednesday          Morning   \n",
       "\n",
       "   Guest_Popularity_percentage  Number_of_Ads Episode_Sentiment  \n",
       "0                        53.33            1.0           Neutral  \n",
       "1                          NaN            0.0           Neutral  \n",
       "2                        97.51            0.0          Positive  \n",
       "3                        51.75            2.0          Positive  \n",
       "4                        11.30            2.0           Neutral  "
      ]
     },
     "execution_count": 5,
     "metadata": {},
     "output_type": "execute_result"
    }
   ],
   "source": [
    "test_data.head()"
   ]
  },
  {
   "cell_type": "code",
   "execution_count": 6,
   "id": "5a64c456",
   "metadata": {
    "execution": {
     "iopub.execute_input": "2025-04-15T20:35:35.965327Z",
     "iopub.status.busy": "2025-04-15T20:35:35.964694Z",
     "iopub.status.idle": "2025-04-15T20:35:35.970547Z",
     "shell.execute_reply": "2025-04-15T20:35:35.969804Z"
    },
    "papermill": {
     "duration": 0.011613,
     "end_time": "2025-04-15T20:35:35.971948",
     "exception": false,
     "start_time": "2025-04-15T20:35:35.960335",
     "status": "completed"
    },
    "tags": []
   },
   "outputs": [
    {
     "data": {
      "text/plain": [
       "(750000, 12)"
      ]
     },
     "execution_count": 6,
     "metadata": {},
     "output_type": "execute_result"
    }
   ],
   "source": [
    "train_data.shape"
   ]
  },
  {
   "cell_type": "code",
   "execution_count": 7,
   "id": "f6dd6ae3",
   "metadata": {
    "execution": {
     "iopub.execute_input": "2025-04-15T20:35:35.980291Z",
     "iopub.status.busy": "2025-04-15T20:35:35.980005Z",
     "iopub.status.idle": "2025-04-15T20:35:35.985504Z",
     "shell.execute_reply": "2025-04-15T20:35:35.984525Z"
    },
    "papermill": {
     "duration": 0.011291,
     "end_time": "2025-04-15T20:35:35.986940",
     "exception": false,
     "start_time": "2025-04-15T20:35:35.975649",
     "status": "completed"
    },
    "tags": []
   },
   "outputs": [
    {
     "data": {
      "text/plain": [
       "(250000, 11)"
      ]
     },
     "execution_count": 7,
     "metadata": {},
     "output_type": "execute_result"
    }
   ],
   "source": [
    "test_data.shape"
   ]
  },
  {
   "cell_type": "code",
   "execution_count": 8,
   "id": "55eea1c7",
   "metadata": {
    "execution": {
     "iopub.execute_input": "2025-04-15T20:35:35.996184Z",
     "iopub.status.busy": "2025-04-15T20:35:35.995777Z",
     "iopub.status.idle": "2025-04-15T20:35:36.258819Z",
     "shell.execute_reply": "2025-04-15T20:35:36.257746Z"
    },
    "papermill": {
     "duration": 0.269292,
     "end_time": "2025-04-15T20:35:36.260241",
     "exception": false,
     "start_time": "2025-04-15T20:35:35.990949",
     "status": "completed"
    },
    "tags": []
   },
   "outputs": [
    {
     "name": "stdout",
     "output_type": "stream",
     "text": [
      "<class 'pandas.core.frame.DataFrame'>\n",
      "RangeIndex: 750000 entries, 0 to 749999\n",
      "Data columns (total 12 columns):\n",
      " #   Column                       Non-Null Count   Dtype  \n",
      "---  ------                       --------------   -----  \n",
      " 0   id                           750000 non-null  int64  \n",
      " 1   Podcast_Name                 750000 non-null  object \n",
      " 2   Episode_Title                750000 non-null  object \n",
      " 3   Episode_Length_minutes       662907 non-null  float64\n",
      " 4   Genre                        750000 non-null  object \n",
      " 5   Host_Popularity_percentage   750000 non-null  float64\n",
      " 6   Publication_Day              750000 non-null  object \n",
      " 7   Publication_Time             750000 non-null  object \n",
      " 8   Guest_Popularity_percentage  603970 non-null  float64\n",
      " 9   Number_of_Ads                749999 non-null  float64\n",
      " 10  Episode_Sentiment            750000 non-null  object \n",
      " 11  Listening_Time_minutes       750000 non-null  float64\n",
      "dtypes: float64(5), int64(1), object(6)\n",
      "memory usage: 68.7+ MB\n"
     ]
    }
   ],
   "source": [
    "train_data.info()"
   ]
  },
  {
   "cell_type": "code",
   "execution_count": 9,
   "id": "767e54f4",
   "metadata": {
    "execution": {
     "iopub.execute_input": "2025-04-15T20:35:36.269765Z",
     "iopub.status.busy": "2025-04-15T20:35:36.269456Z",
     "iopub.status.idle": "2025-04-15T20:35:36.310947Z",
     "shell.execute_reply": "2025-04-15T20:35:36.310059Z"
    },
    "papermill": {
     "duration": 0.048055,
     "end_time": "2025-04-15T20:35:36.312658",
     "exception": false,
     "start_time": "2025-04-15T20:35:36.264603",
     "status": "completed"
    },
    "tags": []
   },
   "outputs": [],
   "source": [
    "train_data.drop(columns=['id', 'Episode_Title', 'Podcast_Name'], inplace=True)\n",
    "test_data.drop(columns=['id', 'Episode_Title', 'Podcast_Name'], inplace=True)"
   ]
  },
  {
   "cell_type": "code",
   "execution_count": 10,
   "id": "7d63c66b",
   "metadata": {
    "execution": {
     "iopub.execute_input": "2025-04-15T20:35:36.321630Z",
     "iopub.status.busy": "2025-04-15T20:35:36.321294Z",
     "iopub.status.idle": "2025-04-15T20:35:36.325796Z",
     "shell.execute_reply": "2025-04-15T20:35:36.324846Z"
    },
    "papermill": {
     "duration": 0.01086,
     "end_time": "2025-04-15T20:35:36.327531",
     "exception": false,
     "start_time": "2025-04-15T20:35:36.316671",
     "status": "completed"
    },
    "tags": []
   },
   "outputs": [],
   "source": [
    "categorical_cols = ['Genre', 'Publication_Day', 'Publication_Time', 'Episode_Sentiment']"
   ]
  },
  {
   "cell_type": "code",
   "execution_count": 11,
   "id": "dd6babe0",
   "metadata": {
    "execution": {
     "iopub.execute_input": "2025-04-15T20:35:36.337067Z",
     "iopub.status.busy": "2025-04-15T20:35:36.336021Z",
     "iopub.status.idle": "2025-04-15T20:35:36.512241Z",
     "shell.execute_reply": "2025-04-15T20:35:36.511331Z"
    },
    "papermill": {
     "duration": 0.18269,
     "end_time": "2025-04-15T20:35:36.514028",
     "exception": false,
     "start_time": "2025-04-15T20:35:36.331338",
     "status": "completed"
    },
    "tags": []
   },
   "outputs": [
    {
     "data": {
      "text/plain": [
       "Episode_Length_minutes          87093\n",
       "Genre                               0\n",
       "Host_Popularity_percentage          0\n",
       "Publication_Day                     0\n",
       "Publication_Time                    0\n",
       "Guest_Popularity_percentage    146030\n",
       "Number_of_Ads                       1\n",
       "Episode_Sentiment                   0\n",
       "Listening_Time_minutes              0\n",
       "dtype: int64"
      ]
     },
     "execution_count": 11,
     "metadata": {},
     "output_type": "execute_result"
    }
   ],
   "source": [
    "train_data.isnull().sum()"
   ]
  },
  {
   "cell_type": "code",
   "execution_count": 12,
   "id": "1a26ac8d",
   "metadata": {
    "execution": {
     "iopub.execute_input": "2025-04-15T20:35:36.523503Z",
     "iopub.status.busy": "2025-04-15T20:35:36.523103Z",
     "iopub.status.idle": "2025-04-15T20:35:36.586400Z",
     "shell.execute_reply": "2025-04-15T20:35:36.585532Z"
    },
    "papermill": {
     "duration": 0.069882,
     "end_time": "2025-04-15T20:35:36.588017",
     "exception": false,
     "start_time": "2025-04-15T20:35:36.518135",
     "status": "completed"
    },
    "tags": []
   },
   "outputs": [
    {
     "data": {
      "text/plain": [
       "Episode_Length_minutes         28736\n",
       "Genre                              0\n",
       "Host_Popularity_percentage         0\n",
       "Publication_Day                    0\n",
       "Publication_Time                   0\n",
       "Guest_Popularity_percentage    48832\n",
       "Number_of_Ads                      0\n",
       "Episode_Sentiment                  0\n",
       "dtype: int64"
      ]
     },
     "execution_count": 12,
     "metadata": {},
     "output_type": "execute_result"
    }
   ],
   "source": [
    "test_data.isnull().sum()"
   ]
  },
  {
   "cell_type": "code",
   "execution_count": 13,
   "id": "97c753a8",
   "metadata": {
    "execution": {
     "iopub.execute_input": "2025-04-15T20:35:36.597504Z",
     "iopub.status.busy": "2025-04-15T20:35:36.597132Z",
     "iopub.status.idle": "2025-04-15T20:35:36.696602Z",
     "shell.execute_reply": "2025-04-15T20:35:36.695540Z"
    },
    "papermill": {
     "duration": 0.106256,
     "end_time": "2025-04-15T20:35:36.698351",
     "exception": false,
     "start_time": "2025-04-15T20:35:36.592095",
     "status": "completed"
    },
    "tags": []
   },
   "outputs": [],
   "source": [
    "#Handle missing values in train data\n",
    "train_data['Episode_Length_minutes'].fillna(train_data['Episode_Length_minutes'].median(), inplace=True)\n",
    "train_data['Guest_Popularity_percentage'].fillna(train_data['Guest_Popularity_percentage'].median(), inplace=True)\n",
    "train_data = train_data[train_data['Number_of_Ads']<10]"
   ]
  },
  {
   "cell_type": "code",
   "execution_count": 14,
   "id": "00940b84",
   "metadata": {
    "execution": {
     "iopub.execute_input": "2025-04-15T20:35:36.707999Z",
     "iopub.status.busy": "2025-04-15T20:35:36.707223Z",
     "iopub.status.idle": "2025-04-15T20:35:36.731249Z",
     "shell.execute_reply": "2025-04-15T20:35:36.730336Z"
    },
    "papermill": {
     "duration": 0.030565,
     "end_time": "2025-04-15T20:35:36.732993",
     "exception": false,
     "start_time": "2025-04-15T20:35:36.702428",
     "status": "completed"
    },
    "tags": []
   },
   "outputs": [],
   "source": [
    "#Handle missing values in test data\n",
    "test_data['Episode_Length_minutes'].fillna(train_data['Episode_Length_minutes'].median(), inplace=True)\n",
    "test_data['Guest_Popularity_percentage'].fillna(test_data['Guest_Popularity_percentage'].median(), inplace=True)"
   ]
  },
  {
   "cell_type": "code",
   "execution_count": 15,
   "id": "95f01086",
   "metadata": {
    "execution": {
     "iopub.execute_input": "2025-04-15T20:35:36.742024Z",
     "iopub.status.busy": "2025-04-15T20:35:36.741734Z",
     "iopub.status.idle": "2025-04-15T20:35:36.908504Z",
     "shell.execute_reply": "2025-04-15T20:35:36.907698Z"
    },
    "papermill": {
     "duration": 0.172937,
     "end_time": "2025-04-15T20:35:36.909877",
     "exception": false,
     "start_time": "2025-04-15T20:35:36.736940",
     "status": "completed"
    },
    "tags": []
   },
   "outputs": [
    {
     "data": {
      "text/plain": [
       "Episode_Length_minutes         0\n",
       "Genre                          0\n",
       "Host_Popularity_percentage     0\n",
       "Publication_Day                0\n",
       "Publication_Time               0\n",
       "Guest_Popularity_percentage    0\n",
       "Number_of_Ads                  0\n",
       "Episode_Sentiment              0\n",
       "Listening_Time_minutes         0\n",
       "dtype: int64"
      ]
     },
     "execution_count": 15,
     "metadata": {},
     "output_type": "execute_result"
    }
   ],
   "source": [
    "train_data.isnull().sum()"
   ]
  }
 ],
 "metadata": {
  "kaggle": {
   "accelerator": "none",
   "dataSources": [
    {
     "databundleVersionId": 11351736,
     "sourceId": 91715,
     "sourceType": "competition"
    }
   ],
   "dockerImageVersionId": 31012,
   "isGpuEnabled": false,
   "isInternetEnabled": true,
   "language": "python",
   "sourceType": "notebook"
  },
  "kernelspec": {
   "display_name": "Python 3",
   "language": "python",
   "name": "python3"
  },
  "language_info": {
   "codemirror_mode": {
    "name": "ipython",
    "version": 3
   },
   "file_extension": ".py",
   "mimetype": "text/x-python",
   "name": "python",
   "nbconvert_exporter": "python",
   "pygments_lexer": "ipython3",
   "version": "3.11.11"
  },
  "papermill": {
   "default_parameters": {},
   "duration": 14.700322,
   "end_time": "2025-04-15T20:35:37.635011",
   "environment_variables": {},
   "exception": null,
   "input_path": "__notebook__.ipynb",
   "output_path": "__notebook__.ipynb",
   "parameters": {},
   "start_time": "2025-04-15T20:35:22.934689",
   "version": "2.6.0"
  }
 },
 "nbformat": 4,
 "nbformat_minor": 5
}
