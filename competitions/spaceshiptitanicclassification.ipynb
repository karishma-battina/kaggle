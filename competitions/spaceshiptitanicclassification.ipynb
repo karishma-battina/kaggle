{
 "cells": [
  {
   "cell_type": "code",
   "execution_count": 1,
   "id": "24a712f8",
   "metadata": {
    "_cell_guid": "b1076dfc-b9ad-4769-8c92-a6c4dae69d19",
    "_uuid": "8f2839f25d086af736a60e9eeb907d3b93b6e0e5",
    "execution": {
     "iopub.execute_input": "2025-02-18T02:48:37.321496Z",
     "iopub.status.busy": "2025-02-18T02:48:37.320992Z",
     "iopub.status.idle": "2025-02-18T02:48:38.379630Z",
     "shell.execute_reply": "2025-02-18T02:48:38.377442Z"
    },
    "papermill": {
     "duration": 1.067815,
     "end_time": "2025-02-18T02:48:38.382269",
     "exception": false,
     "start_time": "2025-02-18T02:48:37.314454",
     "status": "completed"
    },
    "tags": []
   },
   "outputs": [],
   "source": [
    "import numpy as np\n",
    "import pandas as pd"
   ]
  },
  {
   "cell_type": "code",
   "execution_count": 2,
   "id": "fc9cc1dc",
   "metadata": {
    "execution": {
     "iopub.execute_input": "2025-02-18T02:48:38.393925Z",
     "iopub.status.busy": "2025-02-18T02:48:38.393404Z",
     "iopub.status.idle": "2025-02-18T02:48:38.486614Z",
     "shell.execute_reply": "2025-02-18T02:48:38.485522Z"
    },
    "papermill": {
     "duration": 0.101121,
     "end_time": "2025-02-18T02:48:38.488616",
     "exception": false,
     "start_time": "2025-02-18T02:48:38.387495",
     "status": "completed"
    },
    "tags": []
   },
   "outputs": [],
   "source": [
    "# Load the dataset\n",
    "train_data = pd.read_csv('/kaggle/input/spaceship-titanic/train.csv')\n",
    "test_data = pd.read_csv('/kaggle/input/spaceship-titanic/test.csv')"
   ]
  },
  {
   "cell_type": "code",
   "execution_count": 3,
   "id": "1bd55fc1",
   "metadata": {
    "execution": {
     "iopub.execute_input": "2025-02-18T02:48:38.503696Z",
     "iopub.status.busy": "2025-02-18T02:48:38.503340Z",
     "iopub.status.idle": "2025-02-18T02:48:38.547127Z",
     "shell.execute_reply": "2025-02-18T02:48:38.544955Z"
    },
    "papermill": {
     "duration": 0.055635,
     "end_time": "2025-02-18T02:48:38.550397",
     "exception": false,
     "start_time": "2025-02-18T02:48:38.494762",
     "status": "completed"
    },
    "tags": []
   },
   "outputs": [
    {
     "name": "stdout",
     "output_type": "stream",
     "text": [
      "<class 'pandas.core.frame.DataFrame'>\n",
      "RangeIndex: 8693 entries, 0 to 8692\n",
      "Data columns (total 14 columns):\n",
      " #   Column        Non-Null Count  Dtype  \n",
      "---  ------        --------------  -----  \n",
      " 0   PassengerId   8693 non-null   object \n",
      " 1   HomePlanet    8492 non-null   object \n",
      " 2   CryoSleep     8476 non-null   object \n",
      " 3   Cabin         8494 non-null   object \n",
      " 4   Destination   8511 non-null   object \n",
      " 5   Age           8514 non-null   float64\n",
      " 6   VIP           8490 non-null   object \n",
      " 7   RoomService   8512 non-null   float64\n",
      " 8   FoodCourt     8510 non-null   float64\n",
      " 9   ShoppingMall  8485 non-null   float64\n",
      " 10  Spa           8510 non-null   float64\n",
      " 11  VRDeck        8505 non-null   float64\n",
      " 12  Name          8493 non-null   object \n",
      " 13  Transported   8693 non-null   bool   \n",
      "dtypes: bool(1), float64(6), object(7)\n",
      "memory usage: 891.5+ KB\n"
     ]
    }
   ],
   "source": [
    "train_data.info()"
   ]
  },
  {
   "cell_type": "code",
   "execution_count": 4,
   "id": "a4f623e5",
   "metadata": {
    "execution": {
     "iopub.execute_input": "2025-02-18T02:48:38.562622Z",
     "iopub.status.busy": "2025-02-18T02:48:38.562128Z",
     "iopub.status.idle": "2025-02-18T02:48:38.601232Z",
     "shell.execute_reply": "2025-02-18T02:48:38.599731Z"
    },
    "papermill": {
     "duration": 0.04795,
     "end_time": "2025-02-18T02:48:38.603721",
     "exception": false,
     "start_time": "2025-02-18T02:48:38.555771",
     "status": "completed"
    },
    "tags": []
   },
   "outputs": [
    {
     "data": {
      "text/html": [
       "<div>\n",
       "<style scoped>\n",
       "    .dataframe tbody tr th:only-of-type {\n",
       "        vertical-align: middle;\n",
       "    }\n",
       "\n",
       "    .dataframe tbody tr th {\n",
       "        vertical-align: top;\n",
       "    }\n",
       "\n",
       "    .dataframe thead th {\n",
       "        text-align: right;\n",
       "    }\n",
       "</style>\n",
       "<table border=\"1\" class=\"dataframe\">\n",
       "  <thead>\n",
       "    <tr style=\"text-align: right;\">\n",
       "      <th></th>\n",
       "      <th>PassengerId</th>\n",
       "      <th>HomePlanet</th>\n",
       "      <th>CryoSleep</th>\n",
       "      <th>Cabin</th>\n",
       "      <th>Destination</th>\n",
       "      <th>Age</th>\n",
       "      <th>VIP</th>\n",
       "      <th>RoomService</th>\n",
       "      <th>FoodCourt</th>\n",
       "      <th>ShoppingMall</th>\n",
       "      <th>Spa</th>\n",
       "      <th>VRDeck</th>\n",
       "      <th>Name</th>\n",
       "      <th>Transported</th>\n",
       "    </tr>\n",
       "  </thead>\n",
       "  <tbody>\n",
       "    <tr>\n",
       "      <th>0</th>\n",
       "      <td>0001_01</td>\n",
       "      <td>Europa</td>\n",
       "      <td>False</td>\n",
       "      <td>B/0/P</td>\n",
       "      <td>TRAPPIST-1e</td>\n",
       "      <td>39.0</td>\n",
       "      <td>False</td>\n",
       "      <td>0.0</td>\n",
       "      <td>0.0</td>\n",
       "      <td>0.0</td>\n",
       "      <td>0.0</td>\n",
       "      <td>0.0</td>\n",
       "      <td>Maham Ofracculy</td>\n",
       "      <td>False</td>\n",
       "    </tr>\n",
       "    <tr>\n",
       "      <th>1</th>\n",
       "      <td>0002_01</td>\n",
       "      <td>Earth</td>\n",
       "      <td>False</td>\n",
       "      <td>F/0/S</td>\n",
       "      <td>TRAPPIST-1e</td>\n",
       "      <td>24.0</td>\n",
       "      <td>False</td>\n",
       "      <td>109.0</td>\n",
       "      <td>9.0</td>\n",
       "      <td>25.0</td>\n",
       "      <td>549.0</td>\n",
       "      <td>44.0</td>\n",
       "      <td>Juanna Vines</td>\n",
       "      <td>True</td>\n",
       "    </tr>\n",
       "    <tr>\n",
       "      <th>2</th>\n",
       "      <td>0003_01</td>\n",
       "      <td>Europa</td>\n",
       "      <td>False</td>\n",
       "      <td>A/0/S</td>\n",
       "      <td>TRAPPIST-1e</td>\n",
       "      <td>58.0</td>\n",
       "      <td>True</td>\n",
       "      <td>43.0</td>\n",
       "      <td>3576.0</td>\n",
       "      <td>0.0</td>\n",
       "      <td>6715.0</td>\n",
       "      <td>49.0</td>\n",
       "      <td>Altark Susent</td>\n",
       "      <td>False</td>\n",
       "    </tr>\n",
       "    <tr>\n",
       "      <th>3</th>\n",
       "      <td>0003_02</td>\n",
       "      <td>Europa</td>\n",
       "      <td>False</td>\n",
       "      <td>A/0/S</td>\n",
       "      <td>TRAPPIST-1e</td>\n",
       "      <td>33.0</td>\n",
       "      <td>False</td>\n",
       "      <td>0.0</td>\n",
       "      <td>1283.0</td>\n",
       "      <td>371.0</td>\n",
       "      <td>3329.0</td>\n",
       "      <td>193.0</td>\n",
       "      <td>Solam Susent</td>\n",
       "      <td>False</td>\n",
       "    </tr>\n",
       "    <tr>\n",
       "      <th>4</th>\n",
       "      <td>0004_01</td>\n",
       "      <td>Earth</td>\n",
       "      <td>False</td>\n",
       "      <td>F/1/S</td>\n",
       "      <td>TRAPPIST-1e</td>\n",
       "      <td>16.0</td>\n",
       "      <td>False</td>\n",
       "      <td>303.0</td>\n",
       "      <td>70.0</td>\n",
       "      <td>151.0</td>\n",
       "      <td>565.0</td>\n",
       "      <td>2.0</td>\n",
       "      <td>Willy Santantines</td>\n",
       "      <td>True</td>\n",
       "    </tr>\n",
       "  </tbody>\n",
       "</table>\n",
       "</div>"
      ],
      "text/plain": [
       "  PassengerId HomePlanet CryoSleep  Cabin  Destination   Age    VIP  \\\n",
       "0     0001_01     Europa     False  B/0/P  TRAPPIST-1e  39.0  False   \n",
       "1     0002_01      Earth     False  F/0/S  TRAPPIST-1e  24.0  False   \n",
       "2     0003_01     Europa     False  A/0/S  TRAPPIST-1e  58.0   True   \n",
       "3     0003_02     Europa     False  A/0/S  TRAPPIST-1e  33.0  False   \n",
       "4     0004_01      Earth     False  F/1/S  TRAPPIST-1e  16.0  False   \n",
       "\n",
       "   RoomService  FoodCourt  ShoppingMall     Spa  VRDeck               Name  \\\n",
       "0          0.0        0.0           0.0     0.0     0.0    Maham Ofracculy   \n",
       "1        109.0        9.0          25.0   549.0    44.0       Juanna Vines   \n",
       "2         43.0     3576.0           0.0  6715.0    49.0      Altark Susent   \n",
       "3          0.0     1283.0         371.0  3329.0   193.0       Solam Susent   \n",
       "4        303.0       70.0         151.0   565.0     2.0  Willy Santantines   \n",
       "\n",
       "   Transported  \n",
       "0        False  \n",
       "1         True  \n",
       "2        False  \n",
       "3        False  \n",
       "4         True  "
      ]
     },
     "execution_count": 4,
     "metadata": {},
     "output_type": "execute_result"
    }
   ],
   "source": [
    "train_data.head()"
   ]
  },
  {
   "cell_type": "code",
   "execution_count": 5,
   "id": "a157152e",
   "metadata": {
    "execution": {
     "iopub.execute_input": "2025-02-18T02:48:38.616356Z",
     "iopub.status.busy": "2025-02-18T02:48:38.615971Z",
     "iopub.status.idle": "2025-02-18T02:48:38.639534Z",
     "shell.execute_reply": "2025-02-18T02:48:38.638290Z"
    },
    "papermill": {
     "duration": 0.031993,
     "end_time": "2025-02-18T02:48:38.641534",
     "exception": false,
     "start_time": "2025-02-18T02:48:38.609541",
     "status": "completed"
    },
    "tags": []
   },
   "outputs": [
    {
     "data": {
      "text/html": [
       "<div>\n",
       "<style scoped>\n",
       "    .dataframe tbody tr th:only-of-type {\n",
       "        vertical-align: middle;\n",
       "    }\n",
       "\n",
       "    .dataframe tbody tr th {\n",
       "        vertical-align: top;\n",
       "    }\n",
       "\n",
       "    .dataframe thead th {\n",
       "        text-align: right;\n",
       "    }\n",
       "</style>\n",
       "<table border=\"1\" class=\"dataframe\">\n",
       "  <thead>\n",
       "    <tr style=\"text-align: right;\">\n",
       "      <th></th>\n",
       "      <th>HomePlanet</th>\n",
       "      <th>CryoSleep</th>\n",
       "      <th>Cabin</th>\n",
       "      <th>Destination</th>\n",
       "      <th>Age</th>\n",
       "      <th>VIP</th>\n",
       "      <th>RoomService</th>\n",
       "      <th>FoodCourt</th>\n",
       "      <th>ShoppingMall</th>\n",
       "      <th>Spa</th>\n",
       "      <th>VRDeck</th>\n",
       "      <th>Transported</th>\n",
       "    </tr>\n",
       "  </thead>\n",
       "  <tbody>\n",
       "    <tr>\n",
       "      <th>0</th>\n",
       "      <td>Europa</td>\n",
       "      <td>False</td>\n",
       "      <td>B/0/P</td>\n",
       "      <td>TRAPPIST-1e</td>\n",
       "      <td>39.0</td>\n",
       "      <td>False</td>\n",
       "      <td>0.0</td>\n",
       "      <td>0.0</td>\n",
       "      <td>0.0</td>\n",
       "      <td>0.0</td>\n",
       "      <td>0.0</td>\n",
       "      <td>False</td>\n",
       "    </tr>\n",
       "    <tr>\n",
       "      <th>1</th>\n",
       "      <td>Earth</td>\n",
       "      <td>False</td>\n",
       "      <td>F/0/S</td>\n",
       "      <td>TRAPPIST-1e</td>\n",
       "      <td>24.0</td>\n",
       "      <td>False</td>\n",
       "      <td>109.0</td>\n",
       "      <td>9.0</td>\n",
       "      <td>25.0</td>\n",
       "      <td>549.0</td>\n",
       "      <td>44.0</td>\n",
       "      <td>True</td>\n",
       "    </tr>\n",
       "    <tr>\n",
       "      <th>2</th>\n",
       "      <td>Europa</td>\n",
       "      <td>False</td>\n",
       "      <td>A/0/S</td>\n",
       "      <td>TRAPPIST-1e</td>\n",
       "      <td>58.0</td>\n",
       "      <td>True</td>\n",
       "      <td>43.0</td>\n",
       "      <td>3576.0</td>\n",
       "      <td>0.0</td>\n",
       "      <td>6715.0</td>\n",
       "      <td>49.0</td>\n",
       "      <td>False</td>\n",
       "    </tr>\n",
       "    <tr>\n",
       "      <th>3</th>\n",
       "      <td>Europa</td>\n",
       "      <td>False</td>\n",
       "      <td>A/0/S</td>\n",
       "      <td>TRAPPIST-1e</td>\n",
       "      <td>33.0</td>\n",
       "      <td>False</td>\n",
       "      <td>0.0</td>\n",
       "      <td>1283.0</td>\n",
       "      <td>371.0</td>\n",
       "      <td>3329.0</td>\n",
       "      <td>193.0</td>\n",
       "      <td>False</td>\n",
       "    </tr>\n",
       "    <tr>\n",
       "      <th>4</th>\n",
       "      <td>Earth</td>\n",
       "      <td>False</td>\n",
       "      <td>F/1/S</td>\n",
       "      <td>TRAPPIST-1e</td>\n",
       "      <td>16.0</td>\n",
       "      <td>False</td>\n",
       "      <td>303.0</td>\n",
       "      <td>70.0</td>\n",
       "      <td>151.0</td>\n",
       "      <td>565.0</td>\n",
       "      <td>2.0</td>\n",
       "      <td>True</td>\n",
       "    </tr>\n",
       "  </tbody>\n",
       "</table>\n",
       "</div>"
      ],
      "text/plain": [
       "  HomePlanet CryoSleep  Cabin  Destination   Age    VIP  RoomService  \\\n",
       "0     Europa     False  B/0/P  TRAPPIST-1e  39.0  False          0.0   \n",
       "1      Earth     False  F/0/S  TRAPPIST-1e  24.0  False        109.0   \n",
       "2     Europa     False  A/0/S  TRAPPIST-1e  58.0   True         43.0   \n",
       "3     Europa     False  A/0/S  TRAPPIST-1e  33.0  False          0.0   \n",
       "4      Earth     False  F/1/S  TRAPPIST-1e  16.0  False        303.0   \n",
       "\n",
       "   FoodCourt  ShoppingMall     Spa  VRDeck  Transported  \n",
       "0        0.0           0.0     0.0     0.0        False  \n",
       "1        9.0          25.0   549.0    44.0         True  \n",
       "2     3576.0           0.0  6715.0    49.0        False  \n",
       "3     1283.0         371.0  3329.0   193.0        False  \n",
       "4       70.0         151.0   565.0     2.0         True  "
      ]
     },
     "execution_count": 5,
     "metadata": {},
     "output_type": "execute_result"
    }
   ],
   "source": [
    "#Remove unnecessary columns\n",
    "train_data = train_data.drop(['PassengerId', 'Name'], axis=1)\n",
    "train_data.head()"
   ]
  },
  {
   "cell_type": "code",
   "execution_count": 6,
   "id": "e082081d",
   "metadata": {
    "execution": {
     "iopub.execute_input": "2025-02-18T02:48:38.654278Z",
     "iopub.status.busy": "2025-02-18T02:48:38.653935Z",
     "iopub.status.idle": "2025-02-18T02:48:38.694376Z",
     "shell.execute_reply": "2025-02-18T02:48:38.693287Z"
    },
    "papermill": {
     "duration": 0.049,
     "end_time": "2025-02-18T02:48:38.696356",
     "exception": false,
     "start_time": "2025-02-18T02:48:38.647356",
     "status": "completed"
    },
    "tags": []
   },
   "outputs": [
    {
     "data": {
      "text/html": [
       "<div>\n",
       "<style scoped>\n",
       "    .dataframe tbody tr th:only-of-type {\n",
       "        vertical-align: middle;\n",
       "    }\n",
       "\n",
       "    .dataframe tbody tr th {\n",
       "        vertical-align: top;\n",
       "    }\n",
       "\n",
       "    .dataframe thead th {\n",
       "        text-align: right;\n",
       "    }\n",
       "</style>\n",
       "<table border=\"1\" class=\"dataframe\">\n",
       "  <thead>\n",
       "    <tr style=\"text-align: right;\">\n",
       "      <th></th>\n",
       "      <th>Age</th>\n",
       "      <th>RoomService</th>\n",
       "      <th>FoodCourt</th>\n",
       "      <th>ShoppingMall</th>\n",
       "      <th>Spa</th>\n",
       "      <th>VRDeck</th>\n",
       "    </tr>\n",
       "  </thead>\n",
       "  <tbody>\n",
       "    <tr>\n",
       "      <th>count</th>\n",
       "      <td>8514.000000</td>\n",
       "      <td>8512.000000</td>\n",
       "      <td>8510.000000</td>\n",
       "      <td>8485.000000</td>\n",
       "      <td>8510.000000</td>\n",
       "      <td>8505.000000</td>\n",
       "    </tr>\n",
       "    <tr>\n",
       "      <th>mean</th>\n",
       "      <td>28.827930</td>\n",
       "      <td>224.687617</td>\n",
       "      <td>458.077203</td>\n",
       "      <td>173.729169</td>\n",
       "      <td>311.138778</td>\n",
       "      <td>304.854791</td>\n",
       "    </tr>\n",
       "    <tr>\n",
       "      <th>std</th>\n",
       "      <td>14.489021</td>\n",
       "      <td>666.717663</td>\n",
       "      <td>1611.489240</td>\n",
       "      <td>604.696458</td>\n",
       "      <td>1136.705535</td>\n",
       "      <td>1145.717189</td>\n",
       "    </tr>\n",
       "    <tr>\n",
       "      <th>min</th>\n",
       "      <td>0.000000</td>\n",
       "      <td>0.000000</td>\n",
       "      <td>0.000000</td>\n",
       "      <td>0.000000</td>\n",
       "      <td>0.000000</td>\n",
       "      <td>0.000000</td>\n",
       "    </tr>\n",
       "    <tr>\n",
       "      <th>25%</th>\n",
       "      <td>19.000000</td>\n",
       "      <td>0.000000</td>\n",
       "      <td>0.000000</td>\n",
       "      <td>0.000000</td>\n",
       "      <td>0.000000</td>\n",
       "      <td>0.000000</td>\n",
       "    </tr>\n",
       "    <tr>\n",
       "      <th>50%</th>\n",
       "      <td>27.000000</td>\n",
       "      <td>0.000000</td>\n",
       "      <td>0.000000</td>\n",
       "      <td>0.000000</td>\n",
       "      <td>0.000000</td>\n",
       "      <td>0.000000</td>\n",
       "    </tr>\n",
       "    <tr>\n",
       "      <th>75%</th>\n",
       "      <td>38.000000</td>\n",
       "      <td>47.000000</td>\n",
       "      <td>76.000000</td>\n",
       "      <td>27.000000</td>\n",
       "      <td>59.000000</td>\n",
       "      <td>46.000000</td>\n",
       "    </tr>\n",
       "    <tr>\n",
       "      <th>max</th>\n",
       "      <td>79.000000</td>\n",
       "      <td>14327.000000</td>\n",
       "      <td>29813.000000</td>\n",
       "      <td>23492.000000</td>\n",
       "      <td>22408.000000</td>\n",
       "      <td>24133.000000</td>\n",
       "    </tr>\n",
       "  </tbody>\n",
       "</table>\n",
       "</div>"
      ],
      "text/plain": [
       "               Age   RoomService     FoodCourt  ShoppingMall           Spa  \\\n",
       "count  8514.000000   8512.000000   8510.000000   8485.000000   8510.000000   \n",
       "mean     28.827930    224.687617    458.077203    173.729169    311.138778   \n",
       "std      14.489021    666.717663   1611.489240    604.696458   1136.705535   \n",
       "min       0.000000      0.000000      0.000000      0.000000      0.000000   \n",
       "25%      19.000000      0.000000      0.000000      0.000000      0.000000   \n",
       "50%      27.000000      0.000000      0.000000      0.000000      0.000000   \n",
       "75%      38.000000     47.000000     76.000000     27.000000     59.000000   \n",
       "max      79.000000  14327.000000  29813.000000  23492.000000  22408.000000   \n",
       "\n",
       "             VRDeck  \n",
       "count   8505.000000  \n",
       "mean     304.854791  \n",
       "std     1145.717189  \n",
       "min        0.000000  \n",
       "25%        0.000000  \n",
       "50%        0.000000  \n",
       "75%       46.000000  \n",
       "max    24133.000000  "
      ]
     },
     "execution_count": 6,
     "metadata": {},
     "output_type": "execute_result"
    }
   ],
   "source": [
    "train_data.describe()"
   ]
  },
  {
   "cell_type": "code",
   "execution_count": 7,
   "id": "e2fd16cd",
   "metadata": {
    "execution": {
     "iopub.execute_input": "2025-02-18T02:48:38.708871Z",
     "iopub.status.busy": "2025-02-18T02:48:38.708379Z",
     "iopub.status.idle": "2025-02-18T02:48:41.001142Z",
     "shell.execute_reply": "2025-02-18T02:48:40.999955Z"
    },
    "papermill": {
     "duration": 2.301746,
     "end_time": "2025-02-18T02:48:41.003321",
     "exception": false,
     "start_time": "2025-02-18T02:48:38.701575",
     "status": "completed"
    },
    "tags": []
   },
   "outputs": [
    {
     "data": {
      "text/plain": [
       "<Axes: xlabel='Transported'>"
      ]
     },
     "execution_count": 7,
     "metadata": {},
     "output_type": "execute_result"
    },
    {
     "data": {
      "image/png": "[encoded data removed]",
      "text/plain": [
       "<Figure size 640x480 with 1 Axes>"
      ]
     },
     "metadata": {},
     "output_type": "display_data"
    }
   ],
   "source": [
    "import seaborn as sns\n",
    "import matplotlib.pyplot as plt\n",
    "plot_df = train_data.Transported.value_counts()\n",
    "plot_df.plot(kind=\"bar\")"
   ]
  },
  {
   "cell_type": "code",
   "execution_count": 8,
   "id": "4962bcaa",
   "metadata": {
    "execution": {
     "iopub.execute_input": "2025-02-18T02:48:41.016812Z",
     "iopub.status.busy": "2025-02-18T02:48:41.016264Z",
     "iopub.status.idle": "2025-02-18T02:48:41.027975Z",
     "shell.execute_reply": "2025-02-18T02:48:41.026642Z"
    },
    "papermill": {
     "duration": 0.020596,
     "end_time": "2025-02-18T02:48:41.030321",
     "exception": false,
     "start_time": "2025-02-18T02:48:41.009725",
     "status": "completed"
    },
    "tags": []
   },
   "outputs": [
    {
     "data": {
      "text/plain": [
       "HomePlanet      201\n",
       "CryoSleep       217\n",
       "Cabin           199\n",
       "Destination     182\n",
       "Age             179\n",
       "VIP             203\n",
       "RoomService     181\n",
       "FoodCourt       183\n",
       "ShoppingMall    208\n",
       "Spa             183\n",
       "VRDeck          188\n",
       "Transported       0\n",
       "dtype: int64"
      ]
     },
     "execution_count": 8,
     "metadata": {},
     "output_type": "execute_result"
    }
   ],
   "source": [
    "# check for null values\n",
    "train_data.isnull().sum()"
   ]
  },
  {
   "cell_type": "code",
   "execution_count": 9,
   "id": "0256d74b",
   "metadata": {
    "execution": {
     "iopub.execute_input": "2025-02-18T02:48:41.044681Z",
     "iopub.status.busy": "2025-02-18T02:48:41.044318Z",
     "iopub.status.idle": "2025-02-18T02:48:41.049441Z",
     "shell.execute_reply": "2025-02-18T02:48:41.048233Z"
    },
    "papermill": {
     "duration": 0.014281,
     "end_time": "2025-02-18T02:48:41.051437",
     "exception": false,
     "start_time": "2025-02-18T02:48:41.037156",
     "status": "completed"
    },
    "tags": []
   },
   "outputs": [],
   "source": [
    "numeric_features = ['Age', 'RoomService', 'FoodCourt', 'ShoppingMall', 'Spa', 'VRDeck']\n",
    "categorical_features = ['HomePlanet', 'CryoSleep', 'Cabin', 'Destination', 'VIP']"
   ]
  },
  {
   "cell_type": "code",
   "execution_count": 10,
   "id": "5c073076",
   "metadata": {
    "execution": {
     "iopub.execute_input": "2025-02-18T02:48:41.064420Z",
     "iopub.status.busy": "2025-02-18T02:48:41.064055Z",
     "iopub.status.idle": "2025-02-18T02:48:41.766312Z",
     "shell.execute_reply": "2025-02-18T02:48:41.764923Z"
    },
    "papermill": {
     "duration": 0.711403,
     "end_time": "2025-02-18T02:48:41.768710",
     "exception": false,
     "start_time": "2025-02-18T02:48:41.057307",
     "status": "completed"
    },
    "tags": []
   },
   "outputs": [],
   "source": [
    "#Handle missing values\n",
    "from sklearn.impute import SimpleImputer\n",
    "from sklearn.preprocessing import StandardScaler, OrdinalEncoder\n",
    "\n",
    "train_data[numeric_features] = SimpleImputer(strategy='median').fit_transform(train_data[numeric_features])\n",
    "train_data[categorical_features] = SimpleImputer(strategy='most_frequent').fit_transform(train_data[categorical_features])\n",
    "\n",
    "train_data[categorical_features] = OrdinalEncoder().fit_transform(train_data[categorical_features])"
   ]
  },
  {
   "cell_type": "code",
   "execution_count": 11,
   "id": "2733d15b",
   "metadata": {
    "execution": {
     "iopub.execute_input": "2025-02-18T02:48:41.783948Z",
     "iopub.status.busy": "2025-02-18T02:48:41.783520Z",
     "iopub.status.idle": "2025-02-18T02:48:41.792687Z",
     "shell.execute_reply": "2025-02-18T02:48:41.791446Z"
    },
    "papermill": {
     "duration": 0.018196,
     "end_time": "2025-02-18T02:48:41.794939",
     "exception": false,
     "start_time": "2025-02-18T02:48:41.776743",
     "status": "completed"
    },
    "tags": []
   },
   "outputs": [
    {
     "data": {
      "text/plain": [
       "HomePlanet      0\n",
       "CryoSleep       0\n",
       "Cabin           0\n",
       "Destination     0\n",
       "Age             0\n",
       "VIP             0\n",
       "RoomService     0\n",
       "FoodCourt       0\n",
       "ShoppingMall    0\n",
       "Spa             0\n",
       "VRDeck          0\n",
       "Transported     0\n",
       "dtype: int64"
      ]
     },
     "execution_count": 11,
     "metadata": {},
     "output_type": "execute_result"
    }
   ],
   "source": [
    "train_data.isnull().sum()"
   ]
  },
  {
   "cell_type": "code",
   "execution_count": 12,
   "id": "184e4f62",
   "metadata": {
    "execution": {
     "iopub.execute_input": "2025-02-18T02:48:41.808493Z",
     "iopub.status.busy": "2025-02-18T02:48:41.808092Z",
     "iopub.status.idle": "2025-02-18T02:48:41.813583Z",
     "shell.execute_reply": "2025-02-18T02:48:41.812268Z"
    },
    "papermill": {
     "duration": 0.014276,
     "end_time": "2025-02-18T02:48:41.815296",
     "exception": false,
     "start_time": "2025-02-18T02:48:41.801020",
     "status": "completed"
    },
    "tags": []
   },
   "outputs": [],
   "source": [
    "train_data['Transported'] = train_data['Transported'].astype(int)"
   ]
  },
  {
   "cell_type": "code",
   "execution_count": 13,
   "id": "e9079b22",
   "metadata": {
    "execution": {
     "iopub.execute_input": "2025-02-18T02:48:41.828701Z",
     "iopub.status.busy": "2025-02-18T02:48:41.828297Z",
     "iopub.status.idle": "2025-02-18T02:48:41.846648Z",
     "shell.execute_reply": "2025-02-18T02:48:41.845309Z"
    },
    "papermill": {
     "duration": 0.027014,
     "end_time": "2025-02-18T02:48:41.848592",
     "exception": false,
     "start_time": "2025-02-18T02:48:41.821578",
     "status": "completed"
    },
    "tags": []
   },
   "outputs": [
    {
     "data": {
      "text/html": [
       "<div>\n",
       "<style scoped>\n",
       "    .dataframe tbody tr th:only-of-type {\n",
       "        vertical-align: middle;\n",
       "    }\n",
       "\n",
       "    .dataframe tbody tr th {\n",
       "        vertical-align: top;\n",
       "    }\n",
       "\n",
       "    .dataframe thead th {\n",
       "        text-align: right;\n",
       "    }\n",
       "</style>\n",
       "<table border=\"1\" class=\"dataframe\">\n",
       "  <thead>\n",
       "    <tr style=\"text-align: right;\">\n",
       "      <th></th>\n",
       "      <th>HomePlanet</th>\n",
       "      <th>CryoSleep</th>\n",
       "      <th>Cabin</th>\n",
       "      <th>Destination</th>\n",
       "      <th>Age</th>\n",
       "      <th>VIP</th>\n",
       "      <th>RoomService</th>\n",
       "      <th>FoodCourt</th>\n",
       "      <th>ShoppingMall</th>\n",
       "      <th>Spa</th>\n",
       "      <th>VRDeck</th>\n",
       "      <th>Transported</th>\n",
       "    </tr>\n",
       "  </thead>\n",
       "  <tbody>\n",
       "    <tr>\n",
       "      <th>0</th>\n",
       "      <td>1.0</td>\n",
       "      <td>0.0</td>\n",
       "      <td>149.0</td>\n",
       "      <td>2.0</td>\n",
       "      <td>39.0</td>\n",
       "      <td>0.0</td>\n",
       "      <td>0.0</td>\n",
       "      <td>0.0</td>\n",
       "      <td>0.0</td>\n",
       "      <td>0.0</td>\n",
       "      <td>0.0</td>\n",
       "      <td>0</td>\n",
       "    </tr>\n",
       "    <tr>\n",
       "      <th>1</th>\n",
       "      <td>0.0</td>\n",
       "      <td>0.0</td>\n",
       "      <td>2184.0</td>\n",
       "      <td>2.0</td>\n",
       "      <td>24.0</td>\n",
       "      <td>0.0</td>\n",
       "      <td>109.0</td>\n",
       "      <td>9.0</td>\n",
       "      <td>25.0</td>\n",
       "      <td>549.0</td>\n",
       "      <td>44.0</td>\n",
       "      <td>1</td>\n",
       "    </tr>\n",
       "    <tr>\n",
       "      <th>2</th>\n",
       "      <td>1.0</td>\n",
       "      <td>0.0</td>\n",
       "      <td>1.0</td>\n",
       "      <td>2.0</td>\n",
       "      <td>58.0</td>\n",
       "      <td>1.0</td>\n",
       "      <td>43.0</td>\n",
       "      <td>3576.0</td>\n",
       "      <td>0.0</td>\n",
       "      <td>6715.0</td>\n",
       "      <td>49.0</td>\n",
       "      <td>0</td>\n",
       "    </tr>\n",
       "    <tr>\n",
       "      <th>3</th>\n",
       "      <td>1.0</td>\n",
       "      <td>0.0</td>\n",
       "      <td>1.0</td>\n",
       "      <td>2.0</td>\n",
       "      <td>33.0</td>\n",
       "      <td>0.0</td>\n",
       "      <td>0.0</td>\n",
       "      <td>1283.0</td>\n",
       "      <td>371.0</td>\n",
       "      <td>3329.0</td>\n",
       "      <td>193.0</td>\n",
       "      <td>0</td>\n",
       "    </tr>\n",
       "    <tr>\n",
       "      <th>4</th>\n",
       "      <td>0.0</td>\n",
       "      <td>0.0</td>\n",
       "      <td>2186.0</td>\n",
       "      <td>2.0</td>\n",
       "      <td>16.0</td>\n",
       "      <td>0.0</td>\n",
       "      <td>303.0</td>\n",
       "      <td>70.0</td>\n",
       "      <td>151.0</td>\n",
       "      <td>565.0</td>\n",
       "      <td>2.0</td>\n",
       "      <td>1</td>\n",
       "    </tr>\n",
       "  </tbody>\n",
       "</table>\n",
       "</div>"
      ],
      "text/plain": [
       "   HomePlanet  CryoSleep   Cabin  Destination   Age  VIP  RoomService  \\\n",
       "0         1.0        0.0   149.0          2.0  39.0  0.0          0.0   \n",
       "1         0.0        0.0  2184.0          2.0  24.0  0.0        109.0   \n",
       "2         1.0        0.0     1.0          2.0  58.0  1.0         43.0   \n",
       "3         1.0        0.0     1.0          2.0  33.0  0.0          0.0   \n",
       "4         0.0        0.0  2186.0          2.0  16.0  0.0        303.0   \n",
       "\n",
       "   FoodCourt  ShoppingMall     Spa  VRDeck  Transported  \n",
       "0        0.0           0.0     0.0     0.0            0  \n",
       "1        9.0          25.0   549.0    44.0            1  \n",
       "2     3576.0           0.0  6715.0    49.0            0  \n",
       "3     1283.0         371.0  3329.0   193.0            0  \n",
       "4       70.0         151.0   565.0     2.0            1  "
      ]
     },
     "execution_count": 13,
     "metadata": {},
     "output_type": "execute_result"
    }
   ],
   "source": [
    "train_data.head()"
   ]
  },
  {
   "cell_type": "code",
   "execution_count": 14,
   "id": "e2a1c200",
   "metadata": {
    "execution": {
     "iopub.execute_input": "2025-02-18T02:48:41.870107Z",
     "iopub.status.busy": "2025-02-18T02:48:41.869645Z",
     "iopub.status.idle": "2025-02-18T02:48:41.878319Z",
     "shell.execute_reply": "2025-02-18T02:48:41.875254Z"
    },
    "papermill": {
     "duration": 0.022071,
     "end_time": "2025-02-18T02:48:41.880916",
     "exception": false,
     "start_time": "2025-02-18T02:48:41.858845",
     "status": "completed"
    },
    "tags": []
   },
   "outputs": [],
   "source": [
    "test_copy = test_data.copy()"
   ]
  },
  {
   "cell_type": "code",
   "execution_count": 15,
   "id": "3a3ce382",
   "metadata": {
    "execution": {
     "iopub.execute_input": "2025-02-18T02:48:41.907078Z",
     "iopub.status.busy": "2025-02-18T02:48:41.906682Z",
     "iopub.status.idle": "2025-02-18T02:48:41.961932Z",
     "shell.execute_reply": "2025-02-18T02:48:41.960514Z"
    },
    "papermill": {
     "duration": 0.070547,
     "end_time": "2025-02-18T02:48:41.964496",
     "exception": false,
     "start_time": "2025-02-18T02:48:41.893949",
     "status": "completed"
    },
    "tags": []
   },
   "outputs": [],
   "source": [
    "#Preprocess test data\n",
    "test_copy = test_copy.drop(['PassengerId', 'Name'], axis=1)\n",
    "test_copy[numeric_features] = SimpleImputer(strategy='median').fit_transform(test_copy[numeric_features])\n",
    "test_copy[categorical_features] = SimpleImputer(strategy='most_frequent').fit_transform(test_copy[categorical_features])\n",
    "test_copy[categorical_features] = OrdinalEncoder().fit_transform(test_copy[categorical_features])"
   ]
  },
  {
   "cell_type": "code",
   "execution_count": 16,
   "id": "49140801",
   "metadata": {
    "execution": {
     "iopub.execute_input": "2025-02-18T02:48:41.984114Z",
     "iopub.status.busy": "2025-02-18T02:48:41.983724Z",
     "iopub.status.idle": "2025-02-18T02:48:41.990303Z",
     "shell.execute_reply": "2025-02-18T02:48:41.989148Z"
    },
    "papermill": {
     "duration": 0.017836,
     "end_time": "2025-02-18T02:48:41.992099",
     "exception": false,
     "start_time": "2025-02-18T02:48:41.974263",
     "status": "completed"
    },
    "tags": []
   },
   "outputs": [],
   "source": [
    "X = train_data.drop(columns=['Transported'])\n",
    "y = train_data['Transported']"
   ]
  },
  {
   "cell_type": "code",
   "execution_count": 17,
   "id": "6f43f7dd",
   "metadata": {
    "execution": {
     "iopub.execute_input": "2025-02-18T02:48:42.014050Z",
     "iopub.status.busy": "2025-02-18T02:48:42.013445Z",
     "iopub.status.idle": "2025-02-18T02:48:43.493053Z",
     "shell.execute_reply": "2025-02-18T02:48:43.492057Z"
    },
    "papermill": {
     "duration": 1.493344,
     "end_time": "2025-02-18T02:48:43.495325",
     "exception": false,
     "start_time": "2025-02-18T02:48:42.001981",
     "status": "completed"
    },
    "tags": []
   },
   "outputs": [
    {
     "name": "stdout",
     "output_type": "stream",
     "text": [
      "[0]\tvalidation_0-logloss:0.67494\n",
      "[1]\tvalidation_0-logloss:0.65799\n",
      "[2]\tvalidation_0-logloss:0.64460\n",
      "[3]\tvalidation_0-logloss:0.63016\n",
      "[4]\tvalidation_0-logloss:0.61895\n",
      "[5]\tvalidation_0-logloss:0.60799\n",
      "[6]\tvalidation_0-logloss:0.59655\n",
      "[7]\tvalidation_0-logloss:0.58679\n",
      "[8]\tvalidation_0-logloss:0.57700\n",
      "[9]\tvalidation_0-logloss:0.56784\n",
      "[10]\tvalidation_0-logloss:0.55873\n",
      "[11]\tvalidation_0-logloss:0.55082\n",
      "[12]\tvalidation_0-logloss:0.54309\n",
      "[13]\tvalidation_0-logloss:0.53649\n",
      "[14]\tvalidation_0-logloss:0.53013\n",
      "[15]\tvalidation_0-logloss:0.52429\n",
      "[16]\tvalidation_0-logloss:0.51864\n",
      "[17]\tvalidation_0-logloss:0.51454\n",
      "[18]\tvalidation_0-logloss:0.50941\n",
      "[19]\tvalidation_0-logloss:0.50451\n",
      "[20]\tvalidation_0-logloss:0.50090\n",
      "[21]\tvalidation_0-logloss:0.49638\n",
      "[22]\tvalidation_0-logloss:0.49215\n",
      "[23]\tvalidation_0-logloss:0.48852\n",
      "[24]\tvalidation_0-logloss:0.48489\n",
      "[25]\tvalidation_0-logloss:0.48122\n",
      "[26]\tvalidation_0-logloss:0.47779\n",
      "[27]\tvalidation_0-logloss:0.47456\n",
      "[28]\tvalidation_0-logloss:0.47245\n",
      "[29]\tvalidation_0-logloss:0.46989\n",
      "[30]\tvalidation_0-logloss:0.46761\n"
     ]
    },
    {
     "name": "stderr",
     "output_type": "stream",
     "text": [
      "/usr/local/lib/python3.10/dist-packages/xgboost/sklearn.py:889: UserWarning: `eval_metric` in `fit` method is deprecated for better compatibility with scikit-learn, use `eval_metric` in constructor or`set_params` instead.\n",
      "  warnings.warn(\n",
      "/usr/local/lib/python3.10/dist-packages/xgboost/sklearn.py:889: UserWarning: `early_stopping_rounds` in `fit` method is deprecated for better compatibility with scikit-learn, use `early_stopping_rounds` in constructor or`set_params` instead.\n",
      "  warnings.warn(\n"
     ]
    },
    {
     "name": "stdout",
     "output_type": "stream",
     "text": [
      "[31]\tvalidation_0-logloss:0.46473\n",
      "[32]\tvalidation_0-logloss:0.46248\n",
      "[33]\tvalidation_0-logloss:0.46070\n",
      "[34]\tvalidation_0-logloss:0.45835\n",
      "[35]\tvalidation_0-logloss:0.45647\n",
      "[36]\tvalidation_0-logloss:0.45455\n",
      "[37]\tvalidation_0-logloss:0.45271\n",
      "[38]\tvalidation_0-logloss:0.45064\n",
      "[39]\tvalidation_0-logloss:0.44912\n",
      "[40]\tvalidation_0-logloss:0.44770\n",
      "[41]\tvalidation_0-logloss:0.44649\n",
      "[42]\tvalidation_0-logloss:0.44503\n",
      "[43]\tvalidation_0-logloss:0.44414\n",
      "[44]\tvalidation_0-logloss:0.44343\n",
      "[45]\tvalidation_0-logloss:0.44201\n",
      "[46]\tvalidation_0-logloss:0.44094\n",
      "[47]\tvalidation_0-logloss:0.44050\n",
      "[48]\tvalidation_0-logloss:0.43931\n",
      "[49]\tvalidation_0-logloss:0.43858\n",
      "[50]\tvalidation_0-logloss:0.43792\n",
      "[51]\tvalidation_0-logloss:0.43733\n",
      "[52]\tvalidation_0-logloss:0.43648\n",
      "[53]\tvalidation_0-logloss:0.43573\n",
      "[54]\tvalidation_0-logloss:0.43511\n",
      "[55]\tvalidation_0-logloss:0.43422\n",
      "[56]\tvalidation_0-logloss:0.43360\n",
      "[57]\tvalidation_0-logloss:0.43270\n",
      "[58]\tvalidation_0-logloss:0.43225\n",
      "[59]\tvalidation_0-logloss:0.43167\n",
      "[60]\tvalidation_0-logloss:0.43081\n",
      "[61]\tvalidation_0-logloss:0.43036\n",
      "[62]\tvalidation_0-logloss:0.42983\n",
      "[63]\tvalidation_0-logloss:0.42974\n",
      "[64]\tvalidation_0-logloss:0.42887\n",
      "[65]\tvalidation_0-logloss:0.42837\n",
      "[66]\tvalidation_0-logloss:0.42794\n",
      "[67]\tvalidation_0-logloss:0.42743\n",
      "[68]\tvalidation_0-logloss:0.42696\n",
      "[69]\tvalidation_0-logloss:0.42681\n",
      "[70]\tvalidation_0-logloss:0.42663\n",
      "[71]\tvalidation_0-logloss:0.42657\n",
      "[72]\tvalidation_0-logloss:0.42602\n",
      "[73]\tvalidation_0-logloss:0.42576\n",
      "[74]\tvalidation_0-logloss:0.42546\n",
      "[75]\tvalidation_0-logloss:0.42483\n",
      "[76]\tvalidation_0-logloss:0.42462\n",
      "[77]\tvalidation_0-logloss:0.42374\n",
      "[78]\tvalidation_0-logloss:0.42360\n",
      "[79]\tvalidation_0-logloss:0.42350\n",
      "[80]\tvalidation_0-logloss:0.42331\n",
      "[81]\tvalidation_0-logloss:0.42328\n",
      "[82]\tvalidation_0-logloss:0.42325\n",
      "[83]\tvalidation_0-logloss:0.42316\n",
      "[84]\tvalidation_0-logloss:0.42267\n",
      "[85]\tvalidation_0-logloss:0.42259\n",
      "[86]\tvalidation_0-logloss:0.42232\n",
      "[87]\tvalidation_0-logloss:0.42215\n",
      "[88]\tvalidation_0-logloss:0.42158\n",
      "[89]\tvalidation_0-logloss:0.42141\n",
      "[90]\tvalidation_0-logloss:0.42139\n",
      "[91]\tvalidation_0-logloss:0.42141\n",
      "[92]\tvalidation_0-logloss:0.42127\n",
      "[93]\tvalidation_0-logloss:0.42052\n",
      "[94]\tvalidation_0-logloss:0.42023\n",
      "[95]\tvalidation_0-logloss:0.41996\n",
      "[96]\tvalidation_0-logloss:0.41969\n",
      "[97]\tvalidation_0-logloss:0.41971\n",
      "[98]\tvalidation_0-logloss:0.41960\n",
      "[99]\tvalidation_0-logloss:0.41938\n",
      "[100]\tvalidation_0-logloss:0.41935\n",
      "[101]\tvalidation_0-logloss:0.41905\n",
      "[102]\tvalidation_0-logloss:0.41882\n",
      "[103]\tvalidation_0-logloss:0.41855\n",
      "[104]\tvalidation_0-logloss:0.41808\n",
      "[105]\tvalidation_0-logloss:0.41821\n",
      "[106]\tvalidation_0-logloss:0.41829\n",
      "[107]\tvalidation_0-logloss:0.41830\n",
      "[108]\tvalidation_0-logloss:0.41819\n",
      "[109]\tvalidation_0-logloss:0.41831\n",
      "[110]\tvalidation_0-logloss:0.41823\n",
      "[111]\tvalidation_0-logloss:0.41819\n",
      "[112]\tvalidation_0-logloss:0.41771\n",
      "[113]\tvalidation_0-logloss:0.41758\n",
      "[114]\tvalidation_0-logloss:0.41782\n",
      "[115]\tvalidation_0-logloss:0.41789\n",
      "[116]\tvalidation_0-logloss:0.41769\n",
      "[117]\tvalidation_0-logloss:0.41758\n",
      "[118]\tvalidation_0-logloss:0.41749\n",
      "[119]\tvalidation_0-logloss:0.41702\n",
      "[120]\tvalidation_0-logloss:0.41702\n",
      "[121]\tvalidation_0-logloss:0.41661\n",
      "[122]\tvalidation_0-logloss:0.41648\n",
      "[123]\tvalidation_0-logloss:0.41622\n",
      "[124]\tvalidation_0-logloss:0.41614\n",
      "[125]\tvalidation_0-logloss:0.41620\n",
      "[126]\tvalidation_0-logloss:0.41610\n",
      "[127]\tvalidation_0-logloss:0.41604\n",
      "[128]\tvalidation_0-logloss:0.41611\n",
      "[129]\tvalidation_0-logloss:0.41604\n",
      "[130]\tvalidation_0-logloss:0.41628\n",
      "[131]\tvalidation_0-logloss:0.41630\n",
      "[132]\tvalidation_0-logloss:0.41623\n",
      "[133]\tvalidation_0-logloss:0.41595\n",
      "[134]\tvalidation_0-logloss:0.41602\n",
      "[135]\tvalidation_0-logloss:0.41606\n",
      "[136]\tvalidation_0-logloss:0.41573\n",
      "[137]\tvalidation_0-logloss:0.41543\n",
      "[138]\tvalidation_0-logloss:0.41511\n",
      "[139]\tvalidation_0-logloss:0.41470\n",
      "[140]\tvalidation_0-logloss:0.41478\n",
      "[141]\tvalidation_0-logloss:0.41482\n",
      "[142]\tvalidation_0-logloss:0.41452\n",
      "[143]\tvalidation_0-logloss:0.41415\n",
      "[144]\tvalidation_0-logloss:0.41419\n",
      "[145]\tvalidation_0-logloss:0.41417\n",
      "[146]\tvalidation_0-logloss:0.41408\n",
      "[147]\tvalidation_0-logloss:0.41422\n",
      "[148]\tvalidation_0-logloss:0.41415\n",
      "[149]\tvalidation_0-logloss:0.41420\n",
      "[150]\tvalidation_0-logloss:0.41424\n",
      "[151]\tvalidation_0-logloss:0.41409\n",
      "[152]\tvalidation_0-logloss:0.41391\n",
      "[153]\tvalidation_0-logloss:0.41353\n",
      "[154]\tvalidation_0-logloss:0.41366\n",
      "[155]\tvalidation_0-logloss:0.41368\n",
      "[156]\tvalidation_0-logloss:0.41389\n",
      "[157]\tvalidation_0-logloss:0.41377\n",
      "[158]\tvalidation_0-logloss:0.41390\n",
      "[159]\tvalidation_0-logloss:0.41396\n",
      "[160]\tvalidation_0-logloss:0.41388\n",
      "[161]\tvalidation_0-logloss:0.41386\n",
      "[162]\tvalidation_0-logloss:0.41370\n",
      "[163]\tvalidation_0-logloss:0.41376\n",
      "[164]\tvalidation_0-logloss:0.41380\n",
      "[165]\tvalidation_0-logloss:0.41364\n",
      "[166]\tvalidation_0-logloss:0.41346\n",
      "[167]\tvalidation_0-logloss:0.41348\n",
      "[168]\tvalidation_0-logloss:0.41351\n",
      "[169]\tvalidation_0-logloss:0.41307\n",
      "[170]\tvalidation_0-logloss:0.41295\n",
      "[171]\tvalidation_0-logloss:0.41293\n",
      "[172]\tvalidation_0-logloss:0.41293\n",
      "[173]\tvalidation_0-logloss:0.41307\n",
      "[174]\tvalidation_0-logloss:0.41262\n",
      "[175]\tvalidation_0-logloss:0.41270\n",
      "[176]\tvalidation_0-logloss:0.41266\n",
      "[177]\tvalidation_0-logloss:0.41232\n",
      "[178]\tvalidation_0-logloss:0.41226\n",
      "[179]\tvalidation_0-logloss:0.41205\n",
      "[180]\tvalidation_0-logloss:0.41220\n",
      "[181]\tvalidation_0-logloss:0.41229\n",
      "[182]\tvalidation_0-logloss:0.41234\n",
      "[183]\tvalidation_0-logloss:0.41210\n",
      "[184]\tvalidation_0-logloss:0.41214\n",
      "[185]\tvalidation_0-logloss:0.41211\n",
      "[186]\tvalidation_0-logloss:0.41203\n",
      "[187]\tvalidation_0-logloss:0.41201\n",
      "[188]\tvalidation_0-logloss:0.41203\n",
      "[189]\tvalidation_0-logloss:0.41192\n",
      "[190]\tvalidation_0-logloss:0.41207\n",
      "[191]\tvalidation_0-logloss:0.41199\n",
      "[192]\tvalidation_0-logloss:0.41207\n",
      "[193]\tvalidation_0-logloss:0.41172\n",
      "[194]\tvalidation_0-logloss:0.41172\n",
      "[195]\tvalidation_0-logloss:0.41146\n",
      "[196]\tvalidation_0-logloss:0.41147\n",
      "[197]\tvalidation_0-logloss:0.41137\n",
      "[198]\tvalidation_0-logloss:0.41138\n",
      "[199]\tvalidation_0-logloss:0.41125\n",
      "[200]\tvalidation_0-logloss:0.41127\n",
      "[201]\tvalidation_0-logloss:0.41128\n",
      "[202]\tvalidation_0-logloss:0.41129\n",
      "[203]\tvalidation_0-logloss:0.41131\n",
      "[204]\tvalidation_0-logloss:0.41114\n",
      "[205]\tvalidation_0-logloss:0.41110\n",
      "[206]\tvalidation_0-logloss:0.41117\n",
      "[207]\tvalidation_0-logloss:0.41078\n",
      "[208]\tvalidation_0-logloss:0.41051\n",
      "[209]\tvalidation_0-logloss:0.41053\n",
      "[210]\tvalidation_0-logloss:0.41052\n",
      "[211]\tvalidation_0-logloss:0.41079\n",
      "[212]\tvalidation_0-logloss:0.41039\n",
      "[213]\tvalidation_0-logloss:0.41039\n",
      "[214]\tvalidation_0-logloss:0.41045\n",
      "[215]\tvalidation_0-logloss:0.41038\n",
      "[216]\tvalidation_0-logloss:0.41025\n",
      "[217]\tvalidation_0-logloss:0.41041\n",
      "[218]\tvalidation_0-logloss:0.41046\n",
      "[219]\tvalidation_0-logloss:0.41049\n",
      "[220]\tvalidation_0-logloss:0.41051\n",
      "[221]\tvalidation_0-logloss:0.41068\n",
      "[222]\tvalidation_0-logloss:0.41096\n",
      "[223]\tvalidation_0-logloss:0.41096\n",
      "[224]\tvalidation_0-logloss:0.41116\n",
      "[225]\tvalidation_0-logloss:0.41126\n",
      "[226]\tvalidation_0-logloss:0.41144\n",
      "[227]\tvalidation_0-logloss:0.41146\n",
      "[228]\tvalidation_0-logloss:0.41126\n",
      "[229]\tvalidation_0-logloss:0.41137\n",
      "[230]\tvalidation_0-logloss:0.41115\n",
      "[231]\tvalidation_0-logloss:0.41113\n",
      "[232]\tvalidation_0-logloss:0.41123\n",
      "[233]\tvalidation_0-logloss:0.41125\n",
      "[234]\tvalidation_0-logloss:0.41107\n",
      "[235]\tvalidation_0-logloss:0.41111\n"
     ]
    }
   ],
   "source": [
    "from sklearn.model_selection import train_test_split\n",
    "import xgboost as xgb\n",
    "\n",
    "X_train, X_val, y_train, y_val = train_test_split(X, y, test_size=0.2, random_state=42)\n",
    "\n",
    "# Define XGBoost Model\n",
    "model = xgb.XGBClassifier(\n",
    "    subsample=0.6,\n",
    "    reg_lambda=0.1,\n",
    "    reg_alpha=0,\n",
    "    n_estimators=300,\n",
    "    max_depth=5,\n",
    "    learning_rate=0.05,\n",
    "    gamma=0.1,\n",
    "    colsample_bytree=0.8,\n",
    "    random_state=42,\n",
    "    verbosity=1  # Enables training output\n",
    ")\n",
    "\n",
    "# Train the model\n",
    "model.fit(\n",
    "    X_train, \n",
    "    y_train,\n",
    "    eval_set=[(X_val, y_val)],\n",
    "    eval_metric='logloss',\n",
    "    early_stopping_rounds=20,\n",
    "    verbose=True\n",
    ")\n",
    "\n",
    "# Make predictions\n",
    "val_preds = model.predict(X_val)"
   ]
  },
  {
   "cell_type": "code",
   "execution_count": 18,
   "id": "77a127d0",
   "metadata": {
    "execution": {
     "iopub.execute_input": "2025-02-18T02:48:43.542649Z",
     "iopub.status.busy": "2025-02-18T02:48:43.542301Z",
     "iopub.status.idle": "2025-02-18T02:48:43.561171Z",
     "shell.execute_reply": "2025-02-18T02:48:43.559387Z"
    },
    "papermill": {
     "duration": 0.043433,
     "end_time": "2025-02-18T02:48:43.563643",
     "exception": false,
     "start_time": "2025-02-18T02:48:43.520210",
     "status": "completed"
    },
    "tags": []
   },
   "outputs": [
    {
     "data": {
      "text/plain": [
       "array([1, 0, 1, ..., 1, 1, 1])"
      ]
     },
     "execution_count": 18,
     "metadata": {},
     "output_type": "execute_result"
    }
   ],
   "source": [
    "preds = model.predict(test_copy)\n",
    "preds"
   ]
  },
  {
   "cell_type": "code",
   "execution_count": 19,
   "id": "248ce8c5",
   "metadata": {
    "execution": {
     "iopub.execute_input": "2025-02-18T02:48:43.609949Z",
     "iopub.status.busy": "2025-02-18T02:48:43.609541Z",
     "iopub.status.idle": "2025-02-18T02:48:43.626202Z",
     "shell.execute_reply": "2025-02-18T02:48:43.624905Z"
    },
    "papermill": {
     "duration": 0.040084,
     "end_time": "2025-02-18T02:48:43.628272",
     "exception": false,
     "start_time": "2025-02-18T02:48:43.588188",
     "status": "completed"
    },
    "tags": []
   },
   "outputs": [],
   "source": [
    "submission = pd.DataFrame({\n",
    "    'PassengerId': test_data['PassengerId'],\n",
    "    'Transported': preds.astype(bool)\n",
    "})\n",
    "submission.to_csv('submission.csv', index=False)"
   ]
  }
 ],
 "metadata": {
  "kaggle": {
   "accelerator": "none",
   "dataSources": [
    {
     "databundleVersionId": 3220602,
     "sourceId": 34377,
     "sourceType": "competition"
    }
   ],
   "dockerImageVersionId": 30886,
   "isGpuEnabled": false,
   "isInternetEnabled": true,
   "language": "python",
   "sourceType": "notebook"
  },
  "kernelspec": {
   "display_name": "Python 3",
   "language": "python",
   "name": "python3"
  },
  "language_info": {
   "codemirror_mode": {
    "name": "ipython",
    "version": 3
   },
   "file_extension": ".py",
   "mimetype": "text/x-python",
   "name": "python",
   "nbconvert_exporter": "python",
   "pygments_lexer": "ipython3",
   "version": "3.10.12"
  },
  "papermill": {
   "default_parameters": {},
   "duration": 10.122118,
   "end_time": "2025-02-18T02:48:44.470393",
   "environment_variables": {},
   "exception": null,
   "input_path": "__notebook__.ipynb",
   "output_path": "__notebook__.ipynb",
   "parameters": {},
   "start_time": "2025-02-18T02:48:34.348275",
   "version": "2.6.0"
  }
 },
 "nbformat": 4,
 "nbformat_minor": 5
}
