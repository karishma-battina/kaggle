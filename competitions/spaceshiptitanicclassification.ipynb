{
 "cells": [
  {
   "cell_type": "code",
   "execution_count": 1,
   "id": "2076c09b",
   "metadata": {
    "_cell_guid": "b1076dfc-b9ad-4769-8c92-a6c4dae69d19",
    "_uuid": "8f2839f25d086af736a60e9eeb907d3b93b6e0e5",
    "execution": {
     "iopub.execute_input": "2025-02-15T14:22:35.868248Z",
     "iopub.status.busy": "2025-02-15T14:22:35.867821Z",
     "iopub.status.idle": "2025-02-15T14:22:36.748745Z",
     "shell.execute_reply": "2025-02-15T14:22:36.747611Z"
    },
    "papermill": {
     "duration": 0.889087,
     "end_time": "2025-02-15T14:22:36.750913",
     "exception": false,
     "start_time": "2025-02-15T14:22:35.861826",
     "status": "completed"
    },
    "tags": []
   },
   "outputs": [],
   "source": [
    "import numpy as np\n",
    "import pandas as pd"
   ]
  },
  {
   "cell_type": "code",
   "execution_count": 2,
   "id": "ff0f533d",
   "metadata": {
    "execution": {
     "iopub.execute_input": "2025-02-15T14:22:36.761693Z",
     "iopub.status.busy": "2025-02-15T14:22:36.761238Z",
     "iopub.status.idle": "2025-02-15T14:22:36.849619Z",
     "shell.execute_reply": "2025-02-15T14:22:36.848589Z"
    },
    "papermill": {
     "duration": 0.095861,
     "end_time": "2025-02-15T14:22:36.851807",
     "exception": false,
     "start_time": "2025-02-15T14:22:36.755946",
     "status": "completed"
    },
    "tags": []
   },
   "outputs": [],
   "source": [
    "# Load the dataset\n",
    "train_data = pd.read_csv('/kaggle/input/spaceship-titanic/train.csv')\n",
    "test_data = pd.read_csv('/kaggle/input/spaceship-titanic/test.csv')"
   ]
  },
  {
   "cell_type": "code",
   "execution_count": 3,
   "id": "e166c3c2",
   "metadata": {
    "execution": {
     "iopub.execute_input": "2025-02-15T14:22:36.862278Z",
     "iopub.status.busy": "2025-02-15T14:22:36.861909Z",
     "iopub.status.idle": "2025-02-15T14:22:36.895550Z",
     "shell.execute_reply": "2025-02-15T14:22:36.894301Z"
    },
    "papermill": {
     "duration": 0.040634,
     "end_time": "2025-02-15T14:22:36.897172",
     "exception": false,
     "start_time": "2025-02-15T14:22:36.856538",
     "status": "completed"
    },
    "tags": []
   },
   "outputs": [
    {
     "name": "stdout",
     "output_type": "stream",
     "text": [
      "<class 'pandas.core.frame.DataFrame'>\n",
      "RangeIndex: 8693 entries, 0 to 8692\n",
      "Data columns (total 14 columns):\n",
      " #   Column        Non-Null Count  Dtype  \n",
      "---  ------        --------------  -----  \n",
      " 0   PassengerId   8693 non-null   object \n",
      " 1   HomePlanet    8492 non-null   object \n",
      " 2   CryoSleep     8476 non-null   object \n",
      " 3   Cabin         8494 non-null   object \n",
      " 4   Destination   8511 non-null   object \n",
      " 5   Age           8514 non-null   float64\n",
      " 6   VIP           8490 non-null   object \n",
      " 7   RoomService   8512 non-null   float64\n",
      " 8   FoodCourt     8510 non-null   float64\n",
      " 9   ShoppingMall  8485 non-null   float64\n",
      " 10  Spa           8510 non-null   float64\n",
      " 11  VRDeck        8505 non-null   float64\n",
      " 12  Name          8493 non-null   object \n",
      " 13  Transported   8693 non-null   bool   \n",
      "dtypes: bool(1), float64(6), object(7)\n",
      "memory usage: 891.5+ KB\n"
     ]
    }
   ],
   "source": [
    "train_data.info()"
   ]
  },
  {
   "cell_type": "code",
   "execution_count": 4,
   "id": "a9dd73ce",
   "metadata": {
    "execution": {
     "iopub.execute_input": "2025-02-15T14:22:36.908722Z",
     "iopub.status.busy": "2025-02-15T14:22:36.908365Z",
     "iopub.status.idle": "2025-02-15T14:22:36.937192Z",
     "shell.execute_reply": "2025-02-15T14:22:36.935970Z"
    },
    "papermill": {
     "duration": 0.035849,
     "end_time": "2025-02-15T14:22:36.939021",
     "exception": false,
     "start_time": "2025-02-15T14:22:36.903172",
     "status": "completed"
    },
    "tags": []
   },
   "outputs": [
    {
     "data": {
      "text/html": [
       "<div>\n",
       "<style scoped>\n",
       "    .dataframe tbody tr th:only-of-type {\n",
       "        vertical-align: middle;\n",
       "    }\n",
       "\n",
       "    .dataframe tbody tr th {\n",
       "        vertical-align: top;\n",
       "    }\n",
       "\n",
       "    .dataframe thead th {\n",
       "        text-align: right;\n",
       "    }\n",
       "</style>\n",
       "<table border=\"1\" class=\"dataframe\">\n",
       "  <thead>\n",
       "    <tr style=\"text-align: right;\">\n",
       "      <th></th>\n",
       "      <th>PassengerId</th>\n",
       "      <th>HomePlanet</th>\n",
       "      <th>CryoSleep</th>\n",
       "      <th>Cabin</th>\n",
       "      <th>Destination</th>\n",
       "      <th>Age</th>\n",
       "      <th>VIP</th>\n",
       "      <th>RoomService</th>\n",
       "      <th>FoodCourt</th>\n",
       "      <th>ShoppingMall</th>\n",
       "      <th>Spa</th>\n",
       "      <th>VRDeck</th>\n",
       "      <th>Name</th>\n",
       "      <th>Transported</th>\n",
       "    </tr>\n",
       "  </thead>\n",
       "  <tbody>\n",
       "    <tr>\n",
       "      <th>0</th>\n",
       "      <td>0001_01</td>\n",
       "      <td>Europa</td>\n",
       "      <td>False</td>\n",
       "      <td>B/0/P</td>\n",
       "      <td>TRAPPIST-1e</td>\n",
       "      <td>39.0</td>\n",
       "      <td>False</td>\n",
       "      <td>0.0</td>\n",
       "      <td>0.0</td>\n",
       "      <td>0.0</td>\n",
       "      <td>0.0</td>\n",
       "      <td>0.0</td>\n",
       "      <td>Maham Ofracculy</td>\n",
       "      <td>False</td>\n",
       "    </tr>\n",
       "    <tr>\n",
       "      <th>1</th>\n",
       "      <td>0002_01</td>\n",
       "      <td>Earth</td>\n",
       "      <td>False</td>\n",
       "      <td>F/0/S</td>\n",
       "      <td>TRAPPIST-1e</td>\n",
       "      <td>24.0</td>\n",
       "      <td>False</td>\n",
       "      <td>109.0</td>\n",
       "      <td>9.0</td>\n",
       "      <td>25.0</td>\n",
       "      <td>549.0</td>\n",
       "      <td>44.0</td>\n",
       "      <td>Juanna Vines</td>\n",
       "      <td>True</td>\n",
       "    </tr>\n",
       "    <tr>\n",
       "      <th>2</th>\n",
       "      <td>0003_01</td>\n",
       "      <td>Europa</td>\n",
       "      <td>False</td>\n",
       "      <td>A/0/S</td>\n",
       "      <td>TRAPPIST-1e</td>\n",
       "      <td>58.0</td>\n",
       "      <td>True</td>\n",
       "      <td>43.0</td>\n",
       "      <td>3576.0</td>\n",
       "      <td>0.0</td>\n",
       "      <td>6715.0</td>\n",
       "      <td>49.0</td>\n",
       "      <td>Altark Susent</td>\n",
       "      <td>False</td>\n",
       "    </tr>\n",
       "    <tr>\n",
       "      <th>3</th>\n",
       "      <td>0003_02</td>\n",
       "      <td>Europa</td>\n",
       "      <td>False</td>\n",
       "      <td>A/0/S</td>\n",
       "      <td>TRAPPIST-1e</td>\n",
       "      <td>33.0</td>\n",
       "      <td>False</td>\n",
       "      <td>0.0</td>\n",
       "      <td>1283.0</td>\n",
       "      <td>371.0</td>\n",
       "      <td>3329.0</td>\n",
       "      <td>193.0</td>\n",
       "      <td>Solam Susent</td>\n",
       "      <td>False</td>\n",
       "    </tr>\n",
       "    <tr>\n",
       "      <th>4</th>\n",
       "      <td>0004_01</td>\n",
       "      <td>Earth</td>\n",
       "      <td>False</td>\n",
       "      <td>F/1/S</td>\n",
       "      <td>TRAPPIST-1e</td>\n",
       "      <td>16.0</td>\n",
       "      <td>False</td>\n",
       "      <td>303.0</td>\n",
       "      <td>70.0</td>\n",
       "      <td>151.0</td>\n",
       "      <td>565.0</td>\n",
       "      <td>2.0</td>\n",
       "      <td>Willy Santantines</td>\n",
       "      <td>True</td>\n",
       "    </tr>\n",
       "  </tbody>\n",
       "</table>\n",
       "</div>"
      ],
      "text/plain": [
       "  PassengerId HomePlanet CryoSleep  Cabin  Destination   Age    VIP  \\\n",
       "0     0001_01     Europa     False  B/0/P  TRAPPIST-1e  39.0  False   \n",
       "1     0002_01      Earth     False  F/0/S  TRAPPIST-1e  24.0  False   \n",
       "2     0003_01     Europa     False  A/0/S  TRAPPIST-1e  58.0   True   \n",
       "3     0003_02     Europa     False  A/0/S  TRAPPIST-1e  33.0  False   \n",
       "4     0004_01      Earth     False  F/1/S  TRAPPIST-1e  16.0  False   \n",
       "\n",
       "   RoomService  FoodCourt  ShoppingMall     Spa  VRDeck               Name  \\\n",
       "0          0.0        0.0           0.0     0.0     0.0    Maham Ofracculy   \n",
       "1        109.0        9.0          25.0   549.0    44.0       Juanna Vines   \n",
       "2         43.0     3576.0           0.0  6715.0    49.0      Altark Susent   \n",
       "3          0.0     1283.0         371.0  3329.0   193.0       Solam Susent   \n",
       "4        303.0       70.0         151.0   565.0     2.0  Willy Santantines   \n",
       "\n",
       "   Transported  \n",
       "0        False  \n",
       "1         True  \n",
       "2        False  \n",
       "3        False  \n",
       "4         True  "
      ]
     },
     "execution_count": 4,
     "metadata": {},
     "output_type": "execute_result"
    }
   ],
   "source": [
    "train_data.head()"
   ]
  },
  {
   "cell_type": "code",
   "execution_count": 5,
   "id": "0b603ee3",
   "metadata": {
    "execution": {
     "iopub.execute_input": "2025-02-15T14:22:36.949639Z",
     "iopub.status.busy": "2025-02-15T14:22:36.949280Z",
     "iopub.status.idle": "2025-02-15T14:22:36.970161Z",
     "shell.execute_reply": "2025-02-15T14:22:36.969092Z"
    },
    "papermill": {
     "duration": 0.028192,
     "end_time": "2025-02-15T14:22:36.971942",
     "exception": false,
     "start_time": "2025-02-15T14:22:36.943750",
     "status": "completed"
    },
    "tags": []
   },
   "outputs": [
    {
     "data": {
      "text/html": [
       "<div>\n",
       "<style scoped>\n",
       "    .dataframe tbody tr th:only-of-type {\n",
       "        vertical-align: middle;\n",
       "    }\n",
       "\n",
       "    .dataframe tbody tr th {\n",
       "        vertical-align: top;\n",
       "    }\n",
       "\n",
       "    .dataframe thead th {\n",
       "        text-align: right;\n",
       "    }\n",
       "</style>\n",
       "<table border=\"1\" class=\"dataframe\">\n",
       "  <thead>\n",
       "    <tr style=\"text-align: right;\">\n",
       "      <th></th>\n",
       "      <th>HomePlanet</th>\n",
       "      <th>CryoSleep</th>\n",
       "      <th>Cabin</th>\n",
       "      <th>Destination</th>\n",
       "      <th>Age</th>\n",
       "      <th>VIP</th>\n",
       "      <th>RoomService</th>\n",
       "      <th>FoodCourt</th>\n",
       "      <th>ShoppingMall</th>\n",
       "      <th>Spa</th>\n",
       "      <th>VRDeck</th>\n",
       "      <th>Transported</th>\n",
       "    </tr>\n",
       "  </thead>\n",
       "  <tbody>\n",
       "    <tr>\n",
       "      <th>0</th>\n",
       "      <td>Europa</td>\n",
       "      <td>False</td>\n",
       "      <td>B/0/P</td>\n",
       "      <td>TRAPPIST-1e</td>\n",
       "      <td>39.0</td>\n",
       "      <td>False</td>\n",
       "      <td>0.0</td>\n",
       "      <td>0.0</td>\n",
       "      <td>0.0</td>\n",
       "      <td>0.0</td>\n",
       "      <td>0.0</td>\n",
       "      <td>False</td>\n",
       "    </tr>\n",
       "    <tr>\n",
       "      <th>1</th>\n",
       "      <td>Earth</td>\n",
       "      <td>False</td>\n",
       "      <td>F/0/S</td>\n",
       "      <td>TRAPPIST-1e</td>\n",
       "      <td>24.0</td>\n",
       "      <td>False</td>\n",
       "      <td>109.0</td>\n",
       "      <td>9.0</td>\n",
       "      <td>25.0</td>\n",
       "      <td>549.0</td>\n",
       "      <td>44.0</td>\n",
       "      <td>True</td>\n",
       "    </tr>\n",
       "    <tr>\n",
       "      <th>2</th>\n",
       "      <td>Europa</td>\n",
       "      <td>False</td>\n",
       "      <td>A/0/S</td>\n",
       "      <td>TRAPPIST-1e</td>\n",
       "      <td>58.0</td>\n",
       "      <td>True</td>\n",
       "      <td>43.0</td>\n",
       "      <td>3576.0</td>\n",
       "      <td>0.0</td>\n",
       "      <td>6715.0</td>\n",
       "      <td>49.0</td>\n",
       "      <td>False</td>\n",
       "    </tr>\n",
       "    <tr>\n",
       "      <th>3</th>\n",
       "      <td>Europa</td>\n",
       "      <td>False</td>\n",
       "      <td>A/0/S</td>\n",
       "      <td>TRAPPIST-1e</td>\n",
       "      <td>33.0</td>\n",
       "      <td>False</td>\n",
       "      <td>0.0</td>\n",
       "      <td>1283.0</td>\n",
       "      <td>371.0</td>\n",
       "      <td>3329.0</td>\n",
       "      <td>193.0</td>\n",
       "      <td>False</td>\n",
       "    </tr>\n",
       "    <tr>\n",
       "      <th>4</th>\n",
       "      <td>Earth</td>\n",
       "      <td>False</td>\n",
       "      <td>F/1/S</td>\n",
       "      <td>TRAPPIST-1e</td>\n",
       "      <td>16.0</td>\n",
       "      <td>False</td>\n",
       "      <td>303.0</td>\n",
       "      <td>70.0</td>\n",
       "      <td>151.0</td>\n",
       "      <td>565.0</td>\n",
       "      <td>2.0</td>\n",
       "      <td>True</td>\n",
       "    </tr>\n",
       "  </tbody>\n",
       "</table>\n",
       "</div>"
      ],
      "text/plain": [
       "  HomePlanet CryoSleep  Cabin  Destination   Age    VIP  RoomService  \\\n",
       "0     Europa     False  B/0/P  TRAPPIST-1e  39.0  False          0.0   \n",
       "1      Earth     False  F/0/S  TRAPPIST-1e  24.0  False        109.0   \n",
       "2     Europa     False  A/0/S  TRAPPIST-1e  58.0   True         43.0   \n",
       "3     Europa     False  A/0/S  TRAPPIST-1e  33.0  False          0.0   \n",
       "4      Earth     False  F/1/S  TRAPPIST-1e  16.0  False        303.0   \n",
       "\n",
       "   FoodCourt  ShoppingMall     Spa  VRDeck  Transported  \n",
       "0        0.0           0.0     0.0     0.0        False  \n",
       "1        9.0          25.0   549.0    44.0         True  \n",
       "2     3576.0           0.0  6715.0    49.0        False  \n",
       "3     1283.0         371.0  3329.0   193.0        False  \n",
       "4       70.0         151.0   565.0     2.0         True  "
      ]
     },
     "execution_count": 5,
     "metadata": {},
     "output_type": "execute_result"
    }
   ],
   "source": [
    "#Remove unnecessary columns\n",
    "train_data = train_data.drop(['PassengerId', 'Name'], axis=1)\n",
    "train_data.head()"
   ]
  },
  {
   "cell_type": "code",
   "execution_count": 6,
   "id": "81e6107a",
   "metadata": {
    "execution": {
     "iopub.execute_input": "2025-02-15T14:22:36.983300Z",
     "iopub.status.busy": "2025-02-15T14:22:36.982976Z",
     "iopub.status.idle": "2025-02-15T14:22:37.009506Z",
     "shell.execute_reply": "2025-02-15T14:22:37.008303Z"
    },
    "papermill": {
     "duration": 0.034235,
     "end_time": "2025-02-15T14:22:37.011379",
     "exception": false,
     "start_time": "2025-02-15T14:22:36.977144",
     "status": "completed"
    },
    "tags": []
   },
   "outputs": [
    {
     "data": {
      "text/html": [
       "<div>\n",
       "<style scoped>\n",
       "    .dataframe tbody tr th:only-of-type {\n",
       "        vertical-align: middle;\n",
       "    }\n",
       "\n",
       "    .dataframe tbody tr th {\n",
       "        vertical-align: top;\n",
       "    }\n",
       "\n",
       "    .dataframe thead th {\n",
       "        text-align: right;\n",
       "    }\n",
       "</style>\n",
       "<table border=\"1\" class=\"dataframe\">\n",
       "  <thead>\n",
       "    <tr style=\"text-align: right;\">\n",
       "      <th></th>\n",
       "      <th>Age</th>\n",
       "      <th>RoomService</th>\n",
       "      <th>FoodCourt</th>\n",
       "      <th>ShoppingMall</th>\n",
       "      <th>Spa</th>\n",
       "      <th>VRDeck</th>\n",
       "    </tr>\n",
       "  </thead>\n",
       "  <tbody>\n",
       "    <tr>\n",
       "      <th>count</th>\n",
       "      <td>8514.000000</td>\n",
       "      <td>8512.000000</td>\n",
       "      <td>8510.000000</td>\n",
       "      <td>8485.000000</td>\n",
       "      <td>8510.000000</td>\n",
       "      <td>8505.000000</td>\n",
       "    </tr>\n",
       "    <tr>\n",
       "      <th>mean</th>\n",
       "      <td>28.827930</td>\n",
       "      <td>224.687617</td>\n",
       "      <td>458.077203</td>\n",
       "      <td>173.729169</td>\n",
       "      <td>311.138778</td>\n",
       "      <td>304.854791</td>\n",
       "    </tr>\n",
       "    <tr>\n",
       "      <th>std</th>\n",
       "      <td>14.489021</td>\n",
       "      <td>666.717663</td>\n",
       "      <td>1611.489240</td>\n",
       "      <td>604.696458</td>\n",
       "      <td>1136.705535</td>\n",
       "      <td>1145.717189</td>\n",
       "    </tr>\n",
       "    <tr>\n",
       "      <th>min</th>\n",
       "      <td>0.000000</td>\n",
       "      <td>0.000000</td>\n",
       "      <td>0.000000</td>\n",
       "      <td>0.000000</td>\n",
       "      <td>0.000000</td>\n",
       "      <td>0.000000</td>\n",
       "    </tr>\n",
       "    <tr>\n",
       "      <th>25%</th>\n",
       "      <td>19.000000</td>\n",
       "      <td>0.000000</td>\n",
       "      <td>0.000000</td>\n",
       "      <td>0.000000</td>\n",
       "      <td>0.000000</td>\n",
       "      <td>0.000000</td>\n",
       "    </tr>\n",
       "    <tr>\n",
       "      <th>50%</th>\n",
       "      <td>27.000000</td>\n",
       "      <td>0.000000</td>\n",
       "      <td>0.000000</td>\n",
       "      <td>0.000000</td>\n",
       "      <td>0.000000</td>\n",
       "      <td>0.000000</td>\n",
       "    </tr>\n",
       "    <tr>\n",
       "      <th>75%</th>\n",
       "      <td>38.000000</td>\n",
       "      <td>47.000000</td>\n",
       "      <td>76.000000</td>\n",
       "      <td>27.000000</td>\n",
       "      <td>59.000000</td>\n",
       "      <td>46.000000</td>\n",
       "    </tr>\n",
       "    <tr>\n",
       "      <th>max</th>\n",
       "      <td>79.000000</td>\n",
       "      <td>14327.000000</td>\n",
       "      <td>29813.000000</td>\n",
       "      <td>23492.000000</td>\n",
       "      <td>22408.000000</td>\n",
       "      <td>24133.000000</td>\n",
       "    </tr>\n",
       "  </tbody>\n",
       "</table>\n",
       "</div>"
      ],
      "text/plain": [
       "               Age   RoomService     FoodCourt  ShoppingMall           Spa  \\\n",
       "count  8514.000000   8512.000000   8510.000000   8485.000000   8510.000000   \n",
       "mean     28.827930    224.687617    458.077203    173.729169    311.138778   \n",
       "std      14.489021    666.717663   1611.489240    604.696458   1136.705535   \n",
       "min       0.000000      0.000000      0.000000      0.000000      0.000000   \n",
       "25%      19.000000      0.000000      0.000000      0.000000      0.000000   \n",
       "50%      27.000000      0.000000      0.000000      0.000000      0.000000   \n",
       "75%      38.000000     47.000000     76.000000     27.000000     59.000000   \n",
       "max      79.000000  14327.000000  29813.000000  23492.000000  22408.000000   \n",
       "\n",
       "             VRDeck  \n",
       "count   8505.000000  \n",
       "mean     304.854791  \n",
       "std     1145.717189  \n",
       "min        0.000000  \n",
       "25%        0.000000  \n",
       "50%        0.000000  \n",
       "75%       46.000000  \n",
       "max    24133.000000  "
      ]
     },
     "execution_count": 6,
     "metadata": {},
     "output_type": "execute_result"
    }
   ],
   "source": [
    "train_data.describe()"
   ]
  },
  {
   "cell_type": "code",
   "execution_count": 7,
   "id": "f6fc6ee1",
   "metadata": {
    "execution": {
     "iopub.execute_input": "2025-02-15T14:22:37.023195Z",
     "iopub.status.busy": "2025-02-15T14:22:37.022757Z",
     "iopub.status.idle": "2025-02-15T14:22:37.033345Z",
     "shell.execute_reply": "2025-02-15T14:22:37.032256Z"
    },
    "papermill": {
     "duration": 0.018122,
     "end_time": "2025-02-15T14:22:37.034819",
     "exception": false,
     "start_time": "2025-02-15T14:22:37.016697",
     "status": "completed"
    },
    "tags": []
   },
   "outputs": [
    {
     "data": {
      "text/plain": [
       "HomePlanet      201\n",
       "CryoSleep       217\n",
       "Cabin           199\n",
       "Destination     182\n",
       "Age             179\n",
       "VIP             203\n",
       "RoomService     181\n",
       "FoodCourt       183\n",
       "ShoppingMall    208\n",
       "Spa             183\n",
       "VRDeck          188\n",
       "Transported       0\n",
       "dtype: int64"
      ]
     },
     "execution_count": 7,
     "metadata": {},
     "output_type": "execute_result"
    }
   ],
   "source": [
    "# check for null values\n",
    "train_data.isnull().sum()"
   ]
  },
  {
   "cell_type": "code",
   "execution_count": 8,
   "id": "27b6a536",
   "metadata": {
    "execution": {
     "iopub.execute_input": "2025-02-15T14:22:37.046324Z",
     "iopub.status.busy": "2025-02-15T14:22:37.045943Z",
     "iopub.status.idle": "2025-02-15T14:22:38.952250Z",
     "shell.execute_reply": "2025-02-15T14:22:38.951178Z"
    },
    "papermill": {
     "duration": 1.91399,
     "end_time": "2025-02-15T14:22:38.953993",
     "exception": false,
     "start_time": "2025-02-15T14:22:37.040003",
     "status": "completed"
    },
    "tags": []
   },
   "outputs": [
    {
     "data": {
      "text/plain": [
       "<Axes: xlabel='Transported'>"
      ]
     },
     "execution_count": 8,
     "metadata": {},
     "output_type": "execute_result"
    },
    {
     "data": {
      "image/png": "[encoded data removed]",
      "text/plain": [
       "<Figure size 640x480 with 1 Axes>"
      ]
     },
     "metadata": {},
     "output_type": "display_data"
    }
   ],
   "source": [
    "import seaborn as sns\n",
    "import matplotlib.pyplot as plt\n",
    "plot_df = train_data.Transported.value_counts()\n",
    "plot_df.plot(kind=\"bar\")"
   ]
  },
  {
   "cell_type": "code",
   "execution_count": 9,
   "id": "39632b08",
   "metadata": {
    "execution": {
     "iopub.execute_input": "2025-02-15T14:22:38.967346Z",
     "iopub.status.busy": "2025-02-15T14:22:38.966802Z",
     "iopub.status.idle": "2025-02-15T14:22:38.971736Z",
     "shell.execute_reply": "2025-02-15T14:22:38.970520Z"
    },
    "papermill": {
     "duration": 0.013159,
     "end_time": "2025-02-15T14:22:38.973392",
     "exception": false,
     "start_time": "2025-02-15T14:22:38.960233",
     "status": "completed"
    },
    "tags": []
   },
   "outputs": [],
   "source": [
    "numeric_features = ['Age', 'RoomService', 'FoodCourt', 'ShoppingMall', 'Spa', 'VRDeck']\n",
    "categorical_features = ['HomePlanet', 'CryoSleep', 'Cabin', 'Destination', 'VIP']"
   ]
  },
  {
   "cell_type": "code",
   "execution_count": 10,
   "id": "e0a1bc00",
   "metadata": {
    "execution": {
     "iopub.execute_input": "2025-02-15T14:22:38.986048Z",
     "iopub.status.busy": "2025-02-15T14:22:38.985652Z",
     "iopub.status.idle": "2025-02-15T14:22:39.490871Z",
     "shell.execute_reply": "2025-02-15T14:22:39.489651Z"
    },
    "papermill": {
     "duration": 0.513785,
     "end_time": "2025-02-15T14:22:39.492897",
     "exception": false,
     "start_time": "2025-02-15T14:22:38.979112",
     "status": "completed"
    },
    "tags": []
   },
   "outputs": [],
   "source": [
    "#Handle missing values\n",
    "from sklearn.impute import SimpleImputer\n",
    "from sklearn.preprocessing import StandardScaler, OrdinalEncoder\n",
    "\n",
    "train_data[numeric_features] = SimpleImputer(strategy='median').fit_transform(train_data[numeric_features])\n",
    "train_data[categorical_features] = SimpleImputer(strategy='most_frequent').fit_transform(train_data[categorical_features])\n",
    "\n",
    "train_data[categorical_features] = OrdinalEncoder().fit_transform(train_data[categorical_features])"
   ]
  },
  {
   "cell_type": "code",
   "execution_count": 11,
   "id": "287cce11",
   "metadata": {
    "execution": {
     "iopub.execute_input": "2025-02-15T14:22:39.505434Z",
     "iopub.status.busy": "2025-02-15T14:22:39.505003Z",
     "iopub.status.idle": "2025-02-15T14:22:39.513667Z",
     "shell.execute_reply": "2025-02-15T14:22:39.512697Z"
    },
    "papermill": {
     "duration": 0.016715,
     "end_time": "2025-02-15T14:22:39.515370",
     "exception": false,
     "start_time": "2025-02-15T14:22:39.498655",
     "status": "completed"
    },
    "tags": []
   },
   "outputs": [
    {
     "data": {
      "text/plain": [
       "HomePlanet      0\n",
       "CryoSleep       0\n",
       "Cabin           0\n",
       "Destination     0\n",
       "Age             0\n",
       "VIP             0\n",
       "RoomService     0\n",
       "FoodCourt       0\n",
       "ShoppingMall    0\n",
       "Spa             0\n",
       "VRDeck          0\n",
       "Transported     0\n",
       "dtype: int64"
      ]
     },
     "execution_count": 11,
     "metadata": {},
     "output_type": "execute_result"
    }
   ],
   "source": [
    "train_data.isnull().sum()"
   ]
  },
  {
   "cell_type": "code",
   "execution_count": 12,
   "id": "744bc0a6",
   "metadata": {
    "execution": {
     "iopub.execute_input": "2025-02-15T14:22:39.528176Z",
     "iopub.status.busy": "2025-02-15T14:22:39.527715Z",
     "iopub.status.idle": "2025-02-15T14:22:39.532776Z",
     "shell.execute_reply": "2025-02-15T14:22:39.531653Z"
    },
    "papermill": {
     "duration": 0.013502,
     "end_time": "2025-02-15T14:22:39.534688",
     "exception": false,
     "start_time": "2025-02-15T14:22:39.521186",
     "status": "completed"
    },
    "tags": []
   },
   "outputs": [],
   "source": [
    "train_data['Transported'] = train_data['Transported'].astype(int)"
   ]
  },
  {
   "cell_type": "code",
   "execution_count": 13,
   "id": "f66163a5",
   "metadata": {
    "execution": {
     "iopub.execute_input": "2025-02-15T14:22:39.547399Z",
     "iopub.status.busy": "2025-02-15T14:22:39.547016Z",
     "iopub.status.idle": "2025-02-15T14:22:39.565405Z",
     "shell.execute_reply": "2025-02-15T14:22:39.564331Z"
    },
    "papermill": {
     "duration": 0.026736,
     "end_time": "2025-02-15T14:22:39.567225",
     "exception": false,
     "start_time": "2025-02-15T14:22:39.540489",
     "status": "completed"
    },
    "tags": []
   },
   "outputs": [
    {
     "data": {
      "text/html": [
       "<div>\n",
       "<style scoped>\n",
       "    .dataframe tbody tr th:only-of-type {\n",
       "        vertical-align: middle;\n",
       "    }\n",
       "\n",
       "    .dataframe tbody tr th {\n",
       "        vertical-align: top;\n",
       "    }\n",
       "\n",
       "    .dataframe thead th {\n",
       "        text-align: right;\n",
       "    }\n",
       "</style>\n",
       "<table border=\"1\" class=\"dataframe\">\n",
       "  <thead>\n",
       "    <tr style=\"text-align: right;\">\n",
       "      <th></th>\n",
       "      <th>HomePlanet</th>\n",
       "      <th>CryoSleep</th>\n",
       "      <th>Cabin</th>\n",
       "      <th>Destination</th>\n",
       "      <th>Age</th>\n",
       "      <th>VIP</th>\n",
       "      <th>RoomService</th>\n",
       "      <th>FoodCourt</th>\n",
       "      <th>ShoppingMall</th>\n",
       "      <th>Spa</th>\n",
       "      <th>VRDeck</th>\n",
       "      <th>Transported</th>\n",
       "    </tr>\n",
       "  </thead>\n",
       "  <tbody>\n",
       "    <tr>\n",
       "      <th>0</th>\n",
       "      <td>1.0</td>\n",
       "      <td>0.0</td>\n",
       "      <td>149.0</td>\n",
       "      <td>2.0</td>\n",
       "      <td>39.0</td>\n",
       "      <td>0.0</td>\n",
       "      <td>0.0</td>\n",
       "      <td>0.0</td>\n",
       "      <td>0.0</td>\n",
       "      <td>0.0</td>\n",
       "      <td>0.0</td>\n",
       "      <td>0</td>\n",
       "    </tr>\n",
       "    <tr>\n",
       "      <th>1</th>\n",
       "      <td>0.0</td>\n",
       "      <td>0.0</td>\n",
       "      <td>2184.0</td>\n",
       "      <td>2.0</td>\n",
       "      <td>24.0</td>\n",
       "      <td>0.0</td>\n",
       "      <td>109.0</td>\n",
       "      <td>9.0</td>\n",
       "      <td>25.0</td>\n",
       "      <td>549.0</td>\n",
       "      <td>44.0</td>\n",
       "      <td>1</td>\n",
       "    </tr>\n",
       "    <tr>\n",
       "      <th>2</th>\n",
       "      <td>1.0</td>\n",
       "      <td>0.0</td>\n",
       "      <td>1.0</td>\n",
       "      <td>2.0</td>\n",
       "      <td>58.0</td>\n",
       "      <td>1.0</td>\n",
       "      <td>43.0</td>\n",
       "      <td>3576.0</td>\n",
       "      <td>0.0</td>\n",
       "      <td>6715.0</td>\n",
       "      <td>49.0</td>\n",
       "      <td>0</td>\n",
       "    </tr>\n",
       "    <tr>\n",
       "      <th>3</th>\n",
       "      <td>1.0</td>\n",
       "      <td>0.0</td>\n",
       "      <td>1.0</td>\n",
       "      <td>2.0</td>\n",
       "      <td>33.0</td>\n",
       "      <td>0.0</td>\n",
       "      <td>0.0</td>\n",
       "      <td>1283.0</td>\n",
       "      <td>371.0</td>\n",
       "      <td>3329.0</td>\n",
       "      <td>193.0</td>\n",
       "      <td>0</td>\n",
       "    </tr>\n",
       "    <tr>\n",
       "      <th>4</th>\n",
       "      <td>0.0</td>\n",
       "      <td>0.0</td>\n",
       "      <td>2186.0</td>\n",
       "      <td>2.0</td>\n",
       "      <td>16.0</td>\n",
       "      <td>0.0</td>\n",
       "      <td>303.0</td>\n",
       "      <td>70.0</td>\n",
       "      <td>151.0</td>\n",
       "      <td>565.0</td>\n",
       "      <td>2.0</td>\n",
       "      <td>1</td>\n",
       "    </tr>\n",
       "  </tbody>\n",
       "</table>\n",
       "</div>"
      ],
      "text/plain": [
       "   HomePlanet  CryoSleep   Cabin  Destination   Age  VIP  RoomService  \\\n",
       "0         1.0        0.0   149.0          2.0  39.0  0.0          0.0   \n",
       "1         0.0        0.0  2184.0          2.0  24.0  0.0        109.0   \n",
       "2         1.0        0.0     1.0          2.0  58.0  1.0         43.0   \n",
       "3         1.0        0.0     1.0          2.0  33.0  0.0          0.0   \n",
       "4         0.0        0.0  2186.0          2.0  16.0  0.0        303.0   \n",
       "\n",
       "   FoodCourt  ShoppingMall     Spa  VRDeck  Transported  \n",
       "0        0.0           0.0     0.0     0.0            0  \n",
       "1        9.0          25.0   549.0    44.0            1  \n",
       "2     3576.0           0.0  6715.0    49.0            0  \n",
       "3     1283.0         371.0  3329.0   193.0            0  \n",
       "4       70.0         151.0   565.0     2.0            1  "
      ]
     },
     "execution_count": 13,
     "metadata": {},
     "output_type": "execute_result"
    }
   ],
   "source": [
    "train_data.head()"
   ]
  },
  {
   "cell_type": "code",
   "execution_count": 14,
   "id": "e43f88bb",
   "metadata": {
    "execution": {
     "iopub.execute_input": "2025-02-15T14:22:39.580403Z",
     "iopub.status.busy": "2025-02-15T14:22:39.580059Z",
     "iopub.status.idle": "2025-02-15T14:22:39.585235Z",
     "shell.execute_reply": "2025-02-15T14:22:39.583787Z"
    },
    "papermill": {
     "duration": 0.013549,
     "end_time": "2025-02-15T14:22:39.586935",
     "exception": false,
     "start_time": "2025-02-15T14:22:39.573386",
     "status": "completed"
    },
    "tags": []
   },
   "outputs": [],
   "source": [
    "test_copy = test_data.copy()"
   ]
  },
  {
   "cell_type": "code",
   "execution_count": 15,
   "id": "88f340da",
   "metadata": {
    "execution": {
     "iopub.execute_input": "2025-02-15T14:22:39.600274Z",
     "iopub.status.busy": "2025-02-15T14:22:39.599937Z",
     "iopub.status.idle": "2025-02-15T14:22:39.639958Z",
     "shell.execute_reply": "2025-02-15T14:22:39.638915Z"
    },
    "papermill": {
     "duration": 0.048847,
     "end_time": "2025-02-15T14:22:39.641910",
     "exception": false,
     "start_time": "2025-02-15T14:22:39.593063",
     "status": "completed"
    },
    "tags": []
   },
   "outputs": [],
   "source": [
    "#Preprocess test data\n",
    "test_copy = test_copy.drop(['PassengerId', 'Name'], axis=1)\n",
    "test_copy[numeric_features] = SimpleImputer(strategy='median').fit_transform(test_copy[numeric_features])\n",
    "test_copy[categorical_features] = SimpleImputer(strategy='most_frequent').fit_transform(test_copy[categorical_features])\n",
    "test_copy[categorical_features] = OrdinalEncoder().fit_transform(test_copy[categorical_features])"
   ]
  },
  {
   "cell_type": "code",
   "execution_count": 16,
   "id": "3a31efdd",
   "metadata": {
    "execution": {
     "iopub.execute_input": "2025-02-15T14:22:39.654912Z",
     "iopub.status.busy": "2025-02-15T14:22:39.654439Z",
     "iopub.status.idle": "2025-02-15T14:22:39.661363Z",
     "shell.execute_reply": "2025-02-15T14:22:39.660310Z"
    },
    "papermill": {
     "duration": 0.015308,
     "end_time": "2025-02-15T14:22:39.663120",
     "exception": false,
     "start_time": "2025-02-15T14:22:39.647812",
     "status": "completed"
    },
    "tags": []
   },
   "outputs": [],
   "source": [
    "X = train_data.drop(columns=['Transported'])\n",
    "y = train_data['Transported']"
   ]
  },
  {
   "cell_type": "code",
   "execution_count": 17,
   "id": "9f877763",
   "metadata": {
    "execution": {
     "iopub.execute_input": "2025-02-15T14:22:39.676465Z",
     "iopub.status.busy": "2025-02-15T14:22:39.676137Z",
     "iopub.status.idle": "2025-02-15T14:22:40.505248Z",
     "shell.execute_reply": "2025-02-15T14:22:40.504327Z"
    },
    "papermill": {
     "duration": 0.83759,
     "end_time": "2025-02-15T14:22:40.506903",
     "exception": false,
     "start_time": "2025-02-15T14:22:39.669313",
     "status": "completed"
    },
    "tags": []
   },
   "outputs": [
    {
     "name": "stdout",
     "output_type": "stream",
     "text": [
      "[0]\tvalidation_0-logloss:0.65431\n",
      "[1]\tvalidation_0-logloss:0.62270\n",
      "[2]\tvalidation_0-logloss:0.59567\n",
      "[3]\tvalidation_0-logloss:0.57311\n",
      "[4]\tvalidation_0-logloss:0.55347\n",
      "[5]\tvalidation_0-logloss:0.53722\n",
      "[6]\tvalidation_0-logloss:0.52323\n",
      "[7]\tvalidation_0-logloss:0.51130\n",
      "[8]\tvalidation_0-logloss:0.50029\n",
      "[9]\tvalidation_0-logloss:0.49154\n",
      "[10]\tvalidation_0-logloss:0.48293\n",
      "[11]\tvalidation_0-logloss:0.47659\n",
      "[12]\tvalidation_0-logloss:0.47026\n",
      "[13]\tvalidation_0-logloss:0.46465\n",
      "[14]\tvalidation_0-logloss:0.45939\n",
      "[15]\tvalidation_0-logloss:0.45471\n",
      "[16]\tvalidation_0-logloss:0.45084\n",
      "[17]\tvalidation_0-logloss:0.44766\n",
      "[18]\tvalidation_0-logloss:0.44453\n",
      "[19]\tvalidation_0-logloss:0.44161\n",
      "[20]\tvalidation_0-logloss:0.43921\n",
      "[21]\tvalidation_0-logloss:0.43764\n",
      "[22]\tvalidation_0-logloss:0.43522\n",
      "[23]\tvalidation_0-logloss:0.43297\n",
      "[24]\tvalidation_0-logloss:0.43082\n",
      "[25]\tvalidation_0-logloss:0.42981\n",
      "[26]\tvalidation_0-logloss:0.42877\n",
      "[27]\tvalidation_0-logloss:0.42776\n",
      "[28]\tvalidation_0-logloss:0.42677\n",
      "[29]\tvalidation_0-logloss:0.42603\n",
      "[30]\tvalidation_0-logloss:0.42549\n"
     ]
    },
    {
     "name": "stderr",
     "output_type": "stream",
     "text": [
      "/usr/local/lib/python3.10/dist-packages/xgboost/sklearn.py:889: UserWarning: `eval_metric` in `fit` method is deprecated for better compatibility with scikit-learn, use `eval_metric` in constructor or`set_params` instead.\n",
      "  warnings.warn(\n",
      "/usr/local/lib/python3.10/dist-packages/xgboost/sklearn.py:889: UserWarning: `early_stopping_rounds` in `fit` method is deprecated for better compatibility with scikit-learn, use `early_stopping_rounds` in constructor or`set_params` instead.\n",
      "  warnings.warn(\n"
     ]
    },
    {
     "name": "stdout",
     "output_type": "stream",
     "text": [
      "[31]\tvalidation_0-logloss:0.42486\n",
      "[32]\tvalidation_0-logloss:0.42435\n",
      "[33]\tvalidation_0-logloss:0.42387\n",
      "[34]\tvalidation_0-logloss:0.42397\n",
      "[35]\tvalidation_0-logloss:0.42371\n",
      "[36]\tvalidation_0-logloss:0.42289\n",
      "[37]\tvalidation_0-logloss:0.42256\n",
      "[38]\tvalidation_0-logloss:0.42218\n",
      "[39]\tvalidation_0-logloss:0.42186\n",
      "[40]\tvalidation_0-logloss:0.42127\n",
      "[41]\tvalidation_0-logloss:0.42098\n",
      "[42]\tvalidation_0-logloss:0.42067\n",
      "[43]\tvalidation_0-logloss:0.41980\n",
      "[44]\tvalidation_0-logloss:0.41975\n",
      "[45]\tvalidation_0-logloss:0.41969\n",
      "[46]\tvalidation_0-logloss:0.41929\n",
      "[47]\tvalidation_0-logloss:0.41927\n",
      "[48]\tvalidation_0-logloss:0.41898\n",
      "[49]\tvalidation_0-logloss:0.41898\n",
      "[50]\tvalidation_0-logloss:0.41897\n",
      "[51]\tvalidation_0-logloss:0.41875\n",
      "[52]\tvalidation_0-logloss:0.41871\n",
      "[53]\tvalidation_0-logloss:0.41844\n",
      "[54]\tvalidation_0-logloss:0.41775\n",
      "[55]\tvalidation_0-logloss:0.41755\n",
      "[56]\tvalidation_0-logloss:0.41731\n",
      "[57]\tvalidation_0-logloss:0.41729\n",
      "[58]\tvalidation_0-logloss:0.41718\n",
      "[59]\tvalidation_0-logloss:0.41710\n",
      "[60]\tvalidation_0-logloss:0.41662\n",
      "[61]\tvalidation_0-logloss:0.41663\n",
      "[62]\tvalidation_0-logloss:0.41691\n",
      "[63]\tvalidation_0-logloss:0.41663\n",
      "[64]\tvalidation_0-logloss:0.41669\n",
      "[65]\tvalidation_0-logloss:0.41675\n",
      "[66]\tvalidation_0-logloss:0.41660\n",
      "[67]\tvalidation_0-logloss:0.41665\n",
      "[68]\tvalidation_0-logloss:0.41630\n",
      "[69]\tvalidation_0-logloss:0.41640\n",
      "[70]\tvalidation_0-logloss:0.41582\n",
      "[71]\tvalidation_0-logloss:0.41584\n",
      "[72]\tvalidation_0-logloss:0.41574\n",
      "[73]\tvalidation_0-logloss:0.41561\n",
      "[74]\tvalidation_0-logloss:0.41531\n",
      "[75]\tvalidation_0-logloss:0.41496\n",
      "[76]\tvalidation_0-logloss:0.41463\n",
      "[77]\tvalidation_0-logloss:0.41472\n",
      "[78]\tvalidation_0-logloss:0.41479\n",
      "[79]\tvalidation_0-logloss:0.41463\n",
      "[80]\tvalidation_0-logloss:0.41439\n",
      "[81]\tvalidation_0-logloss:0.41429\n",
      "[82]\tvalidation_0-logloss:0.41444\n",
      "[83]\tvalidation_0-logloss:0.41448\n",
      "[84]\tvalidation_0-logloss:0.41454\n",
      "[85]\tvalidation_0-logloss:0.41391\n",
      "[86]\tvalidation_0-logloss:0.41412\n",
      "[87]\tvalidation_0-logloss:0.41396\n",
      "[88]\tvalidation_0-logloss:0.41382\n",
      "[89]\tvalidation_0-logloss:0.41389\n",
      "[90]\tvalidation_0-logloss:0.41372\n",
      "[91]\tvalidation_0-logloss:0.41395\n",
      "[92]\tvalidation_0-logloss:0.41373\n",
      "[93]\tvalidation_0-logloss:0.41339\n",
      "[94]\tvalidation_0-logloss:0.41330\n",
      "[95]\tvalidation_0-logloss:0.41339\n",
      "[96]\tvalidation_0-logloss:0.41355\n",
      "[97]\tvalidation_0-logloss:0.41363\n",
      "[98]\tvalidation_0-logloss:0.41379\n",
      "[99]\tvalidation_0-logloss:0.41380\n",
      "[100]\tvalidation_0-logloss:0.41387\n",
      "[101]\tvalidation_0-logloss:0.41406\n",
      "[102]\tvalidation_0-logloss:0.41370\n",
      "[103]\tvalidation_0-logloss:0.41403\n",
      "[104]\tvalidation_0-logloss:0.41407\n",
      "[105]\tvalidation_0-logloss:0.41393\n",
      "[106]\tvalidation_0-logloss:0.41361\n",
      "[107]\tvalidation_0-logloss:0.41373\n",
      "[108]\tvalidation_0-logloss:0.41376\n",
      "[109]\tvalidation_0-logloss:0.41422\n",
      "[110]\tvalidation_0-logloss:0.41418\n",
      "[111]\tvalidation_0-logloss:0.41427\n",
      "[112]\tvalidation_0-logloss:0.41408\n",
      "[113]\tvalidation_0-logloss:0.41413\n"
     ]
    }
   ],
   "source": [
    "from sklearn.model_selection import train_test_split\n",
    "import xgboost as xgb\n",
    "\n",
    "X_train, X_val, y_train, y_val = train_test_split(X, y, test_size=0.2, random_state=42)\n",
    "\n",
    "# ✅ Define XGBoost Model\n",
    "model = xgb.XGBClassifier(\n",
    "    n_estimators=200,\n",
    "    max_depth=6,\n",
    "    learning_rate=0.1,\n",
    "    random_state=42,\n",
    "    verbosity=1  # Enables training output\n",
    ")\n",
    "\n",
    "# ✅ Train the model\n",
    "model.fit(\n",
    "    X_train, \n",
    "    y_train,\n",
    "    eval_set=[(X_val, y_val)],\n",
    "    eval_metric='logloss',\n",
    "    early_stopping_rounds=20,\n",
    "    verbose=True\n",
    ")\n",
    "\n",
    "# ✅ Make predictions\n",
    "val_preds = model.predict(X_val)"
   ]
  },
  {
   "cell_type": "code",
   "execution_count": 18,
   "id": "1b97ca3a",
   "metadata": {
    "execution": {
     "iopub.execute_input": "2025-02-15T14:22:40.537638Z",
     "iopub.status.busy": "2025-02-15T14:22:40.537318Z",
     "iopub.status.idle": "2025-02-15T14:22:40.551688Z",
     "shell.execute_reply": "2025-02-15T14:22:40.550734Z"
    },
    "papermill": {
     "duration": 0.030152,
     "end_time": "2025-02-15T14:22:40.553686",
     "exception": false,
     "start_time": "2025-02-15T14:22:40.523534",
     "status": "completed"
    },
    "tags": []
   },
   "outputs": [
    {
     "data": {
      "text/plain": [
       "array([1, 0, 1, ..., 1, 1, 1])"
      ]
     },
     "execution_count": 18,
     "metadata": {},
     "output_type": "execute_result"
    }
   ],
   "source": [
    "preds = model.predict(test_copy)\n",
    "preds"
   ]
  },
  {
   "cell_type": "code",
   "execution_count": 19,
   "id": "bd721d92",
   "metadata": {
    "execution": {
     "iopub.execute_input": "2025-02-15T14:22:40.583887Z",
     "iopub.status.busy": "2025-02-15T14:22:40.583517Z",
     "iopub.status.idle": "2025-02-15T14:22:40.598552Z",
     "shell.execute_reply": "2025-02-15T14:22:40.597398Z"
    },
    "papermill": {
     "duration": 0.031114,
     "end_time": "2025-02-15T14:22:40.600489",
     "exception": false,
     "start_time": "2025-02-15T14:22:40.569375",
     "status": "completed"
    },
    "tags": []
   },
   "outputs": [],
   "source": [
    "\n",
    "submission = pd.DataFrame({\n",
    "    'PassengerId': test_data['PassengerId'],\n",
    "    'Transported': preds.astype(bool)\n",
    "})\n",
    "submission.to_csv('submission.csv', index=False)"
   ]
  }
 ],
 "metadata": {
  "kaggle": {
   "accelerator": "none",
   "dataSources": [
    {
     "databundleVersionId": 3220602,
     "sourceId": 34377,
     "sourceType": "competition"
    }
   ],
   "dockerImageVersionId": 30886,
   "isGpuEnabled": false,
   "isInternetEnabled": true,
   "language": "python",
   "sourceType": "notebook"
  },
  "kernelspec": {
   "display_name": "Python 3",
   "language": "python",
   "name": "python3"
  },
  "language_info": {
   "codemirror_mode": {
    "name": "ipython",
    "version": 3
   },
   "file_extension": ".py",
   "mimetype": "text/x-python",
   "name": "python",
   "nbconvert_exporter": "python",
   "pygments_lexer": "ipython3",
   "version": "3.10.12"
  },
  "papermill": {
   "default_parameters": {},
   "duration": 8.415275,
   "end_time": "2025-02-15T14:22:41.434512",
   "environment_variables": {},
   "exception": null,
   "input_path": "__notebook__.ipynb",
   "output_path": "__notebook__.ipynb",
   "parameters": {},
   "start_time": "2025-02-15T14:22:33.019237",
   "version": "2.6.0"
  }
 },
 "nbformat": 4,
 "nbformat_minor": 5
}
