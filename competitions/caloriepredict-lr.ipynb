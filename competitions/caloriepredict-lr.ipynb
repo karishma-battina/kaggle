{
 "cells": [
  {
   "cell_type": "code",
   "execution_count": 1,
   "id": "f67c2d8a",
   "metadata": {
    "_cell_guid": "b1076dfc-b9ad-4769-8c92-a6c4dae69d19",
    "_uuid": "8f2839f25d086af736a60e9eeb907d3b93b6e0e5",
    "execution": {
     "iopub.execute_input": "2025-05-14T16:40:38.887251Z",
     "iopub.status.busy": "2025-05-14T16:40:38.886953Z",
     "iopub.status.idle": "2025-05-14T16:40:42.264246Z",
     "shell.execute_reply": "2025-05-14T16:40:42.263438Z"
    },
    "papermill": {
     "duration": 3.384119,
     "end_time": "2025-05-14T16:40:42.266031",
     "exception": false,
     "start_time": "2025-05-14T16:40:38.881912",
     "status": "completed"
    },
    "tags": []
   },
   "outputs": [],
   "source": [
    "import numpy as np\n",
    "import pandas as pd\n",
    "import seaborn as sns\n",
    "import matplotlib.pyplot as plt"
   ]
  },
  {
   "cell_type": "code",
   "execution_count": 2,
   "id": "18866186",
   "metadata": {
    "execution": {
     "iopub.execute_input": "2025-05-14T16:40:42.273996Z",
     "iopub.status.busy": "2025-05-14T16:40:42.273564Z",
     "iopub.status.idle": "2025-05-14T16:40:43.614773Z",
     "shell.execute_reply": "2025-05-14T16:40:43.613773Z"
    },
    "papermill": {
     "duration": 1.347357,
     "end_time": "2025-05-14T16:40:43.616992",
     "exception": false,
     "start_time": "2025-05-14T16:40:42.269635",
     "status": "completed"
    },
    "tags": []
   },
   "outputs": [],
   "source": [
    "train_data = pd.read_csv(\"/kaggle/input/playground-series-s5e5/train.csv\")\n",
    "test_data = pd.read_csv(\"/kaggle/input/playground-series-s5e5/test.csv\")"
   ]
  },
  {
   "cell_type": "code",
   "execution_count": 3,
   "id": "dba3c126",
   "metadata": {
    "execution": {
     "iopub.execute_input": "2025-05-14T16:40:43.628659Z",
     "iopub.status.busy": "2025-05-14T16:40:43.628253Z",
     "iopub.status.idle": "2025-05-14T16:40:43.635130Z",
     "shell.execute_reply": "2025-05-14T16:40:43.632546Z"
    },
    "papermill": {
     "duration": 0.014113,
     "end_time": "2025-05-14T16:40:43.636910",
     "exception": false,
     "start_time": "2025-05-14T16:40:43.622797",
     "status": "completed"
    },
    "tags": []
   },
   "outputs": [],
   "source": [
    "train_copy, test_copy = train_data, test_data"
   ]
  },
  {
   "cell_type": "code",
   "execution_count": 4,
   "id": "fff87d3f",
   "metadata": {
    "execution": {
     "iopub.execute_input": "2025-05-14T16:40:43.647928Z",
     "iopub.status.busy": "2025-05-14T16:40:43.647628Z",
     "iopub.status.idle": "2025-05-14T16:40:43.679228Z",
     "shell.execute_reply": "2025-05-14T16:40:43.678499Z"
    },
    "papermill": {
     "duration": 0.038933,
     "end_time": "2025-05-14T16:40:43.680849",
     "exception": false,
     "start_time": "2025-05-14T16:40:43.641916",
     "status": "completed"
    },
    "tags": []
   },
   "outputs": [
    {
     "data": {
      "text/html": [
       "<div>\n",
       "<style scoped>\n",
       "    .dataframe tbody tr th:only-of-type {\n",
       "        vertical-align: middle;\n",
       "    }\n",
       "\n",
       "    .dataframe tbody tr th {\n",
       "        vertical-align: top;\n",
       "    }\n",
       "\n",
       "    .dataframe thead th {\n",
       "        text-align: right;\n",
       "    }\n",
       "</style>\n",
       "<table border=\"1\" class=\"dataframe\">\n",
       "  <thead>\n",
       "    <tr style=\"text-align: right;\">\n",
       "      <th></th>\n",
       "      <th>id</th>\n",
       "      <th>Sex</th>\n",
       "      <th>Age</th>\n",
       "      <th>Height</th>\n",
       "      <th>Weight</th>\n",
       "      <th>Duration</th>\n",
       "      <th>Heart_Rate</th>\n",
       "      <th>Body_Temp</th>\n",
       "      <th>Calories</th>\n",
       "    </tr>\n",
       "  </thead>\n",
       "  <tbody>\n",
       "    <tr>\n",
       "      <th>0</th>\n",
       "      <td>0</td>\n",
       "      <td>male</td>\n",
       "      <td>36</td>\n",
       "      <td>189.0</td>\n",
       "      <td>82.0</td>\n",
       "      <td>26.0</td>\n",
       "      <td>101.0</td>\n",
       "      <td>41.0</td>\n",
       "      <td>150.0</td>\n",
       "    </tr>\n",
       "    <tr>\n",
       "      <th>1</th>\n",
       "      <td>1</td>\n",
       "      <td>female</td>\n",
       "      <td>64</td>\n",
       "      <td>163.0</td>\n",
       "      <td>60.0</td>\n",
       "      <td>8.0</td>\n",
       "      <td>85.0</td>\n",
       "      <td>39.7</td>\n",
       "      <td>34.0</td>\n",
       "    </tr>\n",
       "    <tr>\n",
       "      <th>2</th>\n",
       "      <td>2</td>\n",
       "      <td>female</td>\n",
       "      <td>51</td>\n",
       "      <td>161.0</td>\n",
       "      <td>64.0</td>\n",
       "      <td>7.0</td>\n",
       "      <td>84.0</td>\n",
       "      <td>39.8</td>\n",
       "      <td>29.0</td>\n",
       "    </tr>\n",
       "    <tr>\n",
       "      <th>3</th>\n",
       "      <td>3</td>\n",
       "      <td>male</td>\n",
       "      <td>20</td>\n",
       "      <td>192.0</td>\n",
       "      <td>90.0</td>\n",
       "      <td>25.0</td>\n",
       "      <td>105.0</td>\n",
       "      <td>40.7</td>\n",
       "      <td>140.0</td>\n",
       "    </tr>\n",
       "    <tr>\n",
       "      <th>4</th>\n",
       "      <td>4</td>\n",
       "      <td>female</td>\n",
       "      <td>38</td>\n",
       "      <td>166.0</td>\n",
       "      <td>61.0</td>\n",
       "      <td>25.0</td>\n",
       "      <td>102.0</td>\n",
       "      <td>40.6</td>\n",
       "      <td>146.0</td>\n",
       "    </tr>\n",
       "  </tbody>\n",
       "</table>\n",
       "</div>"
      ],
      "text/plain": [
       "   id     Sex  Age  Height  Weight  Duration  Heart_Rate  Body_Temp  Calories\n",
       "0   0    male   36   189.0    82.0      26.0       101.0       41.0     150.0\n",
       "1   1  female   64   163.0    60.0       8.0        85.0       39.7      34.0\n",
       "2   2  female   51   161.0    64.0       7.0        84.0       39.8      29.0\n",
       "3   3    male   20   192.0    90.0      25.0       105.0       40.7     140.0\n",
       "4   4  female   38   166.0    61.0      25.0       102.0       40.6     146.0"
      ]
     },
     "execution_count": 4,
     "metadata": {},
     "output_type": "execute_result"
    }
   ],
   "source": [
    "train_data.head()"
   ]
  },
  {
   "cell_type": "code",
   "execution_count": 5,
   "id": "643b6ca5",
   "metadata": {
    "execution": {
     "iopub.execute_input": "2025-05-14T16:40:43.688884Z",
     "iopub.status.busy": "2025-05-14T16:40:43.688267Z",
     "iopub.status.idle": "2025-05-14T16:40:43.700779Z",
     "shell.execute_reply": "2025-05-14T16:40:43.699941Z"
    },
    "papermill": {
     "duration": 0.017745,
     "end_time": "2025-05-14T16:40:43.702152",
     "exception": false,
     "start_time": "2025-05-14T16:40:43.684407",
     "status": "completed"
    },
    "tags": []
   },
   "outputs": [
    {
     "data": {
      "text/html": [
       "<div>\n",
       "<style scoped>\n",
       "    .dataframe tbody tr th:only-of-type {\n",
       "        vertical-align: middle;\n",
       "    }\n",
       "\n",
       "    .dataframe tbody tr th {\n",
       "        vertical-align: top;\n",
       "    }\n",
       "\n",
       "    .dataframe thead th {\n",
       "        text-align: right;\n",
       "    }\n",
       "</style>\n",
       "<table border=\"1\" class=\"dataframe\">\n",
       "  <thead>\n",
       "    <tr style=\"text-align: right;\">\n",
       "      <th></th>\n",
       "      <th>id</th>\n",
       "      <th>Sex</th>\n",
       "      <th>Age</th>\n",
       "      <th>Height</th>\n",
       "      <th>Weight</th>\n",
       "      <th>Duration</th>\n",
       "      <th>Heart_Rate</th>\n",
       "      <th>Body_Temp</th>\n",
       "    </tr>\n",
       "  </thead>\n",
       "  <tbody>\n",
       "    <tr>\n",
       "      <th>0</th>\n",
       "      <td>750000</td>\n",
       "      <td>male</td>\n",
       "      <td>45</td>\n",
       "      <td>177.0</td>\n",
       "      <td>81.0</td>\n",
       "      <td>7.0</td>\n",
       "      <td>87.0</td>\n",
       "      <td>39.8</td>\n",
       "    </tr>\n",
       "    <tr>\n",
       "      <th>1</th>\n",
       "      <td>750001</td>\n",
       "      <td>male</td>\n",
       "      <td>26</td>\n",
       "      <td>200.0</td>\n",
       "      <td>97.0</td>\n",
       "      <td>20.0</td>\n",
       "      <td>101.0</td>\n",
       "      <td>40.5</td>\n",
       "    </tr>\n",
       "    <tr>\n",
       "      <th>2</th>\n",
       "      <td>750002</td>\n",
       "      <td>female</td>\n",
       "      <td>29</td>\n",
       "      <td>188.0</td>\n",
       "      <td>85.0</td>\n",
       "      <td>16.0</td>\n",
       "      <td>102.0</td>\n",
       "      <td>40.4</td>\n",
       "    </tr>\n",
       "    <tr>\n",
       "      <th>3</th>\n",
       "      <td>750003</td>\n",
       "      <td>female</td>\n",
       "      <td>39</td>\n",
       "      <td>172.0</td>\n",
       "      <td>73.0</td>\n",
       "      <td>20.0</td>\n",
       "      <td>107.0</td>\n",
       "      <td>40.6</td>\n",
       "    </tr>\n",
       "    <tr>\n",
       "      <th>4</th>\n",
       "      <td>750004</td>\n",
       "      <td>female</td>\n",
       "      <td>30</td>\n",
       "      <td>173.0</td>\n",
       "      <td>67.0</td>\n",
       "      <td>16.0</td>\n",
       "      <td>94.0</td>\n",
       "      <td>40.5</td>\n",
       "    </tr>\n",
       "  </tbody>\n",
       "</table>\n",
       "</div>"
      ],
      "text/plain": [
       "       id     Sex  Age  Height  Weight  Duration  Heart_Rate  Body_Temp\n",
       "0  750000    male   45   177.0    81.0       7.0        87.0       39.8\n",
       "1  750001    male   26   200.0    97.0      20.0       101.0       40.5\n",
       "2  750002  female   29   188.0    85.0      16.0       102.0       40.4\n",
       "3  750003  female   39   172.0    73.0      20.0       107.0       40.6\n",
       "4  750004  female   30   173.0    67.0      16.0        94.0       40.5"
      ]
     },
     "execution_count": 5,
     "metadata": {},
     "output_type": "execute_result"
    }
   ],
   "source": [
    "test_data.head()"
   ]
  },
  {
   "cell_type": "code",
   "execution_count": 6,
   "id": "e583e4ac",
   "metadata": {
    "execution": {
     "iopub.execute_input": "2025-05-14T16:40:43.710650Z",
     "iopub.status.busy": "2025-05-14T16:40:43.709973Z",
     "iopub.status.idle": "2025-05-14T16:40:43.715323Z",
     "shell.execute_reply": "2025-05-14T16:40:43.714520Z"
    },
    "papermill": {
     "duration": 0.01101,
     "end_time": "2025-05-14T16:40:43.716775",
     "exception": false,
     "start_time": "2025-05-14T16:40:43.705765",
     "status": "completed"
    },
    "tags": []
   },
   "outputs": [
    {
     "data": {
      "text/plain": [
       "(750000, 9)"
      ]
     },
     "execution_count": 6,
     "metadata": {},
     "output_type": "execute_result"
    }
   ],
   "source": [
    "train_data.shape"
   ]
  },
  {
   "cell_type": "code",
   "execution_count": 7,
   "id": "016a793b",
   "metadata": {
    "execution": {
     "iopub.execute_input": "2025-05-14T16:40:43.725494Z",
     "iopub.status.busy": "2025-05-14T16:40:43.724762Z",
     "iopub.status.idle": "2025-05-14T16:40:43.729971Z",
     "shell.execute_reply": "2025-05-14T16:40:43.729330Z"
    },
    "papermill": {
     "duration": 0.010547,
     "end_time": "2025-05-14T16:40:43.731142",
     "exception": false,
     "start_time": "2025-05-14T16:40:43.720595",
     "status": "completed"
    },
    "tags": []
   },
   "outputs": [
    {
     "data": {
      "text/plain": [
       "(250000, 8)"
      ]
     },
     "execution_count": 7,
     "metadata": {},
     "output_type": "execute_result"
    }
   ],
   "source": [
    "test_data.shape"
   ]
  },
  {
   "cell_type": "code",
   "execution_count": 8,
   "id": "5e3f1aa8",
   "metadata": {
    "execution": {
     "iopub.execute_input": "2025-05-14T16:40:43.739508Z",
     "iopub.status.busy": "2025-05-14T16:40:43.738820Z",
     "iopub.status.idle": "2025-05-14T16:40:43.799071Z",
     "shell.execute_reply": "2025-05-14T16:40:43.798351Z"
    },
    "papermill": {
     "duration": 0.065842,
     "end_time": "2025-05-14T16:40:43.800453",
     "exception": false,
     "start_time": "2025-05-14T16:40:43.734611",
     "status": "completed"
    },
    "tags": []
   },
   "outputs": [
    {
     "data": {
      "text/plain": [
       "id            0\n",
       "Sex           0\n",
       "Age           0\n",
       "Height        0\n",
       "Weight        0\n",
       "Duration      0\n",
       "Heart_Rate    0\n",
       "Body_Temp     0\n",
       "Calories      0\n",
       "dtype: int64"
      ]
     },
     "execution_count": 8,
     "metadata": {},
     "output_type": "execute_result"
    }
   ],
   "source": [
    "train_data.isnull().sum()"
   ]
  },
  {
   "cell_type": "code",
   "execution_count": 9,
   "id": "2cdaf80a",
   "metadata": {
    "execution": {
     "iopub.execute_input": "2025-05-14T16:40:43.808882Z",
     "iopub.status.busy": "2025-05-14T16:40:43.808609Z",
     "iopub.status.idle": "2025-05-14T16:40:43.833270Z",
     "shell.execute_reply": "2025-05-14T16:40:43.832464Z"
    },
    "papermill": {
     "duration": 0.030248,
     "end_time": "2025-05-14T16:40:43.834593",
     "exception": false,
     "start_time": "2025-05-14T16:40:43.804345",
     "status": "completed"
    },
    "tags": []
   },
   "outputs": [
    {
     "data": {
      "text/plain": [
       "id            0\n",
       "Sex           0\n",
       "Age           0\n",
       "Height        0\n",
       "Weight        0\n",
       "Duration      0\n",
       "Heart_Rate    0\n",
       "Body_Temp     0\n",
       "dtype: int64"
      ]
     },
     "execution_count": 9,
     "metadata": {},
     "output_type": "execute_result"
    }
   ],
   "source": [
    "test_data.isnull().sum()"
   ]
  },
  {
   "cell_type": "code",
   "execution_count": 10,
   "id": "b5654cf3",
   "metadata": {
    "execution": {
     "iopub.execute_input": "2025-05-14T16:40:43.842699Z",
     "iopub.status.busy": "2025-05-14T16:40:43.842425Z",
     "iopub.status.idle": "2025-05-14T16:40:44.152975Z",
     "shell.execute_reply": "2025-05-14T16:40:44.151913Z"
    },
    "papermill": {
     "duration": 0.316134,
     "end_time": "2025-05-14T16:40:44.154365",
     "exception": false,
     "start_time": "2025-05-14T16:40:43.838231",
     "status": "completed"
    },
    "tags": []
   },
   "outputs": [
    {
     "name": "stdout",
     "output_type": "stream",
     "text": [
      "   Sex  Age  Height  Weight  Duration  Heart_Rate  Body_Temp  Calories\n",
      "0    0   36   189.0    82.0      26.0       101.0       41.0     150.0\n",
      "1    1   64   163.0    60.0       8.0        85.0       39.7      34.0\n",
      "2    1   51   161.0    64.0       7.0        84.0       39.8      29.0\n",
      "3    0   20   192.0    90.0      25.0       105.0       40.7     140.0\n",
      "4    1   38   166.0    61.0      25.0       102.0       40.6     146.0\n"
     ]
    },
    {
     "name": "stderr",
     "output_type": "stream",
     "text": [
      "/tmp/ipykernel_13/1709812675.py:2: FutureWarning: Downcasting behavior in `replace` is deprecated and will be removed in a future version. To retain the old behavior, explicitly call `result.infer_objects(copy=False)`. To opt-in to the future behavior, set `pd.set_option('future.no_silent_downcasting', True)`\n",
      "  train_data['Sex'] = train_data['Sex'].replace(gender_map)\n"
     ]
    }
   ],
   "source": [
    "gender_map = {\"male\" : 0,\"female\" : 1}\n",
    "train_data['Sex'] = train_data['Sex'].replace(gender_map)\n",
    "\n",
    "train_data=train_data.drop(\"id\",axis=1)\n",
    "\n",
    "print (train_data.head())"
   ]
  },
  {
   "cell_type": "code",
   "execution_count": 11,
   "id": "a3b675ec",
   "metadata": {
    "execution": {
     "iopub.execute_input": "2025-05-14T16:40:44.163372Z",
     "iopub.status.busy": "2025-05-14T16:40:44.163045Z",
     "iopub.status.idle": "2025-05-14T16:40:44.192650Z",
     "shell.execute_reply": "2025-05-14T16:40:44.191839Z"
    },
    "papermill": {
     "duration": 0.035795,
     "end_time": "2025-05-14T16:40:44.194216",
     "exception": false,
     "start_time": "2025-05-14T16:40:44.158421",
     "status": "completed"
    },
    "tags": []
   },
   "outputs": [],
   "source": [
    "X = train_data.drop(['Calories'], axis=1)\n",
    "y = train_data['Calories']"
   ]
  },
  {
   "cell_type": "code",
   "execution_count": 12,
   "id": "15ff4507",
   "metadata": {
    "execution": {
     "iopub.execute_input": "2025-05-14T16:40:44.203313Z",
     "iopub.status.busy": "2025-05-14T16:40:44.202994Z",
     "iopub.status.idle": "2025-05-14T16:40:44.524100Z",
     "shell.execute_reply": "2025-05-14T16:40:44.523122Z"
    },
    "papermill": {
     "duration": 0.32731,
     "end_time": "2025-05-14T16:40:44.525712",
     "exception": false,
     "start_time": "2025-05-14T16:40:44.198402",
     "status": "completed"
    },
    "tags": []
   },
   "outputs": [],
   "source": [
    "from sklearn.model_selection import train_test_split\n",
    "from sklearn.linear_model import LinearRegression\n",
    "from sklearn.metrics import r2_score, mean_squared_error"
   ]
  },
  {
   "cell_type": "code",
   "execution_count": 13,
   "id": "e97b4d4a",
   "metadata": {
    "execution": {
     "iopub.execute_input": "2025-05-14T16:40:44.534796Z",
     "iopub.status.busy": "2025-05-14T16:40:44.534487Z",
     "iopub.status.idle": "2025-05-14T16:40:44.642607Z",
     "shell.execute_reply": "2025-05-14T16:40:44.641676Z"
    },
    "papermill": {
     "duration": 0.114348,
     "end_time": "2025-05-14T16:40:44.644159",
     "exception": false,
     "start_time": "2025-05-14T16:40:44.529811",
     "status": "completed"
    },
    "tags": []
   },
   "outputs": [],
   "source": [
    "X_train, X_test, y_train, y_test = train_test_split(X, y, test_size=0.2, random_state=42)"
   ]
  },
  {
   "cell_type": "code",
   "execution_count": 14,
   "id": "13a8b591",
   "metadata": {
    "execution": {
     "iopub.execute_input": "2025-05-14T16:40:44.653135Z",
     "iopub.status.busy": "2025-05-14T16:40:44.652849Z",
     "iopub.status.idle": "2025-05-14T16:40:45.013819Z",
     "shell.execute_reply": "2025-05-14T16:40:45.012945Z"
    },
    "papermill": {
     "duration": 0.36739,
     "end_time": "2025-05-14T16:40:45.015521",
     "exception": false,
     "start_time": "2025-05-14T16:40:44.648131",
     "status": "completed"
    },
    "tags": []
   },
   "outputs": [
    {
     "name": "stdout",
     "output_type": "stream",
     "text": [
      "LinearRegression → R²: 0.9684, RMSE: 11.06\n"
     ]
    }
   ],
   "source": [
    "lr_model = LinearRegression()\n",
    "lr_model.fit(X_train, y_train)\n",
    "lr_model.score(X_test, y_test)\n",
    "y_pred = lr_model.predict(X_test)\n",
    "print(f\"LinearRegression → R²: {r2_score(y_test, y_pred):.4f}, RMSE: {mean_squared_error(y_test, y_pred, squared=False):.2f}\")"
   ]
  },
  {
   "cell_type": "code",
   "execution_count": 15,
   "id": "40cd9107",
   "metadata": {
    "execution": {
     "iopub.execute_input": "2025-05-14T16:40:45.024464Z",
     "iopub.status.busy": "2025-05-14T16:40:45.024173Z",
     "iopub.status.idle": "2025-05-14T16:40:45.699192Z",
     "shell.execute_reply": "2025-05-14T16:40:45.698345Z"
    },
    "papermill": {
     "duration": 0.68129,
     "end_time": "2025-05-14T16:40:45.700833",
     "exception": false,
     "start_time": "2025-05-14T16:40:45.019543",
     "status": "completed"
    },
    "tags": []
   },
   "outputs": [
    {
     "name": "stderr",
     "output_type": "stream",
     "text": [
      "/tmp/ipykernel_13/1132734480.py:1: FutureWarning: Downcasting behavior in `replace` is deprecated and will be removed in a future version. To retain the old behavior, explicitly call `result.infer_objects(copy=False)`. To opt-in to the future behavior, set `pd.set_option('future.no_silent_downcasting', True)`\n",
      "  test_data['Sex'] = test_data['Sex'].replace(gender_map)\n"
     ]
    }
   ],
   "source": [
    "test_data['Sex'] = test_data['Sex'].replace(gender_map)\n",
    "test_ids = test_data['id']\n",
    "X_test_final = test_data.drop('id', axis=1)\n",
    "\n",
    "\n",
    "test_predictions = lr_model.predict(X_test_final)\n",
    "test_predictions = np.maximum(0, test_predictions)\n",
    "\n",
    "submission = pd.DataFrame({\n",
    "    'id': test_ids,\n",
    "    'Calories': test_predictions\n",
    "})\n",
    "submission.to_csv('submission.csv', index=False)"
   ]
  },
  {
   "cell_type": "code",
   "execution_count": 16,
   "id": "7dd4dc3a",
   "metadata": {
    "execution": {
     "iopub.execute_input": "2025-05-14T16:40:45.710326Z",
     "iopub.status.busy": "2025-05-14T16:40:45.709992Z",
     "iopub.status.idle": "2025-05-14T16:40:45.719448Z",
     "shell.execute_reply": "2025-05-14T16:40:45.718616Z"
    },
    "papermill": {
     "duration": 0.015698,
     "end_time": "2025-05-14T16:40:45.720838",
     "exception": false,
     "start_time": "2025-05-14T16:40:45.705140",
     "status": "completed"
    },
    "tags": []
   },
   "outputs": [
    {
     "data": {
      "text/html": [
       "<div>\n",
       "<style scoped>\n",
       "    .dataframe tbody tr th:only-of-type {\n",
       "        vertical-align: middle;\n",
       "    }\n",
       "\n",
       "    .dataframe tbody tr th {\n",
       "        vertical-align: top;\n",
       "    }\n",
       "\n",
       "    .dataframe thead th {\n",
       "        text-align: right;\n",
       "    }\n",
       "</style>\n",
       "<table border=\"1\" class=\"dataframe\">\n",
       "  <thead>\n",
       "    <tr style=\"text-align: right;\">\n",
       "      <th></th>\n",
       "      <th>id</th>\n",
       "      <th>Calories</th>\n",
       "    </tr>\n",
       "  </thead>\n",
       "  <tbody>\n",
       "    <tr>\n",
       "      <th>0</th>\n",
       "      <td>750000</td>\n",
       "      <td>21.412907</td>\n",
       "    </tr>\n",
       "    <tr>\n",
       "      <th>1</th>\n",
       "      <td>750001</td>\n",
       "      <td>114.686716</td>\n",
       "    </tr>\n",
       "    <tr>\n",
       "      <th>2</th>\n",
       "      <td>750002</td>\n",
       "      <td>93.228606</td>\n",
       "    </tr>\n",
       "    <tr>\n",
       "      <th>3</th>\n",
       "      <td>750003</td>\n",
       "      <td>130.812936</td>\n",
       "    </tr>\n",
       "    <tr>\n",
       "      <th>4</th>\n",
       "      <td>750004</td>\n",
       "      <td>73.674566</td>\n",
       "    </tr>\n",
       "    <tr>\n",
       "      <th>...</th>\n",
       "      <td>...</td>\n",
       "      <td>...</td>\n",
       "    </tr>\n",
       "    <tr>\n",
       "      <th>249995</th>\n",
       "      <td>999995</td>\n",
       "      <td>23.087837</td>\n",
       "    </tr>\n",
       "    <tr>\n",
       "      <th>249996</th>\n",
       "      <td>999996</td>\n",
       "      <td>8.811457</td>\n",
       "    </tr>\n",
       "    <tr>\n",
       "      <th>249997</th>\n",
       "      <td>999997</td>\n",
       "      <td>76.284051</td>\n",
       "    </tr>\n",
       "    <tr>\n",
       "      <th>249998</th>\n",
       "      <td>999998</td>\n",
       "      <td>171.895898</td>\n",
       "    </tr>\n",
       "    <tr>\n",
       "      <th>249999</th>\n",
       "      <td>999999</td>\n",
       "      <td>88.495911</td>\n",
       "    </tr>\n",
       "  </tbody>\n",
       "</table>\n",
       "<p>250000 rows × 2 columns</p>\n",
       "</div>"
      ],
      "text/plain": [
       "            id    Calories\n",
       "0       750000   21.412907\n",
       "1       750001  114.686716\n",
       "2       750002   93.228606\n",
       "3       750003  130.812936\n",
       "4       750004   73.674566\n",
       "...        ...         ...\n",
       "249995  999995   23.087837\n",
       "249996  999996    8.811457\n",
       "249997  999997   76.284051\n",
       "249998  999998  171.895898\n",
       "249999  999999   88.495911\n",
       "\n",
       "[250000 rows x 2 columns]"
      ]
     },
     "execution_count": 16,
     "metadata": {},
     "output_type": "execute_result"
    }
   ],
   "source": [
    "submission"
   ]
  }
 ],
 "metadata": {
  "kaggle": {
   "accelerator": "none",
   "dataSources": [
    {
     "databundleVersionId": 11893428,
     "sourceId": 91716,
     "sourceType": "competition"
    }
   ],
   "dockerImageVersionId": 31040,
   "isGpuEnabled": false,
   "isInternetEnabled": true,
   "language": "python",
   "sourceType": "notebook"
  },
  "kernelspec": {
   "display_name": "Python 3",
   "language": "python",
   "name": "python3"
  },
  "language_info": {
   "codemirror_mode": {
    "name": "ipython",
    "version": 3
   },
   "file_extension": ".py",
   "mimetype": "text/x-python",
   "name": "python",
   "nbconvert_exporter": "python",
   "pygments_lexer": "ipython3",
   "version": "3.11.11"
  },
  "papermill": {
   "default_parameters": {},
   "duration": 11.915439,
   "end_time": "2025-05-14T16:40:46.342999",
   "environment_variables": {},
   "exception": null,
   "input_path": "__notebook__.ipynb",
   "output_path": "__notebook__.ipynb",
   "parameters": {},
   "start_time": "2025-05-14T16:40:34.427560",
   "version": "2.6.0"
  }
 },
 "nbformat": 4,
 "nbformat_minor": 5
}
