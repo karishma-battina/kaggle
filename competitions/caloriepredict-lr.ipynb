{
 "cells": [
  {
   "cell_type": "code",
   "execution_count": 1,
   "id": "e2f6ec87",
   "metadata": {
    "_cell_guid": "b1076dfc-b9ad-4769-8c92-a6c4dae69d19",
    "_uuid": "8f2839f25d086af736a60e9eeb907d3b93b6e0e5",
    "execution": {
     "iopub.execute_input": "2025-05-23T03:23:52.511370Z",
     "iopub.status.busy": "2025-05-23T03:23:52.510960Z",
     "iopub.status.idle": "2025-05-23T03:23:55.903058Z",
     "shell.execute_reply": "2025-05-23T03:23:55.902222Z"
    },
    "papermill": {
     "duration": 3.399763,
     "end_time": "2025-05-23T03:23:55.904748",
     "exception": false,
     "start_time": "2025-05-23T03:23:52.504985",
     "status": "completed"
    },
    "tags": []
   },
   "outputs": [],
   "source": [
    "import numpy as np\n",
    "import pandas as pd\n",
    "import seaborn as sns\n",
    "import matplotlib.pyplot as plt"
   ]
  },
  {
   "cell_type": "code",
   "execution_count": 2,
   "id": "060e1bb2",
   "metadata": {
    "execution": {
     "iopub.execute_input": "2025-05-23T03:23:55.914581Z",
     "iopub.status.busy": "2025-05-23T03:23:55.913578Z",
     "iopub.status.idle": "2025-05-23T03:23:57.117390Z",
     "shell.execute_reply": "2025-05-23T03:23:57.116554Z"
    },
    "papermill": {
     "duration": 1.210151,
     "end_time": "2025-05-23T03:23:57.119122",
     "exception": false,
     "start_time": "2025-05-23T03:23:55.908971",
     "status": "completed"
    },
    "tags": []
   },
   "outputs": [],
   "source": [
    "train_data = pd.read_csv(\"/kaggle/input/playground-series-s5e5/train.csv\")\n",
    "test_data = pd.read_csv(\"/kaggle/input/playground-series-s5e5/test.csv\")"
   ]
  },
  {
   "cell_type": "code",
   "execution_count": 3,
   "id": "abe4e2e6",
   "metadata": {
    "execution": {
     "iopub.execute_input": "2025-05-23T03:23:57.127983Z",
     "iopub.status.busy": "2025-05-23T03:23:57.127686Z",
     "iopub.status.idle": "2025-05-23T03:23:57.131653Z",
     "shell.execute_reply": "2025-05-23T03:23:57.130879Z"
    },
    "papermill": {
     "duration": 0.009947,
     "end_time": "2025-05-23T03:23:57.133070",
     "exception": false,
     "start_time": "2025-05-23T03:23:57.123123",
     "status": "completed"
    },
    "tags": []
   },
   "outputs": [],
   "source": [
    "train_copy, test_copy = train_data, test_data"
   ]
  },
  {
   "cell_type": "code",
   "execution_count": 4,
   "id": "78f6252f",
   "metadata": {
    "execution": {
     "iopub.execute_input": "2025-05-23T03:23:57.141778Z",
     "iopub.status.busy": "2025-05-23T03:23:57.141205Z",
     "iopub.status.idle": "2025-05-23T03:23:57.198481Z",
     "shell.execute_reply": "2025-05-23T03:23:57.197574Z"
    },
    "papermill": {
     "duration": 0.062967,
     "end_time": "2025-05-23T03:23:57.199802",
     "exception": false,
     "start_time": "2025-05-23T03:23:57.136835",
     "status": "completed"
    },
    "tags": []
   },
   "outputs": [
    {
     "data": {
      "text/html": [
       "<div>\n",
       "<style scoped>\n",
       "    .dataframe tbody tr th:only-of-type {\n",
       "        vertical-align: middle;\n",
       "    }\n",
       "\n",
       "    .dataframe tbody tr th {\n",
       "        vertical-align: top;\n",
       "    }\n",
       "\n",
       "    .dataframe thead th {\n",
       "        text-align: right;\n",
       "    }\n",
       "</style>\n",
       "<table border=\"1\" class=\"dataframe\">\n",
       "  <thead>\n",
       "    <tr style=\"text-align: right;\">\n",
       "      <th></th>\n",
       "      <th>id</th>\n",
       "      <th>Sex</th>\n",
       "      <th>Age</th>\n",
       "      <th>Height</th>\n",
       "      <th>Weight</th>\n",
       "      <th>Duration</th>\n",
       "      <th>Heart_Rate</th>\n",
       "      <th>Body_Temp</th>\n",
       "      <th>Calories</th>\n",
       "    </tr>\n",
       "  </thead>\n",
       "  <tbody>\n",
       "    <tr>\n",
       "      <th>583247</th>\n",
       "      <td>583247</td>\n",
       "      <td>male</td>\n",
       "      <td>29</td>\n",
       "      <td>187.0</td>\n",
       "      <td>85.0</td>\n",
       "      <td>7.0</td>\n",
       "      <td>85.0</td>\n",
       "      <td>39.5</td>\n",
       "      <td>22.0</td>\n",
       "    </tr>\n",
       "    <tr>\n",
       "      <th>370558</th>\n",
       "      <td>370558</td>\n",
       "      <td>male</td>\n",
       "      <td>46</td>\n",
       "      <td>179.0</td>\n",
       "      <td>77.0</td>\n",
       "      <td>17.0</td>\n",
       "      <td>95.0</td>\n",
       "      <td>40.5</td>\n",
       "      <td>88.0</td>\n",
       "    </tr>\n",
       "    <tr>\n",
       "      <th>393319</th>\n",
       "      <td>393319</td>\n",
       "      <td>male</td>\n",
       "      <td>20</td>\n",
       "      <td>176.0</td>\n",
       "      <td>81.0</td>\n",
       "      <td>26.0</td>\n",
       "      <td>110.0</td>\n",
       "      <td>40.8</td>\n",
       "      <td>158.0</td>\n",
       "    </tr>\n",
       "    <tr>\n",
       "      <th>30120</th>\n",
       "      <td>30120</td>\n",
       "      <td>female</td>\n",
       "      <td>33</td>\n",
       "      <td>163.0</td>\n",
       "      <td>63.0</td>\n",
       "      <td>1.0</td>\n",
       "      <td>81.0</td>\n",
       "      <td>37.5</td>\n",
       "      <td>4.0</td>\n",
       "    </tr>\n",
       "    <tr>\n",
       "      <th>656517</th>\n",
       "      <td>656517</td>\n",
       "      <td>female</td>\n",
       "      <td>62</td>\n",
       "      <td>169.0</td>\n",
       "      <td>66.0</td>\n",
       "      <td>15.0</td>\n",
       "      <td>95.0</td>\n",
       "      <td>40.2</td>\n",
       "      <td>82.0</td>\n",
       "    </tr>\n",
       "    <tr>\n",
       "      <th>146804</th>\n",
       "      <td>146804</td>\n",
       "      <td>male</td>\n",
       "      <td>61</td>\n",
       "      <td>176.0</td>\n",
       "      <td>81.0</td>\n",
       "      <td>22.0</td>\n",
       "      <td>99.0</td>\n",
       "      <td>40.4</td>\n",
       "      <td>143.0</td>\n",
       "    </tr>\n",
       "    <tr>\n",
       "      <th>527080</th>\n",
       "      <td>527080</td>\n",
       "      <td>female</td>\n",
       "      <td>41</td>\n",
       "      <td>165.0</td>\n",
       "      <td>63.0</td>\n",
       "      <td>15.0</td>\n",
       "      <td>98.0</td>\n",
       "      <td>40.2</td>\n",
       "      <td>83.0</td>\n",
       "    </tr>\n",
       "    <tr>\n",
       "      <th>43104</th>\n",
       "      <td>43104</td>\n",
       "      <td>female</td>\n",
       "      <td>40</td>\n",
       "      <td>161.0</td>\n",
       "      <td>60.0</td>\n",
       "      <td>10.0</td>\n",
       "      <td>99.0</td>\n",
       "      <td>39.8</td>\n",
       "      <td>56.0</td>\n",
       "    </tr>\n",
       "    <tr>\n",
       "      <th>164188</th>\n",
       "      <td>164188</td>\n",
       "      <td>female</td>\n",
       "      <td>36</td>\n",
       "      <td>166.0</td>\n",
       "      <td>65.0</td>\n",
       "      <td>5.0</td>\n",
       "      <td>84.0</td>\n",
       "      <td>39.0</td>\n",
       "      <td>20.0</td>\n",
       "    </tr>\n",
       "    <tr>\n",
       "      <th>222701</th>\n",
       "      <td>222701</td>\n",
       "      <td>male</td>\n",
       "      <td>26</td>\n",
       "      <td>174.0</td>\n",
       "      <td>69.0</td>\n",
       "      <td>8.0</td>\n",
       "      <td>88.0</td>\n",
       "      <td>39.5</td>\n",
       "      <td>22.0</td>\n",
       "    </tr>\n",
       "  </tbody>\n",
       "</table>\n",
       "</div>"
      ],
      "text/plain": [
       "            id     Sex  Age  Height  Weight  Duration  Heart_Rate  Body_Temp  \\\n",
       "583247  583247    male   29   187.0    85.0       7.0        85.0       39.5   \n",
       "370558  370558    male   46   179.0    77.0      17.0        95.0       40.5   \n",
       "393319  393319    male   20   176.0    81.0      26.0       110.0       40.8   \n",
       "30120    30120  female   33   163.0    63.0       1.0        81.0       37.5   \n",
       "656517  656517  female   62   169.0    66.0      15.0        95.0       40.2   \n",
       "146804  146804    male   61   176.0    81.0      22.0        99.0       40.4   \n",
       "527080  527080  female   41   165.0    63.0      15.0        98.0       40.2   \n",
       "43104    43104  female   40   161.0    60.0      10.0        99.0       39.8   \n",
       "164188  164188  female   36   166.0    65.0       5.0        84.0       39.0   \n",
       "222701  222701    male   26   174.0    69.0       8.0        88.0       39.5   \n",
       "\n",
       "        Calories  \n",
       "583247      22.0  \n",
       "370558      88.0  \n",
       "393319     158.0  \n",
       "30120        4.0  \n",
       "656517      82.0  \n",
       "146804     143.0  \n",
       "527080      83.0  \n",
       "43104       56.0  \n",
       "164188      20.0  \n",
       "222701      22.0  "
      ]
     },
     "execution_count": 4,
     "metadata": {},
     "output_type": "execute_result"
    }
   ],
   "source": [
    "train_data.sample(10)"
   ]
  },
  {
   "cell_type": "code",
   "execution_count": 5,
   "id": "f5750190",
   "metadata": {
    "execution": {
     "iopub.execute_input": "2025-05-23T03:23:57.209137Z",
     "iopub.status.busy": "2025-05-23T03:23:57.208531Z",
     "iopub.status.idle": "2025-05-23T03:23:57.228369Z",
     "shell.execute_reply": "2025-05-23T03:23:57.227586Z"
    },
    "papermill": {
     "duration": 0.025846,
     "end_time": "2025-05-23T03:23:57.229703",
     "exception": false,
     "start_time": "2025-05-23T03:23:57.203857",
     "status": "completed"
    },
    "tags": []
   },
   "outputs": [
    {
     "data": {
      "text/html": [
       "<div>\n",
       "<style scoped>\n",
       "    .dataframe tbody tr th:only-of-type {\n",
       "        vertical-align: middle;\n",
       "    }\n",
       "\n",
       "    .dataframe tbody tr th {\n",
       "        vertical-align: top;\n",
       "    }\n",
       "\n",
       "    .dataframe thead th {\n",
       "        text-align: right;\n",
       "    }\n",
       "</style>\n",
       "<table border=\"1\" class=\"dataframe\">\n",
       "  <thead>\n",
       "    <tr style=\"text-align: right;\">\n",
       "      <th></th>\n",
       "      <th>id</th>\n",
       "      <th>Sex</th>\n",
       "      <th>Age</th>\n",
       "      <th>Height</th>\n",
       "      <th>Weight</th>\n",
       "      <th>Duration</th>\n",
       "      <th>Heart_Rate</th>\n",
       "      <th>Body_Temp</th>\n",
       "    </tr>\n",
       "  </thead>\n",
       "  <tbody>\n",
       "    <tr>\n",
       "      <th>19357</th>\n",
       "      <td>769357</td>\n",
       "      <td>female</td>\n",
       "      <td>46</td>\n",
       "      <td>167.0</td>\n",
       "      <td>64.0</td>\n",
       "      <td>14.0</td>\n",
       "      <td>101.0</td>\n",
       "      <td>40.1</td>\n",
       "    </tr>\n",
       "    <tr>\n",
       "      <th>160188</th>\n",
       "      <td>910188</td>\n",
       "      <td>male</td>\n",
       "      <td>71</td>\n",
       "      <td>188.0</td>\n",
       "      <td>98.0</td>\n",
       "      <td>13.0</td>\n",
       "      <td>93.0</td>\n",
       "      <td>39.9</td>\n",
       "    </tr>\n",
       "    <tr>\n",
       "      <th>110877</th>\n",
       "      <td>860877</td>\n",
       "      <td>male</td>\n",
       "      <td>24</td>\n",
       "      <td>178.0</td>\n",
       "      <td>75.0</td>\n",
       "      <td>18.0</td>\n",
       "      <td>89.0</td>\n",
       "      <td>40.6</td>\n",
       "    </tr>\n",
       "    <tr>\n",
       "      <th>112079</th>\n",
       "      <td>862079</td>\n",
       "      <td>female</td>\n",
       "      <td>73</td>\n",
       "      <td>169.0</td>\n",
       "      <td>65.0</td>\n",
       "      <td>22.0</td>\n",
       "      <td>104.0</td>\n",
       "      <td>40.9</td>\n",
       "    </tr>\n",
       "    <tr>\n",
       "      <th>139974</th>\n",
       "      <td>889974</td>\n",
       "      <td>male</td>\n",
       "      <td>21</td>\n",
       "      <td>184.0</td>\n",
       "      <td>84.0</td>\n",
       "      <td>9.0</td>\n",
       "      <td>86.0</td>\n",
       "      <td>39.8</td>\n",
       "    </tr>\n",
       "    <tr>\n",
       "      <th>79605</th>\n",
       "      <td>829605</td>\n",
       "      <td>female</td>\n",
       "      <td>21</td>\n",
       "      <td>161.0</td>\n",
       "      <td>64.0</td>\n",
       "      <td>22.0</td>\n",
       "      <td>99.0</td>\n",
       "      <td>40.7</td>\n",
       "    </tr>\n",
       "    <tr>\n",
       "      <th>61597</th>\n",
       "      <td>811597</td>\n",
       "      <td>female</td>\n",
       "      <td>51</td>\n",
       "      <td>169.0</td>\n",
       "      <td>69.0</td>\n",
       "      <td>18.0</td>\n",
       "      <td>93.0</td>\n",
       "      <td>40.7</td>\n",
       "    </tr>\n",
       "    <tr>\n",
       "      <th>221388</th>\n",
       "      <td>971388</td>\n",
       "      <td>male</td>\n",
       "      <td>64</td>\n",
       "      <td>194.0</td>\n",
       "      <td>101.0</td>\n",
       "      <td>13.0</td>\n",
       "      <td>86.0</td>\n",
       "      <td>39.9</td>\n",
       "    </tr>\n",
       "    <tr>\n",
       "      <th>229435</th>\n",
       "      <td>979435</td>\n",
       "      <td>male</td>\n",
       "      <td>49</td>\n",
       "      <td>188.0</td>\n",
       "      <td>90.0</td>\n",
       "      <td>28.0</td>\n",
       "      <td>110.0</td>\n",
       "      <td>41.0</td>\n",
       "    </tr>\n",
       "    <tr>\n",
       "      <th>73607</th>\n",
       "      <td>823607</td>\n",
       "      <td>female</td>\n",
       "      <td>31</td>\n",
       "      <td>149.0</td>\n",
       "      <td>52.0</td>\n",
       "      <td>30.0</td>\n",
       "      <td>100.0</td>\n",
       "      <td>40.8</td>\n",
       "    </tr>\n",
       "  </tbody>\n",
       "</table>\n",
       "</div>"
      ],
      "text/plain": [
       "            id     Sex  Age  Height  Weight  Duration  Heart_Rate  Body_Temp\n",
       "19357   769357  female   46   167.0    64.0      14.0       101.0       40.1\n",
       "160188  910188    male   71   188.0    98.0      13.0        93.0       39.9\n",
       "110877  860877    male   24   178.0    75.0      18.0        89.0       40.6\n",
       "112079  862079  female   73   169.0    65.0      22.0       104.0       40.9\n",
       "139974  889974    male   21   184.0    84.0       9.0        86.0       39.8\n",
       "79605   829605  female   21   161.0    64.0      22.0        99.0       40.7\n",
       "61597   811597  female   51   169.0    69.0      18.0        93.0       40.7\n",
       "221388  971388    male   64   194.0   101.0      13.0        86.0       39.9\n",
       "229435  979435    male   49   188.0    90.0      28.0       110.0       41.0\n",
       "73607   823607  female   31   149.0    52.0      30.0       100.0       40.8"
      ]
     },
     "execution_count": 5,
     "metadata": {},
     "output_type": "execute_result"
    }
   ],
   "source": [
    "test_data.sample(10)"
   ]
  },
  {
   "cell_type": "code",
   "execution_count": 6,
   "id": "a1d86f9f",
   "metadata": {
    "execution": {
     "iopub.execute_input": "2025-05-23T03:23:57.238922Z",
     "iopub.status.busy": "2025-05-23T03:23:57.238621Z",
     "iopub.status.idle": "2025-05-23T03:23:57.243701Z",
     "shell.execute_reply": "2025-05-23T03:23:57.243126Z"
    },
    "papermill": {
     "duration": 0.011156,
     "end_time": "2025-05-23T03:23:57.245015",
     "exception": false,
     "start_time": "2025-05-23T03:23:57.233859",
     "status": "completed"
    },
    "tags": []
   },
   "outputs": [
    {
     "data": {
      "text/plain": [
       "(750000, 9)"
      ]
     },
     "execution_count": 6,
     "metadata": {},
     "output_type": "execute_result"
    }
   ],
   "source": [
    "train_data.shape"
   ]
  },
  {
   "cell_type": "code",
   "execution_count": 7,
   "id": "184d9760",
   "metadata": {
    "execution": {
     "iopub.execute_input": "2025-05-23T03:23:57.254210Z",
     "iopub.status.busy": "2025-05-23T03:23:57.253940Z",
     "iopub.status.idle": "2025-05-23T03:23:57.259102Z",
     "shell.execute_reply": "2025-05-23T03:23:57.258365Z"
    },
    "papermill": {
     "duration": 0.011253,
     "end_time": "2025-05-23T03:23:57.260445",
     "exception": false,
     "start_time": "2025-05-23T03:23:57.249192",
     "status": "completed"
    },
    "tags": []
   },
   "outputs": [
    {
     "data": {
      "text/plain": [
       "(250000, 8)"
      ]
     },
     "execution_count": 7,
     "metadata": {},
     "output_type": "execute_result"
    }
   ],
   "source": [
    "test_data.shape"
   ]
  },
  {
   "cell_type": "code",
   "execution_count": 8,
   "id": "0769b700",
   "metadata": {
    "execution": {
     "iopub.execute_input": "2025-05-23T03:23:57.270170Z",
     "iopub.status.busy": "2025-05-23T03:23:57.269878Z",
     "iopub.status.idle": "2025-05-23T03:23:57.332616Z",
     "shell.execute_reply": "2025-05-23T03:23:57.331804Z"
    },
    "papermill": {
     "duration": 0.06907,
     "end_time": "2025-05-23T03:23:57.333952",
     "exception": false,
     "start_time": "2025-05-23T03:23:57.264882",
     "status": "completed"
    },
    "tags": []
   },
   "outputs": [
    {
     "data": {
      "text/plain": [
       "id            0\n",
       "Sex           0\n",
       "Age           0\n",
       "Height        0\n",
       "Weight        0\n",
       "Duration      0\n",
       "Heart_Rate    0\n",
       "Body_Temp     0\n",
       "Calories      0\n",
       "dtype: int64"
      ]
     },
     "execution_count": 8,
     "metadata": {},
     "output_type": "execute_result"
    }
   ],
   "source": [
    "train_data.isnull().sum()"
   ]
  },
  {
   "cell_type": "code",
   "execution_count": 9,
   "id": "a2563051",
   "metadata": {
    "execution": {
     "iopub.execute_input": "2025-05-23T03:23:57.344170Z",
     "iopub.status.busy": "2025-05-23T03:23:57.343874Z",
     "iopub.status.idle": "2025-05-23T03:23:57.369128Z",
     "shell.execute_reply": "2025-05-23T03:23:57.368214Z"
    },
    "papermill": {
     "duration": 0.032138,
     "end_time": "2025-05-23T03:23:57.370667",
     "exception": false,
     "start_time": "2025-05-23T03:23:57.338529",
     "status": "completed"
    },
    "tags": []
   },
   "outputs": [
    {
     "data": {
      "text/plain": [
       "id            0\n",
       "Sex           0\n",
       "Age           0\n",
       "Height        0\n",
       "Weight        0\n",
       "Duration      0\n",
       "Heart_Rate    0\n",
       "Body_Temp     0\n",
       "dtype: int64"
      ]
     },
     "execution_count": 9,
     "metadata": {},
     "output_type": "execute_result"
    }
   ],
   "source": [
    "test_data.isnull().sum()"
   ]
  },
  {
   "cell_type": "code",
   "execution_count": 10,
   "id": "e4db38ec",
   "metadata": {
    "execution": {
     "iopub.execute_input": "2025-05-23T03:23:57.380857Z",
     "iopub.status.busy": "2025-05-23T03:23:57.380533Z",
     "iopub.status.idle": "2025-05-23T03:23:57.690329Z",
     "shell.execute_reply": "2025-05-23T03:23:57.689367Z"
    },
    "papermill": {
     "duration": 0.316681,
     "end_time": "2025-05-23T03:23:57.691855",
     "exception": false,
     "start_time": "2025-05-23T03:23:57.375174",
     "status": "completed"
    },
    "tags": []
   },
   "outputs": [
    {
     "name": "stdout",
     "output_type": "stream",
     "text": [
      "   Sex  Age  Height  Weight  Duration  Heart_Rate  Body_Temp  Calories\n",
      "0    0   36   189.0    82.0      26.0       101.0       41.0     150.0\n",
      "1    1   64   163.0    60.0       8.0        85.0       39.7      34.0\n",
      "2    1   51   161.0    64.0       7.0        84.0       39.8      29.0\n",
      "3    0   20   192.0    90.0      25.0       105.0       40.7     140.0\n",
      "4    1   38   166.0    61.0      25.0       102.0       40.6     146.0\n"
     ]
    },
    {
     "name": "stderr",
     "output_type": "stream",
     "text": [
      "/tmp/ipykernel_12/1709812675.py:2: FutureWarning: Downcasting behavior in `replace` is deprecated and will be removed in a future version. To retain the old behavior, explicitly call `result.infer_objects(copy=False)`. To opt-in to the future behavior, set `pd.set_option('future.no_silent_downcasting', True)`\n",
      "  train_data['Sex'] = train_data['Sex'].replace(gender_map)\n"
     ]
    }
   ],
   "source": [
    "gender_map = {\"male\" : 0,\"female\" : 1}\n",
    "train_data['Sex'] = train_data['Sex'].replace(gender_map)\n",
    "\n",
    "train_data=train_data.drop(\"id\",axis=1)\n",
    "\n",
    "print (train_data.head())"
   ]
  },
  {
   "cell_type": "code",
   "execution_count": 11,
   "id": "346ae2a7",
   "metadata": {
    "execution": {
     "iopub.execute_input": "2025-05-23T03:23:57.703324Z",
     "iopub.status.busy": "2025-05-23T03:23:57.703030Z",
     "iopub.status.idle": "2025-05-23T03:23:57.708817Z",
     "shell.execute_reply": "2025-05-23T03:23:57.707916Z"
    },
    "papermill": {
     "duration": 0.013505,
     "end_time": "2025-05-23T03:23:57.710219",
     "exception": false,
     "start_time": "2025-05-23T03:23:57.696714",
     "status": "completed"
    },
    "tags": []
   },
   "outputs": [],
   "source": [
    "def feature_engineering(df):\n",
    "    df['bmi'] = df['Weight'] / ((df['Height'] / 100) ** 2)    \n",
    "    df['exercise_intensity'] = df['Heart_Rate'] / df['Duration']\n",
    "    df['heart_rate_duration'] = df['Heart_Rate'] * df['Duration']\n",
    "    df['temp_duration'] = df['Body_Temp'] * df['Duration']\n",
    "    df['hr_to_temp'] = df['Heart_Rate'] / df['Body_Temp']\n",
    "    df['hr_to_age'] = df['Heart_Rate'] / df['Age']\n",
    "    df['age_bmi'] = df['Age'] * df['bmi']\n",
    "    df['max_heart_rate'] = 220 - df['Age']\n",
    "    df['heart_rate_intensity'] = df['Heart_Rate'] / df['max_heart_rate']\n",
    "    return df"
   ]
  },
  {
   "cell_type": "code",
   "execution_count": 12,
   "id": "79bab168",
   "metadata": {
    "execution": {
     "iopub.execute_input": "2025-05-23T03:23:57.720602Z",
     "iopub.status.busy": "2025-05-23T03:23:57.720256Z",
     "iopub.status.idle": "2025-05-23T03:23:57.799202Z",
     "shell.execute_reply": "2025-05-23T03:23:57.798398Z"
    },
    "papermill": {
     "duration": 0.085979,
     "end_time": "2025-05-23T03:23:57.800974",
     "exception": false,
     "start_time": "2025-05-23T03:23:57.714995",
     "status": "completed"
    },
    "tags": []
   },
   "outputs": [],
   "source": [
    "train_data = feature_engineering(train_data)\n",
    "test_data = feature_engineering(test_data)"
   ]
  },
  {
   "cell_type": "code",
   "execution_count": 13,
   "id": "57b72abb",
   "metadata": {
    "execution": {
     "iopub.execute_input": "2025-05-23T03:23:57.811575Z",
     "iopub.status.busy": "2025-05-23T03:23:57.810998Z",
     "iopub.status.idle": "2025-05-23T03:23:57.814856Z",
     "shell.execute_reply": "2025-05-23T03:23:57.814130Z"
    },
    "papermill": {
     "duration": 0.010608,
     "end_time": "2025-05-23T03:23:57.816195",
     "exception": false,
     "start_time": "2025-05-23T03:23:57.805587",
     "status": "completed"
    },
    "tags": []
   },
   "outputs": [],
   "source": [
    "#train_data.drop(['Sex','Age','Height','Weight','Duration','Heart_Rate','Body_Temp'], axis=1)"
   ]
  },
  {
   "cell_type": "code",
   "execution_count": 14,
   "id": "8b32a4ae",
   "metadata": {
    "execution": {
     "iopub.execute_input": "2025-05-23T03:23:57.826204Z",
     "iopub.status.busy": "2025-05-23T03:23:57.825921Z",
     "iopub.status.idle": "2025-05-23T03:23:57.903137Z",
     "shell.execute_reply": "2025-05-23T03:23:57.902483Z"
    },
    "papermill": {
     "duration": 0.083976,
     "end_time": "2025-05-23T03:23:57.904700",
     "exception": false,
     "start_time": "2025-05-23T03:23:57.820724",
     "status": "completed"
    },
    "tags": []
   },
   "outputs": [],
   "source": [
    "X = train_data.drop(['Calories'], axis=1)\n",
    "y = train_data['Calories']"
   ]
  },
  {
   "cell_type": "code",
   "execution_count": 15,
   "id": "ba625781",
   "metadata": {
    "execution": {
     "iopub.execute_input": "2025-05-23T03:23:57.915460Z",
     "iopub.status.busy": "2025-05-23T03:23:57.914873Z",
     "iopub.status.idle": "2025-05-23T03:23:58.337162Z",
     "shell.execute_reply": "2025-05-23T03:23:58.336495Z"
    },
    "papermill": {
     "duration": 0.429261,
     "end_time": "2025-05-23T03:23:58.338753",
     "exception": false,
     "start_time": "2025-05-23T03:23:57.909492",
     "status": "completed"
    },
    "tags": []
   },
   "outputs": [],
   "source": [
    "from sklearn.model_selection import train_test_split\n",
    "from sklearn.linear_model import LinearRegression\n",
    "from sklearn.metrics import r2_score, mean_squared_error\n",
    "from sklearn.pipeline import Pipeline"
   ]
  },
  {
   "cell_type": "code",
   "execution_count": 16,
   "id": "45eaef57",
   "metadata": {
    "execution": {
     "iopub.execute_input": "2025-05-23T03:23:58.349758Z",
     "iopub.status.busy": "2025-05-23T03:23:58.349475Z",
     "iopub.status.idle": "2025-05-23T03:23:58.592534Z",
     "shell.execute_reply": "2025-05-23T03:23:58.591795Z"
    },
    "papermill": {
     "duration": 0.250065,
     "end_time": "2025-05-23T03:23:58.594113",
     "exception": false,
     "start_time": "2025-05-23T03:23:58.344048",
     "status": "completed"
    },
    "tags": []
   },
   "outputs": [],
   "source": [
    "X_train, X_test, y_train, y_test = train_test_split(X, y, test_size=0.2, random_state=42)"
   ]
  },
  {
   "cell_type": "code",
   "execution_count": 17,
   "id": "548d1f7a",
   "metadata": {
    "execution": {
     "iopub.execute_input": "2025-05-23T03:23:58.604314Z",
     "iopub.status.busy": "2025-05-23T03:23:58.604050Z",
     "iopub.status.idle": "2025-05-23T03:23:59.374982Z",
     "shell.execute_reply": "2025-05-23T03:23:59.374027Z"
    },
    "papermill": {
     "duration": 0.777779,
     "end_time": "2025-05-23T03:23:59.376537",
     "exception": false,
     "start_time": "2025-05-23T03:23:58.598758",
     "status": "completed"
    },
    "tags": []
   },
   "outputs": [
    {
     "name": "stdout",
     "output_type": "stream",
     "text": [
      "LinearRegression → R²: 0.9898, RMSE: 6.30\n"
     ]
    }
   ],
   "source": [
    "lr_model = LinearRegression()\n",
    "lr_model.fit(X_train, y_train)\n",
    "lr_model.score(X_test, y_test) \n",
    "y_pred = lr_model.predict(X_test)\n",
    "print(f\"LinearRegression → R²: {r2_score(y_test, y_pred):.4f}, RMSE: {mean_squared_error(y_test, y_pred, squared=False):.2f}\")"
   ]
  },
  {
   "cell_type": "code",
   "execution_count": 18,
   "id": "de8f05b3",
   "metadata": {
    "execution": {
     "iopub.execute_input": "2025-05-23T03:23:59.389650Z",
     "iopub.status.busy": "2025-05-23T03:23:59.389265Z",
     "iopub.status.idle": "2025-05-23T03:24:00.084817Z",
     "shell.execute_reply": "2025-05-23T03:24:00.084073Z"
    },
    "papermill": {
     "duration": 0.703858,
     "end_time": "2025-05-23T03:24:00.086327",
     "exception": false,
     "start_time": "2025-05-23T03:23:59.382469",
     "status": "completed"
    },
    "tags": []
   },
   "outputs": [
    {
     "name": "stderr",
     "output_type": "stream",
     "text": [
      "/tmp/ipykernel_12/1132734480.py:1: FutureWarning: Downcasting behavior in `replace` is deprecated and will be removed in a future version. To retain the old behavior, explicitly call `result.infer_objects(copy=False)`. To opt-in to the future behavior, set `pd.set_option('future.no_silent_downcasting', True)`\n",
      "  test_data['Sex'] = test_data['Sex'].replace(gender_map)\n"
     ]
    }
   ],
   "source": [
    "test_data['Sex'] = test_data['Sex'].replace(gender_map)\n",
    "test_ids = test_data['id']\n",
    "X_test_final = test_data.drop('id', axis=1)\n",
    "\n",
    "\n",
    "test_predictions = lr_model.predict(X_test_final)\n",
    "test_predictions = np.maximum(0, test_predictions)\n",
    "\n",
    "submission = pd.DataFrame({\n",
    "    'id': test_ids,\n",
    "    'Calories': test_predictions\n",
    "})\n",
    "submission.to_csv('submission.csv', index=False)"
   ]
  },
  {
   "cell_type": "code",
   "execution_count": 19,
   "id": "f6ebe221",
   "metadata": {
    "execution": {
     "iopub.execute_input": "2025-05-23T03:24:00.097138Z",
     "iopub.status.busy": "2025-05-23T03:24:00.096842Z",
     "iopub.status.idle": "2025-05-23T03:24:00.102256Z",
     "shell.execute_reply": "2025-05-23T03:24:00.101587Z"
    },
    "papermill": {
     "duration": 0.012301,
     "end_time": "2025-05-23T03:24:00.103516",
     "exception": false,
     "start_time": "2025-05-23T03:24:00.091215",
     "status": "completed"
    },
    "tags": []
   },
   "outputs": [
    {
     "data": {
      "text/plain": [
       "array([203.06867921,  66.42237769,  42.50516994, ...,  33.74200102,\n",
       "        32.85884037, 177.44853624])"
      ]
     },
     "execution_count": 19,
     "metadata": {},
     "output_type": "execute_result"
    }
   ],
   "source": [
    "y_pred"
   ]
  },
  {
   "cell_type": "code",
   "execution_count": 20,
   "id": "fa247294",
   "metadata": {
    "execution": {
     "iopub.execute_input": "2025-05-23T03:24:00.114303Z",
     "iopub.status.busy": "2025-05-23T03:24:00.113997Z",
     "iopub.status.idle": "2025-05-23T03:24:00.123165Z",
     "shell.execute_reply": "2025-05-23T03:24:00.122471Z"
    },
    "papermill": {
     "duration": 0.016257,
     "end_time": "2025-05-23T03:24:00.124613",
     "exception": false,
     "start_time": "2025-05-23T03:24:00.108356",
     "status": "completed"
    },
    "tags": []
   },
   "outputs": [
    {
     "data": {
      "text/html": [
       "<div>\n",
       "<style scoped>\n",
       "    .dataframe tbody tr th:only-of-type {\n",
       "        vertical-align: middle;\n",
       "    }\n",
       "\n",
       "    .dataframe tbody tr th {\n",
       "        vertical-align: top;\n",
       "    }\n",
       "\n",
       "    .dataframe thead th {\n",
       "        text-align: right;\n",
       "    }\n",
       "</style>\n",
       "<table border=\"1\" class=\"dataframe\">\n",
       "  <thead>\n",
       "    <tr style=\"text-align: right;\">\n",
       "      <th></th>\n",
       "      <th>id</th>\n",
       "      <th>Calories</th>\n",
       "    </tr>\n",
       "  </thead>\n",
       "  <tbody>\n",
       "    <tr>\n",
       "      <th>0</th>\n",
       "      <td>750000</td>\n",
       "      <td>28.834309</td>\n",
       "    </tr>\n",
       "    <tr>\n",
       "      <th>1</th>\n",
       "      <td>750001</td>\n",
       "      <td>110.552432</td>\n",
       "    </tr>\n",
       "    <tr>\n",
       "      <th>2</th>\n",
       "      <td>750002</td>\n",
       "      <td>88.440191</td>\n",
       "    </tr>\n",
       "    <tr>\n",
       "      <th>3</th>\n",
       "      <td>750003</td>\n",
       "      <td>129.097957</td>\n",
       "    </tr>\n",
       "    <tr>\n",
       "      <th>4</th>\n",
       "      <td>750004</td>\n",
       "      <td>75.748380</td>\n",
       "    </tr>\n",
       "    <tr>\n",
       "      <th>...</th>\n",
       "      <td>...</td>\n",
       "      <td>...</td>\n",
       "    </tr>\n",
       "    <tr>\n",
       "      <th>249995</th>\n",
       "      <td>999995</td>\n",
       "      <td>23.829629</td>\n",
       "    </tr>\n",
       "    <tr>\n",
       "      <th>249996</th>\n",
       "      <td>999996</td>\n",
       "      <td>14.321549</td>\n",
       "    </tr>\n",
       "    <tr>\n",
       "      <th>249997</th>\n",
       "      <td>999997</td>\n",
       "      <td>70.628803</td>\n",
       "    </tr>\n",
       "    <tr>\n",
       "      <th>249998</th>\n",
       "      <td>999998</td>\n",
       "      <td>175.223137</td>\n",
       "    </tr>\n",
       "    <tr>\n",
       "      <th>249999</th>\n",
       "      <td>999999</td>\n",
       "      <td>79.076244</td>\n",
       "    </tr>\n",
       "  </tbody>\n",
       "</table>\n",
       "<p>250000 rows × 2 columns</p>\n",
       "</div>"
      ],
      "text/plain": [
       "            id    Calories\n",
       "0       750000   28.834309\n",
       "1       750001  110.552432\n",
       "2       750002   88.440191\n",
       "3       750003  129.097957\n",
       "4       750004   75.748380\n",
       "...        ...         ...\n",
       "249995  999995   23.829629\n",
       "249996  999996   14.321549\n",
       "249997  999997   70.628803\n",
       "249998  999998  175.223137\n",
       "249999  999999   79.076244\n",
       "\n",
       "[250000 rows x 2 columns]"
      ]
     },
     "execution_count": 20,
     "metadata": {},
     "output_type": "execute_result"
    }
   ],
   "source": [
    "submission"
   ]
  }
 ],
 "metadata": {
  "kaggle": {
   "accelerator": "none",
   "dataSources": [
    {
     "databundleVersionId": 11893428,
     "sourceId": 91716,
     "sourceType": "competition"
    }
   ],
   "dockerImageVersionId": 31040,
   "isGpuEnabled": false,
   "isInternetEnabled": true,
   "language": "python",
   "sourceType": "notebook"
  },
  "kernelspec": {
   "display_name": "Python 3",
   "language": "python",
   "name": "python3"
  },
  "language_info": {
   "codemirror_mode": {
    "name": "ipython",
    "version": 3
   },
   "file_extension": ".py",
   "mimetype": "text/x-python",
   "name": "python",
   "nbconvert_exporter": "python",
   "pygments_lexer": "ipython3",
   "version": "3.11.11"
  },
  "papermill": {
   "default_parameters": {},
   "duration": 12.958436,
   "end_time": "2025-05-23T03:24:00.849466",
   "environment_variables": {},
   "exception": null,
   "input_path": "__notebook__.ipynb",
   "output_path": "__notebook__.ipynb",
   "parameters": {},
   "start_time": "2025-05-23T03:23:47.891030",
   "version": "2.6.0"
  }
 },
 "nbformat": 4,
 "nbformat_minor": 5
}
