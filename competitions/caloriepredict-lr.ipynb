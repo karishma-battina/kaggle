{
 "cells": [
  {
   "cell_type": "code",
   "execution_count": 1,
   "id": "7ff1d6dd",
   "metadata": {
    "_cell_guid": "b1076dfc-b9ad-4769-8c92-a6c4dae69d19",
    "_uuid": "8f2839f25d086af736a60e9eeb907d3b93b6e0e5",
    "execution": {
     "iopub.execute_input": "2025-05-22T16:17:57.758409Z",
     "iopub.status.busy": "2025-05-22T16:17:57.758074Z",
     "iopub.status.idle": "2025-05-22T16:18:02.315822Z",
     "shell.execute_reply": "2025-05-22T16:18:02.314533Z"
    },
    "papermill": {
     "duration": 4.567776,
     "end_time": "2025-05-22T16:18:02.318096",
     "exception": false,
     "start_time": "2025-05-22T16:17:57.750320",
     "status": "completed"
    },
    "tags": []
   },
   "outputs": [],
   "source": [
    "import numpy as np\n",
    "import pandas as pd\n",
    "import seaborn as sns\n",
    "import matplotlib.pyplot as plt"
   ]
  },
  {
   "cell_type": "code",
   "execution_count": 2,
   "id": "b8af764e",
   "metadata": {
    "execution": {
     "iopub.execute_input": "2025-05-22T16:18:02.330392Z",
     "iopub.status.busy": "2025-05-22T16:18:02.329935Z",
     "iopub.status.idle": "2025-05-22T16:18:03.933521Z",
     "shell.execute_reply": "2025-05-22T16:18:03.932381Z"
    },
    "papermill": {
     "duration": 1.612256,
     "end_time": "2025-05-22T16:18:03.935404",
     "exception": false,
     "start_time": "2025-05-22T16:18:02.323148",
     "status": "completed"
    },
    "tags": []
   },
   "outputs": [],
   "source": [
    "train_data = pd.read_csv(\"/kaggle/input/playground-series-s5e5/train.csv\")\n",
    "test_data = pd.read_csv(\"/kaggle/input/playground-series-s5e5/test.csv\")"
   ]
  },
  {
   "cell_type": "code",
   "execution_count": 3,
   "id": "b4619cc1",
   "metadata": {
    "execution": {
     "iopub.execute_input": "2025-05-22T16:18:03.947734Z",
     "iopub.status.busy": "2025-05-22T16:18:03.946861Z",
     "iopub.status.idle": "2025-05-22T16:18:03.952744Z",
     "shell.execute_reply": "2025-05-22T16:18:03.951657Z"
    },
    "papermill": {
     "duration": 0.01413,
     "end_time": "2025-05-22T16:18:03.954517",
     "exception": false,
     "start_time": "2025-05-22T16:18:03.940387",
     "status": "completed"
    },
    "tags": []
   },
   "outputs": [],
   "source": [
    "train_copy, test_copy = train_data, test_data"
   ]
  },
  {
   "cell_type": "code",
   "execution_count": 4,
   "id": "22bedb47",
   "metadata": {
    "execution": {
     "iopub.execute_input": "2025-05-22T16:18:03.965370Z",
     "iopub.status.busy": "2025-05-22T16:18:03.965066Z",
     "iopub.status.idle": "2025-05-22T16:18:03.999990Z",
     "shell.execute_reply": "2025-05-22T16:18:03.998694Z"
    },
    "papermill": {
     "duration": 0.042851,
     "end_time": "2025-05-22T16:18:04.001958",
     "exception": false,
     "start_time": "2025-05-22T16:18:03.959107",
     "status": "completed"
    },
    "tags": []
   },
   "outputs": [
    {
     "data": {
      "text/html": [
       "<div>\n",
       "<style scoped>\n",
       "    .dataframe tbody tr th:only-of-type {\n",
       "        vertical-align: middle;\n",
       "    }\n",
       "\n",
       "    .dataframe tbody tr th {\n",
       "        vertical-align: top;\n",
       "    }\n",
       "\n",
       "    .dataframe thead th {\n",
       "        text-align: right;\n",
       "    }\n",
       "</style>\n",
       "<table border=\"1\" class=\"dataframe\">\n",
       "  <thead>\n",
       "    <tr style=\"text-align: right;\">\n",
       "      <th></th>\n",
       "      <th>id</th>\n",
       "      <th>Sex</th>\n",
       "      <th>Age</th>\n",
       "      <th>Height</th>\n",
       "      <th>Weight</th>\n",
       "      <th>Duration</th>\n",
       "      <th>Heart_Rate</th>\n",
       "      <th>Body_Temp</th>\n",
       "      <th>Calories</th>\n",
       "    </tr>\n",
       "  </thead>\n",
       "  <tbody>\n",
       "    <tr>\n",
       "      <th>0</th>\n",
       "      <td>0</td>\n",
       "      <td>male</td>\n",
       "      <td>36</td>\n",
       "      <td>189.0</td>\n",
       "      <td>82.0</td>\n",
       "      <td>26.0</td>\n",
       "      <td>101.0</td>\n",
       "      <td>41.0</td>\n",
       "      <td>150.0</td>\n",
       "    </tr>\n",
       "    <tr>\n",
       "      <th>1</th>\n",
       "      <td>1</td>\n",
       "      <td>female</td>\n",
       "      <td>64</td>\n",
       "      <td>163.0</td>\n",
       "      <td>60.0</td>\n",
       "      <td>8.0</td>\n",
       "      <td>85.0</td>\n",
       "      <td>39.7</td>\n",
       "      <td>34.0</td>\n",
       "    </tr>\n",
       "    <tr>\n",
       "      <th>2</th>\n",
       "      <td>2</td>\n",
       "      <td>female</td>\n",
       "      <td>51</td>\n",
       "      <td>161.0</td>\n",
       "      <td>64.0</td>\n",
       "      <td>7.0</td>\n",
       "      <td>84.0</td>\n",
       "      <td>39.8</td>\n",
       "      <td>29.0</td>\n",
       "    </tr>\n",
       "    <tr>\n",
       "      <th>3</th>\n",
       "      <td>3</td>\n",
       "      <td>male</td>\n",
       "      <td>20</td>\n",
       "      <td>192.0</td>\n",
       "      <td>90.0</td>\n",
       "      <td>25.0</td>\n",
       "      <td>105.0</td>\n",
       "      <td>40.7</td>\n",
       "      <td>140.0</td>\n",
       "    </tr>\n",
       "    <tr>\n",
       "      <th>4</th>\n",
       "      <td>4</td>\n",
       "      <td>female</td>\n",
       "      <td>38</td>\n",
       "      <td>166.0</td>\n",
       "      <td>61.0</td>\n",
       "      <td>25.0</td>\n",
       "      <td>102.0</td>\n",
       "      <td>40.6</td>\n",
       "      <td>146.0</td>\n",
       "    </tr>\n",
       "  </tbody>\n",
       "</table>\n",
       "</div>"
      ],
      "text/plain": [
       "   id     Sex  Age  Height  Weight  Duration  Heart_Rate  Body_Temp  Calories\n",
       "0   0    male   36   189.0    82.0      26.0       101.0       41.0     150.0\n",
       "1   1  female   64   163.0    60.0       8.0        85.0       39.7      34.0\n",
       "2   2  female   51   161.0    64.0       7.0        84.0       39.8      29.0\n",
       "3   3    male   20   192.0    90.0      25.0       105.0       40.7     140.0\n",
       "4   4  female   38   166.0    61.0      25.0       102.0       40.6     146.0"
      ]
     },
     "execution_count": 4,
     "metadata": {},
     "output_type": "execute_result"
    }
   ],
   "source": [
    "train_data.head()"
   ]
  },
  {
   "cell_type": "code",
   "execution_count": 5,
   "id": "67eb9ed3",
   "metadata": {
    "execution": {
     "iopub.execute_input": "2025-05-22T16:18:04.012471Z",
     "iopub.status.busy": "2025-05-22T16:18:04.012019Z",
     "iopub.status.idle": "2025-05-22T16:18:04.027351Z",
     "shell.execute_reply": "2025-05-22T16:18:04.026247Z"
    },
    "papermill": {
     "duration": 0.022483,
     "end_time": "2025-05-22T16:18:04.029262",
     "exception": false,
     "start_time": "2025-05-22T16:18:04.006779",
     "status": "completed"
    },
    "tags": []
   },
   "outputs": [
    {
     "data": {
      "text/html": [
       "<div>\n",
       "<style scoped>\n",
       "    .dataframe tbody tr th:only-of-type {\n",
       "        vertical-align: middle;\n",
       "    }\n",
       "\n",
       "    .dataframe tbody tr th {\n",
       "        vertical-align: top;\n",
       "    }\n",
       "\n",
       "    .dataframe thead th {\n",
       "        text-align: right;\n",
       "    }\n",
       "</style>\n",
       "<table border=\"1\" class=\"dataframe\">\n",
       "  <thead>\n",
       "    <tr style=\"text-align: right;\">\n",
       "      <th></th>\n",
       "      <th>id</th>\n",
       "      <th>Sex</th>\n",
       "      <th>Age</th>\n",
       "      <th>Height</th>\n",
       "      <th>Weight</th>\n",
       "      <th>Duration</th>\n",
       "      <th>Heart_Rate</th>\n",
       "      <th>Body_Temp</th>\n",
       "    </tr>\n",
       "  </thead>\n",
       "  <tbody>\n",
       "    <tr>\n",
       "      <th>0</th>\n",
       "      <td>750000</td>\n",
       "      <td>male</td>\n",
       "      <td>45</td>\n",
       "      <td>177.0</td>\n",
       "      <td>81.0</td>\n",
       "      <td>7.0</td>\n",
       "      <td>87.0</td>\n",
       "      <td>39.8</td>\n",
       "    </tr>\n",
       "    <tr>\n",
       "      <th>1</th>\n",
       "      <td>750001</td>\n",
       "      <td>male</td>\n",
       "      <td>26</td>\n",
       "      <td>200.0</td>\n",
       "      <td>97.0</td>\n",
       "      <td>20.0</td>\n",
       "      <td>101.0</td>\n",
       "      <td>40.5</td>\n",
       "    </tr>\n",
       "    <tr>\n",
       "      <th>2</th>\n",
       "      <td>750002</td>\n",
       "      <td>female</td>\n",
       "      <td>29</td>\n",
       "      <td>188.0</td>\n",
       "      <td>85.0</td>\n",
       "      <td>16.0</td>\n",
       "      <td>102.0</td>\n",
       "      <td>40.4</td>\n",
       "    </tr>\n",
       "    <tr>\n",
       "      <th>3</th>\n",
       "      <td>750003</td>\n",
       "      <td>female</td>\n",
       "      <td>39</td>\n",
       "      <td>172.0</td>\n",
       "      <td>73.0</td>\n",
       "      <td>20.0</td>\n",
       "      <td>107.0</td>\n",
       "      <td>40.6</td>\n",
       "    </tr>\n",
       "    <tr>\n",
       "      <th>4</th>\n",
       "      <td>750004</td>\n",
       "      <td>female</td>\n",
       "      <td>30</td>\n",
       "      <td>173.0</td>\n",
       "      <td>67.0</td>\n",
       "      <td>16.0</td>\n",
       "      <td>94.0</td>\n",
       "      <td>40.5</td>\n",
       "    </tr>\n",
       "  </tbody>\n",
       "</table>\n",
       "</div>"
      ],
      "text/plain": [
       "       id     Sex  Age  Height  Weight  Duration  Heart_Rate  Body_Temp\n",
       "0  750000    male   45   177.0    81.0       7.0        87.0       39.8\n",
       "1  750001    male   26   200.0    97.0      20.0       101.0       40.5\n",
       "2  750002  female   29   188.0    85.0      16.0       102.0       40.4\n",
       "3  750003  female   39   172.0    73.0      20.0       107.0       40.6\n",
       "4  750004  female   30   173.0    67.0      16.0        94.0       40.5"
      ]
     },
     "execution_count": 5,
     "metadata": {},
     "output_type": "execute_result"
    }
   ],
   "source": [
    "test_data.head()"
   ]
  },
  {
   "cell_type": "code",
   "execution_count": 6,
   "id": "8ba646aa",
   "metadata": {
    "execution": {
     "iopub.execute_input": "2025-05-22T16:18:04.040425Z",
     "iopub.status.busy": "2025-05-22T16:18:04.040109Z",
     "iopub.status.idle": "2025-05-22T16:18:04.047800Z",
     "shell.execute_reply": "2025-05-22T16:18:04.046781Z"
    },
    "papermill": {
     "duration": 0.016037,
     "end_time": "2025-05-22T16:18:04.050264",
     "exception": false,
     "start_time": "2025-05-22T16:18:04.034227",
     "status": "completed"
    },
    "tags": []
   },
   "outputs": [
    {
     "data": {
      "text/plain": [
       "(750000, 9)"
      ]
     },
     "execution_count": 6,
     "metadata": {},
     "output_type": "execute_result"
    }
   ],
   "source": [
    "train_data.shape"
   ]
  },
  {
   "cell_type": "code",
   "execution_count": 7,
   "id": "9ad1d8ff",
   "metadata": {
    "execution": {
     "iopub.execute_input": "2025-05-22T16:18:04.061336Z",
     "iopub.status.busy": "2025-05-22T16:18:04.061013Z",
     "iopub.status.idle": "2025-05-22T16:18:04.067550Z",
     "shell.execute_reply": "2025-05-22T16:18:04.066673Z"
    },
    "papermill": {
     "duration": 0.014054,
     "end_time": "2025-05-22T16:18:04.069229",
     "exception": false,
     "start_time": "2025-05-22T16:18:04.055175",
     "status": "completed"
    },
    "tags": []
   },
   "outputs": [
    {
     "data": {
      "text/plain": [
       "(250000, 8)"
      ]
     },
     "execution_count": 7,
     "metadata": {},
     "output_type": "execute_result"
    }
   ],
   "source": [
    "test_data.shape"
   ]
  },
  {
   "cell_type": "code",
   "execution_count": 8,
   "id": "69d2f9f7",
   "metadata": {
    "execution": {
     "iopub.execute_input": "2025-05-22T16:18:04.080329Z",
     "iopub.status.busy": "2025-05-22T16:18:04.079875Z",
     "iopub.status.idle": "2025-05-22T16:18:04.154853Z",
     "shell.execute_reply": "2025-05-22T16:18:04.153475Z"
    },
    "papermill": {
     "duration": 0.082604,
     "end_time": "2025-05-22T16:18:04.157084",
     "exception": false,
     "start_time": "2025-05-22T16:18:04.074480",
     "status": "completed"
    },
    "tags": []
   },
   "outputs": [
    {
     "data": {
      "text/plain": [
       "id            0\n",
       "Sex           0\n",
       "Age           0\n",
       "Height        0\n",
       "Weight        0\n",
       "Duration      0\n",
       "Heart_Rate    0\n",
       "Body_Temp     0\n",
       "Calories      0\n",
       "dtype: int64"
      ]
     },
     "execution_count": 8,
     "metadata": {},
     "output_type": "execute_result"
    }
   ],
   "source": [
    "train_data.isnull().sum()"
   ]
  },
  {
   "cell_type": "code",
   "execution_count": 9,
   "id": "ed67d2b2",
   "metadata": {
    "execution": {
     "iopub.execute_input": "2025-05-22T16:18:04.168848Z",
     "iopub.status.busy": "2025-05-22T16:18:04.168474Z",
     "iopub.status.idle": "2025-05-22T16:18:04.197259Z",
     "shell.execute_reply": "2025-05-22T16:18:04.195655Z"
    },
    "papermill": {
     "duration": 0.036752,
     "end_time": "2025-05-22T16:18:04.199179",
     "exception": false,
     "start_time": "2025-05-22T16:18:04.162427",
     "status": "completed"
    },
    "tags": []
   },
   "outputs": [
    {
     "data": {
      "text/plain": [
       "id            0\n",
       "Sex           0\n",
       "Age           0\n",
       "Height        0\n",
       "Weight        0\n",
       "Duration      0\n",
       "Heart_Rate    0\n",
       "Body_Temp     0\n",
       "dtype: int64"
      ]
     },
     "execution_count": 9,
     "metadata": {},
     "output_type": "execute_result"
    }
   ],
   "source": [
    "test_data.isnull().sum()"
   ]
  },
  {
   "cell_type": "code",
   "execution_count": 10,
   "id": "6396b51c",
   "metadata": {
    "execution": {
     "iopub.execute_input": "2025-05-22T16:18:04.211228Z",
     "iopub.status.busy": "2025-05-22T16:18:04.210879Z",
     "iopub.status.idle": "2025-05-22T16:18:04.552316Z",
     "shell.execute_reply": "2025-05-22T16:18:04.551032Z"
    },
    "papermill": {
     "duration": 0.350088,
     "end_time": "2025-05-22T16:18:04.554841",
     "exception": false,
     "start_time": "2025-05-22T16:18:04.204753",
     "status": "completed"
    },
    "tags": []
   },
   "outputs": [
    {
     "name": "stdout",
     "output_type": "stream",
     "text": [
      "   Sex  Age  Height  Weight  Duration  Heart_Rate  Body_Temp  Calories\n",
      "0    0   36   189.0    82.0      26.0       101.0       41.0     150.0\n",
      "1    1   64   163.0    60.0       8.0        85.0       39.7      34.0\n",
      "2    1   51   161.0    64.0       7.0        84.0       39.8      29.0\n",
      "3    0   20   192.0    90.0      25.0       105.0       40.7     140.0\n",
      "4    1   38   166.0    61.0      25.0       102.0       40.6     146.0\n"
     ]
    },
    {
     "name": "stderr",
     "output_type": "stream",
     "text": [
      "/tmp/ipykernel_13/1709812675.py:2: FutureWarning: Downcasting behavior in `replace` is deprecated and will be removed in a future version. To retain the old behavior, explicitly call `result.infer_objects(copy=False)`. To opt-in to the future behavior, set `pd.set_option('future.no_silent_downcasting', True)`\n",
      "  train_data['Sex'] = train_data['Sex'].replace(gender_map)\n"
     ]
    }
   ],
   "source": [
    "gender_map = {\"male\" : 0,\"female\" : 1}\n",
    "train_data['Sex'] = train_data['Sex'].replace(gender_map)\n",
    "\n",
    "train_data=train_data.drop(\"id\",axis=1)\n",
    "\n",
    "print (train_data.head())"
   ]
  },
  {
   "cell_type": "code",
   "execution_count": 11,
   "id": "9bb5345c",
   "metadata": {
    "execution": {
     "iopub.execute_input": "2025-05-22T16:18:04.566463Z",
     "iopub.status.busy": "2025-05-22T16:18:04.566143Z",
     "iopub.status.idle": "2025-05-22T16:18:04.573430Z",
     "shell.execute_reply": "2025-05-22T16:18:04.572019Z"
    },
    "papermill": {
     "duration": 0.015703,
     "end_time": "2025-05-22T16:18:04.575477",
     "exception": false,
     "start_time": "2025-05-22T16:18:04.559774",
     "status": "completed"
    },
    "tags": []
   },
   "outputs": [],
   "source": [
    "def feature_engineering(df):\n",
    "    df['bmi'] = df['Weight'] / ((df['Height'] / 100) ** 2)    \n",
    "    df['exercise_intensity'] = df['Heart_Rate'] / df['Duration']\n",
    "    df['heart_rate_duration'] = df['Heart_Rate'] * df['Duration']\n",
    "    df['temp_duration'] = df['Body_Temp'] * df['Duration']\n",
    "    df['hr_to_temp'] = df['Heart_Rate'] / df['Body_Temp']\n",
    "    df['hr_to_age'] = df['Heart_Rate'] / df['Age']\n",
    "    df['age_bmi'] = df['Age'] * df['bmi']\n",
    "    df['max_heart_rate'] = 220 - df['Age']\n",
    "    df['heart_rate_intensity'] = df['Heart_Rate'] / df['max_heart_rate']\n",
    "    return df"
   ]
  },
  {
   "cell_type": "code",
   "execution_count": 12,
   "id": "6fcbe540",
   "metadata": {
    "execution": {
     "iopub.execute_input": "2025-05-22T16:18:04.587064Z",
     "iopub.status.busy": "2025-05-22T16:18:04.586766Z",
     "iopub.status.idle": "2025-05-22T16:18:04.706085Z",
     "shell.execute_reply": "2025-05-22T16:18:04.705144Z"
    },
    "papermill": {
     "duration": 0.127004,
     "end_time": "2025-05-22T16:18:04.708061",
     "exception": false,
     "start_time": "2025-05-22T16:18:04.581057",
     "status": "completed"
    },
    "tags": []
   },
   "outputs": [],
   "source": [
    "train_data = feature_engineering(train_data)\n",
    "test_data = feature_engineering(test_data)"
   ]
  },
  {
   "cell_type": "code",
   "execution_count": 13,
   "id": "32a4cf92",
   "metadata": {
    "execution": {
     "iopub.execute_input": "2025-05-22T16:18:04.718689Z",
     "iopub.status.busy": "2025-05-22T16:18:04.718367Z",
     "iopub.status.idle": "2025-05-22T16:18:04.723218Z",
     "shell.execute_reply": "2025-05-22T16:18:04.721897Z"
    },
    "papermill": {
     "duration": 0.012441,
     "end_time": "2025-05-22T16:18:04.725260",
     "exception": false,
     "start_time": "2025-05-22T16:18:04.712819",
     "status": "completed"
    },
    "tags": []
   },
   "outputs": [],
   "source": [
    "#train_data.drop(['Sex','Age','Height','Weight','Duration','Heart_Rate','Body_Temp'], axis=1)"
   ]
  },
  {
   "cell_type": "code",
   "execution_count": 14,
   "id": "8d69af7e",
   "metadata": {
    "execution": {
     "iopub.execute_input": "2025-05-22T16:18:04.737868Z",
     "iopub.status.busy": "2025-05-22T16:18:04.736013Z",
     "iopub.status.idle": "2025-05-22T16:18:04.829630Z",
     "shell.execute_reply": "2025-05-22T16:18:04.828487Z"
    },
    "papermill": {
     "duration": 0.10168,
     "end_time": "2025-05-22T16:18:04.831763",
     "exception": false,
     "start_time": "2025-05-22T16:18:04.730083",
     "status": "completed"
    },
    "tags": []
   },
   "outputs": [],
   "source": [
    "X = train_data.drop(['Calories'], axis=1)\n",
    "y = train_data['Calories']"
   ]
  },
  {
   "cell_type": "code",
   "execution_count": 15,
   "id": "c1797e78",
   "metadata": {
    "execution": {
     "iopub.execute_input": "2025-05-22T16:18:04.843210Z",
     "iopub.status.busy": "2025-05-22T16:18:04.842918Z",
     "iopub.status.idle": "2025-05-22T16:18:05.429682Z",
     "shell.execute_reply": "2025-05-22T16:18:05.428691Z"
    },
    "papermill": {
     "duration": 0.594424,
     "end_time": "2025-05-22T16:18:05.431706",
     "exception": false,
     "start_time": "2025-05-22T16:18:04.837282",
     "status": "completed"
    },
    "tags": []
   },
   "outputs": [],
   "source": [
    "from sklearn.model_selection import train_test_split\n",
    "from sklearn.linear_model import LinearRegression\n",
    "from sklearn.metrics import r2_score, mean_squared_error\n",
    "from sklearn.pipeline import Pipeline"
   ]
  },
  {
   "cell_type": "code",
   "execution_count": 16,
   "id": "39ba0c49",
   "metadata": {
    "execution": {
     "iopub.execute_input": "2025-05-22T16:18:05.443111Z",
     "iopub.status.busy": "2025-05-22T16:18:05.442779Z",
     "iopub.status.idle": "2025-05-22T16:18:05.764397Z",
     "shell.execute_reply": "2025-05-22T16:18:05.763139Z"
    },
    "papermill": {
     "duration": 0.329255,
     "end_time": "2025-05-22T16:18:05.766360",
     "exception": false,
     "start_time": "2025-05-22T16:18:05.437105",
     "status": "completed"
    },
    "tags": []
   },
   "outputs": [],
   "source": [
    "X_train, X_test, y_train, y_test = train_test_split(X, y, test_size=0.2, random_state=42)"
   ]
  },
  {
   "cell_type": "code",
   "execution_count": 17,
   "id": "1c4d71f7",
   "metadata": {
    "execution": {
     "iopub.execute_input": "2025-05-22T16:18:05.777025Z",
     "iopub.status.busy": "2025-05-22T16:18:05.776726Z",
     "iopub.status.idle": "2025-05-22T16:18:06.629681Z",
     "shell.execute_reply": "2025-05-22T16:18:06.628738Z"
    },
    "papermill": {
     "duration": 0.860381,
     "end_time": "2025-05-22T16:18:06.631476",
     "exception": false,
     "start_time": "2025-05-22T16:18:05.771095",
     "status": "completed"
    },
    "tags": []
   },
   "outputs": [
    {
     "name": "stdout",
     "output_type": "stream",
     "text": [
      "LinearRegression → R²: 0.9898, RMSE: 6.30\n"
     ]
    }
   ],
   "source": [
    "lr_model = LinearRegression()\n",
    "lr_model.fit(X_train, y_train)\n",
    "lr_model.score(X_test, y_test) \n",
    "y_pred = lr_model.predict(X_test)\n",
    "print(f\"LinearRegression → R²: {r2_score(y_test, y_pred):.4f}, RMSE: {mean_squared_error(y_test, y_pred, squared=False):.2f}\")"
   ]
  },
  {
   "cell_type": "code",
   "execution_count": 18,
   "id": "eb4efdb3",
   "metadata": {
    "execution": {
     "iopub.execute_input": "2025-05-22T16:18:06.642432Z",
     "iopub.status.busy": "2025-05-22T16:18:06.641876Z",
     "iopub.status.idle": "2025-05-22T16:18:07.357135Z",
     "shell.execute_reply": "2025-05-22T16:18:07.356049Z"
    },
    "papermill": {
     "duration": 0.72279,
     "end_time": "2025-05-22T16:18:07.358992",
     "exception": false,
     "start_time": "2025-05-22T16:18:06.636202",
     "status": "completed"
    },
    "tags": []
   },
   "outputs": [
    {
     "name": "stderr",
     "output_type": "stream",
     "text": [
      "/tmp/ipykernel_13/1132734480.py:1: FutureWarning: Downcasting behavior in `replace` is deprecated and will be removed in a future version. To retain the old behavior, explicitly call `result.infer_objects(copy=False)`. To opt-in to the future behavior, set `pd.set_option('future.no_silent_downcasting', True)`\n",
      "  test_data['Sex'] = test_data['Sex'].replace(gender_map)\n"
     ]
    }
   ],
   "source": [
    "test_data['Sex'] = test_data['Sex'].replace(gender_map)\n",
    "test_ids = test_data['id']\n",
    "X_test_final = test_data.drop('id', axis=1)\n",
    "\n",
    "\n",
    "test_predictions = lr_model.predict(X_test_final)\n",
    "test_predictions = np.maximum(0, test_predictions)\n",
    "\n",
    "submission = pd.DataFrame({\n",
    "    'id': test_ids,\n",
    "    'Calories': test_predictions\n",
    "})\n",
    "submission.to_csv('submission.csv', index=False)"
   ]
  },
  {
   "cell_type": "code",
   "execution_count": 19,
   "id": "ddaa6348",
   "metadata": {
    "execution": {
     "iopub.execute_input": "2025-05-22T16:18:07.370305Z",
     "iopub.status.busy": "2025-05-22T16:18:07.369815Z",
     "iopub.status.idle": "2025-05-22T16:18:07.376125Z",
     "shell.execute_reply": "2025-05-22T16:18:07.375289Z"
    },
    "papermill": {
     "duration": 0.013235,
     "end_time": "2025-05-22T16:18:07.377465",
     "exception": false,
     "start_time": "2025-05-22T16:18:07.364230",
     "status": "completed"
    },
    "tags": []
   },
   "outputs": [
    {
     "data": {
      "text/plain": [
       "array([203.06867921,  66.42237769,  42.50516994, ...,  33.74200102,\n",
       "        32.85884037, 177.44853624])"
      ]
     },
     "execution_count": 19,
     "metadata": {},
     "output_type": "execute_result"
    }
   ],
   "source": [
    "y_pred"
   ]
  },
  {
   "cell_type": "code",
   "execution_count": 20,
   "id": "41916eb0",
   "metadata": {
    "execution": {
     "iopub.execute_input": "2025-05-22T16:18:07.389247Z",
     "iopub.status.busy": "2025-05-22T16:18:07.388809Z",
     "iopub.status.idle": "2025-05-22T16:18:07.399377Z",
     "shell.execute_reply": "2025-05-22T16:18:07.398399Z"
    },
    "papermill": {
     "duration": 0.019037,
     "end_time": "2025-05-22T16:18:07.401479",
     "exception": false,
     "start_time": "2025-05-22T16:18:07.382442",
     "status": "completed"
    },
    "tags": []
   },
   "outputs": [
    {
     "data": {
      "text/html": [
       "<div>\n",
       "<style scoped>\n",
       "    .dataframe tbody tr th:only-of-type {\n",
       "        vertical-align: middle;\n",
       "    }\n",
       "\n",
       "    .dataframe tbody tr th {\n",
       "        vertical-align: top;\n",
       "    }\n",
       "\n",
       "    .dataframe thead th {\n",
       "        text-align: right;\n",
       "    }\n",
       "</style>\n",
       "<table border=\"1\" class=\"dataframe\">\n",
       "  <thead>\n",
       "    <tr style=\"text-align: right;\">\n",
       "      <th></th>\n",
       "      <th>id</th>\n",
       "      <th>Calories</th>\n",
       "    </tr>\n",
       "  </thead>\n",
       "  <tbody>\n",
       "    <tr>\n",
       "      <th>0</th>\n",
       "      <td>750000</td>\n",
       "      <td>28.834309</td>\n",
       "    </tr>\n",
       "    <tr>\n",
       "      <th>1</th>\n",
       "      <td>750001</td>\n",
       "      <td>110.552432</td>\n",
       "    </tr>\n",
       "    <tr>\n",
       "      <th>2</th>\n",
       "      <td>750002</td>\n",
       "      <td>88.440191</td>\n",
       "    </tr>\n",
       "    <tr>\n",
       "      <th>3</th>\n",
       "      <td>750003</td>\n",
       "      <td>129.097957</td>\n",
       "    </tr>\n",
       "    <tr>\n",
       "      <th>4</th>\n",
       "      <td>750004</td>\n",
       "      <td>75.748380</td>\n",
       "    </tr>\n",
       "    <tr>\n",
       "      <th>...</th>\n",
       "      <td>...</td>\n",
       "      <td>...</td>\n",
       "    </tr>\n",
       "    <tr>\n",
       "      <th>249995</th>\n",
       "      <td>999995</td>\n",
       "      <td>23.829629</td>\n",
       "    </tr>\n",
       "    <tr>\n",
       "      <th>249996</th>\n",
       "      <td>999996</td>\n",
       "      <td>14.321549</td>\n",
       "    </tr>\n",
       "    <tr>\n",
       "      <th>249997</th>\n",
       "      <td>999997</td>\n",
       "      <td>70.628803</td>\n",
       "    </tr>\n",
       "    <tr>\n",
       "      <th>249998</th>\n",
       "      <td>999998</td>\n",
       "      <td>175.223137</td>\n",
       "    </tr>\n",
       "    <tr>\n",
       "      <th>249999</th>\n",
       "      <td>999999</td>\n",
       "      <td>79.076244</td>\n",
       "    </tr>\n",
       "  </tbody>\n",
       "</table>\n",
       "<p>250000 rows × 2 columns</p>\n",
       "</div>"
      ],
      "text/plain": [
       "            id    Calories\n",
       "0       750000   28.834309\n",
       "1       750001  110.552432\n",
       "2       750002   88.440191\n",
       "3       750003  129.097957\n",
       "4       750004   75.748380\n",
       "...        ...         ...\n",
       "249995  999995   23.829629\n",
       "249996  999996   14.321549\n",
       "249997  999997   70.628803\n",
       "249998  999998  175.223137\n",
       "249999  999999   79.076244\n",
       "\n",
       "[250000 rows x 2 columns]"
      ]
     },
     "execution_count": 20,
     "metadata": {},
     "output_type": "execute_result"
    }
   ],
   "source": [
    "submission"
   ]
  }
 ],
 "metadata": {
  "kaggle": {
   "accelerator": "none",
   "dataSources": [
    {
     "databundleVersionId": 11893428,
     "sourceId": 91716,
     "sourceType": "competition"
    }
   ],
   "dockerImageVersionId": 31040,
   "isGpuEnabled": false,
   "isInternetEnabled": true,
   "language": "python",
   "sourceType": "notebook"
  },
  "kernelspec": {
   "display_name": "Python 3",
   "language": "python",
   "name": "python3"
  },
  "language_info": {
   "codemirror_mode": {
    "name": "ipython",
    "version": 3
   },
   "file_extension": ".py",
   "mimetype": "text/x-python",
   "name": "python",
   "nbconvert_exporter": "python",
   "pygments_lexer": "ipython3",
   "version": "3.11.11"
  },
  "papermill": {
   "default_parameters": {},
   "duration": 15.837108,
   "end_time": "2025-05-22T16:18:08.129799",
   "environment_variables": {},
   "exception": null,
   "input_path": "__notebook__.ipynb",
   "output_path": "__notebook__.ipynb",
   "parameters": {},
   "start_time": "2025-05-22T16:17:52.292691",
   "version": "2.6.0"
  }
 },
 "nbformat": 4,
 "nbformat_minor": 5
}
