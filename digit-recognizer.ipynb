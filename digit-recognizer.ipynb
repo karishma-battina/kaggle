{
 "cells": [
  {
   "cell_type": "code",
   "execution_count": 1,
   "id": "86fbc2d5",
   "metadata": {
    "_cell_guid": "b1076dfc-b9ad-4769-8c92-a6c4dae69d19",
    "_uuid": "8f2839f25d086af736a60e9eeb907d3b93b6e0e5",
    "execution": {
     "iopub.execute_input": "2025-02-10T18:12:40.034955Z",
     "iopub.status.busy": "2025-02-10T18:12:40.034446Z",
     "iopub.status.idle": "2025-02-10T18:12:41.039747Z",
     "shell.execute_reply": "2025-02-10T18:12:41.038598Z"
    },
    "papermill": {
     "duration": 1.0122,
     "end_time": "2025-02-10T18:12:41.041640",
     "exception": false,
     "start_time": "2025-02-10T18:12:40.029440",
     "status": "completed"
    },
    "tags": []
   },
   "outputs": [
    {
     "name": "stdout",
     "output_type": "stream",
     "text": [
      "/kaggle/input/digit-recognizer/sample_submission.csv\n",
      "/kaggle/input/digit-recognizer/train.csv\n",
      "/kaggle/input/digit-recognizer/test.csv\n"
     ]
    }
   ],
   "source": [
    "import numpy as np # linear algebra\n",
    "import pandas as pd # data processing, CSV file I/O (e.g. pd.read_csv)\n",
    "\n",
    "import os\n",
    "for dirname, _, filenames in os.walk('/kaggle/input'):\n",
    "    for filename in filenames:\n",
    "        print(os.path.join(dirname, filename))"
   ]
  },
  {
   "cell_type": "code",
   "execution_count": 2,
   "id": "25688228",
   "metadata": {
    "execution": {
     "iopub.execute_input": "2025-02-10T18:12:41.050574Z",
     "iopub.status.busy": "2025-02-10T18:12:41.050028Z",
     "iopub.status.idle": "2025-02-10T18:12:58.717918Z",
     "shell.execute_reply": "2025-02-10T18:12:58.716653Z"
    },
    "papermill": {
     "duration": 17.674297,
     "end_time": "2025-02-10T18:12:58.719910",
     "exception": false,
     "start_time": "2025-02-10T18:12:41.045613",
     "status": "completed"
    },
    "tags": []
   },
   "outputs": [],
   "source": [
    "import numpy as np\n",
    "import pandas as pd\n",
    "import matplotlib.pyplot as plt\n",
    "import seaborn as sns\n",
    "import tensorflow as tf\n",
    "from tensorflow.python import keras\n",
    "from tensorflow.keras.models import Sequential\n",
    "from tensorflow.keras.layers import Dense, Dropout, Flatten, Conv2D, MaxPooling2D\n",
    "from sklearn.model_selection import train_test_split\n",
    "from tensorflow.keras.utils import to_categorical"
   ]
  },
  {
   "cell_type": "code",
   "execution_count": 3,
   "id": "503e737f",
   "metadata": {
    "execution": {
     "iopub.execute_input": "2025-02-10T18:12:58.728325Z",
     "iopub.status.busy": "2025-02-10T18:12:58.727647Z",
     "iopub.status.idle": "2025-02-10T18:12:58.733457Z",
     "shell.execute_reply": "2025-02-10T18:12:58.732401Z"
    },
    "papermill": {
     "duration": 0.01161,
     "end_time": "2025-02-10T18:12:58.735008",
     "exception": false,
     "start_time": "2025-02-10T18:12:58.723398",
     "status": "completed"
    },
    "tags": []
   },
   "outputs": [],
   "source": [
    "img_rows, img_cols = 28, 28\n",
    "num_classes = 10\n",
    "\n",
    "def data_prep(raw):\n",
    "    out_y = to_categorical(raw.label, num_classes)\n",
    "\n",
    "    num_images = raw.shape[0]\n",
    "    x_as_array = raw.values[:,1:]\n",
    "    x_shaped_array = x_as_array.reshape(num_images, img_rows, img_cols, 1)\n",
    "    out_x = x_shaped_array / 255\n",
    "    return out_x, out_y"
   ]
  },
  {
   "cell_type": "code",
   "execution_count": 4,
   "id": "d36aca4b",
   "metadata": {
    "execution": {
     "iopub.execute_input": "2025-02-10T18:12:58.742876Z",
     "iopub.status.busy": "2025-02-10T18:12:58.742523Z",
     "iopub.status.idle": "2025-02-10T18:13:02.307892Z",
     "shell.execute_reply": "2025-02-10T18:13:02.306196Z"
    },
    "papermill": {
     "duration": 3.5718,
     "end_time": "2025-02-10T18:13:02.310224",
     "exception": false,
     "start_time": "2025-02-10T18:12:58.738424",
     "status": "completed"
    },
    "tags": []
   },
   "outputs": [],
   "source": [
    "train_file = \"/kaggle/input/digit-recognizer/train.csv\"\n",
    "raw_data = pd.read_csv(train_file)\n",
    "\n",
    "x, y = data_prep(raw_data)"
   ]
  },
  {
   "cell_type": "code",
   "execution_count": 5,
   "id": "09643428",
   "metadata": {
    "execution": {
     "iopub.execute_input": "2025-02-10T18:13:02.318598Z",
     "iopub.status.busy": "2025-02-10T18:13:02.318189Z",
     "iopub.status.idle": "2025-02-10T18:13:02.325404Z",
     "shell.execute_reply": "2025-02-10T18:13:02.324239Z"
    },
    "papermill": {
     "duration": 0.013516,
     "end_time": "2025-02-10T18:13:02.327222",
     "exception": false,
     "start_time": "2025-02-10T18:13:02.313706",
     "status": "completed"
    },
    "tags": []
   },
   "outputs": [
    {
     "data": {
      "text/plain": [
       "((42000, 28, 28, 1), (42000, 10))"
      ]
     },
     "execution_count": 5,
     "metadata": {},
     "output_type": "execute_result"
    }
   ],
   "source": [
    "x.shape, y.shape"
   ]
  },
  {
   "cell_type": "code",
   "execution_count": null,
   "id": "40803feb",
   "metadata": {
    "papermill": {
     "duration": 0.003058,
     "end_time": "2025-02-10T18:13:02.333922",
     "exception": false,
     "start_time": "2025-02-10T18:13:02.330864",
     "status": "completed"
    },
    "tags": []
   },
   "outputs": [],
   "source": []
  },
  {
   "cell_type": "code",
   "execution_count": 6,
   "id": "2b8b6691",
   "metadata": {
    "execution": {
     "iopub.execute_input": "2025-02-10T18:13:02.341936Z",
     "iopub.status.busy": "2025-02-10T18:13:02.341565Z",
     "iopub.status.idle": "2025-02-10T18:13:02.472682Z",
     "shell.execute_reply": "2025-02-10T18:13:02.471484Z"
    },
    "papermill": {
     "duration": 0.137534,
     "end_time": "2025-02-10T18:13:02.474827",
     "exception": false,
     "start_time": "2025-02-10T18:13:02.337293",
     "status": "completed"
    },
    "tags": []
   },
   "outputs": [
    {
     "name": "stderr",
     "output_type": "stream",
     "text": [
      "/usr/local/lib/python3.10/dist-packages/keras/src/layers/convolutional/base_conv.py:107: UserWarning: Do not pass an `input_shape`/`input_dim` argument to a layer. When using Sequential models, prefer using an `Input(shape)` object as the first layer in the model instead.\n",
      "  super().__init__(activity_regularizer=activity_regularizer, **kwargs)\n"
     ]
    }
   ],
   "source": [
    "model = Sequential()\n",
    "model.add(Conv2D(20, kernel_size=(3, 3),\n",
    "                 activation='relu',\n",
    "                 input_shape=(img_rows, img_cols, 1)))\n",
    "model.add(Conv2D(20, kernel_size=(3, 3), activation='relu'))\n",
    "model.add(Flatten())\n",
    "model.add(Dense(128, activation='relu'))\n",
    "model.add(Dense(num_classes, activation='softmax'))"
   ]
  },
  {
   "cell_type": "code",
   "execution_count": 7,
   "id": "4a457686",
   "metadata": {
    "execution": {
     "iopub.execute_input": "2025-02-10T18:13:02.483474Z",
     "iopub.status.busy": "2025-02-10T18:13:02.483039Z",
     "iopub.status.idle": "2025-02-10T18:13:02.499252Z",
     "shell.execute_reply": "2025-02-10T18:13:02.497791Z"
    },
    "papermill": {
     "duration": 0.022949,
     "end_time": "2025-02-10T18:13:02.501433",
     "exception": false,
     "start_time": "2025-02-10T18:13:02.478484",
     "status": "completed"
    },
    "tags": []
   },
   "outputs": [],
   "source": [
    "model.compile(loss=keras.losses.categorical_crossentropy,\n",
    "              optimizer='adam',\n",
    "              metrics=['accuracy'])"
   ]
  },
  {
   "cell_type": "code",
   "execution_count": 8,
   "id": "a0b51fd7",
   "metadata": {
    "execution": {
     "iopub.execute_input": "2025-02-10T18:13:02.510607Z",
     "iopub.status.busy": "2025-02-10T18:13:02.510232Z",
     "iopub.status.idle": "2025-02-10T18:13:44.518878Z",
     "shell.execute_reply": "2025-02-10T18:13:44.517332Z"
    },
    "papermill": {
     "duration": 42.015359,
     "end_time": "2025-02-10T18:13:44.520800",
     "exception": false,
     "start_time": "2025-02-10T18:13:02.505441",
     "status": "completed"
    },
    "tags": []
   },
   "outputs": [
    {
     "name": "stdout",
     "output_type": "stream",
     "text": [
      "Epoch 1/2\n",
      "\u001b[1m263/263\u001b[0m \u001b[32m━━━━━━━━━━━━━━━━━━━━\u001b[0m\u001b[37m\u001b[0m \u001b[1m21s\u001b[0m 74ms/step - accuracy: 0.8614 - loss: 0.4536 - val_accuracy: 0.9757 - val_loss: 0.0769\n",
      "Epoch 2/2\n",
      "\u001b[1m263/263\u001b[0m \u001b[32m━━━━━━━━━━━━━━━━━━━━\u001b[0m\u001b[37m\u001b[0m \u001b[1m19s\u001b[0m 71ms/step - accuracy: 0.9815 - loss: 0.0605 - val_accuracy: 0.9774 - val_loss: 0.0728\n"
     ]
    },
    {
     "data": {
      "text/plain": [
       "<keras.src.callbacks.history.History at 0x7fd12ceb9780>"
      ]
     },
     "execution_count": 8,
     "metadata": {},
     "output_type": "execute_result"
    }
   ],
   "source": [
    "model.fit(x, y,\n",
    "          batch_size=128,\n",
    "          epochs=2,\n",
    "          validation_split = 0.2)"
   ]
  },
  {
   "cell_type": "code",
   "execution_count": 9,
   "id": "c0ea5e6f",
   "metadata": {
    "execution": {
     "iopub.execute_input": "2025-02-10T18:13:44.598727Z",
     "iopub.status.busy": "2025-02-10T18:13:44.598333Z",
     "iopub.status.idle": "2025-02-10T18:13:46.526940Z",
     "shell.execute_reply": "2025-02-10T18:13:46.525773Z"
    },
    "papermill": {
     "duration": 1.97001,
     "end_time": "2025-02-10T18:13:46.528969",
     "exception": false,
     "start_time": "2025-02-10T18:13:44.558959",
     "status": "completed"
    },
    "tags": []
   },
   "outputs": [],
   "source": [
    "test = pd.read_csv(\"/kaggle/input/digit-recognizer/test.csv\")\n",
    "X_test = test.values.reshape(-1, 28, 28, 1) / 255.0"
   ]
  },
  {
   "cell_type": "code",
   "execution_count": 10,
   "id": "f09fca90",
   "metadata": {
    "execution": {
     "iopub.execute_input": "2025-02-10T18:13:46.597589Z",
     "iopub.status.busy": "2025-02-10T18:13:46.597247Z",
     "iopub.status.idle": "2025-02-10T18:13:54.014700Z",
     "shell.execute_reply": "2025-02-10T18:13:54.013401Z"
    },
    "papermill": {
     "duration": 7.455006,
     "end_time": "2025-02-10T18:13:54.016981",
     "exception": false,
     "start_time": "2025-02-10T18:13:46.561975",
     "status": "completed"
    },
    "tags": []
   },
   "outputs": [
    {
     "name": "stdout",
     "output_type": "stream",
     "text": [
      "\u001b[1m875/875\u001b[0m \u001b[32m━━━━━━━━━━━━━━━━━━━━\u001b[0m\u001b[37m\u001b[0m \u001b[1m7s\u001b[0m 8ms/step\n"
     ]
    }
   ],
   "source": [
    "y_pred = np.argmax(model.predict(X_test), axis=1)\n",
    "\n",
    "# Save submission\n",
    "submission = pd.DataFrame({'ImageId': np.arange(1, len(y_pred) + 1), 'Label': y_pred})\n",
    "submission.to_csv('submission.csv', index=False)"
   ]
  },
  {
   "cell_type": "code",
   "execution_count": null,
   "id": "bd7cbfba",
   "metadata": {
    "papermill": {
     "duration": 0.039244,
     "end_time": "2025-02-10T18:13:54.096705",
     "exception": false,
     "start_time": "2025-02-10T18:13:54.057461",
     "status": "completed"
    },
    "tags": []
   },
   "outputs": [],
   "source": []
  }
 ],
 "metadata": {
  "kaggle": {
   "accelerator": "none",
   "dataSources": [
    {
     "databundleVersionId": 861823,
     "sourceId": 3004,
     "sourceType": "competition"
    }
   ],
   "dockerImageVersionId": 30886,
   "isGpuEnabled": false,
   "isInternetEnabled": true,
   "language": "python",
   "sourceType": "notebook"
  },
  "kernelspec": {
   "display_name": "Python 3",
   "language": "python",
   "name": "python3"
  },
  "language_info": {
   "codemirror_mode": {
    "name": "ipython",
    "version": 3
   },
   "file_extension": ".py",
   "mimetype": "text/x-python",
   "name": "python",
   "nbconvert_exporter": "python",
   "pygments_lexer": "ipython3",
   "version": "3.10.12"
  },
  "papermill": {
   "default_parameters": {},
   "duration": 79.657554,
   "end_time": "2025-02-10T18:13:56.768565",
   "environment_variables": {},
   "exception": null,
   "input_path": "__notebook__.ipynb",
   "output_path": "__notebook__.ipynb",
   "parameters": {},
   "start_time": "2025-02-10T18:12:37.111011",
   "version": "2.6.0"
  }
 },
 "nbformat": 4,
 "nbformat_minor": 5
}
