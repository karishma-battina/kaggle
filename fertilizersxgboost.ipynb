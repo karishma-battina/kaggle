{
 "cells": [
  {
   "cell_type": "code",
   "execution_count": 1,
   "id": "f52f9bde",
   "metadata": {
    "_cell_guid": "b1076dfc-b9ad-4769-8c92-a6c4dae69d19",
    "_uuid": "8f2839f25d086af736a60e9eeb907d3b93b6e0e5",
    "execution": {
     "iopub.execute_input": "2025-06-09T15:12:28.198072Z",
     "iopub.status.busy": "2025-06-09T15:12:28.197730Z",
     "iopub.status.idle": "2025-06-09T15:12:32.214339Z",
     "shell.execute_reply": "2025-06-09T15:12:32.213180Z"
    },
    "papermill": {
     "duration": 4.024274,
     "end_time": "2025-06-09T15:12:32.216415",
     "exception": false,
     "start_time": "2025-06-09T15:12:28.192141",
     "status": "completed"
    },
    "tags": []
   },
   "outputs": [],
   "source": [
    "import numpy as np\n",
    "import pandas as pd\n",
    "import seaborn as sns\n",
    "import matplotlib.pyplot as plt"
   ]
  },
  {
   "cell_type": "code",
   "execution_count": 2,
   "id": "9d09699e",
   "metadata": {
    "execution": {
     "iopub.execute_input": "2025-06-09T15:12:32.227829Z",
     "iopub.status.busy": "2025-06-09T15:12:32.226578Z",
     "iopub.status.idle": "2025-06-09T15:12:33.700432Z",
     "shell.execute_reply": "2025-06-09T15:12:33.699553Z"
    },
    "papermill": {
     "duration": 1.481525,
     "end_time": "2025-06-09T15:12:33.702128",
     "exception": false,
     "start_time": "2025-06-09T15:12:32.220603",
     "status": "completed"
    },
    "tags": []
   },
   "outputs": [],
   "source": [
    "train_data = pd.read_csv(\"/kaggle/input/playground-series-s5e6/train.csv\")\n",
    "test_data = pd.read_csv(\"/kaggle/input/playground-series-s5e6/test.csv\")"
   ]
  },
  {
   "cell_type": "code",
   "execution_count": 3,
   "id": "18181bdb",
   "metadata": {
    "execution": {
     "iopub.execute_input": "2025-06-09T15:12:33.710272Z",
     "iopub.status.busy": "2025-06-09T15:12:33.709930Z",
     "iopub.status.idle": "2025-06-09T15:12:33.714263Z",
     "shell.execute_reply": "2025-06-09T15:12:33.713279Z"
    },
    "papermill": {
     "duration": 0.010433,
     "end_time": "2025-06-09T15:12:33.716120",
     "exception": false,
     "start_time": "2025-06-09T15:12:33.705687",
     "status": "completed"
    },
    "tags": []
   },
   "outputs": [],
   "source": [
    "train_copy, test_copy = train_data, test_data"
   ]
  },
  {
   "cell_type": "code",
   "execution_count": 4,
   "id": "5cc217a4",
   "metadata": {
    "execution": {
     "iopub.execute_input": "2025-06-09T15:12:33.724079Z",
     "iopub.status.busy": "2025-06-09T15:12:33.723765Z",
     "iopub.status.idle": "2025-06-09T15:12:33.782759Z",
     "shell.execute_reply": "2025-06-09T15:12:33.781551Z"
    },
    "papermill": {
     "duration": 0.065042,
     "end_time": "2025-06-09T15:12:33.784630",
     "exception": false,
     "start_time": "2025-06-09T15:12:33.719588",
     "status": "completed"
    },
    "tags": []
   },
   "outputs": [
    {
     "data": {
      "text/html": [
       "<div>\n",
       "<style scoped>\n",
       "    .dataframe tbody tr th:only-of-type {\n",
       "        vertical-align: middle;\n",
       "    }\n",
       "\n",
       "    .dataframe tbody tr th {\n",
       "        vertical-align: top;\n",
       "    }\n",
       "\n",
       "    .dataframe thead th {\n",
       "        text-align: right;\n",
       "    }\n",
       "</style>\n",
       "<table border=\"1\" class=\"dataframe\">\n",
       "  <thead>\n",
       "    <tr style=\"text-align: right;\">\n",
       "      <th></th>\n",
       "      <th>id</th>\n",
       "      <th>Temparature</th>\n",
       "      <th>Humidity</th>\n",
       "      <th>Moisture</th>\n",
       "      <th>Soil Type</th>\n",
       "      <th>Crop Type</th>\n",
       "      <th>Nitrogen</th>\n",
       "      <th>Potassium</th>\n",
       "      <th>Phosphorous</th>\n",
       "      <th>Fertilizer Name</th>\n",
       "    </tr>\n",
       "  </thead>\n",
       "  <tbody>\n",
       "    <tr>\n",
       "      <th>250413</th>\n",
       "      <td>250413</td>\n",
       "      <td>32</td>\n",
       "      <td>66</td>\n",
       "      <td>52</td>\n",
       "      <td>Loamy</td>\n",
       "      <td>Millets</td>\n",
       "      <td>42</td>\n",
       "      <td>3</td>\n",
       "      <td>4</td>\n",
       "      <td>10-26-26</td>\n",
       "    </tr>\n",
       "    <tr>\n",
       "      <th>690756</th>\n",
       "      <td>690756</td>\n",
       "      <td>27</td>\n",
       "      <td>60</td>\n",
       "      <td>47</td>\n",
       "      <td>Black</td>\n",
       "      <td>Tobacco</td>\n",
       "      <td>15</td>\n",
       "      <td>13</td>\n",
       "      <td>16</td>\n",
       "      <td>14-35-14</td>\n",
       "    </tr>\n",
       "    <tr>\n",
       "      <th>74795</th>\n",
       "      <td>74795</td>\n",
       "      <td>29</td>\n",
       "      <td>56</td>\n",
       "      <td>26</td>\n",
       "      <td>Clayey</td>\n",
       "      <td>Barley</td>\n",
       "      <td>6</td>\n",
       "      <td>9</td>\n",
       "      <td>20</td>\n",
       "      <td>20-20</td>\n",
       "    </tr>\n",
       "    <tr>\n",
       "      <th>58127</th>\n",
       "      <td>58127</td>\n",
       "      <td>26</td>\n",
       "      <td>55</td>\n",
       "      <td>53</td>\n",
       "      <td>Red</td>\n",
       "      <td>Paddy</td>\n",
       "      <td>36</td>\n",
       "      <td>14</td>\n",
       "      <td>42</td>\n",
       "      <td>28-28</td>\n",
       "    </tr>\n",
       "    <tr>\n",
       "      <th>598890</th>\n",
       "      <td>598890</td>\n",
       "      <td>36</td>\n",
       "      <td>71</td>\n",
       "      <td>55</td>\n",
       "      <td>Black</td>\n",
       "      <td>Tobacco</td>\n",
       "      <td>26</td>\n",
       "      <td>9</td>\n",
       "      <td>42</td>\n",
       "      <td>17-17-17</td>\n",
       "    </tr>\n",
       "  </tbody>\n",
       "</table>\n",
       "</div>"
      ],
      "text/plain": [
       "            id  Temparature  Humidity  Moisture Soil Type Crop Type  Nitrogen  \\\n",
       "250413  250413           32        66        52     Loamy   Millets        42   \n",
       "690756  690756           27        60        47     Black   Tobacco        15   \n",
       "74795    74795           29        56        26    Clayey    Barley         6   \n",
       "58127    58127           26        55        53       Red     Paddy        36   \n",
       "598890  598890           36        71        55     Black   Tobacco        26   \n",
       "\n",
       "        Potassium  Phosphorous Fertilizer Name  \n",
       "250413          3            4        10-26-26  \n",
       "690756         13           16        14-35-14  \n",
       "74795           9           20           20-20  \n",
       "58127          14           42           28-28  \n",
       "598890          9           42        17-17-17  "
      ]
     },
     "execution_count": 4,
     "metadata": {},
     "output_type": "execute_result"
    }
   ],
   "source": [
    "train_data.sample(5)"
   ]
  },
  {
   "cell_type": "code",
   "execution_count": 5,
   "id": "cb380a32",
   "metadata": {
    "execution": {
     "iopub.execute_input": "2025-06-09T15:12:33.793244Z",
     "iopub.status.busy": "2025-06-09T15:12:33.792908Z",
     "iopub.status.idle": "2025-06-09T15:12:33.811576Z",
     "shell.execute_reply": "2025-06-09T15:12:33.810642Z"
    },
    "papermill": {
     "duration": 0.024696,
     "end_time": "2025-06-09T15:12:33.813140",
     "exception": false,
     "start_time": "2025-06-09T15:12:33.788444",
     "status": "completed"
    },
    "tags": []
   },
   "outputs": [
    {
     "data": {
      "text/html": [
       "<div>\n",
       "<style scoped>\n",
       "    .dataframe tbody tr th:only-of-type {\n",
       "        vertical-align: middle;\n",
       "    }\n",
       "\n",
       "    .dataframe tbody tr th {\n",
       "        vertical-align: top;\n",
       "    }\n",
       "\n",
       "    .dataframe thead th {\n",
       "        text-align: right;\n",
       "    }\n",
       "</style>\n",
       "<table border=\"1\" class=\"dataframe\">\n",
       "  <thead>\n",
       "    <tr style=\"text-align: right;\">\n",
       "      <th></th>\n",
       "      <th>id</th>\n",
       "      <th>Temparature</th>\n",
       "      <th>Humidity</th>\n",
       "      <th>Moisture</th>\n",
       "      <th>Soil Type</th>\n",
       "      <th>Crop Type</th>\n",
       "      <th>Nitrogen</th>\n",
       "      <th>Potassium</th>\n",
       "      <th>Phosphorous</th>\n",
       "    </tr>\n",
       "  </thead>\n",
       "  <tbody>\n",
       "    <tr>\n",
       "      <th>231804</th>\n",
       "      <td>981804</td>\n",
       "      <td>37</td>\n",
       "      <td>72</td>\n",
       "      <td>28</td>\n",
       "      <td>Sandy</td>\n",
       "      <td>Paddy</td>\n",
       "      <td>16</td>\n",
       "      <td>1</td>\n",
       "      <td>28</td>\n",
       "    </tr>\n",
       "    <tr>\n",
       "      <th>9737</th>\n",
       "      <td>759737</td>\n",
       "      <td>25</td>\n",
       "      <td>57</td>\n",
       "      <td>44</td>\n",
       "      <td>Sandy</td>\n",
       "      <td>Wheat</td>\n",
       "      <td>29</td>\n",
       "      <td>18</td>\n",
       "      <td>29</td>\n",
       "    </tr>\n",
       "    <tr>\n",
       "      <th>11016</th>\n",
       "      <td>761016</td>\n",
       "      <td>30</td>\n",
       "      <td>69</td>\n",
       "      <td>31</td>\n",
       "      <td>Loamy</td>\n",
       "      <td>Maize</td>\n",
       "      <td>23</td>\n",
       "      <td>4</td>\n",
       "      <td>31</td>\n",
       "    </tr>\n",
       "    <tr>\n",
       "      <th>211512</th>\n",
       "      <td>961512</td>\n",
       "      <td>28</td>\n",
       "      <td>53</td>\n",
       "      <td>27</td>\n",
       "      <td>Loamy</td>\n",
       "      <td>Paddy</td>\n",
       "      <td>29</td>\n",
       "      <td>12</td>\n",
       "      <td>23</td>\n",
       "    </tr>\n",
       "    <tr>\n",
       "      <th>23632</th>\n",
       "      <td>773632</td>\n",
       "      <td>37</td>\n",
       "      <td>60</td>\n",
       "      <td>51</td>\n",
       "      <td>Loamy</td>\n",
       "      <td>Paddy</td>\n",
       "      <td>6</td>\n",
       "      <td>7</td>\n",
       "      <td>37</td>\n",
       "    </tr>\n",
       "  </tbody>\n",
       "</table>\n",
       "</div>"
      ],
      "text/plain": [
       "            id  Temparature  Humidity  Moisture Soil Type Crop Type  Nitrogen  \\\n",
       "231804  981804           37        72        28     Sandy     Paddy        16   \n",
       "9737    759737           25        57        44     Sandy     Wheat        29   \n",
       "11016   761016           30        69        31     Loamy     Maize        23   \n",
       "211512  961512           28        53        27     Loamy     Paddy        29   \n",
       "23632   773632           37        60        51     Loamy     Paddy         6   \n",
       "\n",
       "        Potassium  Phosphorous  \n",
       "231804          1           28  \n",
       "9737           18           29  \n",
       "11016           4           31  \n",
       "211512         12           23  \n",
       "23632           7           37  "
      ]
     },
     "execution_count": 5,
     "metadata": {},
     "output_type": "execute_result"
    }
   ],
   "source": [
    "test_data.sample(5)"
   ]
  },
  {
   "cell_type": "code",
   "execution_count": 6,
   "id": "c05aff5f",
   "metadata": {
    "execution": {
     "iopub.execute_input": "2025-06-09T15:12:33.822546Z",
     "iopub.status.busy": "2025-06-09T15:12:33.821549Z",
     "iopub.status.idle": "2025-06-09T15:12:33.827820Z",
     "shell.execute_reply": "2025-06-09T15:12:33.826838Z"
    },
    "papermill": {
     "duration": 0.012374,
     "end_time": "2025-06-09T15:12:33.829346",
     "exception": false,
     "start_time": "2025-06-09T15:12:33.816972",
     "status": "completed"
    },
    "tags": []
   },
   "outputs": [
    {
     "data": {
      "text/plain": [
       "(750000, 10)"
      ]
     },
     "execution_count": 6,
     "metadata": {},
     "output_type": "execute_result"
    }
   ],
   "source": [
    "train_data.shape"
   ]
  },
  {
   "cell_type": "code",
   "execution_count": 7,
   "id": "3b014724",
   "metadata": {
    "execution": {
     "iopub.execute_input": "2025-06-09T15:12:33.838507Z",
     "iopub.status.busy": "2025-06-09T15:12:33.838120Z",
     "iopub.status.idle": "2025-06-09T15:12:33.844569Z",
     "shell.execute_reply": "2025-06-09T15:12:33.843740Z"
    },
    "papermill": {
     "duration": 0.012595,
     "end_time": "2025-06-09T15:12:33.846007",
     "exception": false,
     "start_time": "2025-06-09T15:12:33.833412",
     "status": "completed"
    },
    "tags": []
   },
   "outputs": [
    {
     "data": {
      "text/plain": [
       "(250000, 9)"
      ]
     },
     "execution_count": 7,
     "metadata": {},
     "output_type": "execute_result"
    }
   ],
   "source": [
    "test_data.shape"
   ]
  },
  {
   "cell_type": "code",
   "execution_count": 8,
   "id": "542a5180",
   "metadata": {
    "execution": {
     "iopub.execute_input": "2025-06-09T15:12:33.854946Z",
     "iopub.status.busy": "2025-06-09T15:12:33.854626Z",
     "iopub.status.idle": "2025-06-09T15:12:33.979133Z",
     "shell.execute_reply": "2025-06-09T15:12:33.978134Z"
    },
    "papermill": {
     "duration": 0.130713,
     "end_time": "2025-06-09T15:12:33.980674",
     "exception": false,
     "start_time": "2025-06-09T15:12:33.849961",
     "status": "completed"
    },
    "tags": []
   },
   "outputs": [
    {
     "data": {
      "text/plain": [
       "id                 0\n",
       "Temparature        0\n",
       "Humidity           0\n",
       "Moisture           0\n",
       "Soil Type          0\n",
       "Crop Type          0\n",
       "Nitrogen           0\n",
       "Potassium          0\n",
       "Phosphorous        0\n",
       "Fertilizer Name    0\n",
       "dtype: int64"
      ]
     },
     "execution_count": 8,
     "metadata": {},
     "output_type": "execute_result"
    }
   ],
   "source": [
    "train_data.isnull().sum()"
   ]
  },
  {
   "cell_type": "code",
   "execution_count": 9,
   "id": "3f66e0e6",
   "metadata": {
    "execution": {
     "iopub.execute_input": "2025-06-09T15:12:33.989854Z",
     "iopub.status.busy": "2025-06-09T15:12:33.989559Z",
     "iopub.status.idle": "2025-06-09T15:12:34.026663Z",
     "shell.execute_reply": "2025-06-09T15:12:34.025746Z"
    },
    "papermill": {
     "duration": 0.043517,
     "end_time": "2025-06-09T15:12:34.028386",
     "exception": false,
     "start_time": "2025-06-09T15:12:33.984869",
     "status": "completed"
    },
    "tags": []
   },
   "outputs": [
    {
     "data": {
      "text/plain": [
       "id             0\n",
       "Temparature    0\n",
       "Humidity       0\n",
       "Moisture       0\n",
       "Soil Type      0\n",
       "Crop Type      0\n",
       "Nitrogen       0\n",
       "Potassium      0\n",
       "Phosphorous    0\n",
       "dtype: int64"
      ]
     },
     "execution_count": 9,
     "metadata": {},
     "output_type": "execute_result"
    }
   ],
   "source": [
    "test_data.isnull().sum()"
   ]
  },
  {
   "cell_type": "code",
   "execution_count": 10,
   "id": "c25ca51c",
   "metadata": {
    "execution": {
     "iopub.execute_input": "2025-06-09T15:12:34.038040Z",
     "iopub.status.busy": "2025-06-09T15:12:34.037668Z",
     "iopub.status.idle": "2025-06-09T15:12:34.181050Z",
     "shell.execute_reply": "2025-06-09T15:12:34.179898Z"
    },
    "papermill": {
     "duration": 0.150439,
     "end_time": "2025-06-09T15:12:34.182917",
     "exception": false,
     "start_time": "2025-06-09T15:12:34.032478",
     "status": "completed"
    },
    "tags": []
   },
   "outputs": [
    {
     "name": "stdout",
     "output_type": "stream",
     "text": [
      "<class 'pandas.core.frame.DataFrame'>\n",
      "RangeIndex: 750000 entries, 0 to 749999\n",
      "Data columns (total 10 columns):\n",
      " #   Column           Non-Null Count   Dtype \n",
      "---  ------           --------------   ----- \n",
      " 0   id               750000 non-null  int64 \n",
      " 1   Temparature      750000 non-null  int64 \n",
      " 2   Humidity         750000 non-null  int64 \n",
      " 3   Moisture         750000 non-null  int64 \n",
      " 4   Soil Type        750000 non-null  object\n",
      " 5   Crop Type        750000 non-null  object\n",
      " 6   Nitrogen         750000 non-null  int64 \n",
      " 7   Potassium        750000 non-null  int64 \n",
      " 8   Phosphorous      750000 non-null  int64 \n",
      " 9   Fertilizer Name  750000 non-null  object\n",
      "dtypes: int64(7), object(3)\n",
      "memory usage: 57.2+ MB\n"
     ]
    }
   ],
   "source": [
    "train_data.info()"
   ]
  },
  {
   "cell_type": "code",
   "execution_count": 11,
   "id": "d24ef56d",
   "metadata": {
    "execution": {
     "iopub.execute_input": "2025-06-09T15:12:34.192819Z",
     "iopub.status.busy": "2025-06-09T15:12:34.192498Z",
     "iopub.status.idle": "2025-06-09T15:12:34.197302Z",
     "shell.execute_reply": "2025-06-09T15:12:34.196381Z"
    },
    "papermill": {
     "duration": 0.011646,
     "end_time": "2025-06-09T15:12:34.198920",
     "exception": false,
     "start_time": "2025-06-09T15:12:34.187274",
     "status": "completed"
    },
    "tags": []
   },
   "outputs": [],
   "source": [
    "categorical_features = ['Soil Type', 'Crop Type']\n",
    "numerical_features = ['Temparature', 'Humidity', 'Moisture', 'Nitrogen', 'Potassium', 'Phosphorous']"
   ]
  },
  {
   "cell_type": "code",
   "execution_count": 12,
   "id": "4664e7d2",
   "metadata": {
    "execution": {
     "iopub.execute_input": "2025-06-09T15:12:34.208477Z",
     "iopub.status.busy": "2025-06-09T15:12:34.208156Z",
     "iopub.status.idle": "2025-06-09T15:12:34.533163Z",
     "shell.execute_reply": "2025-06-09T15:12:34.532144Z"
    },
    "papermill": {
     "duration": 0.331788,
     "end_time": "2025-06-09T15:12:34.534933",
     "exception": false,
     "start_time": "2025-06-09T15:12:34.203145",
     "status": "completed"
    },
    "tags": []
   },
   "outputs": [],
   "source": [
    "from sklearn.preprocessing import LabelEncoder, OneHotEncoder, OrdinalEncoder\n",
    "le=LabelEncoder()\n",
    "train_data.drop(\"id\",axis=1,inplace=True)\n",
    "test_data.drop(\"id\",axis=1,inplace=True)"
   ]
  },
  {
   "cell_type": "code",
   "execution_count": 13,
   "id": "7d54df65",
   "metadata": {
    "execution": {
     "iopub.execute_input": "2025-06-09T15:12:34.544908Z",
     "iopub.status.busy": "2025-06-09T15:12:34.544538Z",
     "iopub.status.idle": "2025-06-09T15:12:35.164249Z",
     "shell.execute_reply": "2025-06-09T15:12:35.163229Z"
    },
    "papermill": {
     "duration": 0.626816,
     "end_time": "2025-06-09T15:12:35.166049",
     "exception": false,
     "start_time": "2025-06-09T15:12:34.539233",
     "status": "completed"
    },
    "tags": []
   },
   "outputs": [],
   "source": [
    "from xgboost import XGBClassifier\n",
    "from sklearn.model_selection import train_test_split\n",
    "from sklearn.preprocessing import StandardScaler\n",
    "from sklearn.compose import ColumnTransformer\n",
    "\n",
    "train_data[\"Fertilizer Name\"]=le.fit_transform(train_data[\"Fertilizer Name\"])\n",
    "\n",
    "X=train_data.drop(columns=[\"Fertilizer Name\"])\n",
    "y=train_data[\"Fertilizer Name\"]\n",
    "\n",
    "preprocessor = ColumnTransformer(\n",
    "    transformers=[\n",
    "        (\"num\", StandardScaler(), numerical_features),\n",
    "        (\"cat\", OrdinalEncoder(), categorical_features)\n",
    "    ]\n",
    ")"
   ]
  },
  {
   "cell_type": "code",
   "execution_count": 14,
   "id": "7cb1379d",
   "metadata": {
    "execution": {
     "iopub.execute_input": "2025-06-09T15:12:35.176716Z",
     "iopub.status.busy": "2025-06-09T15:12:35.175622Z",
     "iopub.status.idle": "2025-06-09T15:12:35.180523Z",
     "shell.execute_reply": "2025-06-09T15:12:35.179594Z"
    },
    "papermill": {
     "duration": 0.011865,
     "end_time": "2025-06-09T15:12:35.182069",
     "exception": false,
     "start_time": "2025-06-09T15:12:35.170204",
     "status": "completed"
    },
    "tags": []
   },
   "outputs": [],
   "source": [
    "from sklearn.model_selection import KFold, StratifiedKFold\n",
    "from sklearn.metrics import accuracy_score\n",
    "from xgboost import XGBClassifier\n",
    "import time"
   ]
  },
  {
   "cell_type": "code",
   "execution_count": 15,
   "id": "878fb2c2",
   "metadata": {
    "execution": {
     "iopub.execute_input": "2025-06-09T15:12:35.192128Z",
     "iopub.status.busy": "2025-06-09T15:12:35.191711Z",
     "iopub.status.idle": "2025-06-09T16:03:44.352236Z",
     "shell.execute_reply": "2025-06-09T16:03:44.351064Z"
    },
    "papermill": {
     "duration": 3069.174876,
     "end_time": "2025-06-09T16:03:44.361568",
     "exception": false,
     "start_time": "2025-06-09T15:12:35.186692",
     "status": "completed"
    },
    "tags": []
   },
   "outputs": [
    {
     "name": "stdout",
     "output_type": "stream",
     "text": [
      "\n",
      "Fold 1\n"
     ]
    },
    {
     "name": "stderr",
     "output_type": "stream",
     "text": [
      "/usr/local/lib/python3.11/dist-packages/xgboost/core.py:160: UserWarning: [15:12:36] WARNING: /workspace/src/context.cc:44: No visible GPU is found, setting device to CPU.\n",
      "  warnings.warn(smsg, UserWarning)\n"
     ]
    },
    {
     "name": "stdout",
     "output_type": "stream",
     "text": [
      "[0]\tvalidation_0-mlogloss:1.94558\n",
      "[100]\tvalidation_0-mlogloss:1.92617\n",
      "[200]\tvalidation_0-mlogloss:1.91695\n",
      "[300]\tvalidation_0-mlogloss:1.91164\n",
      "[400]\tvalidation_0-mlogloss:1.90814\n",
      "[500]\tvalidation_0-mlogloss:1.90587\n",
      "[600]\tvalidation_0-mlogloss:1.90435\n",
      "[700]\tvalidation_0-mlogloss:1.90341\n",
      "[800]\tvalidation_0-mlogloss:1.90295\n",
      "[900]\tvalidation_0-mlogloss:1.90262\n",
      "[1000]\tvalidation_0-mlogloss:1.90242\n",
      "[1100]\tvalidation_0-mlogloss:1.90241\n",
      "[1148]\tvalidation_0-mlogloss:1.90244\n",
      "Fold 1 Accuracy: 0.2144\n",
      "Time: 559.1 sec\n",
      "\n",
      "Fold 2\n"
     ]
    },
    {
     "name": "stderr",
     "output_type": "stream",
     "text": [
      "/usr/local/lib/python3.11/dist-packages/xgboost/core.py:160: UserWarning: [15:21:56] WARNING: /workspace/src/context.cc:44: No visible GPU is found, setting device to CPU.\n",
      "  warnings.warn(smsg, UserWarning)\n"
     ]
    },
    {
     "name": "stdout",
     "output_type": "stream",
     "text": [
      "[0]\tvalidation_0-mlogloss:1.94556\n",
      "[100]\tvalidation_0-mlogloss:1.92621\n",
      "[200]\tvalidation_0-mlogloss:1.91699\n",
      "[300]\tvalidation_0-mlogloss:1.91148\n",
      "[400]\tvalidation_0-mlogloss:1.90773\n",
      "[500]\tvalidation_0-mlogloss:1.90531\n",
      "[600]\tvalidation_0-mlogloss:1.90375\n",
      "[700]\tvalidation_0-mlogloss:1.90278\n",
      "[800]\tvalidation_0-mlogloss:1.90218\n",
      "[900]\tvalidation_0-mlogloss:1.90176\n",
      "[1000]\tvalidation_0-mlogloss:1.90152\n",
      "[1100]\tvalidation_0-mlogloss:1.90141\n",
      "[1200]\tvalidation_0-mlogloss:1.90135\n",
      "[1300]\tvalidation_0-mlogloss:1.90135\n",
      "[1356]\tvalidation_0-mlogloss:1.90141\n",
      "Fold 2 Accuracy: 0.2152\n",
      "Time: 640.2 sec\n",
      "\n",
      "Fold 3\n"
     ]
    },
    {
     "name": "stderr",
     "output_type": "stream",
     "text": [
      "/usr/local/lib/python3.11/dist-packages/xgboost/core.py:160: UserWarning: [15:32:37] WARNING: /workspace/src/context.cc:44: No visible GPU is found, setting device to CPU.\n",
      "  warnings.warn(smsg, UserWarning)\n"
     ]
    },
    {
     "name": "stdout",
     "output_type": "stream",
     "text": [
      "[0]\tvalidation_0-mlogloss:1.94557\n",
      "[100]\tvalidation_0-mlogloss:1.92593\n",
      "[200]\tvalidation_0-mlogloss:1.91636\n",
      "[300]\tvalidation_0-mlogloss:1.91069\n",
      "[400]\tvalidation_0-mlogloss:1.90687\n",
      "[500]\tvalidation_0-mlogloss:1.90439\n",
      "[600]\tvalidation_0-mlogloss:1.90268\n",
      "[700]\tvalidation_0-mlogloss:1.90162\n",
      "[800]\tvalidation_0-mlogloss:1.90098\n",
      "[900]\tvalidation_0-mlogloss:1.90056\n",
      "[1000]\tvalidation_0-mlogloss:1.90021\n",
      "[1100]\tvalidation_0-mlogloss:1.90013\n",
      "[1200]\tvalidation_0-mlogloss:1.90006\n",
      "[1300]\tvalidation_0-mlogloss:1.90005\n",
      "[1400]\tvalidation_0-mlogloss:1.90007\n",
      "[1435]\tvalidation_0-mlogloss:1.90009\n",
      "Fold 3 Accuracy: 0.2170\n",
      "Time: 664.8 sec\n",
      "\n",
      "Fold 4\n"
     ]
    },
    {
     "name": "stderr",
     "output_type": "stream",
     "text": [
      "/usr/local/lib/python3.11/dist-packages/xgboost/core.py:160: UserWarning: [15:43:42] WARNING: /workspace/src/context.cc:44: No visible GPU is found, setting device to CPU.\n",
      "  warnings.warn(smsg, UserWarning)\n"
     ]
    },
    {
     "name": "stdout",
     "output_type": "stream",
     "text": [
      "[0]\tvalidation_0-mlogloss:1.94558\n",
      "[100]\tvalidation_0-mlogloss:1.92622\n",
      "[200]\tvalidation_0-mlogloss:1.91693\n",
      "[300]\tvalidation_0-mlogloss:1.91150\n",
      "[400]\tvalidation_0-mlogloss:1.90799\n",
      "[500]\tvalidation_0-mlogloss:1.90575\n",
      "[600]\tvalidation_0-mlogloss:1.90431\n",
      "[700]\tvalidation_0-mlogloss:1.90334\n",
      "[800]\tvalidation_0-mlogloss:1.90272\n",
      "[900]\tvalidation_0-mlogloss:1.90238\n",
      "[1000]\tvalidation_0-mlogloss:1.90215\n",
      "[1100]\tvalidation_0-mlogloss:1.90208\n",
      "[1200]\tvalidation_0-mlogloss:1.90207\n",
      "[1271]\tvalidation_0-mlogloss:1.90210\n",
      "Fold 4 Accuracy: 0.2160\n",
      "Time: 598.7 sec\n",
      "\n",
      "Fold 5\n"
     ]
    },
    {
     "name": "stderr",
     "output_type": "stream",
     "text": [
      "/usr/local/lib/python3.11/dist-packages/xgboost/core.py:160: UserWarning: [15:53:41] WARNING: /workspace/src/context.cc:44: No visible GPU is found, setting device to CPU.\n",
      "  warnings.warn(smsg, UserWarning)\n"
     ]
    },
    {
     "name": "stdout",
     "output_type": "stream",
     "text": [
      "[0]\tvalidation_0-mlogloss:1.94558\n",
      "[100]\tvalidation_0-mlogloss:1.92607\n",
      "[200]\tvalidation_0-mlogloss:1.91682\n",
      "[300]\tvalidation_0-mlogloss:1.91136\n",
      "[400]\tvalidation_0-mlogloss:1.90774\n",
      "[500]\tvalidation_0-mlogloss:1.90545\n",
      "[600]\tvalidation_0-mlogloss:1.90383\n",
      "[700]\tvalidation_0-mlogloss:1.90298\n",
      "[800]\tvalidation_0-mlogloss:1.90239\n",
      "[900]\tvalidation_0-mlogloss:1.90208\n",
      "[1000]\tvalidation_0-mlogloss:1.90185\n",
      "[1100]\tvalidation_0-mlogloss:1.90178\n",
      "[1200]\tvalidation_0-mlogloss:1.90177\n",
      "[1275]\tvalidation_0-mlogloss:1.90182\n",
      "Fold 5 Accuracy: 0.2162\n",
      "Time: 602.8 sec\n",
      "\n",
      " Final OOF Accuracy: 0.2158\n"
     ]
    }
   ],
   "source": [
    "FOLDS = 5\n",
    "kf = StratifiedKFold(n_splits=FOLDS, shuffle=True, random_state=42)\n",
    "\n",
    "oof_preds = np.zeros(len(X), dtype=int)\n",
    "test_preds_proba = np.zeros((len(test_data), len(np.unique(y)))) \n",
    "\n",
    "for fold, (train_idx, val_idx) in enumerate(kf.split(X, y), 1):\n",
    "    print(f\"\\nFold {fold}\")\n",
    "\n",
    "    X_train, X_val = X.iloc[train_idx], X.iloc[val_idx]\n",
    "    y_train, y_val = y.iloc[train_idx], y.iloc[val_idx]\n",
    "\n",
    "    X_train_scaled = preprocessor.fit_transform(X_train)\n",
    "    X_val_scaled = preprocessor.transform(X_val)\n",
    "    test_scaled=preprocessor.transform(test_data)\n",
    "\n",
    "    model = XGBClassifier(\n",
    "        max_depth=12,\n",
    "        colsample_bytree=0.467,\n",
    "        subsample=0.86,\n",
    "        n_estimators=4000,\n",
    "        learning_rate=0.03,\n",
    "        gamma=0.26,\n",
    "        max_delta_step=4,\n",
    "        reg_alpha=2.7,\n",
    "        reg_lambda=1.4,\n",
    "        early_stopping_rounds=100,\n",
    "        objective='multi:softprob',\n",
    "        random_state=13,\n",
    "        enable_categorical=True,\n",
    "        tree_method='hist',     \n",
    "        device='cuda'\n",
    "    )\n",
    "    start = time.time()\n",
    "\n",
    "    model.fit(\n",
    "        X_train_scaled, y_train,\n",
    "        eval_set=[(X_val_scaled, y_val)],\n",
    "        verbose=100\n",
    "    )\n",
    "\n",
    "    val_preds = model.predict(X_val_scaled)\n",
    "    oof_preds[val_idx] = val_preds\n",
    "\n",
    "    test_preds_proba += model.predict_proba(test_scaled)\n",
    "\n",
    "    acc = accuracy_score(y_val, val_preds)\n",
    "    print(f\"Fold {fold} Accuracy: {acc:.4f}\")\n",
    "    print(f\"Time: {time.time() - start:.1f} sec\")\n",
    "\n",
    "test_preds_proba /= FOLDS\n",
    "\n",
    "oof_acc = accuracy_score(y, oof_preds)\n",
    "print(f\"\\n Final OOF Accuracy: {oof_acc:.4f}\")"
   ]
  },
  {
   "cell_type": "code",
   "execution_count": 16,
   "id": "32c0aeab",
   "metadata": {
    "execution": {
     "iopub.execute_input": "2025-06-09T16:03:44.379609Z",
     "iopub.status.busy": "2025-06-09T16:03:44.379260Z",
     "iopub.status.idle": "2025-06-09T16:04:08.764395Z",
     "shell.execute_reply": "2025-06-09T16:04:08.763420Z"
    },
    "papermill": {
     "duration": 24.396531,
     "end_time": "2025-06-09T16:04:08.766029",
     "exception": false,
     "start_time": "2025-06-09T16:03:44.369498",
     "status": "completed"
    },
    "tags": []
   },
   "outputs": [
    {
     "data": {
      "text/html": [
       "<div>\n",
       "<style scoped>\n",
       "    .dataframe tbody tr th:only-of-type {\n",
       "        vertical-align: middle;\n",
       "    }\n",
       "\n",
       "    .dataframe tbody tr th {\n",
       "        vertical-align: top;\n",
       "    }\n",
       "\n",
       "    .dataframe thead th {\n",
       "        text-align: right;\n",
       "    }\n",
       "</style>\n",
       "<table border=\"1\" class=\"dataframe\">\n",
       "  <thead>\n",
       "    <tr style=\"text-align: right;\">\n",
       "      <th></th>\n",
       "      <th>id</th>\n",
       "      <th>Fertilizer Name</th>\n",
       "    </tr>\n",
       "  </thead>\n",
       "  <tbody>\n",
       "    <tr>\n",
       "      <th>0</th>\n",
       "      <td>750000</td>\n",
       "      <td>10-26-26 28-28 DAP</td>\n",
       "    </tr>\n",
       "    <tr>\n",
       "      <th>1</th>\n",
       "      <td>750001</td>\n",
       "      <td>17-17-17 20-20 10-26-26</td>\n",
       "    </tr>\n",
       "    <tr>\n",
       "      <th>2</th>\n",
       "      <td>750002</td>\n",
       "      <td>20-20 28-28 Urea</td>\n",
       "    </tr>\n",
       "    <tr>\n",
       "      <th>3</th>\n",
       "      <td>750003</td>\n",
       "      <td>14-35-14 17-17-17 DAP</td>\n",
       "    </tr>\n",
       "    <tr>\n",
       "      <th>4</th>\n",
       "      <td>750004</td>\n",
       "      <td>20-20 Urea 10-26-26</td>\n",
       "    </tr>\n",
       "    <tr>\n",
       "      <th>...</th>\n",
       "      <td>...</td>\n",
       "      <td>...</td>\n",
       "    </tr>\n",
       "    <tr>\n",
       "      <th>249995</th>\n",
       "      <td>999995</td>\n",
       "      <td>Urea 17-17-17 28-28</td>\n",
       "    </tr>\n",
       "    <tr>\n",
       "      <th>249996</th>\n",
       "      <td>999996</td>\n",
       "      <td>10-26-26 14-35-14 17-17-17</td>\n",
       "    </tr>\n",
       "    <tr>\n",
       "      <th>249997</th>\n",
       "      <td>999997</td>\n",
       "      <td>DAP Urea 14-35-14</td>\n",
       "    </tr>\n",
       "    <tr>\n",
       "      <th>249998</th>\n",
       "      <td>999998</td>\n",
       "      <td>10-26-26 28-28 17-17-17</td>\n",
       "    </tr>\n",
       "    <tr>\n",
       "      <th>249999</th>\n",
       "      <td>999999</td>\n",
       "      <td>14-35-14 17-17-17 20-20</td>\n",
       "    </tr>\n",
       "  </tbody>\n",
       "</table>\n",
       "<p>250000 rows × 2 columns</p>\n",
       "</div>"
      ],
      "text/plain": [
       "            id             Fertilizer Name\n",
       "0       750000          10-26-26 28-28 DAP\n",
       "1       750001     17-17-17 20-20 10-26-26\n",
       "2       750002            20-20 28-28 Urea\n",
       "3       750003       14-35-14 17-17-17 DAP\n",
       "4       750004         20-20 Urea 10-26-26\n",
       "...        ...                         ...\n",
       "249995  999995         Urea 17-17-17 28-28\n",
       "249996  999996  10-26-26 14-35-14 17-17-17\n",
       "249997  999997           DAP Urea 14-35-14\n",
       "249998  999998     10-26-26 28-28 17-17-17\n",
       "249999  999999     14-35-14 17-17-17 20-20\n",
       "\n",
       "[250000 rows x 2 columns]"
      ]
     },
     "execution_count": 16,
     "metadata": {},
     "output_type": "execute_result"
    }
   ],
   "source": [
    "top_3_preds = np.argsort(test_preds_proba, axis=1)[:, -3:][:, ::-1]  \n",
    "top3_labels = np.array([le.inverse_transform(row) for row in top_3_preds])\n",
    "\n",
    "top3_joined = [\" \".join(row) for row in top3_labels]\n",
    "submission = pd.read_csv(\"/kaggle/input/playground-series-s5e6/sample_submission.csv\")\n",
    "submission[\"Fertilizer Name\"] = top3_joined\n",
    "submission"
   ]
  },
  {
   "cell_type": "code",
   "execution_count": 17,
   "id": "564a41c8",
   "metadata": {
    "execution": {
     "iopub.execute_input": "2025-06-09T16:04:08.785193Z",
     "iopub.status.busy": "2025-06-09T16:04:08.784829Z",
     "iopub.status.idle": "2025-06-09T16:04:09.159297Z",
     "shell.execute_reply": "2025-06-09T16:04:09.158249Z"
    },
    "papermill": {
     "duration": 0.386269,
     "end_time": "2025-06-09T16:04:09.161052",
     "exception": false,
     "start_time": "2025-06-09T16:04:08.774783",
     "status": "completed"
    },
    "tags": []
   },
   "outputs": [],
   "source": [
    "submission.to_csv(\"submission.csv\",index=False)"
   ]
  }
 ],
 "metadata": {
  "kaggle": {
   "accelerator": "none",
   "dataSources": [
    {
     "databundleVersionId": 12184666,
     "sourceId": 91717,
     "sourceType": "competition"
    }
   ],
   "dockerImageVersionId": 31040,
   "isGpuEnabled": false,
   "isInternetEnabled": true,
   "language": "python",
   "sourceType": "notebook"
  },
  "kernelspec": {
   "display_name": "Python 3",
   "language": "python",
   "name": "python3"
  },
  "language_info": {
   "codemirror_mode": {
    "name": "ipython",
    "version": 3
   },
   "file_extension": ".py",
   "mimetype": "text/x-python",
   "name": "python",
   "nbconvert_exporter": "python",
   "pygments_lexer": "ipython3",
   "version": "3.11.11"
  },
  "papermill": {
   "default_parameters": {},
   "duration": 3106.897116,
   "end_time": "2025-06-09T16:04:09.994177",
   "environment_variables": {},
   "exception": null,
   "input_path": "__notebook__.ipynb",
   "output_path": "__notebook__.ipynb",
   "parameters": {},
   "start_time": "2025-06-09T15:12:23.097061",
   "version": "2.6.0"
  }
 },
 "nbformat": 4,
 "nbformat_minor": 5
}
